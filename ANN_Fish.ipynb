{
  "nbformat": 4,
  "nbformat_minor": 0,
  "metadata": {
    "colab": {
      "name": "ANN_Fish.ipynb",
      "provenance": [],
      "collapsed_sections": [],
      "authorship_tag": "ABX9TyMawx/PKV3r6j9HNH6Fwbo1",
      "include_colab_link": true
    },
    "kernelspec": {
      "name": "python3",
      "display_name": "Python 3"
    },
    "language_info": {
      "name": "python"
    }
  },
  "cells": [
    {
      "cell_type": "markdown",
      "metadata": {
        "id": "view-in-github",
        "colab_type": "text"
      },
      "source": [
        "<a href=\"https://colab.research.google.com/github/PromitHal/AI_ML/blob/main/ANN_Fish.ipynb\" target=\"_parent\"><img src=\"https://colab.research.google.com/assets/colab-badge.svg\" alt=\"Open In Colab\"/></a>"
      ]
    },
    {
      "cell_type": "code",
      "execution_count": 2,
      "metadata": {
        "id": "KrTamdOBDsql"
      },
      "outputs": [],
      "source": [
        "dataset_url = \"https://raw.githubusercontent.com/harika-bonthu/02-linear-regression-fish/master/datasets_229906_491820_Fish.csv\"\n"
      ]
    },
    {
      "cell_type": "code",
      "source": [
        "import pandas as pd\n",
        "fish=pd.read_csv(dataset_url,error_bad_lines=False)"
      ],
      "metadata": {
        "id": "ve8f10C0EUWH"
      },
      "execution_count": 76,
      "outputs": []
    },
    {
      "cell_type": "code",
      "source": [
        "fish.head()"
      ],
      "metadata": {
        "colab": {
          "base_uri": "https://localhost:8080/",
          "height": 206
        },
        "id": "OmzAwM3DEbgh",
        "outputId": "306ff825-203f-4cf1-fbfc-7f6de7748a6c"
      },
      "execution_count": 77,
      "outputs": [
        {
          "output_type": "execute_result",
          "data": {
            "text/html": [
              "<div>\n",
              "<style scoped>\n",
              "    .dataframe tbody tr th:only-of-type {\n",
              "        vertical-align: middle;\n",
              "    }\n",
              "\n",
              "    .dataframe tbody tr th {\n",
              "        vertical-align: top;\n",
              "    }\n",
              "\n",
              "    .dataframe thead th {\n",
              "        text-align: right;\n",
              "    }\n",
              "</style>\n",
              "<table border=\"1\" class=\"dataframe\">\n",
              "  <thead>\n",
              "    <tr style=\"text-align: right;\">\n",
              "      <th></th>\n",
              "      <th>Species</th>\n",
              "      <th>Weight</th>\n",
              "      <th>Length1</th>\n",
              "      <th>Length2</th>\n",
              "      <th>Length3</th>\n",
              "      <th>Height</th>\n",
              "      <th>Width</th>\n",
              "    </tr>\n",
              "  </thead>\n",
              "  <tbody>\n",
              "    <tr>\n",
              "      <th>0</th>\n",
              "      <td>Bream</td>\n",
              "      <td>242.0</td>\n",
              "      <td>23.2</td>\n",
              "      <td>25.4</td>\n",
              "      <td>30.0</td>\n",
              "      <td>11.5200</td>\n",
              "      <td>4.0200</td>\n",
              "    </tr>\n",
              "    <tr>\n",
              "      <th>1</th>\n",
              "      <td>Bream</td>\n",
              "      <td>290.0</td>\n",
              "      <td>24.0</td>\n",
              "      <td>26.3</td>\n",
              "      <td>31.2</td>\n",
              "      <td>12.4800</td>\n",
              "      <td>4.3056</td>\n",
              "    </tr>\n",
              "    <tr>\n",
              "      <th>2</th>\n",
              "      <td>Bream</td>\n",
              "      <td>340.0</td>\n",
              "      <td>23.9</td>\n",
              "      <td>26.5</td>\n",
              "      <td>31.1</td>\n",
              "      <td>12.3778</td>\n",
              "      <td>4.6961</td>\n",
              "    </tr>\n",
              "    <tr>\n",
              "      <th>3</th>\n",
              "      <td>Bream</td>\n",
              "      <td>363.0</td>\n",
              "      <td>26.3</td>\n",
              "      <td>29.0</td>\n",
              "      <td>33.5</td>\n",
              "      <td>12.7300</td>\n",
              "      <td>4.4555</td>\n",
              "    </tr>\n",
              "    <tr>\n",
              "      <th>4</th>\n",
              "      <td>Bream</td>\n",
              "      <td>430.0</td>\n",
              "      <td>26.5</td>\n",
              "      <td>29.0</td>\n",
              "      <td>34.0</td>\n",
              "      <td>12.4440</td>\n",
              "      <td>5.1340</td>\n",
              "    </tr>\n",
              "  </tbody>\n",
              "</table>\n",
              "</div>"
            ],
            "text/plain": [
              "  Species  Weight  Length1  Length2  Length3   Height   Width\n",
              "0   Bream   242.0     23.2     25.4     30.0  11.5200  4.0200\n",
              "1   Bream   290.0     24.0     26.3     31.2  12.4800  4.3056\n",
              "2   Bream   340.0     23.9     26.5     31.1  12.3778  4.6961\n",
              "3   Bream   363.0     26.3     29.0     33.5  12.7300  4.4555\n",
              "4   Bream   430.0     26.5     29.0     34.0  12.4440  5.1340"
            ]
          },
          "metadata": {},
          "execution_count": 77
        }
      ]
    },
    {
      "cell_type": "code",
      "source": [
        "num_species=len(fish['Species'].unique())\n",
        "print('Number of unique species of fishes:',num_species)"
      ],
      "metadata": {
        "colab": {
          "base_uri": "https://localhost:8080/"
        },
        "id": "hk2hm_yFEc_p",
        "outputId": "89339a59-e5dc-48aa-ee5c-aa2724eac895"
      },
      "execution_count": 78,
      "outputs": [
        {
          "output_type": "stream",
          "name": "stdout",
          "text": [
            "Number of unique species of fishes: 7\n"
          ]
        }
      ]
    },
    {
      "cell_type": "code",
      "source": [
        "fish.isnull().sum()"
      ],
      "metadata": {
        "colab": {
          "base_uri": "https://localhost:8080/"
        },
        "id": "9u2fYjxWEedO",
        "outputId": "b6966c87-0a07-4b1c-ec92-e5b0cae16f0f"
      },
      "execution_count": 79,
      "outputs": [
        {
          "output_type": "execute_result",
          "data": {
            "text/plain": [
              "Species    0\n",
              "Weight     0\n",
              "Length1    0\n",
              "Length2    0\n",
              "Length3    0\n",
              "Height     0\n",
              "Width      0\n",
              "dtype: int64"
            ]
          },
          "metadata": {},
          "execution_count": 79
        }
      ]
    },
    {
      "cell_type": "code",
      "source": [
        "X=fish.drop(columns=\"Species\",axis=1)\n"
      ],
      "metadata": {
        "id": "jVIqdwTwEg6t"
      },
      "execution_count": 92,
      "outputs": []
    },
    {
      "cell_type": "code",
      "source": [
        "Y=fish[\"Species\"]\n"
      ],
      "metadata": {
        "id": "yIlRqTrbEiXO"
      },
      "execution_count": 93,
      "outputs": []
    },
    {
      "cell_type": "code",
      "source": [
        "X.head()\n"
      ],
      "metadata": {
        "colab": {
          "base_uri": "https://localhost:8080/",
          "height": 206
        },
        "id": "_lWqLcx3EkXH",
        "outputId": "78e6780d-83d3-4e1f-fa58-a20b25803363"
      },
      "execution_count": 82,
      "outputs": [
        {
          "output_type": "execute_result",
          "data": {
            "text/html": [
              "<div>\n",
              "<style scoped>\n",
              "    .dataframe tbody tr th:only-of-type {\n",
              "        vertical-align: middle;\n",
              "    }\n",
              "\n",
              "    .dataframe tbody tr th {\n",
              "        vertical-align: top;\n",
              "    }\n",
              "\n",
              "    .dataframe thead th {\n",
              "        text-align: right;\n",
              "    }\n",
              "</style>\n",
              "<table border=\"1\" class=\"dataframe\">\n",
              "  <thead>\n",
              "    <tr style=\"text-align: right;\">\n",
              "      <th></th>\n",
              "      <th>Weight</th>\n",
              "      <th>Length1</th>\n",
              "      <th>Length2</th>\n",
              "      <th>Length3</th>\n",
              "      <th>Height</th>\n",
              "      <th>Width</th>\n",
              "    </tr>\n",
              "  </thead>\n",
              "  <tbody>\n",
              "    <tr>\n",
              "      <th>0</th>\n",
              "      <td>242.0</td>\n",
              "      <td>23.2</td>\n",
              "      <td>25.4</td>\n",
              "      <td>30.0</td>\n",
              "      <td>11.5200</td>\n",
              "      <td>4.0200</td>\n",
              "    </tr>\n",
              "    <tr>\n",
              "      <th>1</th>\n",
              "      <td>290.0</td>\n",
              "      <td>24.0</td>\n",
              "      <td>26.3</td>\n",
              "      <td>31.2</td>\n",
              "      <td>12.4800</td>\n",
              "      <td>4.3056</td>\n",
              "    </tr>\n",
              "    <tr>\n",
              "      <th>2</th>\n",
              "      <td>340.0</td>\n",
              "      <td>23.9</td>\n",
              "      <td>26.5</td>\n",
              "      <td>31.1</td>\n",
              "      <td>12.3778</td>\n",
              "      <td>4.6961</td>\n",
              "    </tr>\n",
              "    <tr>\n",
              "      <th>3</th>\n",
              "      <td>363.0</td>\n",
              "      <td>26.3</td>\n",
              "      <td>29.0</td>\n",
              "      <td>33.5</td>\n",
              "      <td>12.7300</td>\n",
              "      <td>4.4555</td>\n",
              "    </tr>\n",
              "    <tr>\n",
              "      <th>4</th>\n",
              "      <td>430.0</td>\n",
              "      <td>26.5</td>\n",
              "      <td>29.0</td>\n",
              "      <td>34.0</td>\n",
              "      <td>12.4440</td>\n",
              "      <td>5.1340</td>\n",
              "    </tr>\n",
              "  </tbody>\n",
              "</table>\n",
              "</div>"
            ],
            "text/plain": [
              "   Weight  Length1  Length2  Length3   Height   Width\n",
              "0   242.0     23.2     25.4     30.0  11.5200  4.0200\n",
              "1   290.0     24.0     26.3     31.2  12.4800  4.3056\n",
              "2   340.0     23.9     26.5     31.1  12.3778  4.6961\n",
              "3   363.0     26.3     29.0     33.5  12.7300  4.4555\n",
              "4   430.0     26.5     29.0     34.0  12.4440  5.1340"
            ]
          },
          "metadata": {},
          "execution_count": 82
        }
      ]
    },
    {
      "cell_type": "code",
      "source": [
        "#Label Encoding the target variable using Label Encoder\n",
        "from sklearn.preprocessing import LabelEncoder\n",
        "label_encoder=LabelEncoder()\n",
        "Y=label_encoder.fit_transform(Y)"
      ],
      "metadata": {
        "id": "JFJtGXxJM0ru"
      },
      "execution_count": 94,
      "outputs": []
    },
    {
      "cell_type": "code",
      "source": [
        "#Splitting into train and test datasets\n",
        "from sklearn.model_selection import train_test_split\n",
        "X_train,X_test,Y_train,Y_test=train_test_split(X,Y,test_size=0.2,random_state=42)\n"
      ],
      "metadata": {
        "id": "WOhQs43XE07M"
      },
      "execution_count": 96,
      "outputs": []
    },
    {
      "cell_type": "code",
      "source": [
        "Y_train"
      ],
      "metadata": {
        "colab": {
          "base_uri": "https://localhost:8080/"
        },
        "id": "aWdjXB5gNjSq",
        "outputId": "2fe41197-7dde-4a7a-e61a-eeab31c1eb59"
      },
      "execution_count": 97,
      "outputs": [
        {
          "output_type": "execute_result",
          "data": {
            "text/plain": [
              "array([2, 3, 0, 2, 4, 4, 1, 2, 0, 3, 5, 2, 1, 4, 2, 0, 2, 2, 2, 0, 2, 1,\n",
              "       2, 0, 5, 2, 4, 0, 3, 0, 3, 2, 1, 0, 2, 3, 0, 2, 1, 4, 2, 0, 4, 2,\n",
              "       0, 0, 2, 2, 4, 3, 2, 5, 3, 4, 2, 1, 2, 0, 2, 5, 2, 1, 5, 2, 2, 4,\n",
              "       0, 2, 2, 4, 4, 2, 2, 0, 4, 0, 4, 1, 2, 2, 2, 2, 3, 3, 2, 0, 2, 0,\n",
              "       6, 3, 0, 0, 4, 2, 3, 0, 3, 1, 4, 2, 4, 5, 6, 4, 2, 0, 6, 5, 3, 4,\n",
              "       5, 0, 4, 3, 2, 2, 2, 2, 2, 2, 5, 0, 1, 2, 0, 2, 2])"
            ]
          },
          "metadata": {},
          "execution_count": 97
        }
      ]
    },
    {
      "cell_type": "code",
      "source": [
        "#Transforming dataset\n",
        "from sklearn.preprocessing import StandardScaler"
      ],
      "metadata": {
        "id": "lV5DcPoMEqIo"
      },
      "execution_count": 98,
      "outputs": []
    },
    {
      "cell_type": "code",
      "source": [
        "sc=StandardScaler()\n",
        "\n",
        "X_train=sc.fit_transform(X_train)"
      ],
      "metadata": {
        "id": "M5nDXspzElBX"
      },
      "execution_count": 99,
      "outputs": []
    },
    {
      "cell_type": "code",
      "source": [
        "#Building the model\n",
        "from sklearn.linear_model import LogisticRegression\n",
        "clf=LogisticRegression()\n",
        "#Training the model\n",
        "clf.fit(X_train,Y_train)"
      ],
      "metadata": {
        "colab": {
          "base_uri": "https://localhost:8080/"
        },
        "id": "OVRVvfsEEr03",
        "outputId": "f80a3900-294b-4280-de03-d119cd52948f"
      },
      "execution_count": 100,
      "outputs": [
        {
          "output_type": "execute_result",
          "data": {
            "text/plain": [
              "LogisticRegression()"
            ]
          },
          "metadata": {},
          "execution_count": 100
        }
      ]
    },
    {
      "cell_type": "code",
      "source": [
        "X_test=sc.transform(X_test)"
      ],
      "metadata": {
        "id": "CA4wgiZIFnbZ"
      },
      "execution_count": 101,
      "outputs": []
    },
    {
      "cell_type": "code",
      "source": [
        "#Predicting the output\n",
        "y_pred=clf.predict(X_test)\n",
        "#Computing accuracy of model \n",
        "from sklearn.metrics import accuracy_score\n",
        "accuracy=accuracy_score(Y_test,y_pred)\n",
        "print(\"Accuracy: {:.2f}%\".format(accuracy * 100))"
      ],
      "metadata": {
        "colab": {
          "base_uri": "https://localhost:8080/"
        },
        "id": "6u0vJTVKFWpO",
        "outputId": "11a031de-fa18-49e9-ba0f-3c6b8c06d0c4"
      },
      "execution_count": 102,
      "outputs": [
        {
          "output_type": "stream",
          "name": "stdout",
          "text": [
            "Accuracy: 87.50%\n"
          ]
        }
      ]
    },
    {
      "cell_type": "code",
      "source": [
        "y_pred"
      ],
      "metadata": {
        "colab": {
          "base_uri": "https://localhost:8080/"
        },
        "id": "OYMmJU7JNAb7",
        "outputId": "6bfa22ce-b58f-4195-9281-ce148aa2b5e7"
      },
      "execution_count": 103,
      "outputs": [
        {
          "output_type": "execute_result",
          "data": {
            "text/plain": [
              "array([2, 5, 3, 2, 2, 0, 5, 2, 2, 3, 0, 2, 0, 1, 0, 0, 2, 2, 2, 0, 5, 0,\n",
              "       0, 0, 0, 2, 2, 2, 5, 5, 3, 2])"
            ]
          },
          "metadata": {},
          "execution_count": 103
        }
      ]
    },
    {
      "cell_type": "code",
      "source": [
        "#Using one hot encoding to build them model"
      ],
      "metadata": {
        "id": "-pxV2ymOFs7v"
      },
      "execution_count": null,
      "outputs": []
    },
    {
      "cell_type": "code",
      "source": [
        "from tensorflow.keras.utils import to_categorical"
      ],
      "metadata": {
        "id": "m09M5CLiH7Ja"
      },
      "execution_count": 37,
      "outputs": []
    },
    {
      "cell_type": "code",
      "source": [
        "Y_encoded=to_categorical(Y_train)"
      ],
      "metadata": {
        "id": "te82ltI8IDAM"
      },
      "execution_count": 104,
      "outputs": []
    },
    {
      "cell_type": "code",
      "source": [
        "Y_encoded[0]"
      ],
      "metadata": {
        "colab": {
          "base_uri": "https://localhost:8080/"
        },
        "id": "tKykLHVHMgqZ",
        "outputId": "6b63bf0b-4220-404b-bb38-ff41288e19ad"
      },
      "execution_count": 105,
      "outputs": [
        {
          "output_type": "execute_result",
          "data": {
            "text/plain": [
              "array([0., 0., 1., 0., 0., 0., 0.], dtype=float32)"
            ]
          },
          "metadata": {},
          "execution_count": 105
        }
      ]
    },
    {
      "cell_type": "code",
      "source": [
        "Y_encoded.shape"
      ],
      "metadata": {
        "colab": {
          "base_uri": "https://localhost:8080/"
        },
        "id": "PT6QIqjPKOcW",
        "outputId": "5e596f67-a3f5-40a9-9281-086104b103d1"
      },
      "execution_count": 48,
      "outputs": [
        {
          "output_type": "execute_result",
          "data": {
            "text/plain": [
              "(159, 7)"
            ]
          },
          "metadata": {},
          "execution_count": 48
        }
      ]
    },
    {
      "cell_type": "code",
      "source": [
        "import tensorflow as tf\n",
        "from tensorflow import keras\n",
        "from tensorflow.keras.models import Sequential\n",
        "from tensorflow.keras.layers import Activation,Dense\n",
        "from tensorflow.keras.optimizers import Adam\n",
        "from tensorflow.keras.metrics import categorical_crossentropy"
      ],
      "metadata": {
        "id": "ZfMWqKe6IrgU"
      },
      "execution_count": 106,
      "outputs": []
    },
    {
      "cell_type": "code",
      "source": [
        "model=Sequential([\n",
        "                  Dense(units=16,input_shape=(6,),activation='relu'),\n",
        "                  Dense(units=32,activation='relu'),\n",
        "                  Dense(units=64,activation='relu'),\n",
        "                  Dense(units=128,activation='relu'),\n",
        "                  Dense(units=256,activation='relu'),\n",
        "                  Dense(units=7,activation='softmax')\n",
        "])"
      ],
      "metadata": {
        "id": "TTUQ4WfGJZRC"
      },
      "execution_count": 107,
      "outputs": []
    },
    {
      "cell_type": "code",
      "source": [
        "model.summary(\n",
        ")"
      ],
      "metadata": {
        "colab": {
          "base_uri": "https://localhost:8080/"
        },
        "id": "2_AaOt_PJdmU",
        "outputId": "7a9a730b-144f-41e9-ee0a-9cb4ed08e003"
      },
      "execution_count": 108,
      "outputs": [
        {
          "output_type": "stream",
          "name": "stdout",
          "text": [
            "Model: \"sequential_7\"\n",
            "_________________________________________________________________\n",
            " Layer (type)                Output Shape              Param #   \n",
            "=================================================================\n",
            " dense_27 (Dense)            (None, 16)                112       \n",
            "                                                                 \n",
            " dense_28 (Dense)            (None, 32)                544       \n",
            "                                                                 \n",
            " dense_29 (Dense)            (None, 64)                2112      \n",
            "                                                                 \n",
            " dense_30 (Dense)            (None, 128)               8320      \n",
            "                                                                 \n",
            " dense_31 (Dense)            (None, 256)               33024     \n",
            "                                                                 \n",
            " dense_32 (Dense)            (None, 7)                 1799      \n",
            "                                                                 \n",
            "=================================================================\n",
            "Total params: 45,911\n",
            "Trainable params: 45,911\n",
            "Non-trainable params: 0\n",
            "_________________________________________________________________\n"
          ]
        }
      ]
    },
    {
      "cell_type": "code",
      "source": [
        "Y_encoded[0]"
      ],
      "metadata": {
        "colab": {
          "base_uri": "https://localhost:8080/"
        },
        "id": "G-PRsWxSKq4U",
        "outputId": "4bf45d6b-3cf3-4ab6-9d03-af0ecd358032"
      },
      "execution_count": 72,
      "outputs": [
        {
          "output_type": "execute_result",
          "data": {
            "text/plain": [
              "array([1., 0., 0., 0., 0., 0., 0.], dtype=float32)"
            ]
          },
          "metadata": {},
          "execution_count": 72
        }
      ]
    },
    {
      "cell_type": "code",
      "source": [
        "model.compile(optimizer=Adam(learning_rate=0.0001),loss='categorical_crossentropy',metrics=['accuracy'])"
      ],
      "metadata": {
        "id": "wzxHl6U8JfFr"
      },
      "execution_count": 109,
      "outputs": []
    },
    {
      "cell_type": "code",
      "source": [
        "history=model.fit(x=X_train,y=Y_encoded,validation_split=0.1,batch_size=10,epochs=200,shuffle=True,verbose=2)"
      ],
      "metadata": {
        "colab": {
          "base_uri": "https://localhost:8080/"
        },
        "id": "SrRf7zcNJxl5",
        "outputId": "3d7feb83-922b-425a-d10a-be98ea4a3403"
      },
      "execution_count": 110,
      "outputs": [
        {
          "output_type": "stream",
          "name": "stdout",
          "text": [
            "Epoch 1/200\n",
            "12/12 - 1s - loss: 1.9676 - accuracy: 0.0702 - val_loss: 1.9542 - val_accuracy: 0.0769 - 760ms/epoch - 63ms/step\n",
            "Epoch 2/200\n",
            "12/12 - 0s - loss: 1.9363 - accuracy: 0.0789 - val_loss: 1.9204 - val_accuracy: 0.1538 - 45ms/epoch - 4ms/step\n",
            "Epoch 3/200\n",
            "12/12 - 0s - loss: 1.9057 - accuracy: 0.2719 - val_loss: 1.8924 - val_accuracy: 0.6923 - 59ms/epoch - 5ms/step\n",
            "Epoch 4/200\n",
            "12/12 - 0s - loss: 1.8780 - accuracy: 0.4912 - val_loss: 1.8611 - val_accuracy: 0.7692 - 48ms/epoch - 4ms/step\n",
            "Epoch 5/200\n",
            "12/12 - 0s - loss: 1.8493 - accuracy: 0.5351 - val_loss: 1.8300 - val_accuracy: 0.6923 - 54ms/epoch - 4ms/step\n",
            "Epoch 6/200\n",
            "12/12 - 0s - loss: 1.8220 - accuracy: 0.4825 - val_loss: 1.7969 - val_accuracy: 0.6923 - 58ms/epoch - 5ms/step\n",
            "Epoch 7/200\n",
            "12/12 - 0s - loss: 1.7890 - accuracy: 0.4825 - val_loss: 1.7591 - val_accuracy: 0.6923 - 51ms/epoch - 4ms/step\n",
            "Epoch 8/200\n",
            "12/12 - 0s - loss: 1.7567 - accuracy: 0.4825 - val_loss: 1.7186 - val_accuracy: 0.6923 - 53ms/epoch - 4ms/step\n",
            "Epoch 9/200\n",
            "12/12 - 0s - loss: 1.7219 - accuracy: 0.5088 - val_loss: 1.6835 - val_accuracy: 0.6923 - 57ms/epoch - 5ms/step\n",
            "Epoch 10/200\n",
            "12/12 - 0s - loss: 1.6845 - accuracy: 0.5088 - val_loss: 1.6407 - val_accuracy: 0.6923 - 52ms/epoch - 4ms/step\n",
            "Epoch 11/200\n",
            "12/12 - 0s - loss: 1.6456 - accuracy: 0.5175 - val_loss: 1.5966 - val_accuracy: 0.6923 - 51ms/epoch - 4ms/step\n",
            "Epoch 12/200\n",
            "12/12 - 0s - loss: 1.6074 - accuracy: 0.5088 - val_loss: 1.5494 - val_accuracy: 0.6923 - 52ms/epoch - 4ms/step\n",
            "Epoch 13/200\n",
            "12/12 - 0s - loss: 1.5619 - accuracy: 0.5088 - val_loss: 1.5103 - val_accuracy: 0.6923 - 51ms/epoch - 4ms/step\n",
            "Epoch 14/200\n",
            "12/12 - 0s - loss: 1.5178 - accuracy: 0.5088 - val_loss: 1.4592 - val_accuracy: 0.6923 - 51ms/epoch - 4ms/step\n",
            "Epoch 15/200\n",
            "12/12 - 0s - loss: 1.4739 - accuracy: 0.5439 - val_loss: 1.4137 - val_accuracy: 0.6923 - 55ms/epoch - 5ms/step\n",
            "Epoch 16/200\n",
            "12/12 - 0s - loss: 1.4307 - accuracy: 0.5614 - val_loss: 1.3735 - val_accuracy: 0.6923 - 48ms/epoch - 4ms/step\n",
            "Epoch 17/200\n",
            "12/12 - 0s - loss: 1.3887 - accuracy: 0.5614 - val_loss: 1.3386 - val_accuracy: 0.6923 - 57ms/epoch - 5ms/step\n",
            "Epoch 18/200\n",
            "12/12 - 0s - loss: 1.3464 - accuracy: 0.5614 - val_loss: 1.2981 - val_accuracy: 0.6923 - 63ms/epoch - 5ms/step\n",
            "Epoch 19/200\n",
            "12/12 - 0s - loss: 1.3059 - accuracy: 0.5702 - val_loss: 1.2695 - val_accuracy: 0.7692 - 54ms/epoch - 4ms/step\n",
            "Epoch 20/200\n",
            "12/12 - 0s - loss: 1.2666 - accuracy: 0.5702 - val_loss: 1.2315 - val_accuracy: 0.6923 - 84ms/epoch - 7ms/step\n",
            "Epoch 21/200\n",
            "12/12 - 0s - loss: 1.2307 - accuracy: 0.5702 - val_loss: 1.1998 - val_accuracy: 0.7692 - 50ms/epoch - 4ms/step\n",
            "Epoch 22/200\n",
            "12/12 - 0s - loss: 1.1959 - accuracy: 0.5877 - val_loss: 1.1681 - val_accuracy: 0.7692 - 47ms/epoch - 4ms/step\n",
            "Epoch 23/200\n",
            "12/12 - 0s - loss: 1.1627 - accuracy: 0.5877 - val_loss: 1.1379 - val_accuracy: 0.7692 - 53ms/epoch - 4ms/step\n",
            "Epoch 24/200\n",
            "12/12 - 0s - loss: 1.1321 - accuracy: 0.6140 - val_loss: 1.1075 - val_accuracy: 0.7692 - 54ms/epoch - 4ms/step\n",
            "Epoch 25/200\n",
            "12/12 - 0s - loss: 1.1017 - accuracy: 0.6053 - val_loss: 1.0786 - val_accuracy: 0.7692 - 71ms/epoch - 6ms/step\n",
            "Epoch 26/200\n",
            "12/12 - 0s - loss: 1.0725 - accuracy: 0.6228 - val_loss: 1.0474 - val_accuracy: 0.7692 - 51ms/epoch - 4ms/step\n",
            "Epoch 27/200\n",
            "12/12 - 0s - loss: 1.0428 - accuracy: 0.6316 - val_loss: 1.0281 - val_accuracy: 0.7692 - 62ms/epoch - 5ms/step\n",
            "Epoch 28/200\n",
            "12/12 - 0s - loss: 1.0204 - accuracy: 0.6316 - val_loss: 1.0101 - val_accuracy: 0.7692 - 55ms/epoch - 5ms/step\n",
            "Epoch 29/200\n",
            "12/12 - 0s - loss: 0.9929 - accuracy: 0.6404 - val_loss: 0.9748 - val_accuracy: 0.7692 - 57ms/epoch - 5ms/step\n",
            "Epoch 30/200\n",
            "12/12 - 0s - loss: 0.9724 - accuracy: 0.6404 - val_loss: 0.9558 - val_accuracy: 0.7692 - 64ms/epoch - 5ms/step\n",
            "Epoch 31/200\n",
            "12/12 - 0s - loss: 0.9512 - accuracy: 0.6667 - val_loss: 0.9403 - val_accuracy: 0.8462 - 55ms/epoch - 5ms/step\n",
            "Epoch 32/200\n",
            "12/12 - 0s - loss: 0.9294 - accuracy: 0.6930 - val_loss: 0.9119 - val_accuracy: 0.8462 - 54ms/epoch - 5ms/step\n",
            "Epoch 33/200\n",
            "12/12 - 0s - loss: 0.9088 - accuracy: 0.6930 - val_loss: 0.8822 - val_accuracy: 0.8462 - 50ms/epoch - 4ms/step\n",
            "Epoch 34/200\n",
            "12/12 - 0s - loss: 0.8861 - accuracy: 0.7018 - val_loss: 0.8610 - val_accuracy: 0.8462 - 55ms/epoch - 5ms/step\n",
            "Epoch 35/200\n",
            "12/12 - 0s - loss: 0.8695 - accuracy: 0.6930 - val_loss: 0.8412 - val_accuracy: 0.8462 - 53ms/epoch - 4ms/step\n",
            "Epoch 36/200\n",
            "12/12 - 0s - loss: 0.8498 - accuracy: 0.7018 - val_loss: 0.8193 - val_accuracy: 0.8462 - 50ms/epoch - 4ms/step\n",
            "Epoch 37/200\n",
            "12/12 - 0s - loss: 0.8333 - accuracy: 0.6930 - val_loss: 0.7944 - val_accuracy: 0.9231 - 60ms/epoch - 5ms/step\n",
            "Epoch 38/200\n",
            "12/12 - 0s - loss: 0.8155 - accuracy: 0.6930 - val_loss: 0.7667 - val_accuracy: 0.8462 - 60ms/epoch - 5ms/step\n",
            "Epoch 39/200\n",
            "12/12 - 0s - loss: 0.8033 - accuracy: 0.6930 - val_loss: 0.7536 - val_accuracy: 0.8462 - 55ms/epoch - 5ms/step\n",
            "Epoch 40/200\n",
            "12/12 - 0s - loss: 0.7854 - accuracy: 0.7018 - val_loss: 0.7499 - val_accuracy: 0.8462 - 53ms/epoch - 4ms/step\n",
            "Epoch 41/200\n",
            "12/12 - 0s - loss: 0.7720 - accuracy: 0.6930 - val_loss: 0.7491 - val_accuracy: 0.9231 - 54ms/epoch - 5ms/step\n",
            "Epoch 42/200\n",
            "12/12 - 0s - loss: 0.7591 - accuracy: 0.7018 - val_loss: 0.7228 - val_accuracy: 0.8462 - 49ms/epoch - 4ms/step\n",
            "Epoch 43/200\n",
            "12/12 - 0s - loss: 0.7477 - accuracy: 0.6930 - val_loss: 0.6992 - val_accuracy: 0.9231 - 52ms/epoch - 4ms/step\n",
            "Epoch 44/200\n",
            "12/12 - 0s - loss: 0.7331 - accuracy: 0.6930 - val_loss: 0.6768 - val_accuracy: 0.8462 - 51ms/epoch - 4ms/step\n",
            "Epoch 45/200\n",
            "12/12 - 0s - loss: 0.7202 - accuracy: 0.6930 - val_loss: 0.6707 - val_accuracy: 0.9231 - 55ms/epoch - 5ms/step\n",
            "Epoch 46/200\n",
            "12/12 - 0s - loss: 0.7072 - accuracy: 0.6930 - val_loss: 0.6728 - val_accuracy: 0.9231 - 48ms/epoch - 4ms/step\n",
            "Epoch 47/200\n",
            "12/12 - 0s - loss: 0.6963 - accuracy: 0.7018 - val_loss: 0.6448 - val_accuracy: 0.8462 - 50ms/epoch - 4ms/step\n",
            "Epoch 48/200\n",
            "12/12 - 0s - loss: 0.6850 - accuracy: 0.7018 - val_loss: 0.6381 - val_accuracy: 0.9231 - 55ms/epoch - 5ms/step\n",
            "Epoch 49/200\n",
            "12/12 - 0s - loss: 0.6781 - accuracy: 0.7018 - val_loss: 0.6627 - val_accuracy: 0.8462 - 52ms/epoch - 4ms/step\n",
            "Epoch 50/200\n",
            "12/12 - 0s - loss: 0.6610 - accuracy: 0.7105 - val_loss: 0.6274 - val_accuracy: 0.9231 - 47ms/epoch - 4ms/step\n",
            "Epoch 51/200\n",
            "12/12 - 0s - loss: 0.6505 - accuracy: 0.7018 - val_loss: 0.6129 - val_accuracy: 0.8462 - 48ms/epoch - 4ms/step\n",
            "Epoch 52/200\n",
            "12/12 - 0s - loss: 0.6389 - accuracy: 0.7193 - val_loss: 0.6115 - val_accuracy: 0.9231 - 52ms/epoch - 4ms/step\n",
            "Epoch 53/200\n",
            "12/12 - 0s - loss: 0.6331 - accuracy: 0.7281 - val_loss: 0.6313 - val_accuracy: 0.9231 - 54ms/epoch - 4ms/step\n",
            "Epoch 54/200\n",
            "12/12 - 0s - loss: 0.6191 - accuracy: 0.7368 - val_loss: 0.6026 - val_accuracy: 0.9231 - 50ms/epoch - 4ms/step\n",
            "Epoch 55/200\n",
            "12/12 - 0s - loss: 0.6062 - accuracy: 0.7193 - val_loss: 0.5809 - val_accuracy: 0.9231 - 59ms/epoch - 5ms/step\n",
            "Epoch 56/200\n",
            "12/12 - 0s - loss: 0.5967 - accuracy: 0.7368 - val_loss: 0.5725 - val_accuracy: 0.9231 - 61ms/epoch - 5ms/step\n",
            "Epoch 57/200\n",
            "12/12 - 0s - loss: 0.5878 - accuracy: 0.7719 - val_loss: 0.5634 - val_accuracy: 0.9231 - 51ms/epoch - 4ms/step\n",
            "Epoch 58/200\n",
            "12/12 - 0s - loss: 0.5791 - accuracy: 0.7632 - val_loss: 0.5776 - val_accuracy: 0.8462 - 55ms/epoch - 5ms/step\n",
            "Epoch 59/200\n",
            "12/12 - 0s - loss: 0.5684 - accuracy: 0.7719 - val_loss: 0.5743 - val_accuracy: 0.9231 - 52ms/epoch - 4ms/step\n",
            "Epoch 60/200\n",
            "12/12 - 0s - loss: 0.5586 - accuracy: 0.7807 - val_loss: 0.5806 - val_accuracy: 0.9231 - 49ms/epoch - 4ms/step\n",
            "Epoch 61/200\n",
            "12/12 - 0s - loss: 0.5547 - accuracy: 0.7895 - val_loss: 0.5888 - val_accuracy: 0.9231 - 49ms/epoch - 4ms/step\n",
            "Epoch 62/200\n",
            "12/12 - 0s - loss: 0.5460 - accuracy: 0.7719 - val_loss: 0.5513 - val_accuracy: 0.8462 - 49ms/epoch - 4ms/step\n",
            "Epoch 63/200\n",
            "12/12 - 0s - loss: 0.5318 - accuracy: 0.7807 - val_loss: 0.5568 - val_accuracy: 0.9231 - 57ms/epoch - 5ms/step\n",
            "Epoch 64/200\n",
            "12/12 - 0s - loss: 0.5275 - accuracy: 0.7719 - val_loss: 0.5667 - val_accuracy: 0.9231 - 49ms/epoch - 4ms/step\n",
            "Epoch 65/200\n",
            "12/12 - 0s - loss: 0.5177 - accuracy: 0.7807 - val_loss: 0.5502 - val_accuracy: 0.8462 - 50ms/epoch - 4ms/step\n",
            "Epoch 66/200\n",
            "12/12 - 0s - loss: 0.5084 - accuracy: 0.7719 - val_loss: 0.5559 - val_accuracy: 0.9231 - 50ms/epoch - 4ms/step\n",
            "Epoch 67/200\n",
            "12/12 - 0s - loss: 0.5031 - accuracy: 0.8158 - val_loss: 0.5602 - val_accuracy: 0.9231 - 71ms/epoch - 6ms/step\n",
            "Epoch 68/200\n",
            "12/12 - 0s - loss: 0.4937 - accuracy: 0.7807 - val_loss: 0.5382 - val_accuracy: 0.9231 - 50ms/epoch - 4ms/step\n",
            "Epoch 69/200\n",
            "12/12 - 0s - loss: 0.4892 - accuracy: 0.7895 - val_loss: 0.5346 - val_accuracy: 0.9231 - 51ms/epoch - 4ms/step\n",
            "Epoch 70/200\n",
            "12/12 - 0s - loss: 0.4798 - accuracy: 0.7895 - val_loss: 0.5227 - val_accuracy: 0.8462 - 53ms/epoch - 4ms/step\n",
            "Epoch 71/200\n",
            "12/12 - 0s - loss: 0.4832 - accuracy: 0.7807 - val_loss: 0.5271 - val_accuracy: 0.8462 - 51ms/epoch - 4ms/step\n",
            "Epoch 72/200\n",
            "12/12 - 0s - loss: 0.4718 - accuracy: 0.7895 - val_loss: 0.5223 - val_accuracy: 0.8462 - 52ms/epoch - 4ms/step\n",
            "Epoch 73/200\n",
            "12/12 - 0s - loss: 0.4653 - accuracy: 0.7982 - val_loss: 0.5351 - val_accuracy: 0.9231 - 62ms/epoch - 5ms/step\n",
            "Epoch 74/200\n",
            "12/12 - 0s - loss: 0.4578 - accuracy: 0.7982 - val_loss: 0.5075 - val_accuracy: 0.9231 - 52ms/epoch - 4ms/step\n",
            "Epoch 75/200\n",
            "12/12 - 0s - loss: 0.4516 - accuracy: 0.7719 - val_loss: 0.4988 - val_accuracy: 0.8462 - 50ms/epoch - 4ms/step\n",
            "Epoch 76/200\n",
            "12/12 - 0s - loss: 0.4442 - accuracy: 0.8158 - val_loss: 0.5159 - val_accuracy: 0.8462 - 51ms/epoch - 4ms/step\n",
            "Epoch 77/200\n",
            "12/12 - 0s - loss: 0.4391 - accuracy: 0.8158 - val_loss: 0.5241 - val_accuracy: 0.8462 - 60ms/epoch - 5ms/step\n",
            "Epoch 78/200\n",
            "12/12 - 0s - loss: 0.4329 - accuracy: 0.8246 - val_loss: 0.5115 - val_accuracy: 0.9231 - 72ms/epoch - 6ms/step\n",
            "Epoch 79/200\n",
            "12/12 - 0s - loss: 0.4298 - accuracy: 0.8070 - val_loss: 0.4868 - val_accuracy: 0.9231 - 46ms/epoch - 4ms/step\n",
            "Epoch 80/200\n",
            "12/12 - 0s - loss: 0.4259 - accuracy: 0.8070 - val_loss: 0.4955 - val_accuracy: 0.8462 - 51ms/epoch - 4ms/step\n",
            "Epoch 81/200\n",
            "12/12 - 0s - loss: 0.4183 - accuracy: 0.8158 - val_loss: 0.5127 - val_accuracy: 0.8462 - 50ms/epoch - 4ms/step\n",
            "Epoch 82/200\n",
            "12/12 - 0s - loss: 0.4162 - accuracy: 0.8333 - val_loss: 0.4973 - val_accuracy: 0.8462 - 47ms/epoch - 4ms/step\n",
            "Epoch 83/200\n",
            "12/12 - 0s - loss: 0.4124 - accuracy: 0.8772 - val_loss: 0.5125 - val_accuracy: 0.8462 - 50ms/epoch - 4ms/step\n",
            "Epoch 84/200\n",
            "12/12 - 0s - loss: 0.4146 - accuracy: 0.8772 - val_loss: 0.5137 - val_accuracy: 0.8462 - 53ms/epoch - 4ms/step\n",
            "Epoch 85/200\n",
            "12/12 - 0s - loss: 0.4149 - accuracy: 0.8684 - val_loss: 0.5081 - val_accuracy: 0.8462 - 55ms/epoch - 5ms/step\n",
            "Epoch 86/200\n",
            "12/12 - 0s - loss: 0.4020 - accuracy: 0.8860 - val_loss: 0.4897 - val_accuracy: 0.8462 - 53ms/epoch - 4ms/step\n",
            "Epoch 87/200\n",
            "12/12 - 0s - loss: 0.3980 - accuracy: 0.8246 - val_loss: 0.4669 - val_accuracy: 0.8462 - 56ms/epoch - 5ms/step\n",
            "Epoch 88/200\n",
            "12/12 - 0s - loss: 0.3939 - accuracy: 0.8333 - val_loss: 0.4970 - val_accuracy: 0.8462 - 53ms/epoch - 4ms/step\n",
            "Epoch 89/200\n",
            "12/12 - 0s - loss: 0.3861 - accuracy: 0.8596 - val_loss: 0.4876 - val_accuracy: 0.7692 - 51ms/epoch - 4ms/step\n",
            "Epoch 90/200\n",
            "12/12 - 0s - loss: 0.3906 - accuracy: 0.8684 - val_loss: 0.5069 - val_accuracy: 0.7692 - 87ms/epoch - 7ms/step\n",
            "Epoch 91/200\n",
            "12/12 - 0s - loss: 0.3838 - accuracy: 0.8421 - val_loss: 0.4501 - val_accuracy: 0.9231 - 53ms/epoch - 4ms/step\n",
            "Epoch 92/200\n",
            "12/12 - 0s - loss: 0.3812 - accuracy: 0.8333 - val_loss: 0.4578 - val_accuracy: 0.8462 - 45ms/epoch - 4ms/step\n",
            "Epoch 93/200\n",
            "12/12 - 0s - loss: 0.3820 - accuracy: 0.8596 - val_loss: 0.5101 - val_accuracy: 0.7692 - 51ms/epoch - 4ms/step\n",
            "Epoch 94/200\n",
            "12/12 - 0s - loss: 0.3735 - accuracy: 0.8684 - val_loss: 0.4879 - val_accuracy: 0.7692 - 51ms/epoch - 4ms/step\n",
            "Epoch 95/200\n",
            "12/12 - 0s - loss: 0.3735 - accuracy: 0.8509 - val_loss: 0.4649 - val_accuracy: 0.8462 - 49ms/epoch - 4ms/step\n",
            "Epoch 96/200\n",
            "12/12 - 0s - loss: 0.3647 - accuracy: 0.8684 - val_loss: 0.4689 - val_accuracy: 0.7692 - 48ms/epoch - 4ms/step\n",
            "Epoch 97/200\n",
            "12/12 - 0s - loss: 0.3654 - accuracy: 0.8772 - val_loss: 0.4759 - val_accuracy: 0.7692 - 61ms/epoch - 5ms/step\n",
            "Epoch 98/200\n",
            "12/12 - 0s - loss: 0.3610 - accuracy: 0.8860 - val_loss: 0.4615 - val_accuracy: 0.7692 - 62ms/epoch - 5ms/step\n",
            "Epoch 99/200\n",
            "12/12 - 0s - loss: 0.3575 - accuracy: 0.8860 - val_loss: 0.4629 - val_accuracy: 0.7692 - 53ms/epoch - 4ms/step\n",
            "Epoch 100/200\n",
            "12/12 - 0s - loss: 0.3548 - accuracy: 0.8772 - val_loss: 0.4788 - val_accuracy: 0.7692 - 54ms/epoch - 4ms/step\n",
            "Epoch 101/200\n",
            "12/12 - 0s - loss: 0.3544 - accuracy: 0.8860 - val_loss: 0.4646 - val_accuracy: 0.7692 - 53ms/epoch - 4ms/step\n",
            "Epoch 102/200\n",
            "12/12 - 0s - loss: 0.3523 - accuracy: 0.8772 - val_loss: 0.4614 - val_accuracy: 0.7692 - 53ms/epoch - 4ms/step\n",
            "Epoch 103/200\n",
            "12/12 - 0s - loss: 0.3506 - accuracy: 0.8772 - val_loss: 0.4913 - val_accuracy: 0.7692 - 58ms/epoch - 5ms/step\n",
            "Epoch 104/200\n",
            "12/12 - 0s - loss: 0.3448 - accuracy: 0.8947 - val_loss: 0.4656 - val_accuracy: 0.7692 - 50ms/epoch - 4ms/step\n",
            "Epoch 105/200\n",
            "12/12 - 0s - loss: 0.3410 - accuracy: 0.8947 - val_loss: 0.4548 - val_accuracy: 0.7692 - 51ms/epoch - 4ms/step\n",
            "Epoch 106/200\n",
            "12/12 - 0s - loss: 0.3411 - accuracy: 0.8947 - val_loss: 0.4543 - val_accuracy: 0.7692 - 53ms/epoch - 4ms/step\n",
            "Epoch 107/200\n",
            "12/12 - 0s - loss: 0.3389 - accuracy: 0.8860 - val_loss: 0.4473 - val_accuracy: 0.7692 - 47ms/epoch - 4ms/step\n",
            "Epoch 108/200\n",
            "12/12 - 0s - loss: 0.3336 - accuracy: 0.8860 - val_loss: 0.4770 - val_accuracy: 0.7692 - 73ms/epoch - 6ms/step\n",
            "Epoch 109/200\n",
            "12/12 - 0s - loss: 0.3318 - accuracy: 0.8947 - val_loss: 0.4623 - val_accuracy: 0.7692 - 49ms/epoch - 4ms/step\n",
            "Epoch 110/200\n",
            "12/12 - 0s - loss: 0.3302 - accuracy: 0.9035 - val_loss: 0.4546 - val_accuracy: 0.7692 - 48ms/epoch - 4ms/step\n",
            "Epoch 111/200\n",
            "12/12 - 0s - loss: 0.3274 - accuracy: 0.9035 - val_loss: 0.4450 - val_accuracy: 0.7692 - 50ms/epoch - 4ms/step\n",
            "Epoch 112/200\n",
            "12/12 - 0s - loss: 0.3257 - accuracy: 0.8947 - val_loss: 0.4459 - val_accuracy: 0.7692 - 46ms/epoch - 4ms/step\n",
            "Epoch 113/200\n",
            "12/12 - 0s - loss: 0.3231 - accuracy: 0.9035 - val_loss: 0.4570 - val_accuracy: 0.7692 - 52ms/epoch - 4ms/step\n",
            "Epoch 114/200\n",
            "12/12 - 0s - loss: 0.3228 - accuracy: 0.8947 - val_loss: 0.4620 - val_accuracy: 0.7692 - 46ms/epoch - 4ms/step\n",
            "Epoch 115/200\n",
            "12/12 - 0s - loss: 0.3195 - accuracy: 0.9035 - val_loss: 0.4470 - val_accuracy: 0.7692 - 54ms/epoch - 5ms/step\n",
            "Epoch 116/200\n",
            "12/12 - 0s - loss: 0.3174 - accuracy: 0.8947 - val_loss: 0.4400 - val_accuracy: 0.7692 - 50ms/epoch - 4ms/step\n",
            "Epoch 117/200\n",
            "12/12 - 0s - loss: 0.3219 - accuracy: 0.9123 - val_loss: 0.4662 - val_accuracy: 0.7692 - 52ms/epoch - 4ms/step\n",
            "Epoch 118/200\n",
            "12/12 - 0s - loss: 0.3167 - accuracy: 0.8860 - val_loss: 0.4499 - val_accuracy: 0.7692 - 55ms/epoch - 5ms/step\n",
            "Epoch 119/200\n",
            "12/12 - 0s - loss: 0.3125 - accuracy: 0.8947 - val_loss: 0.4288 - val_accuracy: 0.7692 - 54ms/epoch - 4ms/step\n",
            "Epoch 120/200\n",
            "12/12 - 0s - loss: 0.3125 - accuracy: 0.8947 - val_loss: 0.4248 - val_accuracy: 0.7692 - 52ms/epoch - 4ms/step\n",
            "Epoch 121/200\n",
            "12/12 - 0s - loss: 0.3082 - accuracy: 0.8947 - val_loss: 0.4708 - val_accuracy: 0.7692 - 47ms/epoch - 4ms/step\n",
            "Epoch 122/200\n",
            "12/12 - 0s - loss: 0.3071 - accuracy: 0.9035 - val_loss: 0.4572 - val_accuracy: 0.7692 - 54ms/epoch - 5ms/step\n",
            "Epoch 123/200\n",
            "12/12 - 0s - loss: 0.3054 - accuracy: 0.8772 - val_loss: 0.4360 - val_accuracy: 0.7692 - 52ms/epoch - 4ms/step\n",
            "Epoch 124/200\n",
            "12/12 - 0s - loss: 0.3008 - accuracy: 0.8947 - val_loss: 0.4088 - val_accuracy: 0.7692 - 50ms/epoch - 4ms/step\n",
            "Epoch 125/200\n",
            "12/12 - 0s - loss: 0.3047 - accuracy: 0.8860 - val_loss: 0.4115 - val_accuracy: 0.7692 - 49ms/epoch - 4ms/step\n",
            "Epoch 126/200\n",
            "12/12 - 0s - loss: 0.2984 - accuracy: 0.8947 - val_loss: 0.4603 - val_accuracy: 0.7692 - 61ms/epoch - 5ms/step\n",
            "Epoch 127/200\n",
            "12/12 - 0s - loss: 0.3008 - accuracy: 0.8860 - val_loss: 0.4695 - val_accuracy: 0.7692 - 55ms/epoch - 5ms/step\n",
            "Epoch 128/200\n",
            "12/12 - 0s - loss: 0.2960 - accuracy: 0.9035 - val_loss: 0.4417 - val_accuracy: 0.7692 - 53ms/epoch - 4ms/step\n",
            "Epoch 129/200\n",
            "12/12 - 0s - loss: 0.3011 - accuracy: 0.8947 - val_loss: 0.4092 - val_accuracy: 0.7692 - 57ms/epoch - 5ms/step\n",
            "Epoch 130/200\n",
            "12/12 - 0s - loss: 0.2989 - accuracy: 0.8947 - val_loss: 0.4351 - val_accuracy: 0.8462 - 51ms/epoch - 4ms/step\n",
            "Epoch 131/200\n",
            "12/12 - 0s - loss: 0.2895 - accuracy: 0.9123 - val_loss: 0.4446 - val_accuracy: 0.7692 - 64ms/epoch - 5ms/step\n",
            "Epoch 132/200\n",
            "12/12 - 0s - loss: 0.2878 - accuracy: 0.9035 - val_loss: 0.4510 - val_accuracy: 0.7692 - 55ms/epoch - 5ms/step\n",
            "Epoch 133/200\n",
            "12/12 - 0s - loss: 0.2912 - accuracy: 0.9035 - val_loss: 0.4379 - val_accuracy: 0.7692 - 56ms/epoch - 5ms/step\n",
            "Epoch 134/200\n",
            "12/12 - 0s - loss: 0.2826 - accuracy: 0.9211 - val_loss: 0.4176 - val_accuracy: 0.7692 - 55ms/epoch - 5ms/step\n",
            "Epoch 135/200\n",
            "12/12 - 0s - loss: 0.2838 - accuracy: 0.9123 - val_loss: 0.4117 - val_accuracy: 0.7692 - 49ms/epoch - 4ms/step\n",
            "Epoch 136/200\n",
            "12/12 - 0s - loss: 0.2809 - accuracy: 0.9035 - val_loss: 0.4445 - val_accuracy: 0.7692 - 52ms/epoch - 4ms/step\n",
            "Epoch 137/200\n",
            "12/12 - 0s - loss: 0.2800 - accuracy: 0.8947 - val_loss: 0.4361 - val_accuracy: 0.7692 - 49ms/epoch - 4ms/step\n",
            "Epoch 138/200\n",
            "12/12 - 0s - loss: 0.2760 - accuracy: 0.9123 - val_loss: 0.4028 - val_accuracy: 0.7692 - 53ms/epoch - 4ms/step\n",
            "Epoch 139/200\n",
            "12/12 - 0s - loss: 0.2779 - accuracy: 0.9123 - val_loss: 0.4236 - val_accuracy: 0.7692 - 49ms/epoch - 4ms/step\n",
            "Epoch 140/200\n",
            "12/12 - 0s - loss: 0.2749 - accuracy: 0.9035 - val_loss: 0.4190 - val_accuracy: 0.7692 - 52ms/epoch - 4ms/step\n",
            "Epoch 141/200\n",
            "12/12 - 0s - loss: 0.2800 - accuracy: 0.9211 - val_loss: 0.4258 - val_accuracy: 0.7692 - 59ms/epoch - 5ms/step\n",
            "Epoch 142/200\n",
            "12/12 - 0s - loss: 0.2880 - accuracy: 0.8947 - val_loss: 0.4539 - val_accuracy: 0.8462 - 50ms/epoch - 4ms/step\n",
            "Epoch 143/200\n",
            "12/12 - 0s - loss: 0.2721 - accuracy: 0.8860 - val_loss: 0.4341 - val_accuracy: 0.7692 - 60ms/epoch - 5ms/step\n",
            "Epoch 144/200\n",
            "12/12 - 0s - loss: 0.2681 - accuracy: 0.9123 - val_loss: 0.4071 - val_accuracy: 0.7692 - 51ms/epoch - 4ms/step\n",
            "Epoch 145/200\n",
            "12/12 - 0s - loss: 0.2683 - accuracy: 0.9123 - val_loss: 0.4216 - val_accuracy: 0.7692 - 51ms/epoch - 4ms/step\n",
            "Epoch 146/200\n",
            "12/12 - 0s - loss: 0.2664 - accuracy: 0.9211 - val_loss: 0.3969 - val_accuracy: 0.7692 - 54ms/epoch - 4ms/step\n",
            "Epoch 147/200\n",
            "12/12 - 0s - loss: 0.2654 - accuracy: 0.9123 - val_loss: 0.4176 - val_accuracy: 0.7692 - 53ms/epoch - 4ms/step\n",
            "Epoch 148/200\n",
            "12/12 - 0s - loss: 0.2623 - accuracy: 0.9211 - val_loss: 0.4519 - val_accuracy: 0.7692 - 51ms/epoch - 4ms/step\n",
            "Epoch 149/200\n",
            "12/12 - 0s - loss: 0.2637 - accuracy: 0.8947 - val_loss: 0.4243 - val_accuracy: 0.7692 - 48ms/epoch - 4ms/step\n",
            "Epoch 150/200\n",
            "12/12 - 0s - loss: 0.2604 - accuracy: 0.9123 - val_loss: 0.4114 - val_accuracy: 0.7692 - 60ms/epoch - 5ms/step\n",
            "Epoch 151/200\n",
            "12/12 - 0s - loss: 0.2582 - accuracy: 0.9211 - val_loss: 0.4000 - val_accuracy: 0.7692 - 49ms/epoch - 4ms/step\n",
            "Epoch 152/200\n",
            "12/12 - 0s - loss: 0.2570 - accuracy: 0.9211 - val_loss: 0.4198 - val_accuracy: 0.7692 - 49ms/epoch - 4ms/step\n",
            "Epoch 153/200\n",
            "12/12 - 0s - loss: 0.2569 - accuracy: 0.9035 - val_loss: 0.4353 - val_accuracy: 0.7692 - 52ms/epoch - 4ms/step\n",
            "Epoch 154/200\n",
            "12/12 - 0s - loss: 0.2550 - accuracy: 0.8947 - val_loss: 0.4043 - val_accuracy: 0.7692 - 70ms/epoch - 6ms/step\n",
            "Epoch 155/200\n",
            "12/12 - 0s - loss: 0.2554 - accuracy: 0.9123 - val_loss: 0.4126 - val_accuracy: 0.8462 - 56ms/epoch - 5ms/step\n",
            "Epoch 156/200\n",
            "12/12 - 0s - loss: 0.2543 - accuracy: 0.9123 - val_loss: 0.4031 - val_accuracy: 0.8462 - 48ms/epoch - 4ms/step\n",
            "Epoch 157/200\n",
            "12/12 - 0s - loss: 0.2501 - accuracy: 0.9123 - val_loss: 0.4137 - val_accuracy: 0.7692 - 52ms/epoch - 4ms/step\n",
            "Epoch 158/200\n",
            "12/12 - 0s - loss: 0.2469 - accuracy: 0.9123 - val_loss: 0.4079 - val_accuracy: 0.7692 - 50ms/epoch - 4ms/step\n",
            "Epoch 159/200\n",
            "12/12 - 0s - loss: 0.2486 - accuracy: 0.9211 - val_loss: 0.4260 - val_accuracy: 0.7692 - 51ms/epoch - 4ms/step\n",
            "Epoch 160/200\n",
            "12/12 - 0s - loss: 0.2513 - accuracy: 0.9211 - val_loss: 0.4166 - val_accuracy: 0.7692 - 47ms/epoch - 4ms/step\n",
            "Epoch 161/200\n",
            "12/12 - 0s - loss: 0.2452 - accuracy: 0.9298 - val_loss: 0.4328 - val_accuracy: 0.7692 - 56ms/epoch - 5ms/step\n",
            "Epoch 162/200\n",
            "12/12 - 0s - loss: 0.2492 - accuracy: 0.9035 - val_loss: 0.4175 - val_accuracy: 0.7692 - 56ms/epoch - 5ms/step\n",
            "Epoch 163/200\n",
            "12/12 - 0s - loss: 0.2418 - accuracy: 0.9211 - val_loss: 0.3755 - val_accuracy: 0.7692 - 53ms/epoch - 4ms/step\n",
            "Epoch 164/200\n",
            "12/12 - 0s - loss: 0.2418 - accuracy: 0.9123 - val_loss: 0.3994 - val_accuracy: 0.7692 - 50ms/epoch - 4ms/step\n",
            "Epoch 165/200\n",
            "12/12 - 0s - loss: 0.2388 - accuracy: 0.9298 - val_loss: 0.4357 - val_accuracy: 0.7692 - 56ms/epoch - 5ms/step\n",
            "Epoch 166/200\n",
            "12/12 - 0s - loss: 0.2439 - accuracy: 0.9386 - val_loss: 0.4466 - val_accuracy: 0.7692 - 50ms/epoch - 4ms/step\n",
            "Epoch 167/200\n",
            "12/12 - 0s - loss: 0.2406 - accuracy: 0.9211 - val_loss: 0.4209 - val_accuracy: 0.7692 - 67ms/epoch - 6ms/step\n",
            "Epoch 168/200\n",
            "12/12 - 0s - loss: 0.2356 - accuracy: 0.9035 - val_loss: 0.4424 - val_accuracy: 0.7692 - 49ms/epoch - 4ms/step\n",
            "Epoch 169/200\n",
            "12/12 - 0s - loss: 0.2351 - accuracy: 0.9298 - val_loss: 0.4120 - val_accuracy: 0.7692 - 62ms/epoch - 5ms/step\n",
            "Epoch 170/200\n",
            "12/12 - 0s - loss: 0.2427 - accuracy: 0.9298 - val_loss: 0.4309 - val_accuracy: 0.7692 - 51ms/epoch - 4ms/step\n",
            "Epoch 171/200\n",
            "12/12 - 0s - loss: 0.2399 - accuracy: 0.9211 - val_loss: 0.4490 - val_accuracy: 0.7692 - 49ms/epoch - 4ms/step\n",
            "Epoch 172/200\n",
            "12/12 - 0s - loss: 0.2315 - accuracy: 0.9123 - val_loss: 0.4092 - val_accuracy: 0.7692 - 56ms/epoch - 5ms/step\n",
            "Epoch 173/200\n",
            "12/12 - 0s - loss: 0.2282 - accuracy: 0.9211 - val_loss: 0.4132 - val_accuracy: 0.7692 - 67ms/epoch - 6ms/step\n",
            "Epoch 174/200\n",
            "12/12 - 0s - loss: 0.2285 - accuracy: 0.9298 - val_loss: 0.4239 - val_accuracy: 0.7692 - 58ms/epoch - 5ms/step\n",
            "Epoch 175/200\n",
            "12/12 - 0s - loss: 0.2291 - accuracy: 0.9211 - val_loss: 0.4120 - val_accuracy: 0.7692 - 69ms/epoch - 6ms/step\n",
            "Epoch 176/200\n",
            "12/12 - 0s - loss: 0.2263 - accuracy: 0.9211 - val_loss: 0.4377 - val_accuracy: 0.7692 - 52ms/epoch - 4ms/step\n",
            "Epoch 177/200\n",
            "12/12 - 0s - loss: 0.2289 - accuracy: 0.9123 - val_loss: 0.4494 - val_accuracy: 0.7692 - 48ms/epoch - 4ms/step\n",
            "Epoch 178/200\n",
            "12/12 - 0s - loss: 0.2235 - accuracy: 0.9211 - val_loss: 0.4148 - val_accuracy: 0.7692 - 63ms/epoch - 5ms/step\n",
            "Epoch 179/200\n",
            "12/12 - 0s - loss: 0.2251 - accuracy: 0.9298 - val_loss: 0.4096 - val_accuracy: 0.7692 - 49ms/epoch - 4ms/step\n",
            "Epoch 180/200\n",
            "12/12 - 0s - loss: 0.2250 - accuracy: 0.9211 - val_loss: 0.4482 - val_accuracy: 0.7692 - 69ms/epoch - 6ms/step\n",
            "Epoch 181/200\n",
            "12/12 - 0s - loss: 0.2266 - accuracy: 0.9123 - val_loss: 0.4452 - val_accuracy: 0.7692 - 54ms/epoch - 5ms/step\n",
            "Epoch 182/200\n",
            "12/12 - 0s - loss: 0.2207 - accuracy: 0.9298 - val_loss: 0.3991 - val_accuracy: 0.7692 - 57ms/epoch - 5ms/step\n",
            "Epoch 183/200\n",
            "12/12 - 0s - loss: 0.2263 - accuracy: 0.9211 - val_loss: 0.4168 - val_accuracy: 0.7692 - 53ms/epoch - 4ms/step\n",
            "Epoch 184/200\n",
            "12/12 - 0s - loss: 0.2224 - accuracy: 0.9211 - val_loss: 0.4434 - val_accuracy: 0.7692 - 51ms/epoch - 4ms/step\n",
            "Epoch 185/200\n",
            "12/12 - 0s - loss: 0.2223 - accuracy: 0.9123 - val_loss: 0.4267 - val_accuracy: 0.7692 - 47ms/epoch - 4ms/step\n",
            "Epoch 186/200\n",
            "12/12 - 0s - loss: 0.2181 - accuracy: 0.9211 - val_loss: 0.4039 - val_accuracy: 0.7692 - 49ms/epoch - 4ms/step\n",
            "Epoch 187/200\n",
            "12/12 - 0s - loss: 0.2247 - accuracy: 0.9298 - val_loss: 0.4328 - val_accuracy: 0.7692 - 54ms/epoch - 5ms/step\n",
            "Epoch 188/200\n",
            "12/12 - 0s - loss: 0.2158 - accuracy: 0.9386 - val_loss: 0.4509 - val_accuracy: 0.7692 - 49ms/epoch - 4ms/step\n",
            "Epoch 189/200\n",
            "12/12 - 0s - loss: 0.2135 - accuracy: 0.9298 - val_loss: 0.4243 - val_accuracy: 0.7692 - 53ms/epoch - 4ms/step\n",
            "Epoch 190/200\n",
            "12/12 - 0s - loss: 0.2144 - accuracy: 0.9211 - val_loss: 0.4078 - val_accuracy: 0.7692 - 60ms/epoch - 5ms/step\n",
            "Epoch 191/200\n",
            "12/12 - 0s - loss: 0.2124 - accuracy: 0.9211 - val_loss: 0.4089 - val_accuracy: 0.7692 - 56ms/epoch - 5ms/step\n",
            "Epoch 192/200\n",
            "12/12 - 0s - loss: 0.2166 - accuracy: 0.9123 - val_loss: 0.4270 - val_accuracy: 0.7692 - 56ms/epoch - 5ms/step\n",
            "Epoch 193/200\n",
            "12/12 - 0s - loss: 0.2118 - accuracy: 0.9386 - val_loss: 0.4147 - val_accuracy: 0.7692 - 54ms/epoch - 4ms/step\n",
            "Epoch 194/200\n",
            "12/12 - 0s - loss: 0.2122 - accuracy: 0.9298 - val_loss: 0.4453 - val_accuracy: 0.7692 - 52ms/epoch - 4ms/step\n",
            "Epoch 195/200\n",
            "12/12 - 0s - loss: 0.2083 - accuracy: 0.9211 - val_loss: 0.4223 - val_accuracy: 0.7692 - 68ms/epoch - 6ms/step\n",
            "Epoch 196/200\n",
            "12/12 - 0s - loss: 0.2085 - accuracy: 0.9211 - val_loss: 0.4185 - val_accuracy: 0.7692 - 63ms/epoch - 5ms/step\n",
            "Epoch 197/200\n",
            "12/12 - 0s - loss: 0.2081 - accuracy: 0.9298 - val_loss: 0.4119 - val_accuracy: 0.7692 - 52ms/epoch - 4ms/step\n",
            "Epoch 198/200\n",
            "12/12 - 0s - loss: 0.2107 - accuracy: 0.9211 - val_loss: 0.4051 - val_accuracy: 0.7692 - 53ms/epoch - 4ms/step\n",
            "Epoch 199/200\n",
            "12/12 - 0s - loss: 0.2177 - accuracy: 0.9035 - val_loss: 0.4486 - val_accuracy: 0.7692 - 53ms/epoch - 4ms/step\n",
            "Epoch 200/200\n",
            "12/12 - 0s - loss: 0.2069 - accuracy: 0.9298 - val_loss: 0.4135 - val_accuracy: 0.7692 - 57ms/epoch - 5ms/step\n"
          ]
        }
      ]
    },
    {
      "cell_type": "code",
      "source": [
        "loss,accuracy=model.evaluate(X_train,Y_encoded)"
      ],
      "metadata": {
        "colab": {
          "base_uri": "https://localhost:8080/"
        },
        "id": "vEpRXXgZN0G3",
        "outputId": "14f4b250-1dcc-4fed-f035-3cf17f35eebb"
      },
      "execution_count": 111,
      "outputs": [
        {
          "output_type": "stream",
          "name": "stdout",
          "text": [
            "4/4 [==============================] - 0s 3ms/step - loss: 0.2254 - accuracy: 0.9055\n"
          ]
        }
      ]
    },
    {
      "cell_type": "code",
      "source": [
        "!pip install plot_keras_history"
      ],
      "metadata": {
        "colab": {
          "base_uri": "https://localhost:8080/"
        },
        "id": "Ddhwhpd_OTKM",
        "outputId": "a13d4d83-e0c7-4101-9648-37a343b2afe0"
      },
      "execution_count": 113,
      "outputs": [
        {
          "output_type": "stream",
          "name": "stdout",
          "text": [
            "Collecting plot_keras_history\n",
            "  Downloading plot_keras_history-1.1.30.tar.gz (8.6 kB)\n",
            "Requirement already satisfied: matplotlib in /usr/local/lib/python3.7/dist-packages (from plot_keras_history) (3.2.2)\n",
            "Requirement already satisfied: pandas in /usr/local/lib/python3.7/dist-packages (from plot_keras_history) (1.1.5)\n",
            "Requirement already satisfied: scipy in /usr/local/lib/python3.7/dist-packages (from plot_keras_history) (1.4.1)\n",
            "Collecting sanitize_ml_labels>=1.0.28\n",
            "  Downloading sanitize_ml_labels-1.0.29.tar.gz (7.4 kB)\n",
            "Collecting compress_json\n",
            "  Downloading compress_json-1.0.4.tar.gz (4.7 kB)\n",
            "Requirement already satisfied: python-dateutil>=2.1 in /usr/local/lib/python3.7/dist-packages (from matplotlib->plot_keras_history) (2.8.2)\n",
            "Requirement already satisfied: pyparsing!=2.0.4,!=2.1.2,!=2.1.6,>=2.0.1 in /usr/local/lib/python3.7/dist-packages (from matplotlib->plot_keras_history) (3.0.6)\n",
            "Requirement already satisfied: cycler>=0.10 in /usr/local/lib/python3.7/dist-packages (from matplotlib->plot_keras_history) (0.11.0)\n",
            "Requirement already satisfied: numpy>=1.11 in /usr/local/lib/python3.7/dist-packages (from matplotlib->plot_keras_history) (1.19.5)\n",
            "Requirement already satisfied: kiwisolver>=1.0.1 in /usr/local/lib/python3.7/dist-packages (from matplotlib->plot_keras_history) (1.3.2)\n",
            "Requirement already satisfied: six>=1.5 in /usr/local/lib/python3.7/dist-packages (from python-dateutil>=2.1->matplotlib->plot_keras_history) (1.15.0)\n",
            "Requirement already satisfied: pytz>=2017.2 in /usr/local/lib/python3.7/dist-packages (from pandas->plot_keras_history) (2018.9)\n",
            "Building wheels for collected packages: plot-keras-history, sanitize-ml-labels, compress-json\n",
            "  Building wheel for plot-keras-history (setup.py) ... \u001b[?25l\u001b[?25hdone\n",
            "  Created wheel for plot-keras-history: filename=plot_keras_history-1.1.30-py3-none-any.whl size=8793 sha256=0fa918055686ae8affad3eba293cd3446b7b47a1ffa121076f8b7d6f83b78128\n",
            "  Stored in directory: /root/.cache/pip/wheels/b0/60/47/8c5aa37c06be5e97879ec467bc2e6a30b315d95f662c63a503\n",
            "  Building wheel for sanitize-ml-labels (setup.py) ... \u001b[?25l\u001b[?25hdone\n",
            "  Created wheel for sanitize-ml-labels: filename=sanitize_ml_labels-1.0.29-py3-none-any.whl size=7877 sha256=ecf64431877f90efa67b06120b8e9f81a4367b1c5e61e288a19a1c822301bf25\n",
            "  Stored in directory: /root/.cache/pip/wheels/c2/f5/71/d1c459da10abec864a1979b449edbf37d4a82ab3e38a3625a8\n",
            "  Building wheel for compress-json (setup.py) ... \u001b[?25l\u001b[?25hdone\n",
            "  Created wheel for compress-json: filename=compress_json-1.0.4-py3-none-any.whl size=4585 sha256=a9a3a7fd659702191d9b97c046dabfdd73c9c70445db7bdcb0eeffde6e83d3eb\n",
            "  Stored in directory: /root/.cache/pip/wheels/1e/ef/1e/5d403c5632b0462471a8d26049d0c138134d0255ec60ce4c14\n",
            "Successfully built plot-keras-history sanitize-ml-labels compress-json\n",
            "Installing collected packages: compress-json, sanitize-ml-labels, plot-keras-history\n",
            "Successfully installed compress-json-1.0.4 plot-keras-history-1.1.30 sanitize-ml-labels-1.0.29\n"
          ]
        }
      ]
    },
    {
      "cell_type": "code",
      "source": [
        "from plot_keras_history import show_history, plot_history"
      ],
      "metadata": {
        "id": "473Ij_upOE44"
      },
      "execution_count": 114,
      "outputs": []
    },
    {
      "cell_type": "code",
      "source": [
        "plot_history(history)"
      ],
      "metadata": {
        "colab": {
          "base_uri": "https://localhost:8080/",
          "height": 458
        },
        "id": "UNR1Ul2AOW_2",
        "outputId": "28d83c2d-1efe-462d-8e15-cf191b928007"
      },
      "execution_count": 115,
      "outputs": [
        {
          "output_type": "execute_result",
          "data": {
            "text/plain": [
              "(<Figure size 720x360 with 2 Axes>,\n",
              " array([<matplotlib.axes._subplots.AxesSubplot object at 0x7f86e0bcbf50>,\n",
              "        <matplotlib.axes._subplots.AxesSubplot object at 0x7f86e0b95790>],\n",
              "       dtype=object))"
            ]
          },
          "metadata": {},
          "execution_count": 115
        },
        {
          "output_type": "display_data",
          "data": {
            "image/png": "[encoded data removed]",
            "text/plain": [
              "<Figure size 720x360 with 2 Axes>"
            ]
          },
          "metadata": {
            "needs_background": "light"
          }
        }
      ]
    },
    {
      "cell_type": "code",
      "source": [
        "predictions=model.predict(X_test)"
      ],
      "metadata": {
        "id": "51svgVRUOfSX"
      },
      "execution_count": 117,
      "outputs": []
    },
    {
      "cell_type": "code",
      "source": [
        "import numpy as np"
      ],
      "metadata": {
        "id": "C9Mu0T7OOxOk"
      },
      "execution_count": 120,
      "outputs": []
    },
    {
      "cell_type": "code",
      "source": [
        "np.argmax(predictions[0])\n",
        "PRED=[]"
      ],
      "metadata": {
        "id": "8owFEBfAOqeX"
      },
      "execution_count": 140,
      "outputs": []
    },
    {
      "cell_type": "code",
      "source": [
        "len(predictions)"
      ],
      "metadata": {
        "colab": {
          "base_uri": "https://localhost:8080/"
        },
        "id": "oQUn0kbjPjrk",
        "outputId": "1504716a-e102-4d8c-d2f4-8755c869c939"
      },
      "execution_count": 129,
      "outputs": [
        {
          "output_type": "execute_result",
          "data": {
            "text/plain": [
              "32"
            ]
          },
          "metadata": {},
          "execution_count": 129
        }
      ]
    },
    {
      "cell_type": "code",
      "source": [
        "from sklearn.metrics import accuracy_score"
      ],
      "metadata": {
        "id": "Ak0C2gs2OzC2"
      },
      "execution_count": 123,
      "outputs": []
    },
    {
      "cell_type": "code",
      "source": [
        "Y_test.shape\n"
      ],
      "metadata": {
        "colab": {
          "base_uri": "https://localhost:8080/"
        },
        "id": "9Ypz2zjCO-5J",
        "outputId": "1eb6fc80-d702-4a08-a9cd-9416a1b09fe9"
      },
      "execution_count": 147,
      "outputs": [
        {
          "output_type": "execute_result",
          "data": {
            "text/plain": [
              "(32,)"
            ]
          },
          "metadata": {},
          "execution_count": 147
        }
      ]
    },
    {
      "cell_type": "code",
      "source": [
        "PRED"
      ],
      "metadata": {
        "colab": {
          "base_uri": "https://localhost:8080/"
        },
        "id": "_r9sBoRkQzP6",
        "outputId": "246790b2-d96c-4eb2-e4c2-6798526b4370"
      },
      "execution_count": 146,
      "outputs": [
        {
          "output_type": "execute_result",
          "data": {
            "text/plain": [
              "[2,\n",
              " 5,\n",
              " 3,\n",
              " 4,\n",
              " 2,\n",
              " 0,\n",
              " 5,\n",
              " 4,\n",
              " 2,\n",
              " 3,\n",
              " 0,\n",
              " 2,\n",
              " 0,\n",
              " 1,\n",
              " 0,\n",
              " 0,\n",
              " 2,\n",
              " 2,\n",
              " 4,\n",
              " 0,\n",
              " 5,\n",
              " 0,\n",
              " 0,\n",
              " 0,\n",
              " 0,\n",
              " 2,\n",
              " 2,\n",
              " 4,\n",
              " 5,\n",
              " 5,\n",
              " 3,\n",
              " 2]"
            ]
          },
          "metadata": {},
          "execution_count": 146
        }
      ]
    },
    {
      "cell_type": "code",
      "source": [
        "d=model.predict(X_test[1:2])"
      ],
      "metadata": {
        "id": "RJ07xSJaP448"
      },
      "execution_count": 138,
      "outputs": []
    },
    {
      "cell_type": "code",
      "source": [
        "np.argmax(d)"
      ],
      "metadata": {
        "colab": {
          "base_uri": "https://localhost:8080/"
        },
        "id": "3H6P_LYxQPIZ",
        "outputId": "c01d2f5c-1481-46bb-d8e8-6c10d140444c"
      },
      "execution_count": 139,
      "outputs": [
        {
          "output_type": "execute_result",
          "data": {
            "text/plain": [
              "5"
            ]
          },
          "metadata": {},
          "execution_count": 139
        }
      ]
    },
    {
      "cell_type": "code",
      "source": [
        "for j in range(len(predictions)):\n",
        "  temp=np.argmax(predictions[j])\n",
        "  PRED.append(temp)\n"
      ],
      "metadata": {
        "id": "k80GP_gGQTwp"
      },
      "execution_count": 141,
      "outputs": []
    },
    {
      "cell_type": "code",
      "source": [
        "acc_score=accuracy_score(Y_test,PRED)"
      ],
      "metadata": {
        "id": "hTERlKXAQfyD"
      },
      "execution_count": 142,
      "outputs": []
    },
    {
      "cell_type": "code",
      "source": [
        "acc_scor=acc_score*100"
      ],
      "metadata": {
        "id": "qUI45bznQrPc"
      },
      "execution_count": 144,
      "outputs": []
    },
    {
      "cell_type": "code",
      "source": [
        "print('The accuracy score for this model is',acc_score)"
      ],
      "metadata": {
        "colab": {
          "base_uri": "https://localhost:8080/"
        },
        "id": "7VhnB6aZQl19",
        "outputId": "8a62025d-3b26-4f10-e929-10f10e3fadb9"
      },
      "execution_count": 145,
      "outputs": [
        {
          "output_type": "stream",
          "name": "stdout",
          "text": [
            "The accuracy score for this model is 0.875\n"
          ]
        }
      ]
    }
  ]
}