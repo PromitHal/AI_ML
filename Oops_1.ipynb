{
  "nbformat": 4,
  "nbformat_minor": 0,
  "metadata": {
    "colab": {
      "name": "Oops_1.ipynb",
      "provenance": [],
      "collapsed_sections": [],
      "authorship_tag": "ABX9TyNmyk7Rlwz0btkvn3ZmmpxV",
      "include_colab_link": true
    },
    "kernelspec": {
      "name": "python3",
      "display_name": "Python 3"
    },
    "language_info": {
      "name": "python"
    }
  },
  "cells": [
    {
      "cell_type": "markdown",
      "metadata": {
        "id": "view-in-github",
        "colab_type": "text"
      },
      "source": [
        "<a href=\"https://colab.research.google.com/github/PromitHal/AI_ML/blob/main/Oops_1.ipynb\" target=\"_parent\"><img src=\"https://colab.research.google.com/assets/colab-badge.svg\" alt=\"Open In Colab\"/></a>"
      ]
    },
    {
      "cell_type": "code",
      "execution_count": 8,
      "metadata": {
        "id": "SGFsqbnB_xXi"
      },
      "outputs": [],
      "source": [
        "class check:\n",
        "  def __init__(self):\n",
        "    print(\"Hello World\")"
      ]
    },
    {
      "cell_type": "code",
      "source": [
        "obj=check() ##Doesn't work"
      ],
      "metadata": {
        "colab": {
          "base_uri": "https://localhost:8080/"
        },
        "id": "K0OT2plRBWK9",
        "outputId": "82246141-ba7d-4479-9837-4aa788df9f13"
      },
      "execution_count": 9,
      "outputs": [
        {
          "output_type": "stream",
          "name": "stdout",
          "text": [
            "Hello World\n"
          ]
        }
      ]
    },
    {
      "cell_type": "code",
      "source": [
        "class Dog:\n",
        "  #attribute\n",
        "  attr1=\"mammal\"\n",
        "  #instance attribute\n",
        "  def __init__(self,name):\n",
        "    self.name=name\n",
        "    print(self.name)\n",
        "    print(self.attr1)\n"
      ],
      "metadata": {
        "id": "UakUcPN0BYXN"
      },
      "execution_count": 18,
      "outputs": []
    },
    {
      "cell_type": "code",
      "source": [
        "Dog1=Dog('Shadow')\n",
        "\n",
        "print(\"Shadow is a {}\".format(Dog1.__class__.attr1))\n",
        "print(Dog1.attr1)\n",
        "\n",
        "print(Dog1.name)"
      ],
      "metadata": {
        "colab": {
          "base_uri": "https://localhost:8080/"
        },
        "id": "QLHKYJqtCwpF",
        "outputId": "14c74f4a-bced-4ffa-c417-4685f6539980"
      },
      "execution_count": 29,
      "outputs": [
        {
          "output_type": "stream",
          "name": "stdout",
          "text": [
            "Shadow\n",
            "mammal\n",
            "Shadow is a mammal\n",
            "mammal\n",
            "Shadow\n"
          ]
        }
      ]
    },
    {
      "cell_type": "code",
      "source": [
        "class check:\n",
        "  def __init__(self):\n",
        "    print(\"Address of self = \",id(self))\n",
        "obj=check()\n",
        "print(\"Address of class object = \",id(obj))\n",
        "obj1=check()\n",
        "print(\"Address of class object = \",id(obj1))"
      ],
      "metadata": {
        "colab": {
          "base_uri": "https://localhost:8080/"
        },
        "id": "fsGiRiBEC4us",
        "outputId": "dd28ec75-c12d-41b5-d499-a67d3a9eb3ff"
      },
      "execution_count": 33,
      "outputs": [
        {
          "output_type": "stream",
          "name": "stdout",
          "text": [
            "Address of self =  140464283413968\n",
            "Address of class object =  140464283413968\n",
            "Address of self =  140464283434512\n",
            "Address of class object =  140464283434512\n"
          ]
        }
      ]
    },
    {
      "cell_type": "code",
      "source": [
        "class car():\n",
        "  def __init__(self,model,color):\n",
        "    self.model=model\n",
        "    self.color=color\n",
        "  def show(self):\n",
        "    print(\"Model is \",self.model)\n",
        "    print(\"Color is \",self.color)\n",
        "  def end(self):\n",
        "    print(\"This is the end of \",self.model)\n",
        "audi=car(\"audi a4\",\"blue\")\n",
        "audi.show()\n",
        "audi.end()"
      ],
      "metadata": {
        "colab": {
          "base_uri": "https://localhost:8080/"
        },
        "id": "tZ9vEftdPrZp",
        "outputId": "a91f86b2-7e27-41d5-9233-902d9d3ac4e6"
      },
      "execution_count": 37,
      "outputs": [
        {
          "output_type": "stream",
          "name": "stdout",
          "text": [
            "Model is  audi a4\n",
            "Color is  blue\n",
            "This is the end of  audi a4\n"
          ]
        }
      ]
    },
    {
      "cell_type": "markdown",
      "source": [
        "**Inheritance**"
      ],
      "metadata": {
        "id": "v8j_dlI3QSeB"
      }
    },
    {
      "cell_type": "code",
      "source": [
        "class Person():\n",
        "  def __init__(self,name,idnumber):\n",
        "    self.name=name\n",
        "    self.idnumber=idnumber\n",
        "  def display(self):\n",
        "    print(self.name)\n",
        "    print(self.idnumber)\n",
        "  def details(self):\n",
        "    print(\"My name is {}\".format(self.name))\n",
        "    print(\"IdNumber : {}\".format(self.idnumber))\n",
        "class Employee(Person):\n",
        "  def __init__(self,name,idnumber,salary,post):\n",
        "    self.salary=salary\n",
        "    self.post=post\n",
        "    Person.__init__(self,name,idnumber)\n",
        "    def details(self):\n",
        "      print(\"My name is {}\".format(self.name))\n",
        "      print(\"IdNumber : {}\".format(self.idnumber))\n",
        "      print(\"Post: {}\".format(self.post))\n"
      ],
      "metadata": {
        "id": "Jx_S9H45QDWo"
      },
      "execution_count": 38,
      "outputs": []
    },
    {
      "cell_type": "code",
      "source": [
        "a=Employee('Rahul',454545,200000,\"Intern\")"
      ],
      "metadata": {
        "id": "bnkgw1LwRmMh"
      },
      "execution_count": 39,
      "outputs": []
    },
    {
      "cell_type": "code",
      "source": [
        "a.display()"
      ],
      "metadata": {
        "colab": {
          "base_uri": "https://localhost:8080/"
        },
        "id": "P3bKChWlR2Fu",
        "outputId": "1f75d231-1235-426c-b172-78753b6372f5"
      },
      "execution_count": 40,
      "outputs": [
        {
          "output_type": "stream",
          "name": "stdout",
          "text": [
            "Rahul\n",
            "454545\n"
          ]
        }
      ]
    },
    {
      "cell_type": "markdown",
      "source": [
        "**Polymorphism**"
      ],
      "metadata": {
        "id": "ni0YkfPDR_V0"
      }
    },
    {
      "cell_type": "code",
      "source": [
        "class Bird():\n",
        "  def intro(self):\n",
        "    print(\"There are many types of Birds\")\n",
        "  def flight(self):\n",
        "    print(\"Most of the birds can fly but some can not\")\n",
        "class sparrow(Bird):\n",
        "  def flight(self):\n",
        "    print(\"Sparrows can fly\")\n",
        "class ostrich(Bird):\n",
        "  def flight(self):\n",
        "    print(\"Ostriches cant fly\")\n",
        "obj_bird=Bird()\n",
        "obj_spr=sparrow()\n",
        "obj_ost=ostrich()\n",
        "\n",
        "obj_bird.intro()\n",
        "obj_bird.flight()\n",
        "\n",
        "obj_ost.intro()\n",
        "obj_ost.flight()"
      ],
      "metadata": {
        "colab": {
          "base_uri": "https://localhost:8080/"
        },
        "id": "HQUdZAwcR5Wr",
        "outputId": "17c5e32a-b479-42ef-fe53-89852950d90d"
      },
      "execution_count": 42,
      "outputs": [
        {
          "output_type": "stream",
          "name": "stdout",
          "text": [
            "There are many types of Birds\n",
            "Most of the birds can fly but some can not\n",
            "There are many types of Birds\n",
            "Ostriches cant fly\n"
          ]
        }
      ]
    }
  ]
}