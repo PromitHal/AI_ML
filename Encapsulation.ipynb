{
  "nbformat": 4,
  "nbformat_minor": 0,
  "metadata": {
    "colab": {
      "name": "Encapsulation.ipynb",
      "provenance": [],
      "collapsed_sections": [],
      "authorship_tag": "ABX9TyP9ieL6MwuRPRq4Y0av9bZZ",
      "include_colab_link": true
    },
    "kernelspec": {
      "name": "python3",
      "display_name": "Python 3"
    },
    "language_info": {
      "name": "python"
    }
  },
  "cells": [
    {
      "cell_type": "markdown",
      "metadata": {
        "id": "view-in-github",
        "colab_type": "text"
      },
      "source": [
        "<a href=\"https://colab.research.google.com/github/PromitHal/AI_ML/blob/main/Encapsulation.ipynb\" target=\"_parent\"><img src=\"https://colab.research.google.com/assets/colab-badge.svg\" alt=\"Open In Colab\"/></a>"
      ]
    },
    {
      "cell_type": "code",
      "execution_count": 5,
      "metadata": {
        "colab": {
          "base_uri": "https://localhost:8080/"
        },
        "id": "5_vH7h6vVklD",
        "outputId": "41687646-3fcf-4663-e4eb-a969d65d9071"
      },
      "outputs": [
        {
          "output_type": "stream",
          "name": "stdout",
          "text": [
            "Calling the protected member of base class  2\n",
            "Calling the modified protected member outside class 3\n"
          ]
        }
      ],
      "source": [
        "class Base:\n",
        "  def __init__(self):\n",
        "    self.a=2 #Protected member\n",
        "class Derived(Base):\n",
        "  def __init__(self):\n",
        "    ##Calling the constructor for  base class\n",
        "    Base.__init__(self)\n",
        "    print(\"Calling the protected member of base class \",self.a)\n",
        "    self.a=3\n",
        "    print(\"Calling the modified protected member outside class\",self.a)\n",
        "OBJ=Derived()"
      ]
    }
  ]
}