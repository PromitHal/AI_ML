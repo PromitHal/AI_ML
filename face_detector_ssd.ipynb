{
 "cells": [
  {
   "cell_type": "code",
   "execution_count": 14,
   "id": "b0177b91",
   "metadata": {},
   "outputs": [],
   "source": [
    "import cv2\n",
    "import numpy as np\n"
   ]
  },
  {
   "cell_type": "code",
   "execution_count": 2,
   "id": "b38020d2",
   "metadata": {},
   "outputs": [],
   "source": [
    "from os.path import dirname, join\n",
    "\n",
    "protoPath = join('C:/Users/PROMIT/Desktop/DFT/AI_ML/', \"deploy.prototxt.txt\")\n",
    "modelPath = join('C:/Users/PROMIT/Desktop/DFT/AI_ML/', \"res10_300x300_ssd_iter_140000.caffemodel\")"
   ]
  },
  {
   "cell_type": "code",
   "execution_count": 3,
   "id": "e55a1bc4",
   "metadata": {},
   "outputs": [],
   "source": [
    "face_detection_classifier=cv2.dnn.readNetFromCaffe(protoPath,modelPath)"
   ]
  },
  {
   "cell_type": "code",
   "execution_count": 4,
   "id": "4f89555f",
   "metadata": {},
   "outputs": [],
   "source": [
    "image_to_detect=cv2.imread(r'C:\\Users\\PROMIT\\Desktop\\DFT\\AI_ML\\Dataset\\train\\train\\without_mask\\20pic5.jpg')"
   ]
  },
  {
   "cell_type": "code",
   "execution_count": 5,
   "id": "fa9512b9",
   "metadata": {},
   "outputs": [],
   "source": [
    "img_height=image_to_detect.shape[0]\n",
    "img_width=image_to_detect.shape[1]"
   ]
  },
  {
   "cell_type": "code",
   "execution_count": 6,
   "id": "7d4f271f",
   "metadata": {},
   "outputs": [],
   "source": [
    "#we have to resize the image\n",
    "resized_image=cv2.resize(image_to_detect,(300,300))"
   ]
  },
  {
   "cell_type": "code",
   "execution_count": 7,
   "id": "fb852273",
   "metadata": {},
   "outputs": [],
   "source": [
    "#create blob of the image\n",
    "image_to_detect_blob=cv2.dnn.blobFromImage(resized_image,1.0,(300,300),(104.0,177.0,123.0))"
   ]
  },
  {
   "cell_type": "code",
   "execution_count": 8,
   "id": "1c7e1055",
   "metadata": {},
   "outputs": [],
   "source": [
    "#pass the blob as model input\n",
    "face_detection_classifier.setInput(image_to_detect_blob)"
   ]
  },
  {
   "cell_type": "code",
   "execution_count": 10,
   "id": "4b491b7f",
   "metadata": {},
   "outputs": [],
   "source": [
    "#detect all face loactions\n",
    "all_face_locations=face_detection_classifier.forward()"
   ]
  },
  {
   "cell_type": "code",
   "execution_count": 10,
   "id": "0515dbb4",
   "metadata": {},
   "outputs": [
    {
     "name": "stdout",
     "output_type": "stream",
     "text": [
      "[[[[0.         1.         0.9995778  ... 0.13701355 0.8019666\n",
      "    0.7123908 ]\n",
      "   [0.         1.         0.08036064 ... 0.3836747  0.78122425\n",
      "    0.5359419 ]\n",
      "   [0.         1.         0.07822876 ... 0.5517338  0.20861584\n",
      "    0.73036736]\n",
      "   ...\n",
      "   [0.         0.         0.         ... 0.         0.\n",
      "    0.        ]\n",
      "   [0.         0.         0.         ... 0.         0.\n",
      "    0.        ]\n",
      "   [0.         0.         0.         ... 0.         0.\n",
      "    0.        ]]]]\n"
     ]
    }
   ],
   "source": [
    "print(all_face_locations)"
   ]
  },
  {
   "cell_type": "code",
   "execution_count": 11,
   "id": "235e0942",
   "metadata": {},
   "outputs": [
    {
     "name": "stdout",
     "output_type": "stream",
     "text": [
      "There are 1 no of faces in this image\n"
     ]
    }
   ],
   "source": [
    "print('There are {} no of faces in this image'.format(len(all_face_locations)))"
   ]
  },
  {
   "cell_type": "code",
   "execution_count": 12,
   "id": "1c80d1c2",
   "metadata": {},
   "outputs": [],
   "source": [
    "no_of_detections=all_face_locations.shape[2]"
   ]
  },
  {
   "cell_type": "code",
   "execution_count": 15,
   "id": "35dd7780",
   "metadata": {},
   "outputs": [
    {
     "data": {
      "text/plain": [
       "-1"
      ]
     },
     "execution_count": 15,
     "metadata": {},
     "output_type": "execute_result"
    }
   ],
   "source": [
    "# loop over the detections\n",
    "for i in range(0,all_face_locations.shape[2]):\n",
    "\t# extract the confidence (i.e., probability) associated with the\n",
    "\t# prediction\n",
    "\tconfidence = all_face_locations[0, 0, i, 2]\n",
    "\t# filter out weak detections by ensuring the `confidence` is\n",
    "\t# greater than the minimum confidence\n",
    "\tif confidence > 0.5:\n",
    "\t\t# compute the (x, y)-coordinates of the bounding box for the\n",
    "\t\t# object\n",
    "\t\tbox = all_face_locations[0, 0, i, 3:7] * np.array([img_width,img_height,img_width,img_height])\n",
    "\t\t(startX, startY, endX, endY) = box.astype(\"int\")\n",
    "        \n",
    "\t\t# draw the bounding box of the face along with the associated\n",
    "\t\t# probability\n",
    "\t\ttext = \"{:.2f}%\".format(confidence * 100)\n",
    "\t\ty = startY - 10 if startY - 10 > 10 else startY + 10\n",
    "\t\tcv2.rectangle(image_to_detect, (startX, startY), (endX, endY),\n",
    "\t\t\t(0, 0, 255), 2)\n",
    "\t\tcv2.putText(image_to_detect, text, (startX, y),\n",
    "\t\t\tcv2.FONT_HERSHEY_SIMPLEX, 0.45, (0, 0, 255), 2)\n",
    "# show the output image\n",
    "cv2.namedWindow(\"Output\", cv2.WINDOW_NORMAL)\n",
    "cv2.imshow(\"Output\", image_to_detect)\n",
    "cv2.waitKey(0)"
   ]
  }
 ],
 "metadata": {
  "kernelspec": {
   "display_name": "Python 3 (ipykernel)",
   "language": "python",
   "name": "python3"
  },
  "language_info": {
   "codemirror_mode": {
    "name": "ipython",
    "version": 3
   },
   "file_extension": ".py",
   "mimetype": "text/x-python",
   "name": "python",
   "nbconvert_exporter": "python",
   "pygments_lexer": "ipython3",
   "version": "3.8.11"
  }
 },
 "nbformat": 4,
 "nbformat_minor": 5
}
