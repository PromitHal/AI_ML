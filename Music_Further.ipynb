{
  "nbformat": 4,
  "nbformat_minor": 0,
  "metadata": {
    "colab": {
      "name": "Music_Further.ipynb",
      "provenance": [],
      "collapsed_sections": [],
      "authorship_tag": "ABX9TyPX02YQE8MyNFZeD8ilMnbb",
      "include_colab_link": true
    },
    "kernelspec": {
      "name": "python3",
      "display_name": "Python 3"
    },
    "language_info": {
      "name": "python"
    }
  },
  "cells": [
    {
      "cell_type": "markdown",
      "metadata": {
        "id": "view-in-github",
        "colab_type": "text"
      },
      "source": [
        "<a href=\"https://colab.research.google.com/github/PromitHal/AI_ML/blob/main/Music_Further.ipynb\" target=\"_parent\"><img src=\"https://colab.research.google.com/assets/colab-badge.svg\" alt=\"Open In Colab\"/></a>"
      ]
    },
    {
      "cell_type": "code",
      "execution_count": 48,
      "metadata": {
        "id": "bvAEgFBVy2vU"
      },
      "outputs": [],
      "source": [
        "import tensorflow as tf\n",
        "import matplotlib.pyplot as plt\n",
        "from sklearn.preprocessing import StandardScaler\n",
        "import numpy as np\n",
        "import pandas as pd"
      ]
    },
    {
      "cell_type": "code",
      "source": [
        "data=pd.read_csv('sheet1.csv')"
      ],
      "metadata": {
        "id": "RqPSoa74zJ4h"
      },
      "execution_count": 53,
      "outputs": []
    },
    {
      "cell_type": "code",
      "source": [
        "data.head()"
      ],
      "metadata": {
        "colab": {
          "base_uri": "https://localhost:8080/",
          "height": 270
        },
        "id": "P7rMFRnE0QOw",
        "outputId": "67a8c967-ed3f-4130-9d8a-e8ba16be8283"
      },
      "execution_count": 54,
      "outputs": [
        {
          "output_type": "execute_result",
          "data": {
            "text/html": [
              "\n",
              "  <div id=\"df-b7161450-6792-4957-b0c6-a91242e40b3a\">\n",
              "    <div class=\"colab-df-container\">\n",
              "      <div>\n",
              "<style scoped>\n",
              "    .dataframe tbody tr th:only-of-type {\n",
              "        vertical-align: middle;\n",
              "    }\n",
              "\n",
              "    .dataframe tbody tr th {\n",
              "        vertical-align: top;\n",
              "    }\n",
              "\n",
              "    .dataframe thead th {\n",
              "        text-align: right;\n",
              "    }\n",
              "</style>\n",
              "<table border=\"1\" class=\"dataframe\">\n",
              "  <thead>\n",
              "    <tr style=\"text-align: right;\">\n",
              "      <th></th>\n",
              "      <th>filename</th>\n",
              "      <th>length</th>\n",
              "      <th>chroma_stft_mean</th>\n",
              "      <th>chroma_stft_var</th>\n",
              "      <th>rms_mean</th>\n",
              "      <th>rms_var</th>\n",
              "      <th>spectral_centroid_mean</th>\n",
              "      <th>spectral_centroid_var</th>\n",
              "      <th>spectral_bandwidth_mean</th>\n",
              "      <th>spectral_bandwidth_var</th>\n",
              "      <th>rolloff_mean</th>\n",
              "      <th>rolloff_var</th>\n",
              "      <th>zero_crossing_rate_mean</th>\n",
              "      <th>zero_crossing_rate_var</th>\n",
              "      <th>harmony_mean</th>\n",
              "      <th>harmony_var</th>\n",
              "      <th>perceptr_mean</th>\n",
              "      <th>perceptr_var</th>\n",
              "      <th>tempo</th>\n",
              "      <th>mfcc1_mean</th>\n",
              "      <th>mfcc1_var</th>\n",
              "      <th>mfcc2_mean</th>\n",
              "      <th>mfcc2_var</th>\n",
              "      <th>mfcc3_mean</th>\n",
              "      <th>mfcc3_var</th>\n",
              "      <th>mfcc4_mean</th>\n",
              "      <th>mfcc4_var</th>\n",
              "      <th>mfcc5_mean</th>\n",
              "      <th>mfcc5_var</th>\n",
              "      <th>mfcc6_mean</th>\n",
              "      <th>mfcc6_var</th>\n",
              "      <th>mfcc7_mean</th>\n",
              "      <th>mfcc7_var</th>\n",
              "      <th>mfcc8_mean</th>\n",
              "      <th>mfcc8_var</th>\n",
              "      <th>mfcc9_mean</th>\n",
              "      <th>mfcc9_var</th>\n",
              "      <th>mfcc10_mean</th>\n",
              "      <th>mfcc10_var</th>\n",
              "      <th>mfcc11_mean</th>\n",
              "      <th>mfcc11_var</th>\n",
              "      <th>mfcc12_mean</th>\n",
              "      <th>mfcc12_var</th>\n",
              "      <th>mfcc13_mean</th>\n",
              "      <th>mfcc13_var</th>\n",
              "      <th>mfcc14_mean</th>\n",
              "      <th>mfcc14_var</th>\n",
              "      <th>mfcc15_mean</th>\n",
              "      <th>mfcc15_var</th>\n",
              "      <th>mfcc16_mean</th>\n",
              "      <th>mfcc16_var</th>\n",
              "      <th>mfcc17_mean</th>\n",
              "      <th>mfcc17_var</th>\n",
              "      <th>mfcc18_mean</th>\n",
              "      <th>mfcc18_var</th>\n",
              "      <th>mfcc19_mean</th>\n",
              "      <th>mfcc19_var</th>\n",
              "      <th>mfcc20_mean</th>\n",
              "      <th>mfcc20_var</th>\n",
              "      <th>label</th>\n",
              "    </tr>\n",
              "  </thead>\n",
              "  <tbody>\n",
              "    <tr>\n",
              "      <th>0</th>\n",
              "      <td>blues.00000.0.wav</td>\n",
              "      <td>66149</td>\n",
              "      <td>0.335406</td>\n",
              "      <td>0.091048</td>\n",
              "      <td>0.130405</td>\n",
              "      <td>0.003521</td>\n",
              "      <td>1773.065032</td>\n",
              "      <td>167541.63090</td>\n",
              "      <td>1972.744388</td>\n",
              "      <td>117335.77160</td>\n",
              "      <td>3714.560359</td>\n",
              "      <td>1.080790e+06</td>\n",
              "      <td>0.081851</td>\n",
              "      <td>0.000558</td>\n",
              "      <td>-0.000078</td>\n",
              "      <td>0.008354</td>\n",
              "      <td>-0.000068</td>\n",
              "      <td>0.005535</td>\n",
              "      <td>129.199219</td>\n",
              "      <td>-118.627914</td>\n",
              "      <td>2440.286621</td>\n",
              "      <td>125.083626</td>\n",
              "      <td>260.956909</td>\n",
              "      <td>-23.443724</td>\n",
              "      <td>364.081726</td>\n",
              "      <td>41.321484</td>\n",
              "      <td>181.694855</td>\n",
              "      <td>-5.976108</td>\n",
              "      <td>152.963135</td>\n",
              "      <td>20.115141</td>\n",
              "      <td>75.652298</td>\n",
              "      <td>-16.045410</td>\n",
              "      <td>40.227104</td>\n",
              "      <td>17.855198</td>\n",
              "      <td>84.320282</td>\n",
              "      <td>-14.633434</td>\n",
              "      <td>83.437233</td>\n",
              "      <td>10.270527</td>\n",
              "      <td>97.001335</td>\n",
              "      <td>-9.708279</td>\n",
              "      <td>66.669891</td>\n",
              "      <td>10.183875</td>\n",
              "      <td>45.103611</td>\n",
              "      <td>-4.681614</td>\n",
              "      <td>34.169498</td>\n",
              "      <td>8.417439</td>\n",
              "      <td>48.269444</td>\n",
              "      <td>-7.233477</td>\n",
              "      <td>42.770947</td>\n",
              "      <td>-2.853603</td>\n",
              "      <td>39.687145</td>\n",
              "      <td>-3.241280</td>\n",
              "      <td>36.488243</td>\n",
              "      <td>0.722209</td>\n",
              "      <td>38.099152</td>\n",
              "      <td>-5.050335</td>\n",
              "      <td>33.618073</td>\n",
              "      <td>-0.243027</td>\n",
              "      <td>43.771767</td>\n",
              "      <td>blues</td>\n",
              "    </tr>\n",
              "    <tr>\n",
              "      <th>1</th>\n",
              "      <td>blues.00000.1.wav</td>\n",
              "      <td>66149</td>\n",
              "      <td>0.343065</td>\n",
              "      <td>0.086147</td>\n",
              "      <td>0.112699</td>\n",
              "      <td>0.001450</td>\n",
              "      <td>1816.693777</td>\n",
              "      <td>90525.69087</td>\n",
              "      <td>2010.051501</td>\n",
              "      <td>65671.87567</td>\n",
              "      <td>3869.682242</td>\n",
              "      <td>6.722448e+05</td>\n",
              "      <td>0.087173</td>\n",
              "      <td>0.001030</td>\n",
              "      <td>-0.000099</td>\n",
              "      <td>0.004950</td>\n",
              "      <td>-0.000103</td>\n",
              "      <td>0.004854</td>\n",
              "      <td>123.046875</td>\n",
              "      <td>-125.590706</td>\n",
              "      <td>2038.344238</td>\n",
              "      <td>122.421226</td>\n",
              "      <td>216.774185</td>\n",
              "      <td>-20.718019</td>\n",
              "      <td>231.979767</td>\n",
              "      <td>50.128387</td>\n",
              "      <td>142.700409</td>\n",
              "      <td>-11.333303</td>\n",
              "      <td>139.243118</td>\n",
              "      <td>21.385401</td>\n",
              "      <td>77.817947</td>\n",
              "      <td>-15.960796</td>\n",
              "      <td>97.364029</td>\n",
              "      <td>19.454103</td>\n",
              "      <td>57.948093</td>\n",
              "      <td>-12.465918</td>\n",
              "      <td>68.271523</td>\n",
              "      <td>17.898169</td>\n",
              "      <td>56.222176</td>\n",
              "      <td>-11.732554</td>\n",
              "      <td>54.373909</td>\n",
              "      <td>8.145000</td>\n",
              "      <td>40.662876</td>\n",
              "      <td>-7.717751</td>\n",
              "      <td>30.808521</td>\n",
              "      <td>8.397150</td>\n",
              "      <td>48.784225</td>\n",
              "      <td>-8.300493</td>\n",
              "      <td>68.584824</td>\n",
              "      <td>4.074709</td>\n",
              "      <td>64.748276</td>\n",
              "      <td>-6.055294</td>\n",
              "      <td>40.677654</td>\n",
              "      <td>0.159015</td>\n",
              "      <td>51.264091</td>\n",
              "      <td>-2.837699</td>\n",
              "      <td>97.030830</td>\n",
              "      <td>5.784063</td>\n",
              "      <td>59.943081</td>\n",
              "      <td>blues</td>\n",
              "    </tr>\n",
              "    <tr>\n",
              "      <th>2</th>\n",
              "      <td>blues.00000.2.wav</td>\n",
              "      <td>66149</td>\n",
              "      <td>0.346815</td>\n",
              "      <td>0.092243</td>\n",
              "      <td>0.132003</td>\n",
              "      <td>0.004620</td>\n",
              "      <td>1788.539719</td>\n",
              "      <td>111407.43760</td>\n",
              "      <td>2084.565132</td>\n",
              "      <td>75124.92172</td>\n",
              "      <td>3997.639160</td>\n",
              "      <td>7.907127e+05</td>\n",
              "      <td>0.071383</td>\n",
              "      <td>0.000425</td>\n",
              "      <td>-0.000066</td>\n",
              "      <td>0.012476</td>\n",
              "      <td>0.000065</td>\n",
              "      <td>0.004357</td>\n",
              "      <td>123.046875</td>\n",
              "      <td>-132.441940</td>\n",
              "      <td>3798.532227</td>\n",
              "      <td>115.085175</td>\n",
              "      <td>257.321289</td>\n",
              "      <td>-14.811666</td>\n",
              "      <td>192.448074</td>\n",
              "      <td>50.189293</td>\n",
              "      <td>144.166031</td>\n",
              "      <td>-0.680819</td>\n",
              "      <td>128.376892</td>\n",
              "      <td>24.650375</td>\n",
              "      <td>66.371170</td>\n",
              "      <td>-13.506104</td>\n",
              "      <td>89.319336</td>\n",
              "      <td>15.643386</td>\n",
              "      <td>55.253967</td>\n",
              "      <td>-13.216637</td>\n",
              "      <td>120.308785</td>\n",
              "      <td>10.406025</td>\n",
              "      <td>35.757862</td>\n",
              "      <td>-7.991465</td>\n",
              "      <td>47.911613</td>\n",
              "      <td>11.853963</td>\n",
              "      <td>36.569931</td>\n",
              "      <td>-4.677677</td>\n",
              "      <td>40.725075</td>\n",
              "      <td>6.571110</td>\n",
              "      <td>30.686846</td>\n",
              "      <td>-2.424750</td>\n",
              "      <td>50.313499</td>\n",
              "      <td>4.806280</td>\n",
              "      <td>67.336563</td>\n",
              "      <td>-1.768610</td>\n",
              "      <td>28.348579</td>\n",
              "      <td>2.378768</td>\n",
              "      <td>45.717648</td>\n",
              "      <td>-1.938424</td>\n",
              "      <td>53.050835</td>\n",
              "      <td>2.517375</td>\n",
              "      <td>33.105122</td>\n",
              "      <td>blues</td>\n",
              "    </tr>\n",
              "    <tr>\n",
              "      <th>3</th>\n",
              "      <td>blues.00000.3.wav</td>\n",
              "      <td>66149</td>\n",
              "      <td>0.363639</td>\n",
              "      <td>0.086856</td>\n",
              "      <td>0.132565</td>\n",
              "      <td>0.002448</td>\n",
              "      <td>1655.289045</td>\n",
              "      <td>111952.28450</td>\n",
              "      <td>1960.039988</td>\n",
              "      <td>82913.63927</td>\n",
              "      <td>3568.300218</td>\n",
              "      <td>9.216524e+05</td>\n",
              "      <td>0.069426</td>\n",
              "      <td>0.000304</td>\n",
              "      <td>-0.000014</td>\n",
              "      <td>0.008318</td>\n",
              "      <td>0.000018</td>\n",
              "      <td>0.005927</td>\n",
              "      <td>123.046875</td>\n",
              "      <td>-118.231087</td>\n",
              "      <td>2508.781006</td>\n",
              "      <td>132.116501</td>\n",
              "      <td>332.650574</td>\n",
              "      <td>-18.758335</td>\n",
              "      <td>109.357529</td>\n",
              "      <td>39.769306</td>\n",
              "      <td>184.693344</td>\n",
              "      <td>-13.260426</td>\n",
              "      <td>144.398224</td>\n",
              "      <td>20.468134</td>\n",
              "      <td>122.516464</td>\n",
              "      <td>-14.563448</td>\n",
              "      <td>68.937332</td>\n",
              "      <td>18.745104</td>\n",
              "      <td>74.748886</td>\n",
              "      <td>-13.755463</td>\n",
              "      <td>73.868576</td>\n",
              "      <td>12.993759</td>\n",
              "      <td>41.549564</td>\n",
              "      <td>-12.648887</td>\n",
              "      <td>58.540478</td>\n",
              "      <td>10.389314</td>\n",
              "      <td>39.102024</td>\n",
              "      <td>-4.362739</td>\n",
              "      <td>60.714748</td>\n",
              "      <td>9.156193</td>\n",
              "      <td>40.411537</td>\n",
              "      <td>-9.889441</td>\n",
              "      <td>44.666325</td>\n",
              "      <td>-1.359111</td>\n",
              "      <td>47.739452</td>\n",
              "      <td>-3.841155</td>\n",
              "      <td>28.337118</td>\n",
              "      <td>1.218588</td>\n",
              "      <td>34.770935</td>\n",
              "      <td>-3.580352</td>\n",
              "      <td>50.836224</td>\n",
              "      <td>3.630866</td>\n",
              "      <td>32.023678</td>\n",
              "      <td>blues</td>\n",
              "    </tr>\n",
              "    <tr>\n",
              "      <th>4</th>\n",
              "      <td>blues.00000.4.wav</td>\n",
              "      <td>66149</td>\n",
              "      <td>0.335579</td>\n",
              "      <td>0.088129</td>\n",
              "      <td>0.143289</td>\n",
              "      <td>0.001701</td>\n",
              "      <td>1630.656199</td>\n",
              "      <td>79667.26765</td>\n",
              "      <td>1948.503884</td>\n",
              "      <td>60204.02027</td>\n",
              "      <td>3469.992864</td>\n",
              "      <td>6.102111e+05</td>\n",
              "      <td>0.070095</td>\n",
              "      <td>0.000289</td>\n",
              "      <td>0.000041</td>\n",
              "      <td>0.009634</td>\n",
              "      <td>-0.000106</td>\n",
              "      <td>0.005833</td>\n",
              "      <td>123.046875</td>\n",
              "      <td>-105.968376</td>\n",
              "      <td>2118.919922</td>\n",
              "      <td>134.643646</td>\n",
              "      <td>219.562622</td>\n",
              "      <td>-19.961748</td>\n",
              "      <td>171.878754</td>\n",
              "      <td>40.171753</td>\n",
              "      <td>103.120712</td>\n",
              "      <td>-14.271939</td>\n",
              "      <td>102.651230</td>\n",
              "      <td>18.734617</td>\n",
              "      <td>79.070000</td>\n",
              "      <td>-15.619381</td>\n",
              "      <td>48.510284</td>\n",
              "      <td>19.207966</td>\n",
              "      <td>53.642956</td>\n",
              "      <td>-18.274683</td>\n",
              "      <td>95.300995</td>\n",
              "      <td>14.316693</td>\n",
              "      <td>58.821163</td>\n",
              "      <td>-5.792194</td>\n",
              "      <td>55.030254</td>\n",
              "      <td>17.045437</td>\n",
              "      <td>43.229939</td>\n",
              "      <td>-5.681399</td>\n",
              "      <td>46.515259</td>\n",
              "      <td>5.705521</td>\n",
              "      <td>24.956211</td>\n",
              "      <td>-7.986080</td>\n",
              "      <td>39.816933</td>\n",
              "      <td>2.092937</td>\n",
              "      <td>30.336359</td>\n",
              "      <td>0.664582</td>\n",
              "      <td>45.880913</td>\n",
              "      <td>1.689446</td>\n",
              "      <td>51.363583</td>\n",
              "      <td>-3.392489</td>\n",
              "      <td>26.738789</td>\n",
              "      <td>0.536961</td>\n",
              "      <td>29.146694</td>\n",
              "      <td>blues</td>\n",
              "    </tr>\n",
              "  </tbody>\n",
              "</table>\n",
              "</div>\n",
              "      <button class=\"colab-df-convert\" onclick=\"convertToInteractive('df-b7161450-6792-4957-b0c6-a91242e40b3a')\"\n",
              "              title=\"Convert this dataframe to an interactive table.\"\n",
              "              style=\"display:none;\">\n",
              "        \n",
              "  <svg xmlns=\"http://www.w3.org/2000/svg\" height=\"24px\"viewBox=\"0 0 24 24\"\n",
              "       width=\"24px\">\n",
              "    <path d=\"M0 0h24v24H0V0z\" fill=\"none\"/>\n",
              "    <path d=\"M18.56 5.44l.94 2.06.94-2.06 2.06-.94-2.06-.94-.94-2.06-.94 2.06-2.06.94zm-11 1L8.5 8.5l.94-2.06 2.06-.94-2.06-.94L8.5 2.5l-.94 2.06-2.06.94zm10 10l.94 2.06.94-2.06 2.06-.94-2.06-.94-.94-2.06-.94 2.06-2.06.94z\"/><path d=\"M17.41 7.96l-1.37-1.37c-.4-.4-.92-.59-1.43-.59-.52 0-1.04.2-1.43.59L10.3 9.45l-7.72 7.72c-.78.78-.78 2.05 0 2.83L4 21.41c.39.39.9.59 1.41.59.51 0 1.02-.2 1.41-.59l7.78-7.78 2.81-2.81c.8-.78.8-2.07 0-2.86zM5.41 20L4 18.59l7.72-7.72 1.47 1.35L5.41 20z\"/>\n",
              "  </svg>\n",
              "      </button>\n",
              "      \n",
              "  <style>\n",
              "    .colab-df-container {\n",
              "      display:flex;\n",
              "      flex-wrap:wrap;\n",
              "      gap: 12px;\n",
              "    }\n",
              "\n",
              "    .colab-df-convert {\n",
              "      background-color: #E8F0FE;\n",
              "      border: none;\n",
              "      border-radius: 50%;\n",
              "      cursor: pointer;\n",
              "      display: none;\n",
              "      fill: #1967D2;\n",
              "      height: 32px;\n",
              "      padding: 0 0 0 0;\n",
              "      width: 32px;\n",
              "    }\n",
              "\n",
              "    .colab-df-convert:hover {\n",
              "      background-color: #E2EBFA;\n",
              "      box-shadow: 0px 1px 2px rgba(60, 64, 67, 0.3), 0px 1px 3px 1px rgba(60, 64, 67, 0.15);\n",
              "      fill: #174EA6;\n",
              "    }\n",
              "\n",
              "    [theme=dark] .colab-df-convert {\n",
              "      background-color: #3B4455;\n",
              "      fill: #D2E3FC;\n",
              "    }\n",
              "\n",
              "    [theme=dark] .colab-df-convert:hover {\n",
              "      background-color: #434B5C;\n",
              "      box-shadow: 0px 1px 3px 1px rgba(0, 0, 0, 0.15);\n",
              "      filter: drop-shadow(0px 1px 2px rgba(0, 0, 0, 0.3));\n",
              "      fill: #FFFFFF;\n",
              "    }\n",
              "  </style>\n",
              "\n",
              "      <script>\n",
              "        const buttonEl =\n",
              "          document.querySelector('#df-b7161450-6792-4957-b0c6-a91242e40b3a button.colab-df-convert');\n",
              "        buttonEl.style.display =\n",
              "          google.colab.kernel.accessAllowed ? 'block' : 'none';\n",
              "\n",
              "        async function convertToInteractive(key) {\n",
              "          const element = document.querySelector('#df-b7161450-6792-4957-b0c6-a91242e40b3a');\n",
              "          const dataTable =\n",
              "            await google.colab.kernel.invokeFunction('convertToInteractive',\n",
              "                                                     [key], {});\n",
              "          if (!dataTable) return;\n",
              "\n",
              "          const docLinkHtml = 'Like what you see? Visit the ' +\n",
              "            '<a target=\"_blank\" href=https://colab.research.google.com/notebooks/data_table.ipynb>data table notebook</a>'\n",
              "            + ' to learn more about interactive tables.';\n",
              "          element.innerHTML = '';\n",
              "          dataTable['output_type'] = 'display_data';\n",
              "          await google.colab.output.renderOutput(dataTable, element);\n",
              "          const docLink = document.createElement('div');\n",
              "          docLink.innerHTML = docLinkHtml;\n",
              "          element.appendChild(docLink);\n",
              "        }\n",
              "      </script>\n",
              "    </div>\n",
              "  </div>\n",
              "  "
            ],
            "text/plain": [
              "            filename  length  chroma_stft_mean  ...  mfcc20_mean  mfcc20_var  label\n",
              "0  blues.00000.0.wav   66149          0.335406  ...    -0.243027   43.771767  blues\n",
              "1  blues.00000.1.wav   66149          0.343065  ...     5.784063   59.943081  blues\n",
              "2  blues.00000.2.wav   66149          0.346815  ...     2.517375   33.105122  blues\n",
              "3  blues.00000.3.wav   66149          0.363639  ...     3.630866   32.023678  blues\n",
              "4  blues.00000.4.wav   66149          0.335579  ...     0.536961   29.146694  blues\n",
              "\n",
              "[5 rows x 60 columns]"
            ]
          },
          "metadata": {},
          "execution_count": 54
        }
      ]
    },
    {
      "cell_type": "code",
      "source": [
        "data=data.dropna(axis=0,how='any')"
      ],
      "metadata": {
        "id": "JOkbx5h50YnM"
      },
      "execution_count": 55,
      "outputs": []
    },
    {
      "cell_type": "code",
      "source": [
        "data.shape"
      ],
      "metadata": {
        "colab": {
          "base_uri": "https://localhost:8080/"
        },
        "id": "-uybkkcX0hsm",
        "outputId": "74d12ca3-c80e-40dc-cec8-31b6ff58fcd1"
      },
      "execution_count": 56,
      "outputs": [
        {
          "output_type": "execute_result",
          "data": {
            "text/plain": [
              "(9990, 60)"
            ]
          },
          "metadata": {},
          "execution_count": 56
        }
      ]
    },
    {
      "cell_type": "code",
      "source": [
        "X=data.drop(columns=\"label\")"
      ],
      "metadata": {
        "id": "Oy8otxmi0j9d"
      },
      "execution_count": 57,
      "outputs": []
    },
    {
      "cell_type": "code",
      "source": [
        "X=X.drop(columns=\"filename\")\n",
        "X=X.drop(columns=\"length\")"
      ],
      "metadata": {
        "id": "Oaywdp_l2eA3"
      },
      "execution_count": 58,
      "outputs": []
    },
    {
      "cell_type": "code",
      "source": [
        "Y=data[\"label\"]"
      ],
      "metadata": {
        "id": "m8bvEFKk0ymd"
      },
      "execution_count": 59,
      "outputs": []
    },
    {
      "cell_type": "code",
      "source": [
        "Y=pd.get_dummies(Y)"
      ],
      "metadata": {
        "id": "D-wUjuzx00Wm"
      },
      "execution_count": 60,
      "outputs": []
    },
    {
      "cell_type": "code",
      "source": [
        "Y.head()"
      ],
      "metadata": {
        "colab": {
          "base_uri": "https://localhost:8080/",
          "height": 206
        },
        "id": "LkeqZgII1Ax8",
        "outputId": "5c573b6d-ed48-4d7e-e738-056028344d1b"
      },
      "execution_count": 61,
      "outputs": [
        {
          "output_type": "execute_result",
          "data": {
            "text/html": [
              "\n",
              "  <div id=\"df-c7d0a07a-ad93-4e38-bcf6-964a36a758e1\">\n",
              "    <div class=\"colab-df-container\">\n",
              "      <div>\n",
              "<style scoped>\n",
              "    .dataframe tbody tr th:only-of-type {\n",
              "        vertical-align: middle;\n",
              "    }\n",
              "\n",
              "    .dataframe tbody tr th {\n",
              "        vertical-align: top;\n",
              "    }\n",
              "\n",
              "    .dataframe thead th {\n",
              "        text-align: right;\n",
              "    }\n",
              "</style>\n",
              "<table border=\"1\" class=\"dataframe\">\n",
              "  <thead>\n",
              "    <tr style=\"text-align: right;\">\n",
              "      <th></th>\n",
              "      <th>blues</th>\n",
              "      <th>classical</th>\n",
              "      <th>country</th>\n",
              "      <th>disco</th>\n",
              "      <th>hiphop</th>\n",
              "      <th>jazz</th>\n",
              "      <th>metal</th>\n",
              "      <th>pop</th>\n",
              "      <th>reggae</th>\n",
              "      <th>rock</th>\n",
              "    </tr>\n",
              "  </thead>\n",
              "  <tbody>\n",
              "    <tr>\n",
              "      <th>0</th>\n",
              "      <td>1</td>\n",
              "      <td>0</td>\n",
              "      <td>0</td>\n",
              "      <td>0</td>\n",
              "      <td>0</td>\n",
              "      <td>0</td>\n",
              "      <td>0</td>\n",
              "      <td>0</td>\n",
              "      <td>0</td>\n",
              "      <td>0</td>\n",
              "    </tr>\n",
              "    <tr>\n",
              "      <th>1</th>\n",
              "      <td>1</td>\n",
              "      <td>0</td>\n",
              "      <td>0</td>\n",
              "      <td>0</td>\n",
              "      <td>0</td>\n",
              "      <td>0</td>\n",
              "      <td>0</td>\n",
              "      <td>0</td>\n",
              "      <td>0</td>\n",
              "      <td>0</td>\n",
              "    </tr>\n",
              "    <tr>\n",
              "      <th>2</th>\n",
              "      <td>1</td>\n",
              "      <td>0</td>\n",
              "      <td>0</td>\n",
              "      <td>0</td>\n",
              "      <td>0</td>\n",
              "      <td>0</td>\n",
              "      <td>0</td>\n",
              "      <td>0</td>\n",
              "      <td>0</td>\n",
              "      <td>0</td>\n",
              "    </tr>\n",
              "    <tr>\n",
              "      <th>3</th>\n",
              "      <td>1</td>\n",
              "      <td>0</td>\n",
              "      <td>0</td>\n",
              "      <td>0</td>\n",
              "      <td>0</td>\n",
              "      <td>0</td>\n",
              "      <td>0</td>\n",
              "      <td>0</td>\n",
              "      <td>0</td>\n",
              "      <td>0</td>\n",
              "    </tr>\n",
              "    <tr>\n",
              "      <th>4</th>\n",
              "      <td>1</td>\n",
              "      <td>0</td>\n",
              "      <td>0</td>\n",
              "      <td>0</td>\n",
              "      <td>0</td>\n",
              "      <td>0</td>\n",
              "      <td>0</td>\n",
              "      <td>0</td>\n",
              "      <td>0</td>\n",
              "      <td>0</td>\n",
              "    </tr>\n",
              "  </tbody>\n",
              "</table>\n",
              "</div>\n",
              "      <button class=\"colab-df-convert\" onclick=\"convertToInteractive('df-c7d0a07a-ad93-4e38-bcf6-964a36a758e1')\"\n",
              "              title=\"Convert this dataframe to an interactive table.\"\n",
              "              style=\"display:none;\">\n",
              "        \n",
              "  <svg xmlns=\"http://www.w3.org/2000/svg\" height=\"24px\"viewBox=\"0 0 24 24\"\n",
              "       width=\"24px\">\n",
              "    <path d=\"M0 0h24v24H0V0z\" fill=\"none\"/>\n",
              "    <path d=\"M18.56 5.44l.94 2.06.94-2.06 2.06-.94-2.06-.94-.94-2.06-.94 2.06-2.06.94zm-11 1L8.5 8.5l.94-2.06 2.06-.94-2.06-.94L8.5 2.5l-.94 2.06-2.06.94zm10 10l.94 2.06.94-2.06 2.06-.94-2.06-.94-.94-2.06-.94 2.06-2.06.94z\"/><path d=\"M17.41 7.96l-1.37-1.37c-.4-.4-.92-.59-1.43-.59-.52 0-1.04.2-1.43.59L10.3 9.45l-7.72 7.72c-.78.78-.78 2.05 0 2.83L4 21.41c.39.39.9.59 1.41.59.51 0 1.02-.2 1.41-.59l7.78-7.78 2.81-2.81c.8-.78.8-2.07 0-2.86zM5.41 20L4 18.59l7.72-7.72 1.47 1.35L5.41 20z\"/>\n",
              "  </svg>\n",
              "      </button>\n",
              "      \n",
              "  <style>\n",
              "    .colab-df-container {\n",
              "      display:flex;\n",
              "      flex-wrap:wrap;\n",
              "      gap: 12px;\n",
              "    }\n",
              "\n",
              "    .colab-df-convert {\n",
              "      background-color: #E8F0FE;\n",
              "      border: none;\n",
              "      border-radius: 50%;\n",
              "      cursor: pointer;\n",
              "      display: none;\n",
              "      fill: #1967D2;\n",
              "      height: 32px;\n",
              "      padding: 0 0 0 0;\n",
              "      width: 32px;\n",
              "    }\n",
              "\n",
              "    .colab-df-convert:hover {\n",
              "      background-color: #E2EBFA;\n",
              "      box-shadow: 0px 1px 2px rgba(60, 64, 67, 0.3), 0px 1px 3px 1px rgba(60, 64, 67, 0.15);\n",
              "      fill: #174EA6;\n",
              "    }\n",
              "\n",
              "    [theme=dark] .colab-df-convert {\n",
              "      background-color: #3B4455;\n",
              "      fill: #D2E3FC;\n",
              "    }\n",
              "\n",
              "    [theme=dark] .colab-df-convert:hover {\n",
              "      background-color: #434B5C;\n",
              "      box-shadow: 0px 1px 3px 1px rgba(0, 0, 0, 0.15);\n",
              "      filter: drop-shadow(0px 1px 2px rgba(0, 0, 0, 0.3));\n",
              "      fill: #FFFFFF;\n",
              "    }\n",
              "  </style>\n",
              "\n",
              "      <script>\n",
              "        const buttonEl =\n",
              "          document.querySelector('#df-c7d0a07a-ad93-4e38-bcf6-964a36a758e1 button.colab-df-convert');\n",
              "        buttonEl.style.display =\n",
              "          google.colab.kernel.accessAllowed ? 'block' : 'none';\n",
              "\n",
              "        async function convertToInteractive(key) {\n",
              "          const element = document.querySelector('#df-c7d0a07a-ad93-4e38-bcf6-964a36a758e1');\n",
              "          const dataTable =\n",
              "            await google.colab.kernel.invokeFunction('convertToInteractive',\n",
              "                                                     [key], {});\n",
              "          if (!dataTable) return;\n",
              "\n",
              "          const docLinkHtml = 'Like what you see? Visit the ' +\n",
              "            '<a target=\"_blank\" href=https://colab.research.google.com/notebooks/data_table.ipynb>data table notebook</a>'\n",
              "            + ' to learn more about interactive tables.';\n",
              "          element.innerHTML = '';\n",
              "          dataTable['output_type'] = 'display_data';\n",
              "          await google.colab.output.renderOutput(dataTable, element);\n",
              "          const docLink = document.createElement('div');\n",
              "          docLink.innerHTML = docLinkHtml;\n",
              "          element.appendChild(docLink);\n",
              "        }\n",
              "      </script>\n",
              "    </div>\n",
              "  </div>\n",
              "  "
            ],
            "text/plain": [
              "   blues  classical  country  disco  hiphop  jazz  metal  pop  reggae  rock\n",
              "0      1          0        0      0       0     0      0    0       0     0\n",
              "1      1          0        0      0       0     0      0    0       0     0\n",
              "2      1          0        0      0       0     0      0    0       0     0\n",
              "3      1          0        0      0       0     0      0    0       0     0\n",
              "4      1          0        0      0       0     0      0    0       0     0"
            ]
          },
          "metadata": {},
          "execution_count": 61
        }
      ]
    },
    {
      "cell_type": "code",
      "source": [
        "categories=[\"blues\",\"classical\",\"country\",\"disco\",\"hiphop\",\"jazz\",\"metal\",\"pop\",\"reggae\",\"rock\"]\n",
        "\n"
      ],
      "metadata": {
        "id": "eEjCTKVo1Dpa"
      },
      "execution_count": 62,
      "outputs": []
    },
    {
      "cell_type": "code",
      "source": [
        "from sklearn.model_selection import train_test_split"
      ],
      "metadata": {
        "id": "001eE4E91lm0"
      },
      "execution_count": 63,
      "outputs": []
    },
    {
      "cell_type": "code",
      "source": [
        "(X_train,X_test,Y_train,Y_test)=train_test_split(X,Y,test_size=0.2,stratify=Y,random_state=42)"
      ],
      "metadata": {
        "id": "fmSNWPuZ1rtX"
      },
      "execution_count": 289,
      "outputs": []
    },
    {
      "cell_type": "code",
      "source": [
        "sc=StandardScaler()\n",
        "X_train=sc.fit_transform(X_train)\n",
        "X_test=sc.transform(X_test)"
      ],
      "metadata": {
        "id": "IFelG6GV1M7c"
      },
      "execution_count": 290,
      "outputs": []
    },
    {
      "cell_type": "code",
      "source": [
        "from tensorflow.keras.layers import Dense\n",
        "from tensorflow.keras.optimizers import Adam\n",
        "from tensorflow.keras.models import Sequential\n",
        "from tensorflow.keras.layers import Dropout"
      ],
      "metadata": {
        "id": "WZ5pTtHc1-eE"
      },
      "execution_count": 66,
      "outputs": []
    },
    {
      "cell_type": "code",
      "source": [
        "Y_train.shape"
      ],
      "metadata": {
        "colab": {
          "base_uri": "https://localhost:8080/"
        },
        "id": "75eh44sr3Tsv",
        "outputId": "3424f008-9ef1-4048-d034-a0e91427970e"
      },
      "execution_count": 67,
      "outputs": [
        {
          "output_type": "execute_result",
          "data": {
            "text/plain": [
              "(7992, 10)"
            ]
          },
          "metadata": {},
          "execution_count": 67
        }
      ]
    },
    {
      "cell_type": "code",
      "source": [
        "model_new=Sequential()\n",
        "model_new.add(Dense(256,input_shape=(57,),activation='relu'))\n",
        "model_new.add(Dense(512,activation='relu'))\n",
        "model_new.add(Dense(256,activation='relu'))\n",
        "model_new.add(Dense(128,activation='relu'))\n",
        "model_new.add(Dense(64,activation='relu'))\n",
        "model_new.add(Dense(32,activation='relu'))\n",
        "model_new.add(Dropout(0.5))\n",
        "model_new.add(Dense(10,activation='softmax'))\n",
        "model_new.summary()"
      ],
      "metadata": {
        "colab": {
          "base_uri": "https://localhost:8080/"
        },
        "id": "n_f1fHokAzui",
        "outputId": "abaa33c1-e12f-4f4a-bd87-6ac9b2f1c395"
      },
      "execution_count": 94,
      "outputs": [
        {
          "output_type": "stream",
          "name": "stdout",
          "text": [
            "Model: \"sequential_11\"\n",
            "_________________________________________________________________\n",
            " Layer (type)                Output Shape              Param #   \n",
            "=================================================================\n",
            " dense_48 (Dense)            (None, 256)               14848     \n",
            "                                                                 \n",
            " dense_49 (Dense)            (None, 512)               131584    \n",
            "                                                                 \n",
            " dense_50 (Dense)            (None, 256)               131328    \n",
            "                                                                 \n",
            " dense_51 (Dense)            (None, 128)               32896     \n",
            "                                                                 \n",
            " dense_52 (Dense)            (None, 64)                8256      \n",
            "                                                                 \n",
            " dense_53 (Dense)            (None, 32)                2080      \n",
            "                                                                 \n",
            " dropout_11 (Dropout)        (None, 32)                0         \n",
            "                                                                 \n",
            " dense_54 (Dense)            (None, 10)                330       \n",
            "                                                                 \n",
            "=================================================================\n",
            "Total params: 321,322\n",
            "Trainable params: 321,322\n",
            "Non-trainable params: 0\n",
            "_________________________________________________________________\n"
          ]
        }
      ]
    },
    {
      "cell_type": "code",
      "source": [
        "model=Sequential()\n",
        "model.add(Dense(1024,input_shape=(57,),activation='relu'))\n",
        "model.add(Dense(1024,activation='relu'))\n",
        "model.add(Dense(512,activation='relu'))\n",
        "model.add(Dense(512,activation='relu'))\n",
        "model.add(Dense(256,activation='relu'))\n",
        "model.add(Dense(128,activation='relu'))\n",
        "model.add(Dropout(0.25))\n",
        "model.add(Dense(128,activation='relu'))\n",
        "model.add(Dense(64,activation='relu'))\n",
        "model.add(Dense(32,activation='relu'))\n",
        "model.add(Dropout(0.25))\n",
        "model.add(Dense(10,activation='softmax'))\n",
        "model.summary()"
      ],
      "metadata": {
        "colab": {
          "base_uri": "https://localhost:8080/"
        },
        "id": "0BTLnHwT2-ji",
        "outputId": "82f9ef73-e728-4cdb-8fcb-20ad25ff6b34"
      },
      "execution_count": 100,
      "outputs": [
        {
          "output_type": "stream",
          "name": "stdout",
          "text": [
            "Model: \"sequential_13\"\n",
            "_________________________________________________________________\n",
            " Layer (type)                Output Shape              Param #   \n",
            "=================================================================\n",
            " dense_63 (Dense)            (None, 1024)              59392     \n",
            "                                                                 \n",
            " dense_64 (Dense)            (None, 1024)              1049600   \n",
            "                                                                 \n",
            " dense_65 (Dense)            (None, 512)               524800    \n",
            "                                                                 \n",
            " dense_66 (Dense)            (None, 512)               262656    \n",
            "                                                                 \n",
            " dense_67 (Dense)            (None, 256)               131328    \n",
            "                                                                 \n",
            " dense_68 (Dense)            (None, 128)               32896     \n",
            "                                                                 \n",
            " dropout_14 (Dropout)        (None, 128)               0         \n",
            "                                                                 \n",
            " dense_69 (Dense)            (None, 128)               16512     \n",
            "                                                                 \n",
            " dense_70 (Dense)            (None, 64)                8256      \n",
            "                                                                 \n",
            " dense_71 (Dense)            (None, 32)                2080      \n",
            "                                                                 \n",
            " dropout_15 (Dropout)        (None, 32)                0         \n",
            "                                                                 \n",
            " dense_72 (Dense)            (None, 10)                330       \n",
            "                                                                 \n",
            "=================================================================\n",
            "Total params: 2,087,850\n",
            "Trainable params: 2,087,850\n",
            "Non-trainable params: 0\n",
            "_________________________________________________________________\n"
          ]
        }
      ]
    },
    {
      "cell_type": "code",
      "source": [
        "model_new=Sequential()\n",
        "model_new.add(Dense(512,input_shape=(57,),activation='relu'))\n",
        "model_new.add(Dense(256,activation='relu'))\n",
        "model_new.add(Dense(128,activation='relu'))\n",
        "model_new.add(Dense(64,activation='relu'))\n",
        "model_new.add(Dense(32,activation='relu'))\n",
        "model_new.add(Dropout(0.5))\n",
        "model_new.add(Dense(10,activation='softmax'))\n",
        "model_new.summary()"
      ],
      "metadata": {
        "colab": {
          "base_uri": "https://localhost:8080/"
        },
        "id": "QVqRxbPHB_kh",
        "outputId": "7cb4c6c9-bb9b-4efc-c169-93e95e045a25"
      },
      "execution_count": 443,
      "outputs": [
        {
          "output_type": "stream",
          "name": "stdout",
          "text": [
            "Model: \"sequential_14\"\n",
            "_________________________________________________________________\n",
            " Layer (type)                Output Shape              Param #   \n",
            "=================================================================\n",
            " dense_73 (Dense)            (None, 512)               29696     \n",
            "                                                                 \n",
            " dense_74 (Dense)            (None, 256)               131328    \n",
            "                                                                 \n",
            " dense_75 (Dense)            (None, 128)               32896     \n",
            "                                                                 \n",
            " dense_76 (Dense)            (None, 64)                8256      \n",
            "                                                                 \n",
            " dense_77 (Dense)            (None, 32)                2080      \n",
            "                                                                 \n",
            " dropout_16 (Dropout)        (None, 32)                0         \n",
            "                                                                 \n",
            " dense_78 (Dense)            (None, 10)                330       \n",
            "                                                                 \n",
            "=================================================================\n",
            "Total params: 204,586\n",
            "Trainable params: 204,586\n",
            "Non-trainable params: 0\n",
            "_________________________________________________________________\n"
          ]
        }
      ]
    },
    {
      "cell_type": "code",
      "source": [
        "model.compile(optimizer=Adam(learning_rate=0.001),loss='categorical_crossentropy',metrics=['accuracy'])"
      ],
      "metadata": {
        "id": "VJ30oAmg6nSI"
      },
      "execution_count": 101,
      "outputs": []
    },
    {
      "cell_type": "code",
      "source": [
        "history=model.fit(x=X_train,y=Y_train,validation_split=0.2,shuffle=True,steps_per_epoch=20,epochs=200)"
      ],
      "metadata": {
        "colab": {
          "base_uri": "https://localhost:8080/"
        },
        "id": "y9dYfWiQ6-uL",
        "outputId": "09e50925-fa40-4ce1-eb3f-2c8ecb215d40"
      },
      "execution_count": 102,
      "outputs": [
        {
          "output_type": "stream",
          "name": "stdout",
          "text": [
            "Epoch 1/200\n",
            "20/20 [==============================] - 3s 123ms/step - loss: 1.9312 - accuracy: 0.2975 - val_loss: 1.4234 - val_accuracy: 0.4847\n",
            "Epoch 2/200\n",
            "20/20 [==============================] - 2s 109ms/step - loss: 1.4141 - accuracy: 0.5181 - val_loss: 1.0886 - val_accuracy: 0.6667\n",
            "Epoch 3/200\n",
            "20/20 [==============================] - 2s 106ms/step - loss: 1.0944 - accuracy: 0.6504 - val_loss: 0.9268 - val_accuracy: 0.7192\n",
            "Epoch 4/200\n",
            "20/20 [==============================] - 2s 116ms/step - loss: 0.8677 - accuracy: 0.7333 - val_loss: 0.8252 - val_accuracy: 0.7480\n",
            "Epoch 5/200\n",
            "20/20 [==============================] - 2s 111ms/step - loss: 0.7173 - accuracy: 0.7921 - val_loss: 0.6635 - val_accuracy: 0.8018\n",
            "Epoch 6/200\n",
            "20/20 [==============================] - 2s 112ms/step - loss: 0.5686 - accuracy: 0.8367 - val_loss: 0.6400 - val_accuracy: 0.8118\n",
            "Epoch 7/200\n",
            "20/20 [==============================] - 2s 106ms/step - loss: 0.4600 - accuracy: 0.8736 - val_loss: 0.5943 - val_accuracy: 0.8211\n",
            "Epoch 8/200\n",
            "20/20 [==============================] - 2s 108ms/step - loss: 0.3678 - accuracy: 0.8961 - val_loss: 0.6602 - val_accuracy: 0.8255\n",
            "Epoch 9/200\n",
            "20/20 [==============================] - 2s 115ms/step - loss: 0.3273 - accuracy: 0.9140 - val_loss: 0.6318 - val_accuracy: 0.8443\n",
            "Epoch 10/200\n",
            "20/20 [==============================] - 2s 116ms/step - loss: 0.2738 - accuracy: 0.9288 - val_loss: 0.5567 - val_accuracy: 0.8668\n",
            "Epoch 11/200\n",
            "20/20 [==============================] - 2s 113ms/step - loss: 0.2210 - accuracy: 0.9432 - val_loss: 0.6068 - val_accuracy: 0.8612\n",
            "Epoch 12/200\n",
            "20/20 [==============================] - 2s 111ms/step - loss: 0.1865 - accuracy: 0.9534 - val_loss: 0.5979 - val_accuracy: 0.8705\n",
            "Epoch 13/200\n",
            "20/20 [==============================] - 2s 114ms/step - loss: 0.1752 - accuracy: 0.9567 - val_loss: 0.6030 - val_accuracy: 0.8455\n",
            "Epoch 14/200\n",
            "20/20 [==============================] - 2s 108ms/step - loss: 0.1653 - accuracy: 0.9578 - val_loss: 0.5960 - val_accuracy: 0.8555\n",
            "Epoch 15/200\n",
            "20/20 [==============================] - 2s 117ms/step - loss: 0.1643 - accuracy: 0.9585 - val_loss: 0.5373 - val_accuracy: 0.8624\n",
            "Epoch 16/200\n",
            "20/20 [==============================] - 2s 114ms/step - loss: 0.1453 - accuracy: 0.9639 - val_loss: 0.5198 - val_accuracy: 0.8812\n",
            "Epoch 17/200\n",
            "20/20 [==============================] - 2s 108ms/step - loss: 0.1025 - accuracy: 0.9742 - val_loss: 0.5030 - val_accuracy: 0.8974\n",
            "Epoch 18/200\n",
            "20/20 [==============================] - 2s 109ms/step - loss: 0.0898 - accuracy: 0.9764 - val_loss: 0.6788 - val_accuracy: 0.8618\n",
            "Epoch 19/200\n",
            "20/20 [==============================] - 2s 110ms/step - loss: 0.1032 - accuracy: 0.9739 - val_loss: 0.6268 - val_accuracy: 0.8743\n",
            "Epoch 20/200\n",
            "20/20 [==============================] - 2s 110ms/step - loss: 0.0957 - accuracy: 0.9754 - val_loss: 0.6490 - val_accuracy: 0.8737\n",
            "Epoch 21/200\n",
            "20/20 [==============================] - 2s 110ms/step - loss: 0.1109 - accuracy: 0.9725 - val_loss: 0.7511 - val_accuracy: 0.8580\n",
            "Epoch 22/200\n",
            "20/20 [==============================] - 2s 110ms/step - loss: 0.0983 - accuracy: 0.9748 - val_loss: 0.6538 - val_accuracy: 0.8693\n",
            "Epoch 23/200\n",
            "20/20 [==============================] - 2s 115ms/step - loss: 0.0841 - accuracy: 0.9798 - val_loss: 0.7074 - val_accuracy: 0.8737\n",
            "Epoch 24/200\n",
            "20/20 [==============================] - 2s 111ms/step - loss: 0.0717 - accuracy: 0.9828 - val_loss: 0.6246 - val_accuracy: 0.8799\n",
            "Epoch 25/200\n",
            "20/20 [==============================] - 2s 116ms/step - loss: 0.0544 - accuracy: 0.9872 - val_loss: 0.6000 - val_accuracy: 0.8849\n",
            "Epoch 26/200\n",
            "20/20 [==============================] - 2s 115ms/step - loss: 0.0676 - accuracy: 0.9847 - val_loss: 0.7331 - val_accuracy: 0.8699\n",
            "Epoch 27/200\n",
            "20/20 [==============================] - 2s 105ms/step - loss: 0.0770 - accuracy: 0.9812 - val_loss: 0.6111 - val_accuracy: 0.8793\n",
            "Epoch 28/200\n",
            "20/20 [==============================] - 2s 101ms/step - loss: 0.0701 - accuracy: 0.9848 - val_loss: 0.6551 - val_accuracy: 0.8787\n",
            "Epoch 29/200\n",
            "20/20 [==============================] - 2s 107ms/step - loss: 0.0631 - accuracy: 0.9842 - val_loss: 0.5449 - val_accuracy: 0.8924\n",
            "Epoch 30/200\n",
            "20/20 [==============================] - 2s 107ms/step - loss: 0.0731 - accuracy: 0.9836 - val_loss: 0.5838 - val_accuracy: 0.8874\n",
            "Epoch 31/200\n",
            "20/20 [==============================] - 2s 103ms/step - loss: 0.0557 - accuracy: 0.9864 - val_loss: 0.6200 - val_accuracy: 0.8912\n",
            "Epoch 32/200\n",
            "20/20 [==============================] - 2s 109ms/step - loss: 0.0335 - accuracy: 0.9928 - val_loss: 0.7422 - val_accuracy: 0.8831\n",
            "Epoch 33/200\n",
            "20/20 [==============================] - 2s 109ms/step - loss: 0.0692 - accuracy: 0.9858 - val_loss: 0.6278 - val_accuracy: 0.8818\n",
            "Epoch 34/200\n",
            "20/20 [==============================] - 2s 103ms/step - loss: 0.0515 - accuracy: 0.9875 - val_loss: 0.6474 - val_accuracy: 0.8962\n",
            "Epoch 35/200\n",
            "20/20 [==============================] - 2s 109ms/step - loss: 0.0434 - accuracy: 0.9922 - val_loss: 0.7309 - val_accuracy: 0.8818\n",
            "Epoch 36/200\n",
            "20/20 [==============================] - 2s 104ms/step - loss: 0.0619 - accuracy: 0.9859 - val_loss: 0.8265 - val_accuracy: 0.8624\n",
            "Epoch 37/200\n",
            "20/20 [==============================] - 2s 109ms/step - loss: 0.0385 - accuracy: 0.9906 - val_loss: 0.6971 - val_accuracy: 0.8906\n",
            "Epoch 38/200\n",
            "20/20 [==============================] - 2s 109ms/step - loss: 0.0367 - accuracy: 0.9914 - val_loss: 0.7412 - val_accuracy: 0.8918\n",
            "Epoch 39/200\n",
            "20/20 [==============================] - 2s 109ms/step - loss: 0.0475 - accuracy: 0.9903 - val_loss: 0.6647 - val_accuracy: 0.8906\n",
            "Epoch 40/200\n",
            "20/20 [==============================] - 2s 106ms/step - loss: 0.0389 - accuracy: 0.9903 - val_loss: 0.6375 - val_accuracy: 0.8887\n",
            "Epoch 41/200\n",
            "20/20 [==============================] - 2s 113ms/step - loss: 0.0404 - accuracy: 0.9928 - val_loss: 0.7037 - val_accuracy: 0.8912\n",
            "Epoch 42/200\n",
            "20/20 [==============================] - 2s 106ms/step - loss: 0.0408 - accuracy: 0.9914 - val_loss: 0.5800 - val_accuracy: 0.8956\n",
            "Epoch 43/200\n",
            "20/20 [==============================] - 2s 111ms/step - loss: 0.0400 - accuracy: 0.9905 - val_loss: 0.6297 - val_accuracy: 0.8887\n",
            "Epoch 44/200\n",
            "20/20 [==============================] - 2s 108ms/step - loss: 0.0318 - accuracy: 0.9914 - val_loss: 0.6344 - val_accuracy: 0.8881\n",
            "Epoch 45/200\n",
            "20/20 [==============================] - 2s 114ms/step - loss: 0.0269 - accuracy: 0.9941 - val_loss: 0.6983 - val_accuracy: 0.8918\n",
            "Epoch 46/200\n",
            "20/20 [==============================] - 2s 110ms/step - loss: 0.0327 - accuracy: 0.9933 - val_loss: 0.6910 - val_accuracy: 0.8881\n",
            "Epoch 47/200\n",
            "20/20 [==============================] - 2s 112ms/step - loss: 0.0427 - accuracy: 0.9916 - val_loss: 0.7257 - val_accuracy: 0.8793\n",
            "Epoch 48/200\n",
            "20/20 [==============================] - 2s 111ms/step - loss: 0.0356 - accuracy: 0.9926 - val_loss: 0.5666 - val_accuracy: 0.8999\n",
            "Epoch 49/200\n",
            "20/20 [==============================] - 2s 116ms/step - loss: 0.0254 - accuracy: 0.9925 - val_loss: 0.5910 - val_accuracy: 0.9074\n",
            "Epoch 50/200\n",
            "20/20 [==============================] - 2s 113ms/step - loss: 0.0212 - accuracy: 0.9945 - val_loss: 0.7815 - val_accuracy: 0.8887\n",
            "Epoch 51/200\n",
            "20/20 [==============================] - 2s 104ms/step - loss: 0.0304 - accuracy: 0.9933 - val_loss: 0.6807 - val_accuracy: 0.8918\n",
            "Epoch 52/200\n",
            "20/20 [==============================] - 2s 111ms/step - loss: 0.0222 - accuracy: 0.9942 - val_loss: 0.7521 - val_accuracy: 0.8812\n",
            "Epoch 53/200\n",
            "20/20 [==============================] - 2s 109ms/step - loss: 0.0217 - accuracy: 0.9961 - val_loss: 0.7868 - val_accuracy: 0.8780\n",
            "Epoch 54/200\n",
            "20/20 [==============================] - 2s 106ms/step - loss: 0.0192 - accuracy: 0.9950 - val_loss: 0.9431 - val_accuracy: 0.8831\n",
            "Epoch 55/200\n",
            "20/20 [==============================] - 2s 102ms/step - loss: 0.0353 - accuracy: 0.9933 - val_loss: 0.7012 - val_accuracy: 0.8912\n",
            "Epoch 56/200\n",
            "20/20 [==============================] - 2s 103ms/step - loss: 0.0441 - accuracy: 0.9903 - val_loss: 0.5948 - val_accuracy: 0.8974\n",
            "Epoch 57/200\n",
            "20/20 [==============================] - 2s 108ms/step - loss: 0.0259 - accuracy: 0.9936 - val_loss: 0.6644 - val_accuracy: 0.9031\n",
            "Epoch 58/200\n",
            "20/20 [==============================] - 2s 103ms/step - loss: 0.0263 - accuracy: 0.9953 - val_loss: 0.6525 - val_accuracy: 0.9099\n",
            "Epoch 59/200\n",
            "20/20 [==============================] - 2s 116ms/step - loss: 0.0341 - accuracy: 0.9923 - val_loss: 0.7704 - val_accuracy: 0.8818\n",
            "Epoch 60/200\n",
            "20/20 [==============================] - 2s 115ms/step - loss: 0.0234 - accuracy: 0.9953 - val_loss: 0.7892 - val_accuracy: 0.8924\n",
            "Epoch 61/200\n",
            "20/20 [==============================] - 2s 111ms/step - loss: 0.0154 - accuracy: 0.9969 - val_loss: 0.6889 - val_accuracy: 0.9112\n",
            "Epoch 62/200\n",
            "20/20 [==============================] - 2s 115ms/step - loss: 0.0210 - accuracy: 0.9980 - val_loss: 0.7515 - val_accuracy: 0.8999\n",
            "Epoch 63/200\n",
            "20/20 [==============================] - 2s 114ms/step - loss: 0.0120 - accuracy: 0.9972 - val_loss: 0.8361 - val_accuracy: 0.9012\n",
            "Epoch 64/200\n",
            "20/20 [==============================] - 2s 110ms/step - loss: 0.0212 - accuracy: 0.9972 - val_loss: 0.8109 - val_accuracy: 0.8962\n",
            "Epoch 65/200\n",
            "20/20 [==============================] - 2s 109ms/step - loss: 0.0217 - accuracy: 0.9955 - val_loss: 0.6969 - val_accuracy: 0.9031\n",
            "Epoch 66/200\n",
            "20/20 [==============================] - 2s 111ms/step - loss: 0.0202 - accuracy: 0.9952 - val_loss: 0.6940 - val_accuracy: 0.8999\n",
            "Epoch 67/200\n",
            "20/20 [==============================] - 2s 109ms/step - loss: 0.0353 - accuracy: 0.9942 - val_loss: 0.7504 - val_accuracy: 0.8849\n",
            "Epoch 68/200\n",
            "20/20 [==============================] - 2s 108ms/step - loss: 0.0503 - accuracy: 0.9891 - val_loss: 0.5929 - val_accuracy: 0.8912\n",
            "Epoch 69/200\n",
            "20/20 [==============================] - 2s 108ms/step - loss: 0.0258 - accuracy: 0.9950 - val_loss: 0.6368 - val_accuracy: 0.9018\n",
            "Epoch 70/200\n",
            "20/20 [==============================] - 2s 105ms/step - loss: 0.0390 - accuracy: 0.9933 - val_loss: 0.8350 - val_accuracy: 0.8768\n",
            "Epoch 71/200\n",
            "20/20 [==============================] - 2s 109ms/step - loss: 0.0517 - accuracy: 0.9891 - val_loss: 0.5821 - val_accuracy: 0.8949\n",
            "Epoch 72/200\n",
            "20/20 [==============================] - 2s 117ms/step - loss: 0.0206 - accuracy: 0.9961 - val_loss: 0.7211 - val_accuracy: 0.9056\n",
            "Epoch 73/200\n",
            "20/20 [==============================] - 2s 115ms/step - loss: 0.0110 - accuracy: 0.9978 - val_loss: 0.7583 - val_accuracy: 0.9043\n",
            "Epoch 74/200\n",
            "20/20 [==============================] - 2s 111ms/step - loss: 0.0597 - accuracy: 0.9886 - val_loss: 0.8699 - val_accuracy: 0.8799\n",
            "Epoch 75/200\n",
            "20/20 [==============================] - 2s 113ms/step - loss: 0.0480 - accuracy: 0.9895 - val_loss: 0.6329 - val_accuracy: 0.8918\n",
            "Epoch 76/200\n",
            "20/20 [==============================] - 2s 113ms/step - loss: 0.0256 - accuracy: 0.9952 - val_loss: 0.6351 - val_accuracy: 0.8968\n",
            "Epoch 77/200\n",
            "20/20 [==============================] - 2s 107ms/step - loss: 0.0318 - accuracy: 0.9947 - val_loss: 0.7374 - val_accuracy: 0.8874\n",
            "Epoch 78/200\n",
            "20/20 [==============================] - 2s 108ms/step - loss: 0.1169 - accuracy: 0.9728 - val_loss: 0.6311 - val_accuracy: 0.8724\n",
            "Epoch 79/200\n",
            "20/20 [==============================] - 2s 115ms/step - loss: 0.0415 - accuracy: 0.9887 - val_loss: 0.6858 - val_accuracy: 0.8968\n",
            "Epoch 80/200\n",
            "20/20 [==============================] - 2s 110ms/step - loss: 0.0269 - accuracy: 0.9950 - val_loss: 0.6593 - val_accuracy: 0.8949\n",
            "Epoch 81/200\n",
            "20/20 [==============================] - 2s 115ms/step - loss: 0.0048 - accuracy: 0.9991 - val_loss: 0.6747 - val_accuracy: 0.8993\n",
            "Epoch 82/200\n",
            "20/20 [==============================] - 2s 116ms/step - loss: 0.0035 - accuracy: 0.9994 - val_loss: 0.7542 - val_accuracy: 0.9037\n",
            "Epoch 83/200\n",
            "20/20 [==============================] - 2s 119ms/step - loss: 0.0047 - accuracy: 0.9989 - val_loss: 0.7603 - val_accuracy: 0.9099\n",
            "Epoch 84/200\n",
            "20/20 [==============================] - 2s 104ms/step - loss: 0.0030 - accuracy: 0.9995 - val_loss: 0.8189 - val_accuracy: 0.9056\n",
            "Epoch 85/200\n",
            "20/20 [==============================] - 2s 111ms/step - loss: 0.0030 - accuracy: 0.9992 - val_loss: 0.8015 - val_accuracy: 0.9074\n",
            "Epoch 86/200\n",
            "20/20 [==============================] - 2s 114ms/step - loss: 0.0179 - accuracy: 0.9966 - val_loss: 0.7643 - val_accuracy: 0.9043\n",
            "Epoch 87/200\n",
            "20/20 [==============================] - 2s 116ms/step - loss: 0.0279 - accuracy: 0.9928 - val_loss: 0.7109 - val_accuracy: 0.8968\n",
            "Epoch 88/200\n",
            "20/20 [==============================] - 2s 105ms/step - loss: 0.0241 - accuracy: 0.9953 - val_loss: 0.6853 - val_accuracy: 0.9012\n",
            "Epoch 89/200\n",
            "20/20 [==============================] - 2s 112ms/step - loss: 0.0364 - accuracy: 0.9923 - val_loss: 0.6184 - val_accuracy: 0.9006\n",
            "Epoch 90/200\n",
            "20/20 [==============================] - 2s 117ms/step - loss: 0.0316 - accuracy: 0.9926 - val_loss: 0.6409 - val_accuracy: 0.8906\n",
            "Epoch 91/200\n",
            "20/20 [==============================] - 2s 113ms/step - loss: 0.0271 - accuracy: 0.9947 - val_loss: 0.7140 - val_accuracy: 0.8931\n",
            "Epoch 92/200\n",
            "20/20 [==============================] - 2s 112ms/step - loss: 0.0093 - accuracy: 0.9972 - val_loss: 0.7371 - val_accuracy: 0.9031\n",
            "Epoch 93/200\n",
            "20/20 [==============================] - 2s 111ms/step - loss: 0.0069 - accuracy: 0.9983 - val_loss: 0.8782 - val_accuracy: 0.8993\n",
            "Epoch 94/200\n",
            "20/20 [==============================] - 2s 117ms/step - loss: 0.0144 - accuracy: 0.9973 - val_loss: 0.8757 - val_accuracy: 0.8924\n",
            "Epoch 95/200\n",
            "20/20 [==============================] - 2s 115ms/step - loss: 0.0354 - accuracy: 0.9930 - val_loss: 0.7566 - val_accuracy: 0.8962\n",
            "Epoch 96/200\n",
            "20/20 [==============================] - 2s 110ms/step - loss: 0.0328 - accuracy: 0.9919 - val_loss: 0.8236 - val_accuracy: 0.8906\n",
            "Epoch 97/200\n",
            "20/20 [==============================] - 2s 108ms/step - loss: 0.0199 - accuracy: 0.9948 - val_loss: 0.7467 - val_accuracy: 0.8962\n",
            "Epoch 98/200\n",
            "20/20 [==============================] - 2s 115ms/step - loss: 0.0128 - accuracy: 0.9975 - val_loss: 0.8922 - val_accuracy: 0.8874\n",
            "Epoch 99/200\n",
            "20/20 [==============================] - 2s 117ms/step - loss: 0.0249 - accuracy: 0.9955 - val_loss: 0.8376 - val_accuracy: 0.8856\n",
            "Epoch 100/200\n",
            "20/20 [==============================] - 2s 108ms/step - loss: 0.0156 - accuracy: 0.9961 - val_loss: 0.8045 - val_accuracy: 0.8943\n",
            "Epoch 101/200\n",
            "20/20 [==============================] - 2s 109ms/step - loss: 0.0096 - accuracy: 0.9978 - val_loss: 0.8961 - val_accuracy: 0.8999\n",
            "Epoch 102/200\n",
            "20/20 [==============================] - 2s 108ms/step - loss: 0.0351 - accuracy: 0.9950 - val_loss: 0.7935 - val_accuracy: 0.8956\n",
            "Epoch 103/200\n",
            "20/20 [==============================] - 2s 111ms/step - loss: 0.0489 - accuracy: 0.9895 - val_loss: 0.6852 - val_accuracy: 0.8981\n",
            "Epoch 104/200\n",
            "20/20 [==============================] - 2s 115ms/step - loss: 0.0562 - accuracy: 0.9930 - val_loss: 0.6487 - val_accuracy: 0.8937\n",
            "Epoch 105/200\n",
            "20/20 [==============================] - 2s 116ms/step - loss: 0.0355 - accuracy: 0.9933 - val_loss: 0.6318 - val_accuracy: 0.9037\n",
            "Epoch 106/200\n",
            "20/20 [==============================] - 2s 104ms/step - loss: 0.0209 - accuracy: 0.9956 - val_loss: 0.8157 - val_accuracy: 0.8949\n",
            "Epoch 107/200\n",
            "20/20 [==============================] - 2s 110ms/step - loss: 0.0206 - accuracy: 0.9961 - val_loss: 0.6389 - val_accuracy: 0.9049\n",
            "Epoch 108/200\n",
            "20/20 [==============================] - 2s 106ms/step - loss: 0.0103 - accuracy: 0.9978 - val_loss: 0.7402 - val_accuracy: 0.9068\n",
            "Epoch 109/200\n",
            "20/20 [==============================] - 2s 120ms/step - loss: 0.0086 - accuracy: 0.9978 - val_loss: 0.7512 - val_accuracy: 0.9099\n",
            "Epoch 110/200\n",
            "20/20 [==============================] - 2s 112ms/step - loss: 0.0253 - accuracy: 0.9961 - val_loss: 0.7735 - val_accuracy: 0.8943\n",
            "Epoch 111/200\n",
            "20/20 [==============================] - 2s 107ms/step - loss: 0.0359 - accuracy: 0.9944 - val_loss: 0.5805 - val_accuracy: 0.9062\n",
            "Epoch 112/200\n",
            "20/20 [==============================] - 2s 109ms/step - loss: 0.0131 - accuracy: 0.9977 - val_loss: 0.7393 - val_accuracy: 0.9049\n",
            "Epoch 113/200\n",
            "20/20 [==============================] - 2s 106ms/step - loss: 0.0110 - accuracy: 0.9981 - val_loss: 0.7619 - val_accuracy: 0.9043\n",
            "Epoch 114/200\n",
            "20/20 [==============================] - 2s 117ms/step - loss: 0.0200 - accuracy: 0.9962 - val_loss: 0.6841 - val_accuracy: 0.8968\n",
            "Epoch 115/200\n",
            "20/20 [==============================] - 2s 104ms/step - loss: 0.0194 - accuracy: 0.9967 - val_loss: 0.7813 - val_accuracy: 0.9006\n",
            "Epoch 116/200\n",
            "20/20 [==============================] - 2s 109ms/step - loss: 0.0278 - accuracy: 0.9948 - val_loss: 0.8615 - val_accuracy: 0.8837\n",
            "Epoch 117/200\n",
            "20/20 [==============================] - 2s 104ms/step - loss: 0.0697 - accuracy: 0.9862 - val_loss: 0.7273 - val_accuracy: 0.8812\n",
            "Epoch 118/200\n",
            "20/20 [==============================] - 2s 109ms/step - loss: 0.0277 - accuracy: 0.9942 - val_loss: 0.9054 - val_accuracy: 0.8874\n",
            "Epoch 119/200\n",
            "20/20 [==============================] - 2s 107ms/step - loss: 0.0574 - accuracy: 0.9886 - val_loss: 0.6005 - val_accuracy: 0.8968\n",
            "Epoch 120/200\n",
            "20/20 [==============================] - 2s 111ms/step - loss: 0.0165 - accuracy: 0.9959 - val_loss: 0.6434 - val_accuracy: 0.9049\n",
            "Epoch 121/200\n",
            "20/20 [==============================] - 2s 104ms/step - loss: 0.0184 - accuracy: 0.9958 - val_loss: 0.7519 - val_accuracy: 0.9031\n",
            "Epoch 122/200\n",
            "20/20 [==============================] - 2s 110ms/step - loss: 0.0242 - accuracy: 0.9945 - val_loss: 0.6630 - val_accuracy: 0.9043\n",
            "Epoch 123/200\n",
            "20/20 [==============================] - 2s 117ms/step - loss: 0.0140 - accuracy: 0.9969 - val_loss: 0.6584 - val_accuracy: 0.9031\n",
            "Epoch 124/200\n",
            "20/20 [==============================] - 2s 116ms/step - loss: 0.0142 - accuracy: 0.9975 - val_loss: 0.7408 - val_accuracy: 0.8993\n",
            "Epoch 125/200\n",
            "20/20 [==============================] - 2s 116ms/step - loss: 0.0091 - accuracy: 0.9980 - val_loss: 0.8278 - val_accuracy: 0.9056\n",
            "Epoch 126/200\n",
            "20/20 [==============================] - 2s 112ms/step - loss: 0.0184 - accuracy: 0.9975 - val_loss: 0.6924 - val_accuracy: 0.9081\n",
            "Epoch 127/200\n",
            "20/20 [==============================] - 2s 113ms/step - loss: 0.0055 - accuracy: 0.9987 - val_loss: 0.8174 - val_accuracy: 0.9068\n",
            "Epoch 128/200\n",
            "20/20 [==============================] - 2s 111ms/step - loss: 0.0076 - accuracy: 0.9980 - val_loss: 0.8909 - val_accuracy: 0.9062\n",
            "Epoch 129/200\n",
            "20/20 [==============================] - 2s 112ms/step - loss: 0.0321 - accuracy: 0.9947 - val_loss: 0.7022 - val_accuracy: 0.8999\n",
            "Epoch 130/200\n",
            "20/20 [==============================] - 2s 115ms/step - loss: 0.0295 - accuracy: 0.9936 - val_loss: 0.6106 - val_accuracy: 0.9024\n",
            "Epoch 131/200\n",
            "20/20 [==============================] - 2s 116ms/step - loss: 0.0127 - accuracy: 0.9972 - val_loss: 0.7713 - val_accuracy: 0.8987\n",
            "Epoch 132/200\n",
            "20/20 [==============================] - 2s 110ms/step - loss: 0.0064 - accuracy: 0.9981 - val_loss: 0.7240 - val_accuracy: 0.9124\n",
            "Epoch 133/200\n",
            "20/20 [==============================] - 2s 110ms/step - loss: 0.0137 - accuracy: 0.9981 - val_loss: 0.7433 - val_accuracy: 0.9056\n",
            "Epoch 134/200\n",
            "20/20 [==============================] - 2s 106ms/step - loss: 0.0184 - accuracy: 0.9961 - val_loss: 0.6451 - val_accuracy: 0.9031\n",
            "Epoch 135/200\n",
            "20/20 [==============================] - 2s 105ms/step - loss: 0.0177 - accuracy: 0.9969 - val_loss: 0.8761 - val_accuracy: 0.8937\n",
            "Epoch 136/200\n",
            "20/20 [==============================] - 2s 106ms/step - loss: 0.0331 - accuracy: 0.9941 - val_loss: 0.6895 - val_accuracy: 0.8956\n",
            "Epoch 137/200\n",
            "20/20 [==============================] - 2s 104ms/step - loss: 0.0110 - accuracy: 0.9986 - val_loss: 0.6505 - val_accuracy: 0.9006\n",
            "Epoch 138/200\n",
            "20/20 [==============================] - 2s 106ms/step - loss: 0.0074 - accuracy: 0.9987 - val_loss: 0.7115 - val_accuracy: 0.9031\n",
            "Epoch 139/200\n",
            "20/20 [==============================] - 2s 108ms/step - loss: 0.0050 - accuracy: 0.9989 - val_loss: 0.6864 - val_accuracy: 0.9043\n",
            "Epoch 140/200\n",
            "20/20 [==============================] - 2s 107ms/step - loss: 0.0028 - accuracy: 0.9987 - val_loss: 0.7752 - val_accuracy: 0.9062\n",
            "Epoch 141/200\n",
            "20/20 [==============================] - 2s 117ms/step - loss: 0.0083 - accuracy: 0.9984 - val_loss: 0.7492 - val_accuracy: 0.9043\n",
            "Epoch 142/200\n",
            "20/20 [==============================] - 2s 109ms/step - loss: 0.0204 - accuracy: 0.9952 - val_loss: 0.6691 - val_accuracy: 0.9043\n",
            "Epoch 143/200\n",
            "20/20 [==============================] - 2s 113ms/step - loss: 0.0068 - accuracy: 0.9980 - val_loss: 0.7609 - val_accuracy: 0.9031\n",
            "Epoch 144/200\n",
            "20/20 [==============================] - 2s 112ms/step - loss: 0.0035 - accuracy: 0.9992 - val_loss: 0.7832 - val_accuracy: 0.9049\n",
            "Epoch 145/200\n",
            "20/20 [==============================] - 2s 118ms/step - loss: 0.0016 - accuracy: 0.9995 - val_loss: 0.7972 - val_accuracy: 0.9062\n",
            "Epoch 146/200\n",
            "20/20 [==============================] - 2s 118ms/step - loss: 0.0011 - accuracy: 0.9997 - val_loss: 0.8245 - val_accuracy: 0.9093\n",
            "Epoch 147/200\n",
            "20/20 [==============================] - 2s 119ms/step - loss: 0.0013 - accuracy: 0.9994 - val_loss: 0.8504 - val_accuracy: 0.9106\n",
            "Epoch 148/200\n",
            "20/20 [==============================] - 2s 117ms/step - loss: 0.0010 - accuracy: 0.9997 - val_loss: 0.8712 - val_accuracy: 0.9099\n",
            "Epoch 149/200\n",
            "20/20 [==============================] - 2s 113ms/step - loss: 0.0011 - accuracy: 0.9997 - val_loss: 0.8844 - val_accuracy: 0.9124\n",
            "Epoch 150/200\n",
            "20/20 [==============================] - 2s 112ms/step - loss: 0.0013 - accuracy: 0.9994 - val_loss: 0.9007 - val_accuracy: 0.9131\n",
            "Epoch 151/200\n",
            "20/20 [==============================] - 2s 106ms/step - loss: 9.0991e-04 - accuracy: 0.9997 - val_loss: 0.9284 - val_accuracy: 0.9118\n",
            "Epoch 152/200\n",
            "20/20 [==============================] - 2s 116ms/step - loss: 0.0012 - accuracy: 0.9992 - val_loss: 0.9503 - val_accuracy: 0.9143\n",
            "Epoch 153/200\n",
            "20/20 [==============================] - 2s 118ms/step - loss: 7.9172e-04 - accuracy: 0.9995 - val_loss: 0.9747 - val_accuracy: 0.9143\n",
            "Epoch 154/200\n",
            "20/20 [==============================] - 2s 109ms/step - loss: 9.1721e-04 - accuracy: 0.9995 - val_loss: 1.0075 - val_accuracy: 0.9156\n",
            "Epoch 155/200\n",
            "20/20 [==============================] - 2s 116ms/step - loss: 7.6026e-04 - accuracy: 0.9994 - val_loss: 1.0299 - val_accuracy: 0.9143\n",
            "Epoch 156/200\n",
            "20/20 [==============================] - 2s 119ms/step - loss: 6.6419e-04 - accuracy: 0.9995 - val_loss: 1.0540 - val_accuracy: 0.9131\n",
            "Epoch 157/200\n",
            "20/20 [==============================] - 2s 115ms/step - loss: 8.1342e-04 - accuracy: 0.9997 - val_loss: 1.0882 - val_accuracy: 0.9118\n",
            "Epoch 158/200\n",
            "20/20 [==============================] - 2s 114ms/step - loss: 9.8513e-04 - accuracy: 0.9997 - val_loss: 1.1101 - val_accuracy: 0.9124\n",
            "Epoch 159/200\n",
            "20/20 [==============================] - 2s 121ms/step - loss: 0.0011 - accuracy: 0.9992 - val_loss: 1.1453 - val_accuracy: 0.9131\n",
            "Epoch 160/200\n",
            "20/20 [==============================] - 2s 118ms/step - loss: 0.0016 - accuracy: 0.9991 - val_loss: 1.1633 - val_accuracy: 0.9143\n",
            "Epoch 161/200\n",
            "20/20 [==============================] - 2s 118ms/step - loss: 0.0010 - accuracy: 0.9995 - val_loss: 1.1837 - val_accuracy: 0.9143\n",
            "Epoch 162/200\n",
            "20/20 [==============================] - 2s 108ms/step - loss: 0.0010 - accuracy: 0.9994 - val_loss: 1.2036 - val_accuracy: 0.9118\n",
            "Epoch 163/200\n",
            "20/20 [==============================] - 2s 113ms/step - loss: 0.0015 - accuracy: 0.9995 - val_loss: 1.1735 - val_accuracy: 0.9137\n",
            "Epoch 164/200\n",
            "20/20 [==============================] - 2s 108ms/step - loss: 0.0010 - accuracy: 0.9994 - val_loss: 1.1914 - val_accuracy: 0.9131\n",
            "Epoch 165/200\n",
            "20/20 [==============================] - 2s 117ms/step - loss: 0.0011 - accuracy: 0.9994 - val_loss: 1.2077 - val_accuracy: 0.9162\n",
            "Epoch 166/200\n",
            "20/20 [==============================] - 2s 114ms/step - loss: 9.9562e-04 - accuracy: 0.9991 - val_loss: 1.2147 - val_accuracy: 0.9162\n",
            "Epoch 167/200\n",
            "20/20 [==============================] - 2s 121ms/step - loss: 7.9725e-04 - accuracy: 0.9997 - val_loss: 1.2266 - val_accuracy: 0.9168\n",
            "Epoch 168/200\n",
            "20/20 [==============================] - 2s 113ms/step - loss: 9.4544e-04 - accuracy: 0.9994 - val_loss: 1.2457 - val_accuracy: 0.9162\n",
            "Epoch 169/200\n",
            "20/20 [==============================] - 2s 109ms/step - loss: 8.4085e-04 - accuracy: 0.9995 - val_loss: 1.2665 - val_accuracy: 0.9162\n",
            "Epoch 170/200\n",
            "20/20 [==============================] - 2s 109ms/step - loss: 0.0014 - accuracy: 0.9994 - val_loss: 1.2968 - val_accuracy: 0.9143\n",
            "Epoch 171/200\n",
            "20/20 [==============================] - 2s 117ms/step - loss: 6.8056e-04 - accuracy: 0.9995 - val_loss: 1.3204 - val_accuracy: 0.9131\n",
            "Epoch 172/200\n",
            "20/20 [==============================] - 2s 106ms/step - loss: 7.8757e-04 - accuracy: 0.9994 - val_loss: 1.3503 - val_accuracy: 0.9124\n",
            "Epoch 173/200\n",
            "20/20 [==============================] - 2s 111ms/step - loss: 7.1402e-04 - accuracy: 0.9998 - val_loss: 1.3882 - val_accuracy: 0.9131\n",
            "Epoch 174/200\n",
            "20/20 [==============================] - 2s 111ms/step - loss: 0.0011 - accuracy: 0.9994 - val_loss: 1.3786 - val_accuracy: 0.9112\n",
            "Epoch 175/200\n",
            "20/20 [==============================] - 2s 109ms/step - loss: 9.5438e-04 - accuracy: 0.9994 - val_loss: 1.3363 - val_accuracy: 0.9124\n",
            "Epoch 176/200\n",
            "20/20 [==============================] - 2s 115ms/step - loss: 5.6613e-04 - accuracy: 0.9998 - val_loss: 1.3519 - val_accuracy: 0.9131\n",
            "Epoch 177/200\n",
            "20/20 [==============================] - 2s 118ms/step - loss: 7.8454e-04 - accuracy: 0.9995 - val_loss: 1.3756 - val_accuracy: 0.9137\n",
            "Epoch 178/200\n",
            "20/20 [==============================] - 2s 114ms/step - loss: 6.6314e-04 - accuracy: 0.9997 - val_loss: 1.3783 - val_accuracy: 0.9137\n",
            "Epoch 179/200\n",
            "20/20 [==============================] - 2s 111ms/step - loss: 6.8439e-04 - accuracy: 0.9997 - val_loss: 1.3947 - val_accuracy: 0.9143\n",
            "Epoch 180/200\n",
            "20/20 [==============================] - 2s 111ms/step - loss: 9.4484e-04 - accuracy: 0.9994 - val_loss: 1.4414 - val_accuracy: 0.9143\n",
            "Epoch 181/200\n",
            "20/20 [==============================] - 2s 107ms/step - loss: 5.1588e-04 - accuracy: 0.9998 - val_loss: 1.4989 - val_accuracy: 0.9137\n",
            "Epoch 182/200\n",
            "20/20 [==============================] - 2s 110ms/step - loss: 9.6899e-04 - accuracy: 0.9995 - val_loss: 1.4943 - val_accuracy: 0.9143\n",
            "Epoch 183/200\n",
            "20/20 [==============================] - 2s 112ms/step - loss: 7.8231e-04 - accuracy: 0.9995 - val_loss: 1.5518 - val_accuracy: 0.9131\n",
            "Epoch 184/200\n",
            "20/20 [==============================] - 2s 118ms/step - loss: 5.3843e-04 - accuracy: 0.9997 - val_loss: 1.5828 - val_accuracy: 0.9099\n",
            "Epoch 185/200\n",
            "20/20 [==============================] - 2s 113ms/step - loss: 4.4005e-04 - accuracy: 0.9998 - val_loss: 1.6040 - val_accuracy: 0.9106\n",
            "Epoch 186/200\n",
            "20/20 [==============================] - 2s 118ms/step - loss: 6.0566e-04 - accuracy: 0.9995 - val_loss: 1.6668 - val_accuracy: 0.9131\n",
            "Epoch 187/200\n",
            "20/20 [==============================] - 2s 113ms/step - loss: 8.1634e-04 - accuracy: 0.9994 - val_loss: 1.7331 - val_accuracy: 0.9093\n",
            "Epoch 188/200\n",
            "20/20 [==============================] - 2s 112ms/step - loss: 0.0012 - accuracy: 0.9991 - val_loss: 1.7207 - val_accuracy: 0.9093\n",
            "Epoch 189/200\n",
            "20/20 [==============================] - 2s 117ms/step - loss: 4.4338e-04 - accuracy: 0.9998 - val_loss: 1.7389 - val_accuracy: 0.9093\n",
            "Epoch 190/200\n",
            "20/20 [==============================] - 2s 116ms/step - loss: 4.0931e-04 - accuracy: 1.0000 - val_loss: 1.7611 - val_accuracy: 0.9118\n",
            "Epoch 191/200\n",
            "20/20 [==============================] - 2s 110ms/step - loss: 0.0011 - accuracy: 0.9995 - val_loss: 1.7276 - val_accuracy: 0.9112\n",
            "Epoch 192/200\n",
            "20/20 [==============================] - 2s 120ms/step - loss: 7.8783e-04 - accuracy: 0.9995 - val_loss: 1.7033 - val_accuracy: 0.9112\n",
            "Epoch 193/200\n",
            "20/20 [==============================] - 2s 112ms/step - loss: 6.1137e-04 - accuracy: 0.9995 - val_loss: 1.6972 - val_accuracy: 0.9124\n",
            "Epoch 194/200\n",
            "20/20 [==============================] - 2s 118ms/step - loss: 0.0011 - accuracy: 0.9994 - val_loss: 1.6352 - val_accuracy: 0.9131\n",
            "Epoch 195/200\n",
            "20/20 [==============================] - 2s 113ms/step - loss: 5.8641e-04 - accuracy: 0.9995 - val_loss: 1.6433 - val_accuracy: 0.9118\n",
            "Epoch 196/200\n",
            "20/20 [==============================] - 2s 110ms/step - loss: 0.0012 - accuracy: 0.9992 - val_loss: 1.6230 - val_accuracy: 0.9162\n",
            "Epoch 197/200\n",
            "20/20 [==============================] - 2s 112ms/step - loss: 0.0016 - accuracy: 0.9991 - val_loss: 1.5197 - val_accuracy: 0.9149\n",
            "Epoch 198/200\n",
            "20/20 [==============================] - 2s 107ms/step - loss: 0.0012 - accuracy: 0.9992 - val_loss: 1.5020 - val_accuracy: 0.9149\n",
            "Epoch 199/200\n",
            "20/20 [==============================] - 2s 116ms/step - loss: 0.0011 - accuracy: 0.9995 - val_loss: 1.5037 - val_accuracy: 0.9156\n",
            "Epoch 200/200\n",
            "20/20 [==============================] - 2s 120ms/step - loss: 8.4920e-04 - accuracy: 0.9994 - val_loss: 1.4816 - val_accuracy: 0.9112\n"
          ]
        }
      ]
    },
    {
      "cell_type": "code",
      "source": [
        "model_new.compile(optimizer=Adam(learning_rate=0.001),loss='sparse_categorical_crossentropy',metrics=['accuracy'])"
      ],
      "metadata": {
        "id": "iaNs1qBOCUyR"
      },
      "execution_count": 444,
      "outputs": []
    },
    {
      "cell_type": "code",
      "source": [
        "Y_train_dummy_new=np.array(Y_train_dummy)"
      ],
      "metadata": {
        "id": "_9zVogXtCkQv"
      },
      "execution_count": 446,
      "outputs": []
    },
    {
      "cell_type": "code",
      "source": [
        "Y_train_dummy_new[0]"
      ],
      "metadata": {
        "colab": {
          "base_uri": "https://localhost:8080/"
        },
        "id": "As-vLJtYCtet",
        "outputId": "effc343b-a8a8-40a2-d92e-633247d8f1fd"
      },
      "execution_count": 449,
      "outputs": [
        {
          "output_type": "execute_result",
          "data": {
            "text/plain": [
              "5"
            ]
          },
          "metadata": {},
          "execution_count": 449
        }
      ]
    },
    {
      "cell_type": "code",
      "source": [
        "model_new_1=Sequential()\n",
        "model_new_1.add(Dense(512,input_shape=(57,),activation='relu'))\n",
        "model_new_1.add(Dense(256,activation='relu'))\n",
        "model_new_1.add(Dense(128,activation='relu'))\n",
        "model_new_1.add(Dense(128,activation='relu'))\n",
        "model_new_1.add(Dense(64,activation='relu'))\n",
        "model_new_1.add(Dropout(0.25))\n",
        "model_new_1.add(Dense(64,activation='relu'))\n",
        "model_new_1.add(Dense(32,activation='relu'))\n",
        "model_new_1.add(Dense(16,activation='relu'))\n",
        "model_new_1.add(Dropout(0.25))\n",
        "model_new_1.add(Dense(10,activation='softmax'))\n",
        "model_new_1.summary()"
      ],
      "metadata": {
        "colab": {
          "base_uri": "https://localhost:8080/"
        },
        "id": "dOkwfDcnFB3G",
        "outputId": "2cee69ca-040f-459c-b92b-d403eb473ba5"
      },
      "execution_count": 471,
      "outputs": [
        {
          "output_type": "stream",
          "name": "stdout",
          "text": [
            "Model: \"sequential_17\"\n",
            "_________________________________________________________________\n",
            " Layer (type)                Output Shape              Param #   \n",
            "=================================================================\n",
            " dense_88 (Dense)            (None, 512)               29696     \n",
            "                                                                 \n",
            " dense_89 (Dense)            (None, 256)               131328    \n",
            "                                                                 \n",
            " dense_90 (Dense)            (None, 128)               32896     \n",
            "                                                                 \n",
            " dense_91 (Dense)            (None, 128)               16512     \n",
            "                                                                 \n",
            " dense_92 (Dense)            (None, 64)                8256      \n",
            "                                                                 \n",
            " dropout_19 (Dropout)        (None, 64)                0         \n",
            "                                                                 \n",
            " dense_93 (Dense)            (None, 64)                4160      \n",
            "                                                                 \n",
            " dense_94 (Dense)            (None, 32)                2080      \n",
            "                                                                 \n",
            " dense_95 (Dense)            (None, 16)                528       \n",
            "                                                                 \n",
            " dropout_20 (Dropout)        (None, 16)                0         \n",
            "                                                                 \n",
            " dense_96 (Dense)            (None, 10)                170       \n",
            "                                                                 \n",
            "=================================================================\n",
            "Total params: 225,626\n",
            "Trainable params: 225,626\n",
            "Non-trainable params: 0\n",
            "_________________________________________________________________\n"
          ]
        }
      ]
    },
    {
      "cell_type": "code",
      "source": [
        "from tensorflow.keras.optimizers import RMSprop"
      ],
      "metadata": {
        "id": "-nOlFNWrFx8_"
      },
      "execution_count": 462,
      "outputs": []
    },
    {
      "cell_type": "code",
      "source": [
        "model_new_1.compile(optimizer=RMSprop(learning_rate=0.001),loss='sparse_categorical_crossentropy',metrics=['accuracy'])"
      ],
      "metadata": {
        "id": "RWYI7fmxFiFN"
      },
      "execution_count": 472,
      "outputs": []
    },
    {
      "cell_type": "code",
      "source": [
        "history_new_1=model_new_1.fit(x=X_train,y=Y_train_dummy_new,validation_split=0.2,shuffle=True,steps_per_epoch=20,epochs=600)"
      ],
      "metadata": {
        "colab": {
          "base_uri": "https://localhost:8080/"
        },
        "id": "yFjmbOKYF-BF",
        "outputId": "3962c7f1-880b-4ccc-cf5f-61547b7564b1"
      },
      "execution_count": 473,
      "outputs": [
        {
          "output_type": "stream",
          "name": "stdout",
          "text": [
            "Epoch 1/600\n",
            "20/20 [==============================] - 2s 36ms/step - loss: 2.1019 - accuracy: 0.2093 - val_loss: 1.7597 - val_accuracy: 0.3515\n",
            "Epoch 2/600\n",
            "20/20 [==============================] - 0s 25ms/step - loss: 1.7697 - accuracy: 0.3496 - val_loss: 1.5501 - val_accuracy: 0.4509\n",
            "Epoch 3/600\n",
            "20/20 [==============================] - 0s 22ms/step - loss: 1.5940 - accuracy: 0.4192 - val_loss: 1.3877 - val_accuracy: 0.5184\n",
            "Epoch 4/600\n",
            "20/20 [==============================] - 0s 23ms/step - loss: 1.4261 - accuracy: 0.4777 - val_loss: 1.2241 - val_accuracy: 0.5560\n",
            "Epoch 5/600\n",
            "20/20 [==============================] - 0s 25ms/step - loss: 1.3188 - accuracy: 0.5224 - val_loss: 1.2502 - val_accuracy: 0.5353\n",
            "Epoch 6/600\n",
            "20/20 [==============================] - 0s 25ms/step - loss: 1.2343 - accuracy: 0.5526 - val_loss: 1.1190 - val_accuracy: 0.5941\n",
            "Epoch 7/600\n",
            "20/20 [==============================] - 1s 26ms/step - loss: 1.1569 - accuracy: 0.5809 - val_loss: 1.0709 - val_accuracy: 0.6435\n",
            "Epoch 8/600\n",
            "20/20 [==============================] - 0s 19ms/step - loss: 1.0703 - accuracy: 0.6154 - val_loss: 1.0114 - val_accuracy: 0.6529\n",
            "Epoch 9/600\n",
            "20/20 [==============================] - 0s 23ms/step - loss: 1.0024 - accuracy: 0.6396 - val_loss: 0.9476 - val_accuracy: 0.6836\n",
            "Epoch 10/600\n",
            "20/20 [==============================] - 0s 22ms/step - loss: 0.9429 - accuracy: 0.6729 - val_loss: 0.8386 - val_accuracy: 0.7242\n",
            "Epoch 11/600\n",
            "20/20 [==============================] - 0s 21ms/step - loss: 0.8717 - accuracy: 0.6986 - val_loss: 0.7976 - val_accuracy: 0.7511\n",
            "Epoch 12/600\n",
            "20/20 [==============================] - 0s 25ms/step - loss: 0.8462 - accuracy: 0.7256 - val_loss: 0.7513 - val_accuracy: 0.7605\n",
            "Epoch 13/600\n",
            "20/20 [==============================] - 0s 24ms/step - loss: 0.7654 - accuracy: 0.7439 - val_loss: 0.7830 - val_accuracy: 0.7530\n",
            "Epoch 14/600\n",
            "20/20 [==============================] - 0s 21ms/step - loss: 0.7371 - accuracy: 0.7555 - val_loss: 0.7489 - val_accuracy: 0.7711\n",
            "Epoch 15/600\n",
            "20/20 [==============================] - 0s 19ms/step - loss: 0.6691 - accuracy: 0.7851 - val_loss: 0.6664 - val_accuracy: 0.7961\n",
            "Epoch 16/600\n",
            "20/20 [==============================] - 0s 20ms/step - loss: 0.6189 - accuracy: 0.7971 - val_loss: 0.7968 - val_accuracy: 0.7605\n",
            "Epoch 17/600\n",
            "20/20 [==============================] - 0s 22ms/step - loss: 0.5817 - accuracy: 0.8156 - val_loss: 0.6446 - val_accuracy: 0.8205\n",
            "Epoch 18/600\n",
            "20/20 [==============================] - 0s 20ms/step - loss: 0.5275 - accuracy: 0.8344 - val_loss: 0.6629 - val_accuracy: 0.8043\n",
            "Epoch 19/600\n",
            "20/20 [==============================] - 0s 22ms/step - loss: 0.5025 - accuracy: 0.8384 - val_loss: 0.5474 - val_accuracy: 0.8330\n",
            "Epoch 20/600\n",
            "20/20 [==============================] - 1s 26ms/step - loss: 0.4210 - accuracy: 0.8628 - val_loss: 0.7273 - val_accuracy: 0.7961\n",
            "Epoch 21/600\n",
            "20/20 [==============================] - 0s 25ms/step - loss: 0.4256 - accuracy: 0.8689 - val_loss: 0.6219 - val_accuracy: 0.8311\n",
            "Epoch 22/600\n",
            "20/20 [==============================] - 0s 23ms/step - loss: 0.3692 - accuracy: 0.8886 - val_loss: 0.5945 - val_accuracy: 0.8386\n",
            "Epoch 23/600\n",
            "20/20 [==============================] - 0s 24ms/step - loss: 0.3631 - accuracy: 0.8878 - val_loss: 0.5497 - val_accuracy: 0.8568\n",
            "Epoch 24/600\n",
            "20/20 [==============================] - 0s 21ms/step - loss: 0.3211 - accuracy: 0.9040 - val_loss: 0.5952 - val_accuracy: 0.8493\n",
            "Epoch 25/600\n",
            "20/20 [==============================] - 0s 24ms/step - loss: 0.3023 - accuracy: 0.9083 - val_loss: 0.7060 - val_accuracy: 0.8293\n",
            "Epoch 26/600\n",
            "20/20 [==============================] - 0s 25ms/step - loss: 0.3021 - accuracy: 0.9116 - val_loss: 0.6228 - val_accuracy: 0.8430\n",
            "Epoch 27/600\n",
            "20/20 [==============================] - 0s 24ms/step - loss: 0.2741 - accuracy: 0.9188 - val_loss: 0.5778 - val_accuracy: 0.8618\n",
            "Epoch 28/600\n",
            "20/20 [==============================] - 0s 25ms/step - loss: 0.2652 - accuracy: 0.9183 - val_loss: 0.7015 - val_accuracy: 0.8418\n",
            "Epoch 29/600\n",
            "20/20 [==============================] - 0s 20ms/step - loss: 0.2114 - accuracy: 0.9390 - val_loss: 1.0187 - val_accuracy: 0.8024\n",
            "Epoch 30/600\n",
            "20/20 [==============================] - 0s 25ms/step - loss: 0.2323 - accuracy: 0.9352 - val_loss: 0.8052 - val_accuracy: 0.8311\n",
            "Epoch 31/600\n",
            "20/20 [==============================] - 0s 20ms/step - loss: 0.2252 - accuracy: 0.9341 - val_loss: 0.6696 - val_accuracy: 0.8624\n",
            "Epoch 32/600\n",
            "20/20 [==============================] - 0s 21ms/step - loss: 0.1992 - accuracy: 0.9404 - val_loss: 0.6446 - val_accuracy: 0.8599\n",
            "Epoch 33/600\n",
            "20/20 [==============================] - 0s 23ms/step - loss: 0.1975 - accuracy: 0.9443 - val_loss: 0.6387 - val_accuracy: 0.8618\n",
            "Epoch 34/600\n",
            "20/20 [==============================] - 0s 21ms/step - loss: 0.1689 - accuracy: 0.9546 - val_loss: 0.7027 - val_accuracy: 0.8662\n",
            "Epoch 35/600\n",
            "20/20 [==============================] - 0s 25ms/step - loss: 0.1886 - accuracy: 0.9496 - val_loss: 0.7372 - val_accuracy: 0.8630\n",
            "Epoch 36/600\n",
            "20/20 [==============================] - 0s 23ms/step - loss: 0.1926 - accuracy: 0.9548 - val_loss: 1.3131 - val_accuracy: 0.7717\n",
            "Epoch 37/600\n",
            "20/20 [==============================] - 0s 24ms/step - loss: 0.1673 - accuracy: 0.9568 - val_loss: 0.7081 - val_accuracy: 0.8730\n",
            "Epoch 38/600\n",
            "20/20 [==============================] - 0s 23ms/step - loss: 0.1380 - accuracy: 0.9623 - val_loss: 0.8760 - val_accuracy: 0.8512\n",
            "Epoch 39/600\n",
            "20/20 [==============================] - 0s 21ms/step - loss: 0.1831 - accuracy: 0.9517 - val_loss: 0.8085 - val_accuracy: 0.8518\n",
            "Epoch 40/600\n",
            "20/20 [==============================] - 0s 20ms/step - loss: 0.1217 - accuracy: 0.9679 - val_loss: 0.9278 - val_accuracy: 0.8493\n",
            "Epoch 41/600\n",
            "20/20 [==============================] - 0s 25ms/step - loss: 0.1552 - accuracy: 0.9617 - val_loss: 0.6817 - val_accuracy: 0.8693\n",
            "Epoch 42/600\n",
            "20/20 [==============================] - 0s 24ms/step - loss: 0.1416 - accuracy: 0.9606 - val_loss: 0.7491 - val_accuracy: 0.8724\n",
            "Epoch 43/600\n",
            "20/20 [==============================] - 0s 25ms/step - loss: 0.1287 - accuracy: 0.9650 - val_loss: 1.0031 - val_accuracy: 0.8174\n",
            "Epoch 44/600\n",
            "20/20 [==============================] - 0s 21ms/step - loss: 0.1529 - accuracy: 0.9620 - val_loss: 0.6995 - val_accuracy: 0.8793\n",
            "Epoch 45/600\n",
            "20/20 [==============================] - 0s 21ms/step - loss: 0.1133 - accuracy: 0.9709 - val_loss: 0.7315 - val_accuracy: 0.8724\n",
            "Epoch 46/600\n",
            "20/20 [==============================] - 0s 23ms/step - loss: 0.0975 - accuracy: 0.9725 - val_loss: 0.9335 - val_accuracy: 0.8568\n",
            "Epoch 47/600\n",
            "20/20 [==============================] - 1s 26ms/step - loss: 0.1339 - accuracy: 0.9643 - val_loss: 0.7773 - val_accuracy: 0.8718\n",
            "Epoch 48/600\n",
            "20/20 [==============================] - 0s 23ms/step - loss: 0.0902 - accuracy: 0.9743 - val_loss: 0.9563 - val_accuracy: 0.8593\n",
            "Epoch 49/600\n",
            "20/20 [==============================] - 0s 22ms/step - loss: 0.1165 - accuracy: 0.9648 - val_loss: 0.8688 - val_accuracy: 0.8699\n",
            "Epoch 50/600\n",
            "20/20 [==============================] - 0s 25ms/step - loss: 0.0966 - accuracy: 0.9717 - val_loss: 0.9151 - val_accuracy: 0.8705\n",
            "Epoch 51/600\n",
            "20/20 [==============================] - 0s 21ms/step - loss: 0.0995 - accuracy: 0.9736 - val_loss: 1.0288 - val_accuracy: 0.8574\n",
            "Epoch 52/600\n",
            "20/20 [==============================] - 0s 25ms/step - loss: 0.1240 - accuracy: 0.9689 - val_loss: 0.8409 - val_accuracy: 0.8824\n",
            "Epoch 53/600\n",
            "20/20 [==============================] - 1s 26ms/step - loss: 0.1097 - accuracy: 0.9718 - val_loss: 0.7598 - val_accuracy: 0.8893\n",
            "Epoch 54/600\n",
            "20/20 [==============================] - 0s 25ms/step - loss: 0.0884 - accuracy: 0.9756 - val_loss: 0.8497 - val_accuracy: 0.8887\n",
            "Epoch 55/600\n",
            "20/20 [==============================] - 0s 23ms/step - loss: 0.1238 - accuracy: 0.9714 - val_loss: 0.8042 - val_accuracy: 0.8730\n",
            "Epoch 56/600\n",
            "20/20 [==============================] - 0s 23ms/step - loss: 0.0747 - accuracy: 0.9795 - val_loss: 1.0356 - val_accuracy: 0.8630\n",
            "Epoch 57/600\n",
            "20/20 [==============================] - 0s 25ms/step - loss: 0.1024 - accuracy: 0.9725 - val_loss: 0.8299 - val_accuracy: 0.8874\n",
            "Epoch 58/600\n",
            "20/20 [==============================] - 0s 20ms/step - loss: 0.1162 - accuracy: 0.9706 - val_loss: 0.7639 - val_accuracy: 0.8899\n",
            "Epoch 59/600\n",
            "20/20 [==============================] - 0s 23ms/step - loss: 0.1143 - accuracy: 0.9670 - val_loss: 0.7837 - val_accuracy: 0.8787\n",
            "Epoch 60/600\n",
            "20/20 [==============================] - 1s 26ms/step - loss: 0.1354 - accuracy: 0.9737 - val_loss: 0.8598 - val_accuracy: 0.8818\n",
            "Epoch 61/600\n",
            "20/20 [==============================] - 0s 22ms/step - loss: 0.0683 - accuracy: 0.9804 - val_loss: 0.9007 - val_accuracy: 0.8881\n",
            "Epoch 62/600\n",
            "20/20 [==============================] - 0s 23ms/step - loss: 0.0827 - accuracy: 0.9745 - val_loss: 1.0035 - val_accuracy: 0.8774\n",
            "Epoch 63/600\n",
            "20/20 [==============================] - 0s 25ms/step - loss: 0.0935 - accuracy: 0.9770 - val_loss: 0.9845 - val_accuracy: 0.8718\n",
            "Epoch 64/600\n",
            "20/20 [==============================] - 0s 23ms/step - loss: 0.0729 - accuracy: 0.9781 - val_loss: 1.0045 - val_accuracy: 0.8674\n",
            "Epoch 65/600\n",
            "20/20 [==============================] - 0s 25ms/step - loss: 0.0938 - accuracy: 0.9779 - val_loss: 0.9821 - val_accuracy: 0.8762\n",
            "Epoch 66/600\n",
            "20/20 [==============================] - 1s 26ms/step - loss: 0.0781 - accuracy: 0.9783 - val_loss: 0.8583 - val_accuracy: 0.8868\n",
            "Epoch 67/600\n",
            "20/20 [==============================] - 0s 25ms/step - loss: 0.0825 - accuracy: 0.9770 - val_loss: 0.9551 - val_accuracy: 0.8755\n",
            "Epoch 68/600\n",
            "20/20 [==============================] - 0s 21ms/step - loss: 0.0835 - accuracy: 0.9789 - val_loss: 1.0427 - val_accuracy: 0.8662\n",
            "Epoch 69/600\n",
            "20/20 [==============================] - 0s 21ms/step - loss: 0.1063 - accuracy: 0.9751 - val_loss: 0.9373 - val_accuracy: 0.8749\n",
            "Epoch 70/600\n",
            "20/20 [==============================] - 1s 27ms/step - loss: 0.0721 - accuracy: 0.9801 - val_loss: 0.9378 - val_accuracy: 0.8780\n",
            "Epoch 71/600\n",
            "20/20 [==============================] - 0s 25ms/step - loss: 0.0735 - accuracy: 0.9778 - val_loss: 1.0622 - val_accuracy: 0.8637\n",
            "Epoch 72/600\n",
            "20/20 [==============================] - 1s 27ms/step - loss: 0.0782 - accuracy: 0.9765 - val_loss: 0.9020 - val_accuracy: 0.8831\n",
            "Epoch 73/600\n",
            "20/20 [==============================] - 1s 26ms/step - loss: 0.0573 - accuracy: 0.9811 - val_loss: 0.9195 - val_accuracy: 0.8812\n",
            "Epoch 74/600\n",
            "20/20 [==============================] - 0s 23ms/step - loss: 0.0790 - accuracy: 0.9806 - val_loss: 0.9488 - val_accuracy: 0.8856\n",
            "Epoch 75/600\n",
            "20/20 [==============================] - 0s 25ms/step - loss: 0.0533 - accuracy: 0.9833 - val_loss: 1.3441 - val_accuracy: 0.8749\n",
            "Epoch 76/600\n",
            "20/20 [==============================] - 0s 21ms/step - loss: 0.1204 - accuracy: 0.9750 - val_loss: 0.9307 - val_accuracy: 0.8868\n",
            "Epoch 77/600\n",
            "20/20 [==============================] - 0s 20ms/step - loss: 0.0521 - accuracy: 0.9847 - val_loss: 1.3936 - val_accuracy: 0.8549\n",
            "Epoch 78/600\n",
            "20/20 [==============================] - 0s 23ms/step - loss: 0.0944 - accuracy: 0.9784 - val_loss: 0.9557 - val_accuracy: 0.8849\n",
            "Epoch 79/600\n",
            "20/20 [==============================] - 0s 24ms/step - loss: 0.0514 - accuracy: 0.9886 - val_loss: 0.9921 - val_accuracy: 0.8849\n",
            "Epoch 80/600\n",
            "20/20 [==============================] - 0s 25ms/step - loss: 0.0616 - accuracy: 0.9836 - val_loss: 1.0157 - val_accuracy: 0.8693\n",
            "Epoch 81/600\n",
            "20/20 [==============================] - 0s 23ms/step - loss: 0.0828 - accuracy: 0.9808 - val_loss: 0.9396 - val_accuracy: 0.8831\n",
            "Epoch 82/600\n",
            "20/20 [==============================] - 0s 23ms/step - loss: 0.0549 - accuracy: 0.9856 - val_loss: 1.0679 - val_accuracy: 0.8730\n",
            "Epoch 83/600\n",
            "20/20 [==============================] - 0s 23ms/step - loss: 0.1295 - accuracy: 0.9779 - val_loss: 1.0591 - val_accuracy: 0.8705\n",
            "Epoch 84/600\n",
            "20/20 [==============================] - 0s 24ms/step - loss: 0.0405 - accuracy: 0.9873 - val_loss: 1.1114 - val_accuracy: 0.8824\n",
            "Epoch 85/600\n",
            "20/20 [==============================] - 1s 26ms/step - loss: 0.0899 - accuracy: 0.9815 - val_loss: 0.9867 - val_accuracy: 0.8887\n",
            "Epoch 86/600\n",
            "20/20 [==============================] - 0s 24ms/step - loss: 0.0340 - accuracy: 0.9878 - val_loss: 1.1611 - val_accuracy: 0.8881\n",
            "Epoch 87/600\n",
            "20/20 [==============================] - 0s 23ms/step - loss: 0.0931 - accuracy: 0.9814 - val_loss: 1.0205 - val_accuracy: 0.8812\n",
            "Epoch 88/600\n",
            "20/20 [==============================] - 1s 27ms/step - loss: 0.0557 - accuracy: 0.9839 - val_loss: 1.0726 - val_accuracy: 0.8956\n",
            "Epoch 89/600\n",
            "20/20 [==============================] - 1s 25ms/step - loss: 0.0981 - accuracy: 0.9783 - val_loss: 1.2230 - val_accuracy: 0.8724\n",
            "Epoch 90/600\n",
            "20/20 [==============================] - 0s 24ms/step - loss: 0.0576 - accuracy: 0.9845 - val_loss: 0.9733 - val_accuracy: 0.8918\n",
            "Epoch 91/600\n",
            "20/20 [==============================] - 1s 27ms/step - loss: 0.0366 - accuracy: 0.9867 - val_loss: 1.3167 - val_accuracy: 0.8712\n",
            "Epoch 92/600\n",
            "20/20 [==============================] - 0s 23ms/step - loss: 0.0842 - accuracy: 0.9811 - val_loss: 1.0520 - val_accuracy: 0.8718\n",
            "Epoch 93/600\n",
            "20/20 [==============================] - 0s 22ms/step - loss: 0.0577 - accuracy: 0.9831 - val_loss: 0.9896 - val_accuracy: 0.8924\n",
            "Epoch 94/600\n",
            "20/20 [==============================] - 0s 24ms/step - loss: 0.1053 - accuracy: 0.9773 - val_loss: 1.0277 - val_accuracy: 0.8680\n",
            "Epoch 95/600\n",
            "20/20 [==============================] - 1s 25ms/step - loss: 0.0344 - accuracy: 0.9900 - val_loss: 1.0178 - val_accuracy: 0.8931\n",
            "Epoch 96/600\n",
            "20/20 [==============================] - 0s 23ms/step - loss: 0.1000 - accuracy: 0.9819 - val_loss: 1.1196 - val_accuracy: 0.8768\n",
            "Epoch 97/600\n",
            "20/20 [==============================] - 1s 25ms/step - loss: 0.0429 - accuracy: 0.9878 - val_loss: 0.9681 - val_accuracy: 0.9018\n",
            "Epoch 98/600\n",
            "20/20 [==============================] - 0s 25ms/step - loss: 0.0533 - accuracy: 0.9867 - val_loss: 1.8159 - val_accuracy: 0.8368\n",
            "Epoch 99/600\n",
            "20/20 [==============================] - 0s 24ms/step - loss: 0.0750 - accuracy: 0.9809 - val_loss: 1.0134 - val_accuracy: 0.8893\n",
            "Epoch 100/600\n",
            "20/20 [==============================] - 0s 22ms/step - loss: 0.0422 - accuracy: 0.9858 - val_loss: 1.1273 - val_accuracy: 0.8937\n",
            "Epoch 101/600\n",
            "20/20 [==============================] - 0s 23ms/step - loss: 0.0982 - accuracy: 0.9830 - val_loss: 1.0156 - val_accuracy: 0.8912\n",
            "Epoch 102/600\n",
            "20/20 [==============================] - 0s 23ms/step - loss: 0.0588 - accuracy: 0.9840 - val_loss: 1.0601 - val_accuracy: 0.8918\n",
            "Epoch 103/600\n",
            "20/20 [==============================] - 0s 23ms/step - loss: 0.0559 - accuracy: 0.9848 - val_loss: 0.9756 - val_accuracy: 0.8974\n",
            "Epoch 104/600\n",
            "20/20 [==============================] - 0s 21ms/step - loss: 0.0451 - accuracy: 0.9869 - val_loss: 1.3988 - val_accuracy: 0.8630\n",
            "Epoch 105/600\n",
            "20/20 [==============================] - 0s 24ms/step - loss: 0.0676 - accuracy: 0.9840 - val_loss: 1.0354 - val_accuracy: 0.8906\n",
            "Epoch 106/600\n",
            "20/20 [==============================] - 0s 23ms/step - loss: 0.0361 - accuracy: 0.9878 - val_loss: 1.0656 - val_accuracy: 0.8887\n",
            "Epoch 107/600\n",
            "20/20 [==============================] - 0s 24ms/step - loss: 0.0688 - accuracy: 0.9856 - val_loss: 1.0895 - val_accuracy: 0.8962\n",
            "Epoch 108/600\n",
            "20/20 [==============================] - 0s 22ms/step - loss: 0.0621 - accuracy: 0.9847 - val_loss: 1.3284 - val_accuracy: 0.8749\n",
            "Epoch 109/600\n",
            "20/20 [==============================] - 0s 21ms/step - loss: 0.0541 - accuracy: 0.9840 - val_loss: 1.1302 - val_accuracy: 0.8893\n",
            "Epoch 110/600\n",
            "20/20 [==============================] - 0s 21ms/step - loss: 0.0981 - accuracy: 0.9800 - val_loss: 1.2620 - val_accuracy: 0.8762\n",
            "Epoch 111/600\n",
            "20/20 [==============================] - 0s 25ms/step - loss: 0.0357 - accuracy: 0.9884 - val_loss: 1.0725 - val_accuracy: 0.8993\n",
            "Epoch 112/600\n",
            "20/20 [==============================] - 0s 25ms/step - loss: 0.0947 - accuracy: 0.9812 - val_loss: 1.1243 - val_accuracy: 0.8818\n",
            "Epoch 113/600\n",
            "20/20 [==============================] - 0s 21ms/step - loss: 0.0518 - accuracy: 0.9864 - val_loss: 1.1767 - val_accuracy: 0.8893\n",
            "Epoch 114/600\n",
            "20/20 [==============================] - 0s 24ms/step - loss: 0.0464 - accuracy: 0.9859 - val_loss: 1.1250 - val_accuracy: 0.8899\n",
            "Epoch 115/600\n",
            "20/20 [==============================] - 0s 23ms/step - loss: 0.0398 - accuracy: 0.9881 - val_loss: 1.4096 - val_accuracy: 0.8712\n",
            "Epoch 116/600\n",
            "20/20 [==============================] - 1s 26ms/step - loss: 0.0646 - accuracy: 0.9819 - val_loss: 0.9930 - val_accuracy: 0.8937\n",
            "Epoch 117/600\n",
            "20/20 [==============================] - 0s 25ms/step - loss: 0.0299 - accuracy: 0.9898 - val_loss: 1.2205 - val_accuracy: 0.8912\n",
            "Epoch 118/600\n",
            "20/20 [==============================] - 0s 25ms/step - loss: 0.0960 - accuracy: 0.9837 - val_loss: 0.9318 - val_accuracy: 0.8912\n",
            "Epoch 119/600\n",
            "20/20 [==============================] - 1s 26ms/step - loss: 0.0328 - accuracy: 0.9894 - val_loss: 1.0410 - val_accuracy: 0.8956\n",
            "Epoch 120/600\n",
            "20/20 [==============================] - 0s 24ms/step - loss: 0.0504 - accuracy: 0.9847 - val_loss: 1.2716 - val_accuracy: 0.8906\n",
            "Epoch 121/600\n",
            "20/20 [==============================] - 1s 25ms/step - loss: 0.0278 - accuracy: 0.9884 - val_loss: 1.1916 - val_accuracy: 0.9031\n",
            "Epoch 122/600\n",
            "20/20 [==============================] - 0s 24ms/step - loss: 0.1370 - accuracy: 0.9811 - val_loss: 1.1217 - val_accuracy: 0.8856\n",
            "Epoch 123/600\n",
            "20/20 [==============================] - 0s 21ms/step - loss: 0.0242 - accuracy: 0.9911 - val_loss: 1.2927 - val_accuracy: 0.8937\n",
            "Epoch 124/600\n",
            "20/20 [==============================] - 0s 21ms/step - loss: 0.0748 - accuracy: 0.9845 - val_loss: 1.4678 - val_accuracy: 0.8818\n",
            "Epoch 125/600\n",
            "20/20 [==============================] - 0s 20ms/step - loss: 0.0531 - accuracy: 0.9870 - val_loss: 1.3489 - val_accuracy: 0.8899\n",
            "Epoch 126/600\n",
            "20/20 [==============================] - 0s 24ms/step - loss: 0.0287 - accuracy: 0.9889 - val_loss: 1.4536 - val_accuracy: 0.8881\n",
            "Epoch 127/600\n",
            "20/20 [==============================] - 0s 21ms/step - loss: 0.1066 - accuracy: 0.9814 - val_loss: 1.2360 - val_accuracy: 0.8862\n",
            "Epoch 128/600\n",
            "20/20 [==============================] - 0s 23ms/step - loss: 0.0359 - accuracy: 0.9897 - val_loss: 1.3798 - val_accuracy: 0.8824\n",
            "Epoch 129/600\n",
            "20/20 [==============================] - 1s 26ms/step - loss: 0.0732 - accuracy: 0.9833 - val_loss: 1.2403 - val_accuracy: 0.8924\n",
            "Epoch 130/600\n",
            "20/20 [==============================] - 0s 22ms/step - loss: 0.0507 - accuracy: 0.9869 - val_loss: 1.4068 - val_accuracy: 0.8843\n",
            "Epoch 131/600\n",
            "20/20 [==============================] - 0s 21ms/step - loss: 0.0322 - accuracy: 0.9892 - val_loss: 1.4010 - val_accuracy: 0.8862\n",
            "Epoch 132/600\n",
            "20/20 [==============================] - 0s 24ms/step - loss: 0.0720 - accuracy: 0.9811 - val_loss: 1.2829 - val_accuracy: 0.8868\n",
            "Epoch 133/600\n",
            "20/20 [==============================] - 0s 25ms/step - loss: 0.0240 - accuracy: 0.9897 - val_loss: 1.4150 - val_accuracy: 0.8918\n",
            "Epoch 134/600\n",
            "20/20 [==============================] - 0s 25ms/step - loss: 0.1202 - accuracy: 0.9801 - val_loss: 1.0521 - val_accuracy: 0.8899\n",
            "Epoch 135/600\n",
            "20/20 [==============================] - 0s 24ms/step - loss: 0.0323 - accuracy: 0.9894 - val_loss: 1.1652 - val_accuracy: 0.8943\n",
            "Epoch 136/600\n",
            "20/20 [==============================] - 0s 22ms/step - loss: 0.0484 - accuracy: 0.9884 - val_loss: 1.5307 - val_accuracy: 0.8768\n",
            "Epoch 137/600\n",
            "20/20 [==============================] - 0s 25ms/step - loss: 0.0399 - accuracy: 0.9865 - val_loss: 1.2118 - val_accuracy: 0.9018\n",
            "Epoch 138/600\n",
            "20/20 [==============================] - 0s 21ms/step - loss: 0.0458 - accuracy: 0.9848 - val_loss: 1.3156 - val_accuracy: 0.8831\n",
            "Epoch 139/600\n",
            "20/20 [==============================] - 0s 24ms/step - loss: 0.0354 - accuracy: 0.9878 - val_loss: 1.3764 - val_accuracy: 0.8881\n",
            "Epoch 140/600\n",
            "20/20 [==============================] - 0s 23ms/step - loss: 0.0430 - accuracy: 0.9865 - val_loss: 1.5441 - val_accuracy: 0.8849\n",
            "Epoch 141/600\n",
            "20/20 [==============================] - 1s 26ms/step - loss: 0.0737 - accuracy: 0.9833 - val_loss: 1.2461 - val_accuracy: 0.8931\n",
            "Epoch 142/600\n",
            "20/20 [==============================] - 1s 26ms/step - loss: 0.0282 - accuracy: 0.9894 - val_loss: 1.4254 - val_accuracy: 0.8906\n",
            "Epoch 143/600\n",
            "20/20 [==============================] - 0s 23ms/step - loss: 0.0324 - accuracy: 0.9870 - val_loss: 1.3344 - val_accuracy: 0.9006\n",
            "Epoch 144/600\n",
            "20/20 [==============================] - 0s 24ms/step - loss: 0.0685 - accuracy: 0.9839 - val_loss: 1.3949 - val_accuracy: 0.8968\n",
            "Epoch 145/600\n",
            "20/20 [==============================] - 0s 24ms/step - loss: 0.0296 - accuracy: 0.9900 - val_loss: 1.3569 - val_accuracy: 0.8918\n",
            "Epoch 146/600\n",
            "20/20 [==============================] - 0s 20ms/step - loss: 0.0244 - accuracy: 0.9916 - val_loss: 1.5398 - val_accuracy: 0.8999\n",
            "Epoch 147/600\n",
            "20/20 [==============================] - 0s 23ms/step - loss: 0.0916 - accuracy: 0.9812 - val_loss: 1.2538 - val_accuracy: 0.8837\n",
            "Epoch 148/600\n",
            "20/20 [==============================] - 0s 22ms/step - loss: 0.0676 - accuracy: 0.9870 - val_loss: 1.3091 - val_accuracy: 0.8924\n",
            "Epoch 149/600\n",
            "20/20 [==============================] - 0s 24ms/step - loss: 0.0265 - accuracy: 0.9901 - val_loss: 1.5356 - val_accuracy: 0.8906\n",
            "Epoch 150/600\n",
            "20/20 [==============================] - 0s 25ms/step - loss: 0.0796 - accuracy: 0.9822 - val_loss: 1.4726 - val_accuracy: 0.8918\n",
            "Epoch 151/600\n",
            "20/20 [==============================] - 0s 22ms/step - loss: 0.0959 - accuracy: 0.9847 - val_loss: 1.5847 - val_accuracy: 0.8806\n",
            "Epoch 152/600\n",
            "20/20 [==============================] - 1s 29ms/step - loss: 0.0432 - accuracy: 0.9862 - val_loss: 1.4286 - val_accuracy: 0.8893\n",
            "Epoch 153/600\n",
            "20/20 [==============================] - 1s 27ms/step - loss: 0.0337 - accuracy: 0.9876 - val_loss: 1.3951 - val_accuracy: 0.8849\n",
            "Epoch 154/600\n",
            "20/20 [==============================] - 0s 24ms/step - loss: 0.0538 - accuracy: 0.9855 - val_loss: 1.3586 - val_accuracy: 0.8993\n",
            "Epoch 155/600\n",
            "20/20 [==============================] - 1s 26ms/step - loss: 0.0386 - accuracy: 0.9869 - val_loss: 1.1379 - val_accuracy: 0.8893\n",
            "Epoch 156/600\n",
            "20/20 [==============================] - 0s 24ms/step - loss: 0.0377 - accuracy: 0.9895 - val_loss: 1.4141 - val_accuracy: 0.8924\n",
            "Epoch 157/600\n",
            "20/20 [==============================] - 1s 25ms/step - loss: 0.0584 - accuracy: 0.9859 - val_loss: 1.3599 - val_accuracy: 0.8874\n",
            "Epoch 158/600\n",
            "20/20 [==============================] - 0s 24ms/step - loss: 0.0439 - accuracy: 0.9869 - val_loss: 1.1653 - val_accuracy: 0.9018\n",
            "Epoch 159/600\n",
            "20/20 [==============================] - 1s 26ms/step - loss: 0.0552 - accuracy: 0.9858 - val_loss: 1.0484 - val_accuracy: 0.8987\n",
            "Epoch 160/600\n",
            "20/20 [==============================] - 0s 24ms/step - loss: 0.0180 - accuracy: 0.9922 - val_loss: 1.4104 - val_accuracy: 0.9037\n",
            "Epoch 161/600\n",
            "20/20 [==============================] - 0s 24ms/step - loss: 0.0380 - accuracy: 0.9878 - val_loss: 1.7795 - val_accuracy: 0.8868\n",
            "Epoch 162/600\n",
            "20/20 [==============================] - 0s 24ms/step - loss: 0.0888 - accuracy: 0.9851 - val_loss: 1.2599 - val_accuracy: 0.8999\n",
            "Epoch 163/600\n",
            "20/20 [==============================] - 0s 21ms/step - loss: 0.0301 - accuracy: 0.9886 - val_loss: 1.3249 - val_accuracy: 0.9018\n",
            "Epoch 164/600\n",
            "20/20 [==============================] - 0s 25ms/step - loss: 0.0270 - accuracy: 0.9908 - val_loss: 1.5094 - val_accuracy: 0.8949\n",
            "Epoch 165/600\n",
            "20/20 [==============================] - 1s 27ms/step - loss: 0.0820 - accuracy: 0.9864 - val_loss: 1.4341 - val_accuracy: 0.8862\n",
            "Epoch 166/600\n",
            "20/20 [==============================] - 0s 25ms/step - loss: 0.0254 - accuracy: 0.9898 - val_loss: 1.6364 - val_accuracy: 0.8974\n",
            "Epoch 167/600\n",
            "20/20 [==============================] - 0s 21ms/step - loss: 0.0876 - accuracy: 0.9848 - val_loss: 1.5417 - val_accuracy: 0.8774\n",
            "Epoch 168/600\n",
            "20/20 [==============================] - 0s 21ms/step - loss: 0.0573 - accuracy: 0.9867 - val_loss: 1.4492 - val_accuracy: 0.8887\n",
            "Epoch 169/600\n",
            "20/20 [==============================] - 1s 27ms/step - loss: 0.0263 - accuracy: 0.9909 - val_loss: 1.3781 - val_accuracy: 0.8918\n",
            "Epoch 170/600\n",
            "20/20 [==============================] - 0s 24ms/step - loss: 0.0631 - accuracy: 0.9875 - val_loss: 1.4691 - val_accuracy: 0.8874\n",
            "Epoch 171/600\n",
            "20/20 [==============================] - 1s 27ms/step - loss: 0.0235 - accuracy: 0.9903 - val_loss: 1.6227 - val_accuracy: 0.8937\n",
            "Epoch 172/600\n",
            "20/20 [==============================] - 1s 27ms/step - loss: 0.1122 - accuracy: 0.9840 - val_loss: 1.3370 - val_accuracy: 0.8949\n",
            "Epoch 173/600\n",
            "20/20 [==============================] - 1s 29ms/step - loss: 0.0285 - accuracy: 0.9900 - val_loss: 1.4491 - val_accuracy: 0.9049\n",
            "Epoch 174/600\n",
            "20/20 [==============================] - 1s 25ms/step - loss: 0.0211 - accuracy: 0.9909 - val_loss: 1.8412 - val_accuracy: 0.8956\n",
            "Epoch 175/600\n",
            "20/20 [==============================] - 1s 25ms/step - loss: 0.0680 - accuracy: 0.9864 - val_loss: 1.4987 - val_accuracy: 0.9018\n",
            "Epoch 176/600\n",
            "20/20 [==============================] - 1s 26ms/step - loss: 0.0461 - accuracy: 0.9881 - val_loss: 1.6169 - val_accuracy: 0.8949\n",
            "Epoch 177/600\n",
            "20/20 [==============================] - 1s 27ms/step - loss: 0.0251 - accuracy: 0.9928 - val_loss: 1.6772 - val_accuracy: 0.8999\n",
            "Epoch 178/600\n",
            "20/20 [==============================] - 1s 27ms/step - loss: 0.0612 - accuracy: 0.9911 - val_loss: 1.9869 - val_accuracy: 0.8637\n",
            "Epoch 179/600\n",
            "20/20 [==============================] - 1s 27ms/step - loss: 0.0568 - accuracy: 0.9884 - val_loss: 1.6921 - val_accuracy: 0.8831\n",
            "Epoch 180/600\n",
            "20/20 [==============================] - 0s 21ms/step - loss: 0.0517 - accuracy: 0.9864 - val_loss: 1.5952 - val_accuracy: 0.8849\n",
            "Epoch 181/600\n",
            "20/20 [==============================] - 0s 24ms/step - loss: 0.0754 - accuracy: 0.9862 - val_loss: 1.2127 - val_accuracy: 0.8924\n",
            "Epoch 182/600\n",
            "20/20 [==============================] - 0s 24ms/step - loss: 0.0199 - accuracy: 0.9937 - val_loss: 1.4221 - val_accuracy: 0.8993\n",
            "Epoch 183/600\n",
            "20/20 [==============================] - 0s 22ms/step - loss: 0.0264 - accuracy: 0.9891 - val_loss: 1.8303 - val_accuracy: 0.8737\n",
            "Epoch 184/600\n",
            "20/20 [==============================] - 0s 21ms/step - loss: 0.0530 - accuracy: 0.9878 - val_loss: 1.3952 - val_accuracy: 0.8774\n",
            "Epoch 185/600\n",
            "20/20 [==============================] - 0s 22ms/step - loss: 0.0340 - accuracy: 0.9909 - val_loss: 1.3957 - val_accuracy: 0.8906\n",
            "Epoch 186/600\n",
            "20/20 [==============================] - 0s 21ms/step - loss: 0.0229 - accuracy: 0.9920 - val_loss: 1.8368 - val_accuracy: 0.8962\n",
            "Epoch 187/600\n",
            "20/20 [==============================] - 0s 23ms/step - loss: 0.0554 - accuracy: 0.9865 - val_loss: 1.5540 - val_accuracy: 0.8956\n",
            "Epoch 188/600\n",
            "20/20 [==============================] - 1s 27ms/step - loss: 0.0650 - accuracy: 0.9886 - val_loss: 1.7209 - val_accuracy: 0.8868\n",
            "Epoch 189/600\n",
            "20/20 [==============================] - 0s 22ms/step - loss: 0.0286 - accuracy: 0.9900 - val_loss: 1.7763 - val_accuracy: 0.8931\n",
            "Epoch 190/600\n",
            "20/20 [==============================] - 0s 25ms/step - loss: 0.0438 - accuracy: 0.9894 - val_loss: 1.5872 - val_accuracy: 0.8981\n",
            "Epoch 191/600\n",
            "20/20 [==============================] - 1s 26ms/step - loss: 0.0462 - accuracy: 0.9905 - val_loss: 1.4700 - val_accuracy: 0.8893\n",
            "Epoch 192/600\n",
            "20/20 [==============================] - 1s 27ms/step - loss: 0.0516 - accuracy: 0.9900 - val_loss: 1.7032 - val_accuracy: 0.8787\n",
            "Epoch 193/600\n",
            "20/20 [==============================] - 0s 24ms/step - loss: 0.0583 - accuracy: 0.9881 - val_loss: 1.4359 - val_accuracy: 0.8943\n",
            "Epoch 194/600\n",
            "20/20 [==============================] - 0s 24ms/step - loss: 0.0381 - accuracy: 0.9911 - val_loss: 1.7221 - val_accuracy: 0.8918\n",
            "Epoch 195/600\n",
            "20/20 [==============================] - 0s 23ms/step - loss: 0.0528 - accuracy: 0.9872 - val_loss: 1.7704 - val_accuracy: 0.8755\n",
            "Epoch 196/600\n",
            "20/20 [==============================] - 0s 22ms/step - loss: 0.0391 - accuracy: 0.9900 - val_loss: 1.5811 - val_accuracy: 0.8856\n",
            "Epoch 197/600\n",
            "20/20 [==============================] - 0s 22ms/step - loss: 0.0271 - accuracy: 0.9905 - val_loss: 2.1037 - val_accuracy: 0.8818\n",
            "Epoch 198/600\n",
            "20/20 [==============================] - 0s 24ms/step - loss: 0.0638 - accuracy: 0.9880 - val_loss: 1.6151 - val_accuracy: 0.8912\n",
            "Epoch 199/600\n",
            "20/20 [==============================] - 0s 21ms/step - loss: 0.0228 - accuracy: 0.9920 - val_loss: 1.6874 - val_accuracy: 0.8931\n",
            "Epoch 200/600\n",
            "20/20 [==============================] - 1s 26ms/step - loss: 0.0794 - accuracy: 0.9862 - val_loss: 1.5051 - val_accuracy: 0.8931\n",
            "Epoch 201/600\n",
            "20/20 [==============================] - 0s 23ms/step - loss: 0.0197 - accuracy: 0.9933 - val_loss: 1.8875 - val_accuracy: 0.8943\n",
            "Epoch 202/600\n",
            "20/20 [==============================] - 1s 26ms/step - loss: 0.0367 - accuracy: 0.9923 - val_loss: 1.7931 - val_accuracy: 0.8874\n",
            "Epoch 203/600\n",
            "20/20 [==============================] - 0s 24ms/step - loss: 0.0433 - accuracy: 0.9891 - val_loss: 1.4973 - val_accuracy: 0.8906\n",
            "Epoch 204/600\n",
            "20/20 [==============================] - 0s 23ms/step - loss: 0.0251 - accuracy: 0.9916 - val_loss: 1.7733 - val_accuracy: 0.8924\n",
            "Epoch 205/600\n",
            "20/20 [==============================] - 0s 24ms/step - loss: 0.0665 - accuracy: 0.9883 - val_loss: 1.6853 - val_accuracy: 0.8856\n",
            "Epoch 206/600\n",
            "20/20 [==============================] - 0s 22ms/step - loss: 0.0531 - accuracy: 0.9889 - val_loss: 1.4538 - val_accuracy: 0.8968\n",
            "Epoch 207/600\n",
            "20/20 [==============================] - 1s 27ms/step - loss: 0.0248 - accuracy: 0.9906 - val_loss: 1.7532 - val_accuracy: 0.8912\n",
            "Epoch 208/600\n",
            "20/20 [==============================] - 0s 21ms/step - loss: 0.0203 - accuracy: 0.9917 - val_loss: 2.4098 - val_accuracy: 0.8774\n",
            "Epoch 209/600\n",
            "20/20 [==============================] - 0s 22ms/step - loss: 0.0693 - accuracy: 0.9875 - val_loss: 1.6589 - val_accuracy: 0.8849\n",
            "Epoch 210/600\n",
            "20/20 [==============================] - 1s 25ms/step - loss: 0.0259 - accuracy: 0.9908 - val_loss: 1.6673 - val_accuracy: 0.8849\n",
            "Epoch 211/600\n",
            "20/20 [==============================] - 1s 26ms/step - loss: 0.0298 - accuracy: 0.9909 - val_loss: 1.6777 - val_accuracy: 0.8912\n",
            "Epoch 212/600\n",
            "20/20 [==============================] - 1s 26ms/step - loss: 0.1464 - accuracy: 0.9875 - val_loss: 1.9153 - val_accuracy: 0.8655\n",
            "Epoch 213/600\n",
            "20/20 [==============================] - 1s 29ms/step - loss: 0.0517 - accuracy: 0.9872 - val_loss: 1.4062 - val_accuracy: 0.8918\n",
            "Epoch 214/600\n",
            "20/20 [==============================] - 0s 24ms/step - loss: 0.0270 - accuracy: 0.9916 - val_loss: 1.6963 - val_accuracy: 0.8956\n",
            "Epoch 215/600\n",
            "20/20 [==============================] - 1s 26ms/step - loss: 0.0319 - accuracy: 0.9908 - val_loss: 1.9250 - val_accuracy: 0.8881\n",
            "Epoch 216/600\n",
            "20/20 [==============================] - 0s 25ms/step - loss: 0.0406 - accuracy: 0.9892 - val_loss: 1.9601 - val_accuracy: 0.8762\n",
            "Epoch 217/600\n",
            "20/20 [==============================] - 0s 25ms/step - loss: 0.0544 - accuracy: 0.9900 - val_loss: 1.3931 - val_accuracy: 0.8924\n",
            "Epoch 218/600\n",
            "20/20 [==============================] - 0s 24ms/step - loss: 0.0304 - accuracy: 0.9906 - val_loss: 1.8559 - val_accuracy: 0.8962\n",
            "Epoch 219/600\n",
            "20/20 [==============================] - 1s 25ms/step - loss: 0.0309 - accuracy: 0.9917 - val_loss: 1.8665 - val_accuracy: 0.8974\n",
            "Epoch 220/600\n",
            "20/20 [==============================] - 0s 21ms/step - loss: 0.0297 - accuracy: 0.9912 - val_loss: 1.7827 - val_accuracy: 0.8993\n",
            "Epoch 221/600\n",
            "20/20 [==============================] - 0s 25ms/step - loss: 0.1536 - accuracy: 0.9845 - val_loss: 1.9682 - val_accuracy: 0.8780\n",
            "Epoch 222/600\n",
            "20/20 [==============================] - 0s 25ms/step - loss: 0.0332 - accuracy: 0.9920 - val_loss: 1.6330 - val_accuracy: 0.8856\n",
            "Epoch 223/600\n",
            "20/20 [==============================] - 0s 21ms/step - loss: 0.0223 - accuracy: 0.9911 - val_loss: 2.0219 - val_accuracy: 0.8956\n",
            "Epoch 224/600\n",
            "20/20 [==============================] - 0s 22ms/step - loss: 0.0362 - accuracy: 0.9920 - val_loss: 2.2908 - val_accuracy: 0.8868\n",
            "Epoch 225/600\n",
            "20/20 [==============================] - 0s 22ms/step - loss: 0.0855 - accuracy: 0.9891 - val_loss: 1.5481 - val_accuracy: 0.8818\n",
            "Epoch 226/600\n",
            "20/20 [==============================] - 1s 26ms/step - loss: 0.0257 - accuracy: 0.9930 - val_loss: 1.8061 - val_accuracy: 0.8837\n",
            "Epoch 227/600\n",
            "20/20 [==============================] - 1s 26ms/step - loss: 0.0259 - accuracy: 0.9928 - val_loss: 1.9072 - val_accuracy: 0.8899\n",
            "Epoch 228/600\n",
            "20/20 [==============================] - 0s 23ms/step - loss: 0.0810 - accuracy: 0.9911 - val_loss: 1.8103 - val_accuracy: 0.8874\n",
            "Epoch 229/600\n",
            "20/20 [==============================] - 0s 22ms/step - loss: 0.0328 - accuracy: 0.9923 - val_loss: 1.7741 - val_accuracy: 0.8881\n",
            "Epoch 230/600\n",
            "20/20 [==============================] - 1s 26ms/step - loss: 0.0232 - accuracy: 0.9925 - val_loss: 2.6358 - val_accuracy: 0.8599\n",
            "Epoch 231/600\n",
            "20/20 [==============================] - 0s 25ms/step - loss: 0.0830 - accuracy: 0.9864 - val_loss: 1.7345 - val_accuracy: 0.8912\n",
            "Epoch 232/600\n",
            "20/20 [==============================] - 1s 28ms/step - loss: 0.0784 - accuracy: 0.9886 - val_loss: 1.5323 - val_accuracy: 0.8768\n",
            "Epoch 233/600\n",
            "20/20 [==============================] - 0s 23ms/step - loss: 0.0250 - accuracy: 0.9905 - val_loss: 1.7895 - val_accuracy: 0.8924\n",
            "Epoch 234/600\n",
            "20/20 [==============================] - 1s 26ms/step - loss: 0.0405 - accuracy: 0.9916 - val_loss: 2.0967 - val_accuracy: 0.8755\n",
            "Epoch 235/600\n",
            "20/20 [==============================] - 0s 23ms/step - loss: 0.0283 - accuracy: 0.9912 - val_loss: 1.8980 - val_accuracy: 0.8868\n",
            "Epoch 236/600\n",
            "20/20 [==============================] - 1s 28ms/step - loss: 0.0537 - accuracy: 0.9869 - val_loss: 1.5574 - val_accuracy: 0.8849\n",
            "Epoch 237/600\n",
            "20/20 [==============================] - 0s 22ms/step - loss: 0.0361 - accuracy: 0.9898 - val_loss: 2.5781 - val_accuracy: 0.8649\n",
            "Epoch 238/600\n",
            "20/20 [==============================] - 1s 26ms/step - loss: 0.0571 - accuracy: 0.9900 - val_loss: 1.5982 - val_accuracy: 0.8949\n",
            "Epoch 239/600\n",
            "20/20 [==============================] - 0s 22ms/step - loss: 0.0231 - accuracy: 0.9922 - val_loss: 1.8967 - val_accuracy: 0.8899\n",
            "Epoch 240/600\n",
            "20/20 [==============================] - 1s 27ms/step - loss: 0.0168 - accuracy: 0.9941 - val_loss: 2.2466 - val_accuracy: 0.8924\n",
            "Epoch 241/600\n",
            "20/20 [==============================] - 1s 26ms/step - loss: 0.0723 - accuracy: 0.9894 - val_loss: 1.5727 - val_accuracy: 0.8837\n",
            "Epoch 242/600\n",
            "20/20 [==============================] - 0s 24ms/step - loss: 0.0508 - accuracy: 0.9914 - val_loss: 1.5984 - val_accuracy: 0.8893\n",
            "Epoch 243/600\n",
            "20/20 [==============================] - 0s 21ms/step - loss: 0.0209 - accuracy: 0.9923 - val_loss: 1.9496 - val_accuracy: 0.8893\n",
            "Epoch 244/600\n",
            "20/20 [==============================] - 1s 27ms/step - loss: 0.0200 - accuracy: 0.9937 - val_loss: 2.1759 - val_accuracy: 0.8849\n",
            "Epoch 245/600\n",
            "20/20 [==============================] - 1s 26ms/step - loss: 0.0457 - accuracy: 0.9895 - val_loss: 1.7827 - val_accuracy: 0.8906\n",
            "Epoch 246/600\n",
            "20/20 [==============================] - 1s 26ms/step - loss: 0.0731 - accuracy: 0.9887 - val_loss: 1.5014 - val_accuracy: 0.8899\n",
            "Epoch 247/600\n",
            "20/20 [==============================] - 0s 22ms/step - loss: 0.0276 - accuracy: 0.9894 - val_loss: 1.9367 - val_accuracy: 0.8831\n",
            "Epoch 248/600\n",
            "20/20 [==============================] - 0s 25ms/step - loss: 0.0572 - accuracy: 0.9906 - val_loss: 2.2808 - val_accuracy: 0.8762\n",
            "Epoch 249/600\n",
            "20/20 [==============================] - 0s 21ms/step - loss: 0.0276 - accuracy: 0.9911 - val_loss: 1.6845 - val_accuracy: 0.8949\n",
            "Epoch 250/600\n",
            "20/20 [==============================] - 0s 25ms/step - loss: 0.1103 - accuracy: 0.9880 - val_loss: 1.6572 - val_accuracy: 0.8924\n",
            "Epoch 251/600\n",
            "20/20 [==============================] - 1s 25ms/step - loss: 0.1134 - accuracy: 0.9895 - val_loss: 1.5964 - val_accuracy: 0.8924\n",
            "Epoch 252/600\n",
            "20/20 [==============================] - 0s 24ms/step - loss: 0.0419 - accuracy: 0.9872 - val_loss: 1.5696 - val_accuracy: 0.8924\n",
            "Epoch 253/600\n",
            "20/20 [==============================] - 0s 24ms/step - loss: 0.0242 - accuracy: 0.9939 - val_loss: 1.5609 - val_accuracy: 0.8999\n",
            "Epoch 254/600\n",
            "20/20 [==============================] - 1s 27ms/step - loss: 0.0430 - accuracy: 0.9901 - val_loss: 1.5927 - val_accuracy: 0.8931\n",
            "Epoch 255/600\n",
            "20/20 [==============================] - 0s 24ms/step - loss: 0.0259 - accuracy: 0.9922 - val_loss: 2.1627 - val_accuracy: 0.8912\n",
            "Epoch 256/600\n",
            "20/20 [==============================] - 0s 23ms/step - loss: 0.0297 - accuracy: 0.9916 - val_loss: 1.9725 - val_accuracy: 0.8956\n",
            "Epoch 257/600\n",
            "20/20 [==============================] - 1s 27ms/step - loss: 0.0423 - accuracy: 0.9901 - val_loss: 1.5568 - val_accuracy: 0.8912\n",
            "Epoch 258/600\n",
            "20/20 [==============================] - 1s 27ms/step - loss: 0.0267 - accuracy: 0.9923 - val_loss: 1.8551 - val_accuracy: 0.8899\n",
            "Epoch 259/600\n",
            "20/20 [==============================] - 1s 27ms/step - loss: 0.0690 - accuracy: 0.9880 - val_loss: 1.7183 - val_accuracy: 0.8818\n",
            "Epoch 260/600\n",
            "20/20 [==============================] - 0s 23ms/step - loss: 0.0320 - accuracy: 0.9912 - val_loss: 1.9753 - val_accuracy: 0.8874\n",
            "Epoch 261/600\n",
            "20/20 [==============================] - 0s 25ms/step - loss: 0.0514 - accuracy: 0.9912 - val_loss: 1.7108 - val_accuracy: 0.8912\n",
            "Epoch 262/600\n",
            "20/20 [==============================] - 1s 25ms/step - loss: 0.0718 - accuracy: 0.9881 - val_loss: 1.6473 - val_accuracy: 0.8856\n",
            "Epoch 263/600\n",
            "20/20 [==============================] - 1s 25ms/step - loss: 0.0619 - accuracy: 0.9895 - val_loss: 1.5523 - val_accuracy: 0.8887\n",
            "Epoch 264/600\n",
            "20/20 [==============================] - 0s 25ms/step - loss: 0.0278 - accuracy: 0.9905 - val_loss: 1.8463 - val_accuracy: 0.8968\n",
            "Epoch 265/600\n",
            "20/20 [==============================] - 1s 25ms/step - loss: 0.0193 - accuracy: 0.9933 - val_loss: 2.2137 - val_accuracy: 0.8843\n",
            "Epoch 266/600\n",
            "20/20 [==============================] - 1s 26ms/step - loss: 0.0958 - accuracy: 0.9861 - val_loss: 1.4506 - val_accuracy: 0.8899\n",
            "Epoch 267/600\n",
            "20/20 [==============================] - 1s 27ms/step - loss: 0.0263 - accuracy: 0.9934 - val_loss: 1.6309 - val_accuracy: 0.8937\n",
            "Epoch 268/600\n",
            "20/20 [==============================] - 0s 25ms/step - loss: 0.0197 - accuracy: 0.9911 - val_loss: 1.9675 - val_accuracy: 0.8974\n",
            "Epoch 269/600\n",
            "20/20 [==============================] - 1s 25ms/step - loss: 0.0394 - accuracy: 0.9886 - val_loss: 1.8134 - val_accuracy: 0.8931\n",
            "Epoch 270/600\n",
            "20/20 [==============================] - 0s 21ms/step - loss: 0.0399 - accuracy: 0.9886 - val_loss: 2.1310 - val_accuracy: 0.8774\n",
            "Epoch 271/600\n",
            "20/20 [==============================] - 0s 21ms/step - loss: 0.0653 - accuracy: 0.9872 - val_loss: 1.6378 - val_accuracy: 0.8887\n",
            "Epoch 272/600\n",
            "20/20 [==============================] - 1s 26ms/step - loss: 0.0408 - accuracy: 0.9923 - val_loss: 1.5193 - val_accuracy: 0.8999\n",
            "Epoch 273/600\n",
            "20/20 [==============================] - 0s 22ms/step - loss: 0.0286 - accuracy: 0.9933 - val_loss: 1.8556 - val_accuracy: 0.9006\n",
            "Epoch 274/600\n",
            "20/20 [==============================] - 0s 24ms/step - loss: 0.0479 - accuracy: 0.9900 - val_loss: 1.7853 - val_accuracy: 0.9087\n",
            "Epoch 275/600\n",
            "20/20 [==============================] - 0s 24ms/step - loss: 0.0361 - accuracy: 0.9891 - val_loss: 2.3027 - val_accuracy: 0.8993\n",
            "Epoch 276/600\n",
            "20/20 [==============================] - 0s 23ms/step - loss: 0.0591 - accuracy: 0.9880 - val_loss: 1.4638 - val_accuracy: 0.8962\n",
            "Epoch 277/600\n",
            "20/20 [==============================] - 0s 24ms/step - loss: 0.0344 - accuracy: 0.9920 - val_loss: 1.3756 - val_accuracy: 0.9006\n",
            "Epoch 278/600\n",
            "20/20 [==============================] - 0s 22ms/step - loss: 0.0302 - accuracy: 0.9912 - val_loss: 1.7714 - val_accuracy: 0.9018\n",
            "Epoch 279/600\n",
            "20/20 [==============================] - 0s 24ms/step - loss: 0.0170 - accuracy: 0.9937 - val_loss: 2.2133 - val_accuracy: 0.8924\n",
            "Epoch 280/600\n",
            "20/20 [==============================] - 1s 28ms/step - loss: 0.0488 - accuracy: 0.9909 - val_loss: 1.8568 - val_accuracy: 0.9043\n",
            "Epoch 281/600\n",
            "20/20 [==============================] - 1s 28ms/step - loss: 0.0246 - accuracy: 0.9914 - val_loss: 1.8770 - val_accuracy: 0.8999\n",
            "Epoch 282/600\n",
            "20/20 [==============================] - 1s 26ms/step - loss: 0.0399 - accuracy: 0.9906 - val_loss: 2.0291 - val_accuracy: 0.8912\n",
            "Epoch 283/600\n",
            "20/20 [==============================] - 1s 27ms/step - loss: 0.0299 - accuracy: 0.9901 - val_loss: 2.4906 - val_accuracy: 0.8837\n",
            "Epoch 284/600\n",
            "20/20 [==============================] - 0s 24ms/step - loss: 0.0467 - accuracy: 0.9894 - val_loss: 2.0945 - val_accuracy: 0.8899\n",
            "Epoch 285/600\n",
            "20/20 [==============================] - 0s 23ms/step - loss: 0.0218 - accuracy: 0.9923 - val_loss: 3.1878 - val_accuracy: 0.8824\n",
            "Epoch 286/600\n",
            "20/20 [==============================] - 0s 22ms/step - loss: 0.0500 - accuracy: 0.9909 - val_loss: 2.4736 - val_accuracy: 0.8618\n",
            "Epoch 287/600\n",
            "20/20 [==============================] - 1s 27ms/step - loss: 0.0483 - accuracy: 0.9875 - val_loss: 2.2433 - val_accuracy: 0.8899\n",
            "Epoch 288/600\n",
            "20/20 [==============================] - 1s 28ms/step - loss: 0.0389 - accuracy: 0.9911 - val_loss: 2.5157 - val_accuracy: 0.8899\n",
            "Epoch 289/600\n",
            "20/20 [==============================] - 0s 23ms/step - loss: 0.0458 - accuracy: 0.9898 - val_loss: 1.6228 - val_accuracy: 0.8943\n",
            "Epoch 290/600\n",
            "20/20 [==============================] - 1s 25ms/step - loss: 0.0194 - accuracy: 0.9933 - val_loss: 1.9991 - val_accuracy: 0.8987\n",
            "Epoch 291/600\n",
            "20/20 [==============================] - 1s 26ms/step - loss: 0.0495 - accuracy: 0.9917 - val_loss: 1.7634 - val_accuracy: 0.8993\n",
            "Epoch 292/600\n",
            "20/20 [==============================] - 1s 28ms/step - loss: 0.0480 - accuracy: 0.9884 - val_loss: 1.8168 - val_accuracy: 0.8981\n",
            "Epoch 293/600\n",
            "20/20 [==============================] - 0s 21ms/step - loss: 0.0860 - accuracy: 0.9909 - val_loss: 2.0433 - val_accuracy: 0.8974\n",
            "Epoch 294/600\n",
            "20/20 [==============================] - 0s 23ms/step - loss: 0.0364 - accuracy: 0.9900 - val_loss: 1.8417 - val_accuracy: 0.8962\n",
            "Epoch 295/600\n",
            "20/20 [==============================] - 1s 25ms/step - loss: 0.0355 - accuracy: 0.9911 - val_loss: 2.1579 - val_accuracy: 0.8987\n",
            "Epoch 296/600\n",
            "20/20 [==============================] - 1s 25ms/step - loss: 0.0398 - accuracy: 0.9880 - val_loss: 2.0976 - val_accuracy: 0.8906\n",
            "Epoch 297/600\n",
            "20/20 [==============================] - 0s 25ms/step - loss: 0.0505 - accuracy: 0.9876 - val_loss: 1.9772 - val_accuracy: 0.8937\n",
            "Epoch 298/600\n",
            "20/20 [==============================] - 1s 26ms/step - loss: 0.0305 - accuracy: 0.9914 - val_loss: 1.8144 - val_accuracy: 0.8968\n",
            "Epoch 299/600\n",
            "20/20 [==============================] - 1s 26ms/step - loss: 0.0674 - accuracy: 0.9880 - val_loss: 1.6458 - val_accuracy: 0.8999\n",
            "Epoch 300/600\n",
            "20/20 [==============================] - 1s 27ms/step - loss: 0.0203 - accuracy: 0.9898 - val_loss: 1.8889 - val_accuracy: 0.8937\n",
            "Epoch 301/600\n",
            "20/20 [==============================] - 1s 25ms/step - loss: 0.0866 - accuracy: 0.9864 - val_loss: 1.4916 - val_accuracy: 0.9043\n",
            "Epoch 302/600\n",
            "20/20 [==============================] - 0s 23ms/step - loss: 0.0253 - accuracy: 0.9898 - val_loss: 1.7402 - val_accuracy: 0.9031\n",
            "Epoch 303/600\n",
            "20/20 [==============================] - 1s 27ms/step - loss: 0.0158 - accuracy: 0.9925 - val_loss: 3.3555 - val_accuracy: 0.8874\n",
            "Epoch 304/600\n",
            "20/20 [==============================] - 0s 24ms/step - loss: 0.0481 - accuracy: 0.9889 - val_loss: 2.1325 - val_accuracy: 0.8956\n",
            "Epoch 305/600\n",
            "20/20 [==============================] - 0s 24ms/step - loss: 0.0793 - accuracy: 0.9842 - val_loss: 1.8794 - val_accuracy: 0.8956\n",
            "Epoch 306/600\n",
            "20/20 [==============================] - 1s 27ms/step - loss: 0.0622 - accuracy: 0.9886 - val_loss: 1.4430 - val_accuracy: 0.8849\n",
            "Epoch 307/600\n",
            "20/20 [==============================] - 0s 21ms/step - loss: 0.0415 - accuracy: 0.9903 - val_loss: 2.0817 - val_accuracy: 0.8812\n",
            "Epoch 308/600\n",
            "20/20 [==============================] - 0s 21ms/step - loss: 0.0414 - accuracy: 0.9872 - val_loss: 1.6811 - val_accuracy: 0.8818\n",
            "Epoch 309/600\n",
            "20/20 [==============================] - 0s 22ms/step - loss: 0.0376 - accuracy: 0.9897 - val_loss: 1.8243 - val_accuracy: 0.8887\n",
            "Epoch 310/600\n",
            "20/20 [==============================] - 0s 25ms/step - loss: 0.0217 - accuracy: 0.9891 - val_loss: 1.9906 - val_accuracy: 0.8887\n",
            "Epoch 311/600\n",
            "20/20 [==============================] - 1s 26ms/step - loss: 0.1246 - accuracy: 0.9891 - val_loss: 1.7816 - val_accuracy: 0.8780\n",
            "Epoch 312/600\n",
            "20/20 [==============================] - 0s 24ms/step - loss: 0.0435 - accuracy: 0.9912 - val_loss: 2.2231 - val_accuracy: 0.8899\n",
            "Epoch 313/600\n",
            "20/20 [==============================] - 1s 26ms/step - loss: 0.0304 - accuracy: 0.9894 - val_loss: 2.8497 - val_accuracy: 0.8618\n",
            "Epoch 314/600\n",
            "20/20 [==============================] - 1s 27ms/step - loss: 0.0690 - accuracy: 0.9865 - val_loss: 2.1137 - val_accuracy: 0.8831\n",
            "Epoch 315/600\n",
            "20/20 [==============================] - 1s 28ms/step - loss: 0.0495 - accuracy: 0.9894 - val_loss: 1.8425 - val_accuracy: 0.8874\n",
            "Epoch 316/600\n",
            "20/20 [==============================] - 0s 24ms/step - loss: 0.0434 - accuracy: 0.9891 - val_loss: 1.9850 - val_accuracy: 0.8906\n",
            "Epoch 317/600\n",
            "20/20 [==============================] - 1s 27ms/step - loss: 0.0350 - accuracy: 0.9873 - val_loss: 1.8671 - val_accuracy: 0.8868\n",
            "Epoch 318/600\n",
            "20/20 [==============================] - 1s 28ms/step - loss: 0.1348 - accuracy: 0.9865 - val_loss: 1.4314 - val_accuracy: 0.8931\n",
            "Epoch 319/600\n",
            "20/20 [==============================] - 0s 23ms/step - loss: 0.0195 - accuracy: 0.9914 - val_loss: 1.9151 - val_accuracy: 0.8949\n",
            "Epoch 320/600\n",
            "20/20 [==============================] - 0s 25ms/step - loss: 0.0212 - accuracy: 0.9925 - val_loss: 2.0729 - val_accuracy: 0.8806\n",
            "Epoch 321/600\n",
            "20/20 [==============================] - 1s 26ms/step - loss: 0.0522 - accuracy: 0.9889 - val_loss: 1.9206 - val_accuracy: 0.8962\n",
            "Epoch 322/600\n",
            "20/20 [==============================] - 0s 25ms/step - loss: 0.0376 - accuracy: 0.9873 - val_loss: 1.6677 - val_accuracy: 0.8924\n",
            "Epoch 323/600\n",
            "20/20 [==============================] - 0s 25ms/step - loss: 0.0387 - accuracy: 0.9912 - val_loss: 1.7193 - val_accuracy: 0.8887\n",
            "Epoch 324/600\n",
            "20/20 [==============================] - 0s 25ms/step - loss: 0.0652 - accuracy: 0.9883 - val_loss: 1.8663 - val_accuracy: 0.8943\n",
            "Epoch 325/600\n",
            "20/20 [==============================] - 1s 26ms/step - loss: 0.0346 - accuracy: 0.9901 - val_loss: 1.5319 - val_accuracy: 0.8981\n",
            "Epoch 326/600\n",
            "20/20 [==============================] - 0s 22ms/step - loss: 0.0221 - accuracy: 0.9891 - val_loss: 2.2691 - val_accuracy: 0.8956\n",
            "Epoch 327/600\n",
            "20/20 [==============================] - 0s 22ms/step - loss: 0.0152 - accuracy: 0.9919 - val_loss: 3.5417 - val_accuracy: 0.8868\n",
            "Epoch 328/600\n",
            "20/20 [==============================] - 1s 27ms/step - loss: 0.1807 - accuracy: 0.9830 - val_loss: 1.5446 - val_accuracy: 0.8912\n",
            "Epoch 329/600\n",
            "20/20 [==============================] - 0s 24ms/step - loss: 0.0226 - accuracy: 0.9909 - val_loss: 1.8992 - val_accuracy: 0.8999\n",
            "Epoch 330/600\n",
            "20/20 [==============================] - 1s 28ms/step - loss: 0.0512 - accuracy: 0.9873 - val_loss: 1.7406 - val_accuracy: 0.9006\n",
            "Epoch 331/600\n",
            "20/20 [==============================] - 0s 24ms/step - loss: 0.0160 - accuracy: 0.9922 - val_loss: 2.2650 - val_accuracy: 0.9081\n",
            "Epoch 332/600\n",
            "20/20 [==============================] - 0s 22ms/step - loss: 0.0191 - accuracy: 0.9925 - val_loss: 2.4973 - val_accuracy: 0.8999\n",
            "Epoch 333/600\n",
            "20/20 [==============================] - 0s 22ms/step - loss: 0.0444 - accuracy: 0.9892 - val_loss: 2.2388 - val_accuracy: 0.8893\n",
            "Epoch 334/600\n",
            "20/20 [==============================] - 0s 24ms/step - loss: 0.0421 - accuracy: 0.9875 - val_loss: 2.4882 - val_accuracy: 0.8856\n",
            "Epoch 335/600\n",
            "20/20 [==============================] - 1s 28ms/step - loss: 0.0396 - accuracy: 0.9905 - val_loss: 2.6116 - val_accuracy: 0.9012\n",
            "Epoch 336/600\n",
            "20/20 [==============================] - 0s 23ms/step - loss: 0.0992 - accuracy: 0.9867 - val_loss: 1.6196 - val_accuracy: 0.8974\n",
            "Epoch 337/600\n",
            "20/20 [==============================] - 0s 25ms/step - loss: 0.0190 - accuracy: 0.9901 - val_loss: 2.1406 - val_accuracy: 0.9018\n",
            "Epoch 338/600\n",
            "20/20 [==============================] - 1s 28ms/step - loss: 0.0642 - accuracy: 0.9850 - val_loss: 2.3444 - val_accuracy: 0.8981\n",
            "Epoch 339/600\n",
            "20/20 [==============================] - 0s 24ms/step - loss: 0.0670 - accuracy: 0.9872 - val_loss: 1.7052 - val_accuracy: 0.8993\n",
            "Epoch 340/600\n",
            "20/20 [==============================] - 1s 25ms/step - loss: 0.0667 - accuracy: 0.9892 - val_loss: 1.8019 - val_accuracy: 0.9012\n",
            "Epoch 341/600\n",
            "20/20 [==============================] - 0s 25ms/step - loss: 0.0222 - accuracy: 0.9923 - val_loss: 1.8975 - val_accuracy: 0.9068\n",
            "Epoch 342/600\n",
            "20/20 [==============================] - 1s 26ms/step - loss: 0.0585 - accuracy: 0.9891 - val_loss: 1.8791 - val_accuracy: 0.8874\n",
            "Epoch 343/600\n",
            "20/20 [==============================] - 0s 22ms/step - loss: 0.0614 - accuracy: 0.9922 - val_loss: 2.4090 - val_accuracy: 0.8906\n",
            "Epoch 344/600\n",
            "20/20 [==============================] - 0s 23ms/step - loss: 0.0228 - accuracy: 0.9911 - val_loss: 2.4539 - val_accuracy: 0.8906\n",
            "Epoch 345/600\n",
            "20/20 [==============================] - 0s 21ms/step - loss: 0.0251 - accuracy: 0.9909 - val_loss: 2.7908 - val_accuracy: 0.8762\n",
            "Epoch 346/600\n",
            "20/20 [==============================] - 1s 27ms/step - loss: 0.0436 - accuracy: 0.9895 - val_loss: 2.1908 - val_accuracy: 0.8887\n",
            "Epoch 347/600\n",
            "20/20 [==============================] - 1s 25ms/step - loss: 0.0320 - accuracy: 0.9901 - val_loss: 2.3615 - val_accuracy: 0.8931\n",
            "Epoch 348/600\n",
            "20/20 [==============================] - 1s 26ms/step - loss: 0.0301 - accuracy: 0.9914 - val_loss: 1.9359 - val_accuracy: 0.8943\n",
            "Epoch 349/600\n",
            "20/20 [==============================] - 0s 21ms/step - loss: 0.0624 - accuracy: 0.9876 - val_loss: 1.9583 - val_accuracy: 0.8724\n",
            "Epoch 350/600\n",
            "20/20 [==============================] - 0s 24ms/step - loss: 0.0416 - accuracy: 0.9886 - val_loss: 1.9091 - val_accuracy: 0.8849\n",
            "Epoch 351/600\n",
            "20/20 [==============================] - 1s 28ms/step - loss: 0.0256 - accuracy: 0.9919 - val_loss: 2.1897 - val_accuracy: 0.8924\n",
            "Epoch 352/600\n",
            "20/20 [==============================] - 1s 28ms/step - loss: 0.0159 - accuracy: 0.9931 - val_loss: 2.7053 - val_accuracy: 0.8874\n",
            "Epoch 353/600\n",
            "20/20 [==============================] - 0s 22ms/step - loss: 0.1020 - accuracy: 0.9858 - val_loss: 2.6937 - val_accuracy: 0.8774\n",
            "Epoch 354/600\n",
            "20/20 [==============================] - 1s 27ms/step - loss: 0.0289 - accuracy: 0.9872 - val_loss: 2.6394 - val_accuracy: 0.8968\n",
            "Epoch 355/600\n",
            "20/20 [==============================] - 0s 25ms/step - loss: 0.0237 - accuracy: 0.9912 - val_loss: 2.4108 - val_accuracy: 0.8981\n",
            "Epoch 356/600\n",
            "20/20 [==============================] - 1s 27ms/step - loss: 0.1191 - accuracy: 0.9856 - val_loss: 1.9361 - val_accuracy: 0.8968\n",
            "Epoch 357/600\n",
            "20/20 [==============================] - 0s 22ms/step - loss: 0.0342 - accuracy: 0.9887 - val_loss: 2.3681 - val_accuracy: 0.8949\n",
            "Epoch 358/600\n",
            "20/20 [==============================] - 1s 26ms/step - loss: 0.0172 - accuracy: 0.9930 - val_loss: 2.6900 - val_accuracy: 0.9043\n",
            "Epoch 359/600\n",
            "20/20 [==============================] - 0s 22ms/step - loss: 0.0505 - accuracy: 0.9876 - val_loss: 1.9067 - val_accuracy: 0.8837\n",
            "Epoch 360/600\n",
            "20/20 [==============================] - 0s 23ms/step - loss: 0.0511 - accuracy: 0.9887 - val_loss: 1.6888 - val_accuracy: 0.8987\n",
            "Epoch 361/600\n",
            "20/20 [==============================] - 0s 25ms/step - loss: 0.0258 - accuracy: 0.9909 - val_loss: 2.4207 - val_accuracy: 0.8899\n",
            "Epoch 362/600\n",
            "20/20 [==============================] - 0s 25ms/step - loss: 0.0594 - accuracy: 0.9865 - val_loss: 1.5523 - val_accuracy: 0.8937\n",
            "Epoch 363/600\n",
            "20/20 [==============================] - 1s 25ms/step - loss: 0.0470 - accuracy: 0.9908 - val_loss: 2.4253 - val_accuracy: 0.8987\n",
            "Epoch 364/600\n",
            "20/20 [==============================] - 0s 25ms/step - loss: 0.0325 - accuracy: 0.9908 - val_loss: 2.8062 - val_accuracy: 0.8968\n",
            "Epoch 365/600\n",
            "20/20 [==============================] - 1s 28ms/step - loss: 0.0731 - accuracy: 0.9862 - val_loss: 2.3602 - val_accuracy: 0.8793\n",
            "Epoch 366/600\n",
            "20/20 [==============================] - 0s 24ms/step - loss: 0.0450 - accuracy: 0.9903 - val_loss: 2.5487 - val_accuracy: 0.8931\n",
            "Epoch 367/600\n",
            "20/20 [==============================] - 0s 23ms/step - loss: 0.0225 - accuracy: 0.9905 - val_loss: 2.9569 - val_accuracy: 0.8968\n",
            "Epoch 368/600\n",
            "20/20 [==============================] - 0s 24ms/step - loss: 0.0314 - accuracy: 0.9903 - val_loss: 3.4272 - val_accuracy: 0.8806\n",
            "Epoch 369/600\n",
            "20/20 [==============================] - 0s 21ms/step - loss: 0.1243 - accuracy: 0.9812 - val_loss: 2.1922 - val_accuracy: 0.8755\n",
            "Epoch 370/600\n",
            "20/20 [==============================] - 0s 25ms/step - loss: 0.0575 - accuracy: 0.9889 - val_loss: 1.8146 - val_accuracy: 0.8968\n",
            "Epoch 371/600\n",
            "20/20 [==============================] - 1s 28ms/step - loss: 0.0188 - accuracy: 0.9928 - val_loss: 2.3250 - val_accuracy: 0.8993\n",
            "Epoch 372/600\n",
            "20/20 [==============================] - 1s 28ms/step - loss: 0.0504 - accuracy: 0.9886 - val_loss: 2.3485 - val_accuracy: 0.8793\n",
            "Epoch 373/600\n",
            "20/20 [==============================] - 1s 25ms/step - loss: 0.0483 - accuracy: 0.9873 - val_loss: 2.3753 - val_accuracy: 0.8918\n",
            "Epoch 374/600\n",
            "20/20 [==============================] - 0s 22ms/step - loss: 0.0178 - accuracy: 0.9928 - val_loss: 2.8700 - val_accuracy: 0.8962\n",
            "Epoch 375/600\n",
            "20/20 [==============================] - 0s 22ms/step - loss: 0.0652 - accuracy: 0.9883 - val_loss: 2.2305 - val_accuracy: 0.8624\n",
            "Epoch 376/600\n",
            "20/20 [==============================] - 0s 23ms/step - loss: 0.0453 - accuracy: 0.9880 - val_loss: 2.0527 - val_accuracy: 0.8918\n",
            "Epoch 377/600\n",
            "20/20 [==============================] - 0s 25ms/step - loss: 0.0251 - accuracy: 0.9901 - val_loss: 2.0794 - val_accuracy: 0.8899\n",
            "Epoch 378/600\n",
            "20/20 [==============================] - 0s 24ms/step - loss: 0.0486 - accuracy: 0.9858 - val_loss: 2.1272 - val_accuracy: 0.8968\n",
            "Epoch 379/600\n",
            "20/20 [==============================] - 1s 28ms/step - loss: 0.0320 - accuracy: 0.9917 - val_loss: 2.6213 - val_accuracy: 0.8937\n",
            "Epoch 380/600\n",
            "20/20 [==============================] - 0s 24ms/step - loss: 0.0678 - accuracy: 0.9881 - val_loss: 2.2604 - val_accuracy: 0.9018\n",
            "Epoch 381/600\n",
            "20/20 [==============================] - 0s 24ms/step - loss: 0.0368 - accuracy: 0.9908 - val_loss: 2.1338 - val_accuracy: 0.8899\n",
            "Epoch 382/600\n",
            "20/20 [==============================] - 0s 24ms/step - loss: 0.0372 - accuracy: 0.9903 - val_loss: 2.2343 - val_accuracy: 0.8974\n",
            "Epoch 383/600\n",
            "20/20 [==============================] - 1s 25ms/step - loss: 0.0448 - accuracy: 0.9884 - val_loss: 2.0696 - val_accuracy: 0.8974\n",
            "Epoch 384/600\n",
            "20/20 [==============================] - 0s 24ms/step - loss: 0.0168 - accuracy: 0.9923 - val_loss: 2.4006 - val_accuracy: 0.8893\n",
            "Epoch 385/600\n",
            "20/20 [==============================] - 1s 25ms/step - loss: 0.0412 - accuracy: 0.9911 - val_loss: 1.9460 - val_accuracy: 0.8856\n",
            "Epoch 386/600\n",
            "20/20 [==============================] - 1s 26ms/step - loss: 0.0562 - accuracy: 0.9895 - val_loss: 2.3766 - val_accuracy: 0.8893\n",
            "Epoch 387/600\n",
            "20/20 [==============================] - 1s 27ms/step - loss: 0.0243 - accuracy: 0.9926 - val_loss: 2.2647 - val_accuracy: 0.8824\n",
            "Epoch 388/600\n",
            "20/20 [==============================] - 0s 22ms/step - loss: 0.0249 - accuracy: 0.9898 - val_loss: 2.4575 - val_accuracy: 0.8987\n",
            "Epoch 389/600\n",
            "20/20 [==============================] - 0s 23ms/step - loss: 0.0493 - accuracy: 0.9916 - val_loss: 2.2332 - val_accuracy: 0.8968\n",
            "Epoch 390/600\n",
            "20/20 [==============================] - 0s 25ms/step - loss: 0.0428 - accuracy: 0.9903 - val_loss: 2.3190 - val_accuracy: 0.8937\n",
            "Epoch 391/600\n",
            "20/20 [==============================] - 1s 27ms/step - loss: 0.0326 - accuracy: 0.9905 - val_loss: 2.2855 - val_accuracy: 0.8968\n",
            "Epoch 392/600\n",
            "20/20 [==============================] - 1s 25ms/step - loss: 0.0735 - accuracy: 0.9898 - val_loss: 2.3923 - val_accuracy: 0.8824\n",
            "Epoch 393/600\n",
            "20/20 [==============================] - 1s 28ms/step - loss: 0.0165 - accuracy: 0.9930 - val_loss: 2.8349 - val_accuracy: 0.8931\n",
            "Epoch 394/600\n",
            "20/20 [==============================] - 0s 25ms/step - loss: 0.0190 - accuracy: 0.9926 - val_loss: 4.0073 - val_accuracy: 0.8737\n",
            "Epoch 395/600\n",
            "20/20 [==============================] - 1s 29ms/step - loss: 0.0498 - accuracy: 0.9876 - val_loss: 2.7325 - val_accuracy: 0.8899\n",
            "Epoch 396/600\n",
            "20/20 [==============================] - 1s 28ms/step - loss: 0.0532 - accuracy: 0.9903 - val_loss: 3.3215 - val_accuracy: 0.8924\n",
            "Epoch 397/600\n",
            "20/20 [==============================] - 1s 27ms/step - loss: 0.0365 - accuracy: 0.9875 - val_loss: 2.4089 - val_accuracy: 0.8874\n",
            "Epoch 398/600\n",
            "20/20 [==============================] - 1s 25ms/step - loss: 0.0451 - accuracy: 0.9916 - val_loss: 2.7327 - val_accuracy: 0.8881\n",
            "Epoch 399/600\n",
            "20/20 [==============================] - 0s 25ms/step - loss: 0.0265 - accuracy: 0.9894 - val_loss: 3.0322 - val_accuracy: 0.8887\n",
            "Epoch 400/600\n",
            "20/20 [==============================] - 1s 27ms/step - loss: 0.0509 - accuracy: 0.9898 - val_loss: 2.1338 - val_accuracy: 0.8893\n",
            "Epoch 401/600\n",
            "20/20 [==============================] - 1s 25ms/step - loss: 0.0835 - accuracy: 0.9862 - val_loss: 1.6812 - val_accuracy: 0.8862\n",
            "Epoch 402/600\n",
            "20/20 [==============================] - 0s 24ms/step - loss: 0.0514 - accuracy: 0.9892 - val_loss: 1.8439 - val_accuracy: 0.8856\n",
            "Epoch 403/600\n",
            "20/20 [==============================] - 1s 25ms/step - loss: 0.0269 - accuracy: 0.9900 - val_loss: 2.1754 - val_accuracy: 0.8962\n",
            "Epoch 404/600\n",
            "20/20 [==============================] - 0s 23ms/step - loss: 0.0238 - accuracy: 0.9930 - val_loss: 2.6053 - val_accuracy: 0.8924\n",
            "Epoch 405/600\n",
            "20/20 [==============================] - 1s 28ms/step - loss: 0.0536 - accuracy: 0.9906 - val_loss: 2.6877 - val_accuracy: 0.8949\n",
            "Epoch 406/600\n",
            "20/20 [==============================] - 0s 25ms/step - loss: 0.0315 - accuracy: 0.9914 - val_loss: 3.1166 - val_accuracy: 0.8831\n",
            "Epoch 407/600\n",
            "20/20 [==============================] - 0s 24ms/step - loss: 0.0982 - accuracy: 0.9861 - val_loss: 1.5505 - val_accuracy: 0.8893\n",
            "Epoch 408/600\n",
            "20/20 [==============================] - 0s 22ms/step - loss: 0.0235 - accuracy: 0.9914 - val_loss: 2.0526 - val_accuracy: 0.8968\n",
            "Epoch 409/600\n",
            "20/20 [==============================] - 1s 26ms/step - loss: 0.0164 - accuracy: 0.9933 - val_loss: 3.5729 - val_accuracy: 0.8780\n",
            "Epoch 410/600\n",
            "20/20 [==============================] - 1s 28ms/step - loss: 0.1327 - accuracy: 0.9869 - val_loss: 2.1608 - val_accuracy: 0.8881\n",
            "Epoch 411/600\n",
            "20/20 [==============================] - 1s 26ms/step - loss: 0.0161 - accuracy: 0.9925 - val_loss: 2.7583 - val_accuracy: 0.8949\n",
            "Epoch 412/600\n",
            "20/20 [==============================] - 0s 22ms/step - loss: 0.0321 - accuracy: 0.9905 - val_loss: 3.0037 - val_accuracy: 0.8887\n",
            "Epoch 413/600\n",
            "20/20 [==============================] - 0s 25ms/step - loss: 0.0485 - accuracy: 0.9872 - val_loss: 3.2940 - val_accuracy: 0.8949\n",
            "Epoch 414/600\n",
            "20/20 [==============================] - 0s 24ms/step - loss: 0.0251 - accuracy: 0.9905 - val_loss: 3.7221 - val_accuracy: 0.8687\n",
            "Epoch 415/600\n",
            "20/20 [==============================] - 1s 27ms/step - loss: 0.0532 - accuracy: 0.9894 - val_loss: 3.6103 - val_accuracy: 0.8906\n",
            "Epoch 416/600\n",
            "20/20 [==============================] - 1s 25ms/step - loss: 0.0314 - accuracy: 0.9884 - val_loss: 3.3864 - val_accuracy: 0.8899\n",
            "Epoch 417/600\n",
            "20/20 [==============================] - 1s 27ms/step - loss: 0.0788 - accuracy: 0.9853 - val_loss: 2.6305 - val_accuracy: 0.8881\n",
            "Epoch 418/600\n",
            "20/20 [==============================] - 0s 25ms/step - loss: 0.0238 - accuracy: 0.9914 - val_loss: 3.0191 - val_accuracy: 0.8931\n",
            "Epoch 419/600\n",
            "20/20 [==============================] - 1s 27ms/step - loss: 0.0255 - accuracy: 0.9909 - val_loss: 3.7476 - val_accuracy: 0.8762\n",
            "Epoch 420/600\n",
            "20/20 [==============================] - 1s 28ms/step - loss: 0.0598 - accuracy: 0.9892 - val_loss: 3.1093 - val_accuracy: 0.9012\n",
            "Epoch 421/600\n",
            "20/20 [==============================] - 0s 24ms/step - loss: 0.0547 - accuracy: 0.9898 - val_loss: 2.1330 - val_accuracy: 0.8881\n",
            "Epoch 422/600\n",
            "20/20 [==============================] - 0s 25ms/step - loss: 0.0204 - accuracy: 0.9917 - val_loss: 3.1437 - val_accuracy: 0.8974\n",
            "Epoch 423/600\n",
            "20/20 [==============================] - 1s 29ms/step - loss: 0.0918 - accuracy: 0.9886 - val_loss: 2.5843 - val_accuracy: 0.8874\n",
            "Epoch 424/600\n",
            "20/20 [==============================] - 0s 24ms/step - loss: 0.0404 - accuracy: 0.9897 - val_loss: 2.3475 - val_accuracy: 0.8949\n",
            "Epoch 425/600\n",
            "20/20 [==============================] - 0s 23ms/step - loss: 0.0330 - accuracy: 0.9897 - val_loss: 2.3537 - val_accuracy: 0.9018\n",
            "Epoch 426/600\n",
            "20/20 [==============================] - 0s 25ms/step - loss: 0.0247 - accuracy: 0.9900 - val_loss: 3.2152 - val_accuracy: 0.9018\n",
            "Epoch 427/600\n",
            "20/20 [==============================] - 0s 23ms/step - loss: 0.0956 - accuracy: 0.9901 - val_loss: 2.7535 - val_accuracy: 0.9024\n",
            "Epoch 428/600\n",
            "20/20 [==============================] - 0s 22ms/step - loss: 0.0301 - accuracy: 0.9898 - val_loss: 3.2510 - val_accuracy: 0.8824\n",
            "Epoch 429/600\n",
            "20/20 [==============================] - 1s 26ms/step - loss: 0.0331 - accuracy: 0.9897 - val_loss: 2.6715 - val_accuracy: 0.8968\n",
            "Epoch 430/600\n",
            "20/20 [==============================] - 1s 27ms/step - loss: 0.0241 - accuracy: 0.9920 - val_loss: 3.1311 - val_accuracy: 0.8843\n",
            "Epoch 431/600\n",
            "20/20 [==============================] - 0s 24ms/step - loss: 0.0468 - accuracy: 0.9889 - val_loss: 2.4884 - val_accuracy: 0.8962\n",
            "Epoch 432/600\n",
            "20/20 [==============================] - 0s 23ms/step - loss: 0.0170 - accuracy: 0.9936 - val_loss: 2.3728 - val_accuracy: 0.8962\n",
            "Epoch 433/600\n",
            "20/20 [==============================] - 1s 25ms/step - loss: 0.0873 - accuracy: 0.9865 - val_loss: 2.3307 - val_accuracy: 0.8843\n",
            "Epoch 434/600\n",
            "20/20 [==============================] - 0s 24ms/step - loss: 0.0276 - accuracy: 0.9909 - val_loss: 3.0342 - val_accuracy: 0.8943\n",
            "Epoch 435/600\n",
            "20/20 [==============================] - 1s 27ms/step - loss: 0.0288 - accuracy: 0.9900 - val_loss: 3.9991 - val_accuracy: 0.8918\n",
            "Epoch 436/600\n",
            "20/20 [==============================] - 1s 28ms/step - loss: 0.0219 - accuracy: 0.9920 - val_loss: 3.3620 - val_accuracy: 0.8968\n",
            "Epoch 437/600\n",
            "20/20 [==============================] - 1s 28ms/step - loss: 0.0561 - accuracy: 0.9870 - val_loss: 3.1836 - val_accuracy: 0.8874\n",
            "Epoch 438/600\n",
            "20/20 [==============================] - 1s 27ms/step - loss: 0.0492 - accuracy: 0.9861 - val_loss: 2.5015 - val_accuracy: 0.8856\n",
            "Epoch 439/600\n",
            "20/20 [==============================] - 0s 23ms/step - loss: 0.0180 - accuracy: 0.9922 - val_loss: 2.7325 - val_accuracy: 0.8906\n",
            "Epoch 440/600\n",
            "20/20 [==============================] - 1s 25ms/step - loss: 0.0560 - accuracy: 0.9876 - val_loss: 2.6500 - val_accuracy: 0.8856\n",
            "Epoch 441/600\n",
            "20/20 [==============================] - 1s 27ms/step - loss: 0.0749 - accuracy: 0.9864 - val_loss: 2.3070 - val_accuracy: 0.8831\n",
            "Epoch 442/600\n",
            "20/20 [==============================] - 1s 27ms/step - loss: 0.0258 - accuracy: 0.9901 - val_loss: 3.2768 - val_accuracy: 0.8968\n",
            "Epoch 443/600\n",
            "20/20 [==============================] - 0s 23ms/step - loss: 0.0429 - accuracy: 0.9901 - val_loss: 4.4184 - val_accuracy: 0.8993\n",
            "Epoch 444/600\n",
            "20/20 [==============================] - 0s 22ms/step - loss: 0.0194 - accuracy: 0.9903 - val_loss: 4.7401 - val_accuracy: 0.8862\n",
            "Epoch 445/600\n",
            "20/20 [==============================] - 1s 26ms/step - loss: 0.1024 - accuracy: 0.9840 - val_loss: 2.2587 - val_accuracy: 0.8912\n",
            "Epoch 446/600\n",
            "20/20 [==============================] - 1s 28ms/step - loss: 0.0204 - accuracy: 0.9926 - val_loss: 2.6022 - val_accuracy: 0.8962\n",
            "Epoch 447/600\n",
            "20/20 [==============================] - 0s 24ms/step - loss: 0.0200 - accuracy: 0.9928 - val_loss: 2.7709 - val_accuracy: 0.8912\n",
            "Epoch 448/600\n",
            "20/20 [==============================] - 1s 27ms/step - loss: 0.0633 - accuracy: 0.9903 - val_loss: 3.4919 - val_accuracy: 0.8668\n",
            "Epoch 449/600\n",
            "20/20 [==============================] - 0s 25ms/step - loss: 0.0457 - accuracy: 0.9901 - val_loss: 2.6420 - val_accuracy: 0.8931\n",
            "Epoch 450/600\n",
            "20/20 [==============================] - 0s 25ms/step - loss: 0.0202 - accuracy: 0.9914 - val_loss: 3.1007 - val_accuracy: 0.9018\n",
            "Epoch 451/600\n",
            "20/20 [==============================] - 0s 24ms/step - loss: 0.0492 - accuracy: 0.9881 - val_loss: 3.1822 - val_accuracy: 0.8906\n",
            "Epoch 452/600\n",
            "20/20 [==============================] - 1s 27ms/step - loss: 0.0144 - accuracy: 0.9936 - val_loss: 3.0529 - val_accuracy: 0.8993\n",
            "Epoch 453/600\n",
            "20/20 [==============================] - 0s 24ms/step - loss: 0.0620 - accuracy: 0.9886 - val_loss: 3.0928 - val_accuracy: 0.8924\n",
            "Epoch 454/600\n",
            "20/20 [==============================] - 1s 27ms/step - loss: 0.0522 - accuracy: 0.9906 - val_loss: 2.4907 - val_accuracy: 0.8937\n",
            "Epoch 455/600\n",
            "20/20 [==============================] - 1s 26ms/step - loss: 0.0230 - accuracy: 0.9919 - val_loss: 2.6118 - val_accuracy: 0.8974\n",
            "Epoch 456/600\n",
            "20/20 [==============================] - 1s 26ms/step - loss: 0.0366 - accuracy: 0.9883 - val_loss: 2.6672 - val_accuracy: 0.8837\n",
            "Epoch 457/600\n",
            "20/20 [==============================] - 1s 27ms/step - loss: 0.0891 - accuracy: 0.9869 - val_loss: 1.6793 - val_accuracy: 0.8862\n",
            "Epoch 458/600\n",
            "20/20 [==============================] - 1s 29ms/step - loss: 0.0199 - accuracy: 0.9920 - val_loss: 2.5239 - val_accuracy: 0.8968\n",
            "Epoch 459/600\n",
            "20/20 [==============================] - 0s 22ms/step - loss: 0.0187 - accuracy: 0.9916 - val_loss: 2.7986 - val_accuracy: 0.9024\n",
            "Epoch 460/600\n",
            "20/20 [==============================] - 1s 26ms/step - loss: 0.0568 - accuracy: 0.9853 - val_loss: 4.1102 - val_accuracy: 0.8868\n",
            "Epoch 461/600\n",
            "20/20 [==============================] - 1s 26ms/step - loss: 0.0398 - accuracy: 0.9900 - val_loss: 2.9249 - val_accuracy: 0.8993\n",
            "Epoch 462/600\n",
            "20/20 [==============================] - 1s 26ms/step - loss: 0.0207 - accuracy: 0.9916 - val_loss: 3.0876 - val_accuracy: 0.8943\n",
            "Epoch 463/600\n",
            "20/20 [==============================] - 0s 24ms/step - loss: 0.0746 - accuracy: 0.9872 - val_loss: 3.0637 - val_accuracy: 0.8899\n",
            "Epoch 464/600\n",
            "20/20 [==============================] - 1s 25ms/step - loss: 0.0660 - accuracy: 0.9878 - val_loss: 2.4223 - val_accuracy: 0.8868\n",
            "Epoch 465/600\n",
            "20/20 [==============================] - 1s 28ms/step - loss: 0.0283 - accuracy: 0.9906 - val_loss: 2.5884 - val_accuracy: 0.8924\n",
            "Epoch 466/600\n",
            "20/20 [==============================] - 1s 28ms/step - loss: 0.0176 - accuracy: 0.9934 - val_loss: 3.3424 - val_accuracy: 0.8968\n",
            "Epoch 467/600\n",
            "20/20 [==============================] - 0s 24ms/step - loss: 0.0284 - accuracy: 0.9891 - val_loss: 3.4121 - val_accuracy: 0.8831\n",
            "Epoch 468/600\n",
            "20/20 [==============================] - 1s 26ms/step - loss: 0.0244 - accuracy: 0.9898 - val_loss: 4.1764 - val_accuracy: 0.8912\n",
            "Epoch 469/600\n",
            "20/20 [==============================] - 1s 29ms/step - loss: 0.0489 - accuracy: 0.9905 - val_loss: 3.7491 - val_accuracy: 0.8924\n",
            "Epoch 470/600\n",
            "20/20 [==============================] - 1s 28ms/step - loss: 0.0672 - accuracy: 0.9905 - val_loss: 4.0299 - val_accuracy: 0.8881\n",
            "Epoch 471/600\n",
            "20/20 [==============================] - 1s 26ms/step - loss: 0.0440 - accuracy: 0.9895 - val_loss: 2.8105 - val_accuracy: 0.8899\n",
            "Epoch 472/600\n",
            "20/20 [==============================] - 1s 27ms/step - loss: 0.0234 - accuracy: 0.9919 - val_loss: 3.9040 - val_accuracy: 0.8968\n",
            "Epoch 473/600\n",
            "20/20 [==============================] - 0s 24ms/step - loss: 0.0334 - accuracy: 0.9900 - val_loss: 3.0776 - val_accuracy: 0.8956\n",
            "Epoch 474/600\n",
            "20/20 [==============================] - 1s 25ms/step - loss: 0.0157 - accuracy: 0.9937 - val_loss: 3.6192 - val_accuracy: 0.8918\n",
            "Epoch 475/600\n",
            "20/20 [==============================] - 0s 25ms/step - loss: 0.1243 - accuracy: 0.9831 - val_loss: 2.3825 - val_accuracy: 0.8874\n",
            "Epoch 476/600\n",
            "20/20 [==============================] - 1s 27ms/step - loss: 0.0319 - accuracy: 0.9903 - val_loss: 3.0343 - val_accuracy: 0.8993\n",
            "Epoch 477/600\n",
            "20/20 [==============================] - 1s 26ms/step - loss: 0.0223 - accuracy: 0.9916 - val_loss: 3.8396 - val_accuracy: 0.9031\n",
            "Epoch 478/600\n",
            "20/20 [==============================] - 1s 27ms/step - loss: 0.0304 - accuracy: 0.9920 - val_loss: 4.1835 - val_accuracy: 0.8981\n",
            "Epoch 479/600\n",
            "20/20 [==============================] - 0s 22ms/step - loss: 0.0394 - accuracy: 0.9912 - val_loss: 3.4157 - val_accuracy: 0.8943\n",
            "Epoch 480/600\n",
            "20/20 [==============================] - 0s 22ms/step - loss: 0.0464 - accuracy: 0.9920 - val_loss: 2.7703 - val_accuracy: 0.8937\n",
            "Epoch 481/600\n",
            "20/20 [==============================] - 1s 26ms/step - loss: 0.0589 - accuracy: 0.9876 - val_loss: 2.7396 - val_accuracy: 0.8962\n",
            "Epoch 482/600\n",
            "20/20 [==============================] - 1s 28ms/step - loss: 0.0510 - accuracy: 0.9895 - val_loss: 2.8044 - val_accuracy: 0.8918\n",
            "Epoch 483/600\n",
            "20/20 [==============================] - 0s 23ms/step - loss: 0.0327 - accuracy: 0.9878 - val_loss: 2.5280 - val_accuracy: 0.8956\n",
            "Epoch 484/600\n",
            "20/20 [==============================] - 0s 22ms/step - loss: 0.0606 - accuracy: 0.9911 - val_loss: 2.7495 - val_accuracy: 0.8956\n",
            "Epoch 485/600\n",
            "20/20 [==============================] - 0s 22ms/step - loss: 0.0393 - accuracy: 0.9909 - val_loss: 3.4054 - val_accuracy: 0.8999\n",
            "Epoch 486/600\n",
            "20/20 [==============================] - 0s 23ms/step - loss: 0.0154 - accuracy: 0.9930 - val_loss: 4.0815 - val_accuracy: 0.8981\n",
            "Epoch 487/600\n",
            "20/20 [==============================] - 1s 28ms/step - loss: 0.1392 - accuracy: 0.9914 - val_loss: 3.3372 - val_accuracy: 0.8962\n",
            "Epoch 488/600\n",
            "20/20 [==============================] - 1s 30ms/step - loss: 0.0185 - accuracy: 0.9928 - val_loss: 2.9992 - val_accuracy: 0.8962\n",
            "Epoch 489/600\n",
            "20/20 [==============================] - 0s 25ms/step - loss: 0.0580 - accuracy: 0.9923 - val_loss: 2.5170 - val_accuracy: 0.8868\n",
            "Epoch 490/600\n",
            "20/20 [==============================] - 1s 27ms/step - loss: 0.0193 - accuracy: 0.9917 - val_loss: 2.9335 - val_accuracy: 0.8993\n",
            "Epoch 491/600\n",
            "20/20 [==============================] - 1s 26ms/step - loss: 0.0155 - accuracy: 0.9920 - val_loss: 3.7959 - val_accuracy: 0.8968\n",
            "Epoch 492/600\n",
            "20/20 [==============================] - 1s 26ms/step - loss: 0.0549 - accuracy: 0.9875 - val_loss: 2.3569 - val_accuracy: 0.8893\n",
            "Epoch 493/600\n",
            "20/20 [==============================] - 0s 25ms/step - loss: 0.0344 - accuracy: 0.9886 - val_loss: 4.3552 - val_accuracy: 0.8874\n",
            "Epoch 494/600\n",
            "20/20 [==============================] - 1s 26ms/step - loss: 0.1409 - accuracy: 0.9889 - val_loss: 2.2873 - val_accuracy: 0.8906\n",
            "Epoch 495/600\n",
            "20/20 [==============================] - 1s 26ms/step - loss: 0.0472 - accuracy: 0.9900 - val_loss: 2.6095 - val_accuracy: 0.8762\n",
            "Epoch 496/600\n",
            "20/20 [==============================] - 1s 26ms/step - loss: 0.0412 - accuracy: 0.9884 - val_loss: 2.4697 - val_accuracy: 0.8937\n",
            "Epoch 497/600\n",
            "20/20 [==============================] - 0s 21ms/step - loss: 0.0181 - accuracy: 0.9922 - val_loss: 2.9220 - val_accuracy: 0.8956\n",
            "Epoch 498/600\n",
            "20/20 [==============================] - 1s 26ms/step - loss: 0.0664 - accuracy: 0.9876 - val_loss: 2.0773 - val_accuracy: 0.8912\n",
            "Epoch 499/600\n",
            "20/20 [==============================] - 1s 26ms/step - loss: 0.0330 - accuracy: 0.9884 - val_loss: 2.6623 - val_accuracy: 0.8999\n",
            "Epoch 500/600\n",
            "20/20 [==============================] - 0s 22ms/step - loss: 0.0416 - accuracy: 0.9914 - val_loss: 2.5237 - val_accuracy: 0.8943\n",
            "Epoch 501/600\n",
            "20/20 [==============================] - 1s 26ms/step - loss: 0.0175 - accuracy: 0.9925 - val_loss: 3.3401 - val_accuracy: 0.8974\n",
            "Epoch 502/600\n",
            "20/20 [==============================] - 1s 26ms/step - loss: 0.0294 - accuracy: 0.9916 - val_loss: 3.6601 - val_accuracy: 0.8924\n",
            "Epoch 503/600\n",
            "20/20 [==============================] - 1s 25ms/step - loss: 0.0769 - accuracy: 0.9862 - val_loss: 2.5003 - val_accuracy: 0.8868\n",
            "Epoch 504/600\n",
            "20/20 [==============================] - 0s 22ms/step - loss: 0.0430 - accuracy: 0.9906 - val_loss: 3.9385 - val_accuracy: 0.8874\n",
            "Epoch 505/600\n",
            "20/20 [==============================] - 1s 25ms/step - loss: 0.0564 - accuracy: 0.9906 - val_loss: 2.2893 - val_accuracy: 0.9018\n",
            "Epoch 506/600\n",
            "20/20 [==============================] - 1s 27ms/step - loss: 0.0168 - accuracy: 0.9931 - val_loss: 2.4260 - val_accuracy: 0.8968\n",
            "Epoch 507/600\n",
            "20/20 [==============================] - 0s 23ms/step - loss: 0.0336 - accuracy: 0.9912 - val_loss: 2.8693 - val_accuracy: 0.8893\n",
            "Epoch 508/600\n",
            "20/20 [==============================] - 0s 23ms/step - loss: 0.0178 - accuracy: 0.9920 - val_loss: 3.1538 - val_accuracy: 0.8968\n",
            "Epoch 509/600\n",
            "20/20 [==============================] - 1s 28ms/step - loss: 0.0949 - accuracy: 0.9856 - val_loss: 2.6303 - val_accuracy: 0.8755\n",
            "Epoch 510/600\n",
            "20/20 [==============================] - 1s 29ms/step - loss: 0.0443 - accuracy: 0.9875 - val_loss: 2.7906 - val_accuracy: 0.8937\n",
            "Epoch 511/600\n",
            "20/20 [==============================] - 1s 28ms/step - loss: 0.0214 - accuracy: 0.9925 - val_loss: 4.4051 - val_accuracy: 0.9018\n",
            "Epoch 512/600\n",
            "20/20 [==============================] - 1s 26ms/step - loss: 0.0212 - accuracy: 0.9928 - val_loss: 8.3492 - val_accuracy: 0.9018\n",
            "Epoch 513/600\n",
            "20/20 [==============================] - 1s 28ms/step - loss: 0.0168 - accuracy: 0.9916 - val_loss: 4.5665 - val_accuracy: 0.8818\n",
            "Epoch 514/600\n",
            "20/20 [==============================] - 1s 26ms/step - loss: 0.0876 - accuracy: 0.9859 - val_loss: 4.7651 - val_accuracy: 0.8962\n",
            "Epoch 515/600\n",
            "20/20 [==============================] - 1s 26ms/step - loss: 0.1040 - accuracy: 0.9881 - val_loss: 4.0824 - val_accuracy: 0.8818\n",
            "Epoch 516/600\n",
            "20/20 [==============================] - 1s 26ms/step - loss: 0.0701 - accuracy: 0.9892 - val_loss: 2.8292 - val_accuracy: 0.8962\n",
            "Epoch 517/600\n",
            "20/20 [==============================] - 1s 26ms/step - loss: 0.0225 - accuracy: 0.9905 - val_loss: 3.1362 - val_accuracy: 0.8999\n",
            "Epoch 518/600\n",
            "20/20 [==============================] - 1s 27ms/step - loss: 0.0206 - accuracy: 0.9909 - val_loss: 4.8415 - val_accuracy: 0.9024\n",
            "Epoch 519/600\n",
            "20/20 [==============================] - 1s 29ms/step - loss: 0.0678 - accuracy: 0.9881 - val_loss: 4.5041 - val_accuracy: 0.8887\n",
            "Epoch 520/600\n",
            "20/20 [==============================] - 1s 25ms/step - loss: 0.1220 - accuracy: 0.9881 - val_loss: 3.7157 - val_accuracy: 0.8887\n",
            "Epoch 521/600\n",
            "20/20 [==============================] - 0s 25ms/step - loss: 0.1316 - accuracy: 0.9858 - val_loss: 2.7841 - val_accuracy: 0.8824\n",
            "Epoch 522/600\n",
            "20/20 [==============================] - 0s 25ms/step - loss: 0.0806 - accuracy: 0.9881 - val_loss: 3.1320 - val_accuracy: 0.8831\n",
            "Epoch 523/600\n",
            "20/20 [==============================] - 0s 25ms/step - loss: 0.0397 - accuracy: 0.9889 - val_loss: 3.0643 - val_accuracy: 0.8943\n",
            "Epoch 524/600\n",
            "20/20 [==============================] - 1s 28ms/step - loss: 0.0250 - accuracy: 0.9925 - val_loss: 5.4317 - val_accuracy: 0.8918\n",
            "Epoch 525/600\n",
            "20/20 [==============================] - 0s 22ms/step - loss: 0.0787 - accuracy: 0.9900 - val_loss: 3.0756 - val_accuracy: 0.8968\n",
            "Epoch 526/600\n",
            "20/20 [==============================] - 1s 27ms/step - loss: 0.0193 - accuracy: 0.9930 - val_loss: 2.8121 - val_accuracy: 0.8974\n",
            "Epoch 527/600\n",
            "20/20 [==============================] - 1s 27ms/step - loss: 0.0404 - accuracy: 0.9906 - val_loss: 3.6686 - val_accuracy: 0.8862\n",
            "Epoch 528/600\n",
            "20/20 [==============================] - 1s 26ms/step - loss: 0.0313 - accuracy: 0.9908 - val_loss: 3.8206 - val_accuracy: 0.8943\n",
            "Epoch 529/600\n",
            "20/20 [==============================] - 0s 25ms/step - loss: 0.0743 - accuracy: 0.9864 - val_loss: 2.7916 - val_accuracy: 0.8962\n",
            "Epoch 530/600\n",
            "20/20 [==============================] - 1s 27ms/step - loss: 0.0213 - accuracy: 0.9903 - val_loss: 3.5266 - val_accuracy: 0.8974\n",
            "Epoch 531/600\n",
            "20/20 [==============================] - 0s 24ms/step - loss: 0.0604 - accuracy: 0.9901 - val_loss: 3.0557 - val_accuracy: 0.8749\n",
            "Epoch 532/600\n",
            "20/20 [==============================] - 1s 26ms/step - loss: 0.0435 - accuracy: 0.9909 - val_loss: 2.7949 - val_accuracy: 0.8918\n",
            "Epoch 533/600\n",
            "20/20 [==============================] - 0s 23ms/step - loss: 0.0704 - accuracy: 0.9875 - val_loss: 2.2871 - val_accuracy: 0.8893\n",
            "Epoch 534/600\n",
            "20/20 [==============================] - 0s 23ms/step - loss: 0.0301 - accuracy: 0.9923 - val_loss: 2.8288 - val_accuracy: 0.8881\n",
            "Epoch 535/600\n",
            "20/20 [==============================] - 0s 25ms/step - loss: 0.0201 - accuracy: 0.9926 - val_loss: 2.9922 - val_accuracy: 0.9012\n",
            "Epoch 536/600\n",
            "20/20 [==============================] - 0s 24ms/step - loss: 0.0272 - accuracy: 0.9903 - val_loss: 4.2779 - val_accuracy: 0.8962\n",
            "Epoch 537/600\n",
            "20/20 [==============================] - 0s 22ms/step - loss: 0.0387 - accuracy: 0.9898 - val_loss: 2.5011 - val_accuracy: 0.8793\n",
            "Epoch 538/600\n",
            "20/20 [==============================] - 0s 23ms/step - loss: 0.0333 - accuracy: 0.9892 - val_loss: 3.6581 - val_accuracy: 0.8974\n",
            "Epoch 539/600\n",
            "20/20 [==============================] - 1s 26ms/step - loss: 0.0341 - accuracy: 0.9897 - val_loss: 4.3958 - val_accuracy: 0.8949\n",
            "Epoch 540/600\n",
            "20/20 [==============================] - 0s 22ms/step - loss: 0.0355 - accuracy: 0.9920 - val_loss: 2.7393 - val_accuracy: 0.8837\n",
            "Epoch 541/600\n",
            "20/20 [==============================] - 0s 23ms/step - loss: 0.0209 - accuracy: 0.9931 - val_loss: 3.6020 - val_accuracy: 0.8987\n",
            "Epoch 542/600\n",
            "20/20 [==============================] - 1s 26ms/step - loss: 0.0440 - accuracy: 0.9922 - val_loss: 3.9122 - val_accuracy: 0.8943\n",
            "Epoch 543/600\n",
            "20/20 [==============================] - 1s 28ms/step - loss: 0.0457 - accuracy: 0.9891 - val_loss: 4.1554 - val_accuracy: 0.8799\n",
            "Epoch 544/600\n",
            "20/20 [==============================] - 1s 29ms/step - loss: 0.1065 - accuracy: 0.9875 - val_loss: 3.3348 - val_accuracy: 0.8749\n",
            "Epoch 545/600\n",
            "20/20 [==============================] - 0s 23ms/step - loss: 0.0658 - accuracy: 0.9920 - val_loss: 2.1485 - val_accuracy: 0.8874\n",
            "Epoch 546/600\n",
            "20/20 [==============================] - 1s 27ms/step - loss: 0.0174 - accuracy: 0.9925 - val_loss: 3.8868 - val_accuracy: 0.9006\n",
            "Epoch 547/600\n",
            "20/20 [==============================] - 1s 25ms/step - loss: 0.0425 - accuracy: 0.9912 - val_loss: 3.2944 - val_accuracy: 0.8762\n",
            "Epoch 548/600\n",
            "20/20 [==============================] - 1s 28ms/step - loss: 0.0253 - accuracy: 0.9897 - val_loss: 3.8864 - val_accuracy: 0.8912\n",
            "Epoch 549/600\n",
            "20/20 [==============================] - 0s 24ms/step - loss: 0.1007 - accuracy: 0.9856 - val_loss: 2.5736 - val_accuracy: 0.8943\n",
            "Epoch 550/600\n",
            "20/20 [==============================] - 1s 27ms/step - loss: 0.0428 - accuracy: 0.9900 - val_loss: 2.6410 - val_accuracy: 0.8874\n",
            "Epoch 551/600\n",
            "20/20 [==============================] - 1s 27ms/step - loss: 0.0188 - accuracy: 0.9919 - val_loss: 3.0281 - val_accuracy: 0.8931\n",
            "Epoch 552/600\n",
            "20/20 [==============================] - 0s 25ms/step - loss: 0.0172 - accuracy: 0.9942 - val_loss: 4.2554 - val_accuracy: 0.8999\n",
            "Epoch 553/600\n",
            "20/20 [==============================] - 1s 27ms/step - loss: 0.0598 - accuracy: 0.9861 - val_loss: 2.9111 - val_accuracy: 0.8962\n",
            "Epoch 554/600\n",
            "20/20 [==============================] - 1s 29ms/step - loss: 0.0949 - accuracy: 0.9906 - val_loss: 2.4151 - val_accuracy: 0.8881\n",
            "Epoch 555/600\n",
            "20/20 [==============================] - 0s 24ms/step - loss: 0.0351 - accuracy: 0.9922 - val_loss: 2.9003 - val_accuracy: 0.8962\n",
            "Epoch 556/600\n",
            "20/20 [==============================] - 1s 25ms/step - loss: 0.0404 - accuracy: 0.9914 - val_loss: 2.8141 - val_accuracy: 0.9006\n",
            "Epoch 557/600\n",
            "20/20 [==============================] - 1s 25ms/step - loss: 0.0354 - accuracy: 0.9901 - val_loss: 3.1542 - val_accuracy: 0.8974\n",
            "Epoch 558/600\n",
            "20/20 [==============================] - 1s 28ms/step - loss: 0.0220 - accuracy: 0.9905 - val_loss: 2.8026 - val_accuracy: 0.9024\n",
            "Epoch 559/600\n",
            "20/20 [==============================] - 0s 22ms/step - loss: 0.0943 - accuracy: 0.9897 - val_loss: 2.4576 - val_accuracy: 0.8993\n",
            "Epoch 560/600\n",
            "20/20 [==============================] - 0s 23ms/step - loss: 0.0221 - accuracy: 0.9917 - val_loss: 2.3126 - val_accuracy: 0.9012\n",
            "Epoch 561/600\n",
            "20/20 [==============================] - 0s 25ms/step - loss: 0.0196 - accuracy: 0.9920 - val_loss: 3.1175 - val_accuracy: 0.8974\n",
            "Epoch 562/600\n",
            "20/20 [==============================] - 1s 25ms/step - loss: 0.0255 - accuracy: 0.9897 - val_loss: 3.5977 - val_accuracy: 0.8962\n",
            "Epoch 563/600\n",
            "20/20 [==============================] - 0s 24ms/step - loss: 0.0429 - accuracy: 0.9926 - val_loss: 4.1473 - val_accuracy: 0.8981\n",
            "Epoch 564/600\n",
            "20/20 [==============================] - 1s 25ms/step - loss: 0.0181 - accuracy: 0.9920 - val_loss: 4.7523 - val_accuracy: 0.8981\n",
            "Epoch 565/600\n",
            "20/20 [==============================] - 0s 25ms/step - loss: 0.0596 - accuracy: 0.9891 - val_loss: 5.5334 - val_accuracy: 0.8837\n",
            "Epoch 566/600\n",
            "20/20 [==============================] - 1s 26ms/step - loss: 0.0320 - accuracy: 0.9889 - val_loss: 4.6920 - val_accuracy: 0.8949\n",
            "Epoch 567/600\n",
            "20/20 [==============================] - 0s 22ms/step - loss: 0.0586 - accuracy: 0.9909 - val_loss: 3.0288 - val_accuracy: 0.8793\n",
            "Epoch 568/600\n",
            "20/20 [==============================] - 1s 27ms/step - loss: 0.0190 - accuracy: 0.9920 - val_loss: 4.2986 - val_accuracy: 0.8968\n",
            "Epoch 569/600\n",
            "20/20 [==============================] - 1s 28ms/step - loss: 0.0138 - accuracy: 0.9953 - val_loss: 4.9105 - val_accuracy: 0.8993\n",
            "Epoch 570/600\n",
            "20/20 [==============================] - 1s 29ms/step - loss: 0.2087 - accuracy: 0.9861 - val_loss: 4.1728 - val_accuracy: 0.8937\n",
            "Epoch 571/600\n",
            "20/20 [==============================] - 1s 28ms/step - loss: 0.1050 - accuracy: 0.9875 - val_loss: 3.8013 - val_accuracy: 0.8856\n",
            "Epoch 572/600\n",
            "20/20 [==============================] - 1s 27ms/step - loss: 0.0245 - accuracy: 0.9903 - val_loss: 2.9185 - val_accuracy: 0.8881\n",
            "Epoch 573/600\n",
            "20/20 [==============================] - 1s 29ms/step - loss: 0.0284 - accuracy: 0.9906 - val_loss: 4.5003 - val_accuracy: 0.8949\n",
            "Epoch 574/600\n",
            "20/20 [==============================] - 1s 27ms/step - loss: 0.0636 - accuracy: 0.9873 - val_loss: 2.6123 - val_accuracy: 0.8856\n",
            "Epoch 575/600\n",
            "20/20 [==============================] - 0s 22ms/step - loss: 0.0234 - accuracy: 0.9895 - val_loss: 3.2676 - val_accuracy: 0.8974\n",
            "Epoch 576/600\n",
            "20/20 [==============================] - 0s 23ms/step - loss: 0.1134 - accuracy: 0.9867 - val_loss: 3.4616 - val_accuracy: 0.8987\n",
            "Epoch 577/600\n",
            "20/20 [==============================] - 1s 25ms/step - loss: 0.0247 - accuracy: 0.9916 - val_loss: 2.6816 - val_accuracy: 0.9018\n",
            "Epoch 578/600\n",
            "20/20 [==============================] - 1s 28ms/step - loss: 0.0129 - accuracy: 0.9934 - val_loss: 4.1534 - val_accuracy: 0.8987\n",
            "Epoch 579/600\n",
            "20/20 [==============================] - 1s 26ms/step - loss: 0.0875 - accuracy: 0.9872 - val_loss: 3.5742 - val_accuracy: 0.8893\n",
            "Epoch 580/600\n",
            "20/20 [==============================] - 1s 28ms/step - loss: 0.0290 - accuracy: 0.9928 - val_loss: 3.4006 - val_accuracy: 0.9006\n",
            "Epoch 581/600\n",
            "20/20 [==============================] - 0s 23ms/step - loss: 0.0217 - accuracy: 0.9909 - val_loss: 4.1974 - val_accuracy: 0.9081\n",
            "Epoch 582/600\n",
            "20/20 [==============================] - 1s 26ms/step - loss: 0.0424 - accuracy: 0.9897 - val_loss: 3.1000 - val_accuracy: 0.8856\n",
            "Epoch 583/600\n",
            "20/20 [==============================] - 0s 22ms/step - loss: 0.0240 - accuracy: 0.9897 - val_loss: 4.4984 - val_accuracy: 0.8931\n",
            "Epoch 584/600\n",
            "20/20 [==============================] - 0s 25ms/step - loss: 0.0644 - accuracy: 0.9887 - val_loss: 4.2839 - val_accuracy: 0.8824\n",
            "Epoch 585/600\n",
            "20/20 [==============================] - 1s 29ms/step - loss: 0.0774 - accuracy: 0.9878 - val_loss: 4.3143 - val_accuracy: 0.8987\n",
            "Epoch 586/600\n",
            "20/20 [==============================] - 1s 29ms/step - loss: 0.5092 - accuracy: 0.9878 - val_loss: 2.2629 - val_accuracy: 0.8718\n",
            "Epoch 587/600\n",
            "20/20 [==============================] - 1s 26ms/step - loss: 0.0474 - accuracy: 0.9865 - val_loss: 2.1146 - val_accuracy: 0.9024\n",
            "Epoch 588/600\n",
            "20/20 [==============================] - 1s 27ms/step - loss: 0.0175 - accuracy: 0.9928 - val_loss: 2.5996 - val_accuracy: 0.9037\n",
            "Epoch 589/600\n",
            "20/20 [==============================] - 1s 26ms/step - loss: 0.0311 - accuracy: 0.9919 - val_loss: 2.6193 - val_accuracy: 0.8943\n",
            "Epoch 590/600\n",
            "20/20 [==============================] - 1s 29ms/step - loss: 0.0245 - accuracy: 0.9908 - val_loss: 3.6279 - val_accuracy: 0.8856\n",
            "Epoch 591/600\n",
            "20/20 [==============================] - 1s 25ms/step - loss: 0.0434 - accuracy: 0.9898 - val_loss: 3.3241 - val_accuracy: 0.8956\n",
            "Epoch 592/600\n",
            "20/20 [==============================] - 1s 28ms/step - loss: 0.0807 - accuracy: 0.9898 - val_loss: 3.8522 - val_accuracy: 0.8893\n",
            "Epoch 593/600\n",
            "20/20 [==============================] - 0s 25ms/step - loss: 0.0308 - accuracy: 0.9908 - val_loss: 3.6590 - val_accuracy: 0.8987\n",
            "Epoch 594/600\n",
            "20/20 [==============================] - 0s 24ms/step - loss: 0.0356 - accuracy: 0.9889 - val_loss: 4.0202 - val_accuracy: 0.8937\n",
            "Epoch 595/600\n",
            "20/20 [==============================] - 0s 22ms/step - loss: 0.0407 - accuracy: 0.9878 - val_loss: 4.6539 - val_accuracy: 0.8999\n",
            "Epoch 596/600\n",
            "20/20 [==============================] - 1s 26ms/step - loss: 0.0181 - accuracy: 0.9919 - val_loss: 7.8268 - val_accuracy: 0.8981\n",
            "Epoch 597/600\n",
            "20/20 [==============================] - 1s 29ms/step - loss: 0.0792 - accuracy: 0.9908 - val_loss: 2.7570 - val_accuracy: 0.8843\n",
            "Epoch 598/600\n",
            "20/20 [==============================] - 1s 27ms/step - loss: 0.0487 - accuracy: 0.9861 - val_loss: 2.6978 - val_accuracy: 0.8924\n",
            "Epoch 599/600\n",
            "20/20 [==============================] - 1s 26ms/step - loss: 0.0177 - accuracy: 0.9911 - val_loss: 4.1539 - val_accuracy: 0.8968\n",
            "Epoch 600/600\n",
            "20/20 [==============================] - 1s 26ms/step - loss: 0.0331 - accuracy: 0.9928 - val_loss: 3.0934 - val_accuracy: 0.8906\n"
          ]
        }
      ]
    },
    {
      "cell_type": "code",
      "source": [
        "history_new=model_new.fit(x=X_train,y=Y_train_dummy_new,validation_split=0.2,shuffle=True,steps_per_epoch=20,epochs=600)"
      ],
      "metadata": {
        "colab": {
          "base_uri": "https://localhost:8080/"
        },
        "id": "dckFPz6kCbqo",
        "outputId": "45e0d6f9-851f-4bab-9f2b-0f8f421105f6"
      },
      "execution_count": 450,
      "outputs": [
        {
          "output_type": "stream",
          "name": "stdout",
          "text": [
            "Epoch 1/200\n",
            "20/20 [==============================] - 2s 29ms/step - loss: 2.0136 - accuracy: 0.2695 - val_loss: 1.5984 - val_accuracy: 0.4941\n",
            "Epoch 2/200\n",
            "20/20 [==============================] - 0s 20ms/step - loss: 1.5796 - accuracy: 0.4538 - val_loss: 1.2332 - val_accuracy: 0.6279\n",
            "Epoch 3/200\n",
            "20/20 [==============================] - 0s 21ms/step - loss: 1.3388 - accuracy: 0.5468 - val_loss: 1.0477 - val_accuracy: 0.6754\n",
            "Epoch 4/200\n",
            "20/20 [==============================] - 0s 22ms/step - loss: 1.1527 - accuracy: 0.6155 - val_loss: 0.8987 - val_accuracy: 0.7179\n",
            "Epoch 5/200\n",
            "20/20 [==============================] - 0s 17ms/step - loss: 0.9989 - accuracy: 0.6728 - val_loss: 0.8108 - val_accuracy: 0.7417\n",
            "Epoch 6/200\n",
            "20/20 [==============================] - 0s 18ms/step - loss: 0.8978 - accuracy: 0.7112 - val_loss: 0.7208 - val_accuracy: 0.7792\n",
            "Epoch 7/200\n",
            "20/20 [==============================] - 0s 21ms/step - loss: 0.7909 - accuracy: 0.7430 - val_loss: 0.6845 - val_accuracy: 0.7911\n",
            "Epoch 8/200\n",
            "20/20 [==============================] - 0s 21ms/step - loss: 0.7197 - accuracy: 0.7663 - val_loss: 0.6390 - val_accuracy: 0.8030\n",
            "Epoch 9/200\n",
            "20/20 [==============================] - 0s 22ms/step - loss: 0.6391 - accuracy: 0.7934 - val_loss: 0.5871 - val_accuracy: 0.8155\n",
            "Epoch 10/200\n",
            "20/20 [==============================] - 0s 17ms/step - loss: 0.5782 - accuracy: 0.8168 - val_loss: 0.5657 - val_accuracy: 0.8261\n",
            "Epoch 11/200\n",
            "20/20 [==============================] - 0s 23ms/step - loss: 0.5058 - accuracy: 0.8428 - val_loss: 0.5505 - val_accuracy: 0.8311\n",
            "Epoch 12/200\n",
            "20/20 [==============================] - 0s 19ms/step - loss: 0.4464 - accuracy: 0.8592 - val_loss: 0.5206 - val_accuracy: 0.8349\n",
            "Epoch 13/200\n",
            "20/20 [==============================] - 0s 19ms/step - loss: 0.4253 - accuracy: 0.8700 - val_loss: 0.5207 - val_accuracy: 0.8418\n",
            "Epoch 14/200\n",
            "20/20 [==============================] - 0s 18ms/step - loss: 0.3774 - accuracy: 0.8869 - val_loss: 0.5073 - val_accuracy: 0.8430\n",
            "Epoch 15/200\n",
            "20/20 [==============================] - 0s 18ms/step - loss: 0.3297 - accuracy: 0.8990 - val_loss: 0.4716 - val_accuracy: 0.8562\n",
            "Epoch 16/200\n",
            "20/20 [==============================] - 0s 18ms/step - loss: 0.2756 - accuracy: 0.9140 - val_loss: 0.4685 - val_accuracy: 0.8580\n",
            "Epoch 17/200\n",
            "20/20 [==============================] - 0s 23ms/step - loss: 0.2540 - accuracy: 0.9230 - val_loss: 0.5091 - val_accuracy: 0.8630\n",
            "Epoch 18/200\n",
            "20/20 [==============================] - 0s 22ms/step - loss: 0.2293 - accuracy: 0.9301 - val_loss: 0.4910 - val_accuracy: 0.8655\n",
            "Epoch 19/200\n",
            "20/20 [==============================] - 0s 21ms/step - loss: 0.2082 - accuracy: 0.9371 - val_loss: 0.5063 - val_accuracy: 0.8643\n",
            "Epoch 20/200\n",
            "20/20 [==============================] - 0s 19ms/step - loss: 0.1882 - accuracy: 0.9431 - val_loss: 0.5178 - val_accuracy: 0.8712\n",
            "Epoch 21/200\n",
            "20/20 [==============================] - 0s 23ms/step - loss: 0.1801 - accuracy: 0.9438 - val_loss: 0.5804 - val_accuracy: 0.8637\n",
            "Epoch 22/200\n",
            "20/20 [==============================] - 0s 23ms/step - loss: 0.1717 - accuracy: 0.9459 - val_loss: 0.5494 - val_accuracy: 0.8724\n",
            "Epoch 23/200\n",
            "20/20 [==============================] - 0s 19ms/step - loss: 0.1701 - accuracy: 0.9498 - val_loss: 0.5870 - val_accuracy: 0.8730\n",
            "Epoch 24/200\n",
            "20/20 [==============================] - 0s 20ms/step - loss: 0.1721 - accuracy: 0.9459 - val_loss: 0.6288 - val_accuracy: 0.8537\n",
            "Epoch 25/200\n",
            "20/20 [==============================] - 0s 22ms/step - loss: 0.1712 - accuracy: 0.9482 - val_loss: 0.6078 - val_accuracy: 0.8618\n",
            "Epoch 26/200\n",
            "20/20 [==============================] - 0s 19ms/step - loss: 0.1425 - accuracy: 0.9551 - val_loss: 0.5920 - val_accuracy: 0.8787\n",
            "Epoch 27/200\n",
            "20/20 [==============================] - 0s 21ms/step - loss: 0.1240 - accuracy: 0.9615 - val_loss: 0.6376 - val_accuracy: 0.8605\n",
            "Epoch 28/200\n",
            "20/20 [==============================] - 0s 19ms/step - loss: 0.1223 - accuracy: 0.9623 - val_loss: 0.6454 - val_accuracy: 0.8712\n",
            "Epoch 29/200\n",
            "20/20 [==============================] - 0s 20ms/step - loss: 0.1184 - accuracy: 0.9645 - val_loss: 0.6593 - val_accuracy: 0.8655\n",
            "Epoch 30/200\n",
            "20/20 [==============================] - 0s 23ms/step - loss: 0.1075 - accuracy: 0.9646 - val_loss: 0.6780 - val_accuracy: 0.8699\n",
            "Epoch 31/200\n",
            "20/20 [==============================] - 0s 17ms/step - loss: 0.1044 - accuracy: 0.9639 - val_loss: 0.6699 - val_accuracy: 0.8662\n",
            "Epoch 32/200\n",
            "20/20 [==============================] - 0s 21ms/step - loss: 0.1204 - accuracy: 0.9625 - val_loss: 0.7468 - val_accuracy: 0.8599\n",
            "Epoch 33/200\n",
            "20/20 [==============================] - 0s 17ms/step - loss: 0.1218 - accuracy: 0.9626 - val_loss: 0.6532 - val_accuracy: 0.8774\n",
            "Epoch 34/200\n",
            "20/20 [==============================] - 0s 24ms/step - loss: 0.0932 - accuracy: 0.9737 - val_loss: 0.6963 - val_accuracy: 0.8755\n",
            "Epoch 35/200\n",
            "20/20 [==============================] - 0s 22ms/step - loss: 0.0769 - accuracy: 0.9712 - val_loss: 0.6642 - val_accuracy: 0.8849\n",
            "Epoch 36/200\n",
            "20/20 [==============================] - 0s 21ms/step - loss: 0.0754 - accuracy: 0.9740 - val_loss: 0.6865 - val_accuracy: 0.8843\n",
            "Epoch 37/200\n",
            "20/20 [==============================] - 0s 17ms/step - loss: 0.0644 - accuracy: 0.9768 - val_loss: 0.6982 - val_accuracy: 0.8818\n",
            "Epoch 38/200\n",
            "20/20 [==============================] - 0s 18ms/step - loss: 0.0605 - accuracy: 0.9781 - val_loss: 0.7281 - val_accuracy: 0.8768\n",
            "Epoch 39/200\n",
            "20/20 [==============================] - 0s 24ms/step - loss: 0.0646 - accuracy: 0.9783 - val_loss: 0.7853 - val_accuracy: 0.8806\n",
            "Epoch 40/200\n",
            "20/20 [==============================] - 0s 19ms/step - loss: 0.0720 - accuracy: 0.9754 - val_loss: 0.7599 - val_accuracy: 0.8712\n",
            "Epoch 41/200\n",
            "20/20 [==============================] - 0s 19ms/step - loss: 0.0741 - accuracy: 0.9762 - val_loss: 0.8244 - val_accuracy: 0.8755\n",
            "Epoch 42/200\n",
            "20/20 [==============================] - 0s 20ms/step - loss: 0.0967 - accuracy: 0.9717 - val_loss: 0.7651 - val_accuracy: 0.8680\n",
            "Epoch 43/200\n",
            "20/20 [==============================] - 0s 19ms/step - loss: 0.1144 - accuracy: 0.9667 - val_loss: 0.7318 - val_accuracy: 0.8762\n",
            "Epoch 44/200\n",
            "20/20 [==============================] - 0s 20ms/step - loss: 0.0827 - accuracy: 0.9753 - val_loss: 0.7130 - val_accuracy: 0.8812\n",
            "Epoch 45/200\n",
            "20/20 [==============================] - 0s 19ms/step - loss: 0.0741 - accuracy: 0.9747 - val_loss: 0.7429 - val_accuracy: 0.8730\n",
            "Epoch 46/200\n",
            "20/20 [==============================] - 0s 20ms/step - loss: 0.0572 - accuracy: 0.9812 - val_loss: 0.7682 - val_accuracy: 0.8837\n",
            "Epoch 47/200\n",
            "20/20 [==============================] - 0s 23ms/step - loss: 0.0583 - accuracy: 0.9800 - val_loss: 0.7882 - val_accuracy: 0.8787\n",
            "Epoch 48/200\n",
            "20/20 [==============================] - 0s 19ms/step - loss: 0.0600 - accuracy: 0.9783 - val_loss: 0.7816 - val_accuracy: 0.8893\n",
            "Epoch 49/200\n",
            "20/20 [==============================] - 0s 19ms/step - loss: 0.0575 - accuracy: 0.9800 - val_loss: 0.7722 - val_accuracy: 0.8868\n",
            "Epoch 50/200\n",
            "20/20 [==============================] - 0s 21ms/step - loss: 0.0552 - accuracy: 0.9806 - val_loss: 0.7813 - val_accuracy: 0.8874\n",
            "Epoch 51/200\n",
            "20/20 [==============================] - 0s 19ms/step - loss: 0.0748 - accuracy: 0.9753 - val_loss: 0.7603 - val_accuracy: 0.8887\n",
            "Epoch 52/200\n",
            "20/20 [==============================] - 0s 22ms/step - loss: 0.0743 - accuracy: 0.9743 - val_loss: 0.8069 - val_accuracy: 0.8668\n",
            "Epoch 53/200\n",
            "20/20 [==============================] - 0s 20ms/step - loss: 0.0619 - accuracy: 0.9812 - val_loss: 0.7367 - val_accuracy: 0.8868\n",
            "Epoch 54/200\n",
            "20/20 [==============================] - 0s 19ms/step - loss: 0.0558 - accuracy: 0.9809 - val_loss: 0.7447 - val_accuracy: 0.8924\n",
            "Epoch 55/200\n",
            "20/20 [==============================] - 0s 22ms/step - loss: 0.0532 - accuracy: 0.9798 - val_loss: 0.8301 - val_accuracy: 0.8812\n",
            "Epoch 56/200\n",
            "20/20 [==============================] - 0s 19ms/step - loss: 0.0739 - accuracy: 0.9787 - val_loss: 0.9233 - val_accuracy: 0.8712\n",
            "Epoch 57/200\n",
            "20/20 [==============================] - 0s 20ms/step - loss: 0.1060 - accuracy: 0.9665 - val_loss: 0.7717 - val_accuracy: 0.8787\n",
            "Epoch 58/200\n",
            "20/20 [==============================] - 0s 23ms/step - loss: 0.0788 - accuracy: 0.9712 - val_loss: 0.7371 - val_accuracy: 0.8824\n",
            "Epoch 59/200\n",
            "20/20 [==============================] - 0s 20ms/step - loss: 0.0616 - accuracy: 0.9792 - val_loss: 0.6832 - val_accuracy: 0.8949\n",
            "Epoch 60/200\n",
            "20/20 [==============================] - 0s 19ms/step - loss: 0.0519 - accuracy: 0.9839 - val_loss: 1.1467 - val_accuracy: 0.8643\n",
            "Epoch 61/200\n",
            "20/20 [==============================] - 0s 23ms/step - loss: 0.1271 - accuracy: 0.9734 - val_loss: 0.7847 - val_accuracy: 0.8774\n",
            "Epoch 62/200\n",
            "20/20 [==============================] - 0s 20ms/step - loss: 0.0752 - accuracy: 0.9764 - val_loss: 0.7396 - val_accuracy: 0.8818\n",
            "Epoch 63/200\n",
            "20/20 [==============================] - 0s 24ms/step - loss: 0.0504 - accuracy: 0.9856 - val_loss: 0.8122 - val_accuracy: 0.8831\n",
            "Epoch 64/200\n",
            "20/20 [==============================] - 0s 21ms/step - loss: 0.0388 - accuracy: 0.9864 - val_loss: 0.8520 - val_accuracy: 0.8893\n",
            "Epoch 65/200\n",
            "20/20 [==============================] - 0s 23ms/step - loss: 0.0516 - accuracy: 0.9822 - val_loss: 0.8294 - val_accuracy: 0.8806\n",
            "Epoch 66/200\n",
            "20/20 [==============================] - 0s 19ms/step - loss: 0.0541 - accuracy: 0.9809 - val_loss: 0.7890 - val_accuracy: 0.8937\n",
            "Epoch 67/200\n",
            "20/20 [==============================] - 0s 23ms/step - loss: 0.0445 - accuracy: 0.9826 - val_loss: 0.8256 - val_accuracy: 0.8906\n",
            "Epoch 68/200\n",
            "20/20 [==============================] - 0s 19ms/step - loss: 0.0406 - accuracy: 0.9848 - val_loss: 0.8964 - val_accuracy: 0.8906\n",
            "Epoch 69/200\n",
            "20/20 [==============================] - 0s 19ms/step - loss: 0.0323 - accuracy: 0.9876 - val_loss: 0.8828 - val_accuracy: 0.8918\n",
            "Epoch 70/200\n",
            "20/20 [==============================] - 0s 19ms/step - loss: 0.0325 - accuracy: 0.9865 - val_loss: 0.9396 - val_accuracy: 0.8893\n",
            "Epoch 71/200\n",
            "20/20 [==============================] - 0s 18ms/step - loss: 0.0352 - accuracy: 0.9844 - val_loss: 0.9492 - val_accuracy: 0.8924\n",
            "Epoch 72/200\n",
            "20/20 [==============================] - 0s 22ms/step - loss: 0.0350 - accuracy: 0.9855 - val_loss: 1.0460 - val_accuracy: 0.8831\n",
            "Epoch 73/200\n",
            "20/20 [==============================] - 0s 21ms/step - loss: 0.0364 - accuracy: 0.9867 - val_loss: 1.1266 - val_accuracy: 0.8806\n",
            "Epoch 74/200\n",
            "20/20 [==============================] - 0s 21ms/step - loss: 0.0450 - accuracy: 0.9830 - val_loss: 1.0205 - val_accuracy: 0.8762\n",
            "Epoch 75/200\n",
            "20/20 [==============================] - 0s 21ms/step - loss: 0.1035 - accuracy: 0.9715 - val_loss: 0.8941 - val_accuracy: 0.8662\n",
            "Epoch 76/200\n",
            "20/20 [==============================] - 0s 19ms/step - loss: 0.0849 - accuracy: 0.9737 - val_loss: 0.8147 - val_accuracy: 0.8787\n",
            "Epoch 77/200\n",
            "20/20 [==============================] - 0s 22ms/step - loss: 0.0717 - accuracy: 0.9784 - val_loss: 0.8040 - val_accuracy: 0.8812\n",
            "Epoch 78/200\n",
            "20/20 [==============================] - 0s 18ms/step - loss: 0.0587 - accuracy: 0.9798 - val_loss: 0.7841 - val_accuracy: 0.8868\n",
            "Epoch 79/200\n",
            "20/20 [==============================] - 0s 18ms/step - loss: 0.0637 - accuracy: 0.9784 - val_loss: 0.9335 - val_accuracy: 0.8787\n",
            "Epoch 80/200\n",
            "20/20 [==============================] - 0s 17ms/step - loss: 0.0741 - accuracy: 0.9765 - val_loss: 0.7909 - val_accuracy: 0.8806\n",
            "Epoch 81/200\n",
            "20/20 [==============================] - 0s 18ms/step - loss: 0.0665 - accuracy: 0.9753 - val_loss: 0.8749 - val_accuracy: 0.8824\n",
            "Epoch 82/200\n",
            "20/20 [==============================] - 0s 19ms/step - loss: 0.0582 - accuracy: 0.9806 - val_loss: 0.8680 - val_accuracy: 0.8793\n",
            "Epoch 83/200\n",
            "20/20 [==============================] - 0s 18ms/step - loss: 0.0420 - accuracy: 0.9842 - val_loss: 0.7797 - val_accuracy: 0.8931\n",
            "Epoch 84/200\n",
            "20/20 [==============================] - 0s 23ms/step - loss: 0.0322 - accuracy: 0.9881 - val_loss: 0.8010 - val_accuracy: 0.8918\n",
            "Epoch 85/200\n",
            "20/20 [==============================] - 0s 23ms/step - loss: 0.0345 - accuracy: 0.9870 - val_loss: 0.8314 - val_accuracy: 0.8987\n",
            "Epoch 86/200\n",
            "20/20 [==============================] - 0s 19ms/step - loss: 0.0320 - accuracy: 0.9861 - val_loss: 0.8637 - val_accuracy: 0.8987\n",
            "Epoch 87/200\n",
            "20/20 [==============================] - 0s 18ms/step - loss: 0.0368 - accuracy: 0.9861 - val_loss: 0.9731 - val_accuracy: 0.8906\n",
            "Epoch 88/200\n",
            "20/20 [==============================] - 0s 18ms/step - loss: 0.0379 - accuracy: 0.9853 - val_loss: 0.9295 - val_accuracy: 0.8974\n",
            "Epoch 89/200\n",
            "20/20 [==============================] - 0s 23ms/step - loss: 0.0311 - accuracy: 0.9876 - val_loss: 0.9746 - val_accuracy: 0.8943\n",
            "Epoch 90/200\n",
            "20/20 [==============================] - 0s 21ms/step - loss: 0.0389 - accuracy: 0.9848 - val_loss: 1.0168 - val_accuracy: 0.8937\n",
            "Epoch 91/200\n",
            "20/20 [==============================] - 0s 19ms/step - loss: 0.0330 - accuracy: 0.9855 - val_loss: 1.0152 - val_accuracy: 0.8912\n",
            "Epoch 92/200\n",
            "20/20 [==============================] - 0s 18ms/step - loss: 0.0331 - accuracy: 0.9861 - val_loss: 1.0094 - val_accuracy: 0.8956\n",
            "Epoch 93/200\n",
            "20/20 [==============================] - 0s 18ms/step - loss: 0.0378 - accuracy: 0.9839 - val_loss: 1.0003 - val_accuracy: 0.8943\n",
            "Epoch 94/200\n",
            "20/20 [==============================] - 0s 19ms/step - loss: 0.0821 - accuracy: 0.9784 - val_loss: 0.9272 - val_accuracy: 0.8862\n",
            "Epoch 95/200\n",
            "20/20 [==============================] - 0s 20ms/step - loss: 0.0765 - accuracy: 0.9770 - val_loss: 0.9344 - val_accuracy: 0.8799\n",
            "Epoch 96/200\n",
            "20/20 [==============================] - 0s 21ms/step - loss: 0.0845 - accuracy: 0.9765 - val_loss: 0.8308 - val_accuracy: 0.8768\n",
            "Epoch 97/200\n",
            "20/20 [==============================] - 0s 21ms/step - loss: 0.0558 - accuracy: 0.9825 - val_loss: 0.8892 - val_accuracy: 0.8818\n",
            "Epoch 98/200\n",
            "20/20 [==============================] - 0s 22ms/step - loss: 0.0823 - accuracy: 0.9742 - val_loss: 0.8297 - val_accuracy: 0.8824\n",
            "Epoch 99/200\n",
            "20/20 [==============================] - 0s 19ms/step - loss: 0.0577 - accuracy: 0.9814 - val_loss: 0.8480 - val_accuracy: 0.8874\n",
            "Epoch 100/200\n",
            "20/20 [==============================] - 0s 20ms/step - loss: 0.0539 - accuracy: 0.9803 - val_loss: 0.8909 - val_accuracy: 0.8906\n",
            "Epoch 101/200\n",
            "20/20 [==============================] - 0s 20ms/step - loss: 0.0596 - accuracy: 0.9783 - val_loss: 0.8945 - val_accuracy: 0.8874\n",
            "Epoch 102/200\n",
            "20/20 [==============================] - 0s 20ms/step - loss: 0.0450 - accuracy: 0.9831 - val_loss: 0.8407 - val_accuracy: 0.8918\n",
            "Epoch 103/200\n",
            "20/20 [==============================] - 0s 24ms/step - loss: 0.0354 - accuracy: 0.9862 - val_loss: 0.8910 - val_accuracy: 0.8912\n",
            "Epoch 104/200\n",
            "20/20 [==============================] - 0s 24ms/step - loss: 0.0342 - accuracy: 0.9865 - val_loss: 0.9504 - val_accuracy: 0.8962\n",
            "Epoch 105/200\n",
            "20/20 [==============================] - 0s 24ms/step - loss: 0.0336 - accuracy: 0.9865 - val_loss: 0.9794 - val_accuracy: 0.8943\n",
            "Epoch 106/200\n",
            "20/20 [==============================] - 0s 22ms/step - loss: 0.0365 - accuracy: 0.9839 - val_loss: 0.9506 - val_accuracy: 0.8987\n",
            "Epoch 107/200\n",
            "20/20 [==============================] - 0s 19ms/step - loss: 0.0331 - accuracy: 0.9869 - val_loss: 1.0028 - val_accuracy: 0.8974\n",
            "Epoch 108/200\n",
            "20/20 [==============================] - 0s 22ms/step - loss: 0.0301 - accuracy: 0.9889 - val_loss: 1.0861 - val_accuracy: 0.8887\n",
            "Epoch 109/200\n",
            "20/20 [==============================] - 0s 20ms/step - loss: 0.0368 - accuracy: 0.9851 - val_loss: 1.0380 - val_accuracy: 0.8962\n",
            "Epoch 110/200\n",
            "20/20 [==============================] - 0s 21ms/step - loss: 0.0361 - accuracy: 0.9837 - val_loss: 1.0694 - val_accuracy: 0.8943\n",
            "Epoch 111/200\n",
            "20/20 [==============================] - 0s 22ms/step - loss: 0.0346 - accuracy: 0.9850 - val_loss: 1.0438 - val_accuracy: 0.8981\n",
            "Epoch 112/200\n",
            "20/20 [==============================] - 0s 24ms/step - loss: 0.0404 - accuracy: 0.9856 - val_loss: 1.0900 - val_accuracy: 0.8931\n",
            "Epoch 113/200\n",
            "20/20 [==============================] - 0s 23ms/step - loss: 0.0506 - accuracy: 0.9809 - val_loss: 1.0772 - val_accuracy: 0.8937\n",
            "Epoch 114/200\n",
            "20/20 [==============================] - 0s 23ms/step - loss: 0.0479 - accuracy: 0.9828 - val_loss: 0.9715 - val_accuracy: 0.8931\n",
            "Epoch 115/200\n",
            "20/20 [==============================] - 0s 19ms/step - loss: 0.0455 - accuracy: 0.9830 - val_loss: 1.0350 - val_accuracy: 0.8937\n",
            "Epoch 116/200\n",
            "20/20 [==============================] - 0s 18ms/step - loss: 0.0333 - accuracy: 0.9876 - val_loss: 1.0583 - val_accuracy: 0.8974\n",
            "Epoch 117/200\n",
            "20/20 [==============================] - 0s 22ms/step - loss: 0.0295 - accuracy: 0.9872 - val_loss: 1.0819 - val_accuracy: 0.8974\n",
            "Epoch 118/200\n",
            "20/20 [==============================] - 0s 18ms/step - loss: 0.0281 - accuracy: 0.9876 - val_loss: 1.1389 - val_accuracy: 0.8937\n",
            "Epoch 119/200\n",
            "20/20 [==============================] - 0s 21ms/step - loss: 0.0311 - accuracy: 0.9862 - val_loss: 1.0979 - val_accuracy: 0.8943\n",
            "Epoch 120/200\n",
            "20/20 [==============================] - 0s 18ms/step - loss: 0.0283 - accuracy: 0.9875 - val_loss: 1.1140 - val_accuracy: 0.8981\n",
            "Epoch 121/200\n",
            "20/20 [==============================] - 0s 18ms/step - loss: 0.0301 - accuracy: 0.9870 - val_loss: 1.1200 - val_accuracy: 0.8999\n",
            "Epoch 122/200\n",
            "20/20 [==============================] - 0s 22ms/step - loss: 0.0264 - accuracy: 0.9886 - val_loss: 1.1764 - val_accuracy: 0.8987\n",
            "Epoch 123/200\n",
            "20/20 [==============================] - 0s 22ms/step - loss: 0.0267 - accuracy: 0.9886 - val_loss: 1.1814 - val_accuracy: 0.9018\n",
            "Epoch 124/200\n",
            "20/20 [==============================] - 0s 24ms/step - loss: 0.0301 - accuracy: 0.9883 - val_loss: 1.1934 - val_accuracy: 0.8987\n",
            "Epoch 125/200\n",
            "20/20 [==============================] - 0s 20ms/step - loss: 0.0306 - accuracy: 0.9862 - val_loss: 1.1997 - val_accuracy: 0.8987\n",
            "Epoch 126/200\n",
            "20/20 [==============================] - 0s 23ms/step - loss: 0.0415 - accuracy: 0.9858 - val_loss: 1.3431 - val_accuracy: 0.8856\n",
            "Epoch 127/200\n",
            "20/20 [==============================] - 0s 19ms/step - loss: 0.0616 - accuracy: 0.9831 - val_loss: 1.2279 - val_accuracy: 0.8774\n",
            "Epoch 128/200\n",
            "20/20 [==============================] - 0s 20ms/step - loss: 0.0948 - accuracy: 0.9781 - val_loss: 1.0195 - val_accuracy: 0.8724\n",
            "Epoch 129/200\n",
            "20/20 [==============================] - 0s 23ms/step - loss: 0.0763 - accuracy: 0.9758 - val_loss: 0.9346 - val_accuracy: 0.8749\n",
            "Epoch 130/200\n",
            "20/20 [==============================] - 0s 19ms/step - loss: 0.0493 - accuracy: 0.9828 - val_loss: 0.9335 - val_accuracy: 0.8831\n",
            "Epoch 131/200\n",
            "20/20 [==============================] - 0s 17ms/step - loss: 0.0346 - accuracy: 0.9870 - val_loss: 0.9166 - val_accuracy: 0.8893\n",
            "Epoch 132/200\n",
            "20/20 [==============================] - 0s 18ms/step - loss: 0.0341 - accuracy: 0.9864 - val_loss: 1.0406 - val_accuracy: 0.8874\n",
            "Epoch 133/200\n",
            "20/20 [==============================] - 0s 22ms/step - loss: 0.0354 - accuracy: 0.9837 - val_loss: 1.0746 - val_accuracy: 0.8837\n",
            "Epoch 134/200\n",
            "20/20 [==============================] - 0s 20ms/step - loss: 0.0408 - accuracy: 0.9833 - val_loss: 0.9665 - val_accuracy: 0.8943\n",
            "Epoch 135/200\n",
            "20/20 [==============================] - 0s 23ms/step - loss: 0.0444 - accuracy: 0.9834 - val_loss: 0.9678 - val_accuracy: 0.8918\n",
            "Epoch 136/200\n",
            "20/20 [==============================] - 0s 23ms/step - loss: 0.0560 - accuracy: 0.9833 - val_loss: 1.0356 - val_accuracy: 0.8918\n",
            "Epoch 137/200\n",
            "20/20 [==============================] - 0s 24ms/step - loss: 0.0524 - accuracy: 0.9833 - val_loss: 1.0568 - val_accuracy: 0.8787\n",
            "Epoch 138/200\n",
            "20/20 [==============================] - 0s 20ms/step - loss: 0.0412 - accuracy: 0.9842 - val_loss: 1.0929 - val_accuracy: 0.8812\n",
            "Epoch 139/200\n",
            "20/20 [==============================] - 0s 23ms/step - loss: 0.0398 - accuracy: 0.9869 - val_loss: 1.0150 - val_accuracy: 0.8881\n",
            "Epoch 140/200\n",
            "20/20 [==============================] - 0s 24ms/step - loss: 0.0443 - accuracy: 0.9850 - val_loss: 1.1260 - val_accuracy: 0.8780\n",
            "Epoch 141/200\n",
            "20/20 [==============================] - 0s 23ms/step - loss: 0.0648 - accuracy: 0.9809 - val_loss: 1.1778 - val_accuracy: 0.8737\n",
            "Epoch 142/200\n",
            "20/20 [==============================] - 0s 24ms/step - loss: 0.0916 - accuracy: 0.9745 - val_loss: 1.0402 - val_accuracy: 0.8780\n",
            "Epoch 143/200\n",
            "20/20 [==============================] - 0s 24ms/step - loss: 0.0702 - accuracy: 0.9809 - val_loss: 0.9659 - val_accuracy: 0.8799\n",
            "Epoch 144/200\n",
            "20/20 [==============================] - 0s 23ms/step - loss: 0.0496 - accuracy: 0.9833 - val_loss: 0.8735 - val_accuracy: 0.8943\n",
            "Epoch 145/200\n",
            "20/20 [==============================] - 0s 22ms/step - loss: 0.0393 - accuracy: 0.9840 - val_loss: 0.9675 - val_accuracy: 0.8906\n",
            "Epoch 146/200\n",
            "20/20 [==============================] - 0s 23ms/step - loss: 0.0343 - accuracy: 0.9870 - val_loss: 0.9142 - val_accuracy: 0.8924\n",
            "Epoch 147/200\n",
            "20/20 [==============================] - 0s 19ms/step - loss: 0.0343 - accuracy: 0.9858 - val_loss: 0.9786 - val_accuracy: 0.8924\n",
            "Epoch 148/200\n",
            "20/20 [==============================] - 0s 22ms/step - loss: 0.0286 - accuracy: 0.9889 - val_loss: 1.0852 - val_accuracy: 0.8806\n",
            "Epoch 149/200\n",
            "20/20 [==============================] - 0s 20ms/step - loss: 0.0386 - accuracy: 0.9861 - val_loss: 1.0165 - val_accuracy: 0.8968\n",
            "Epoch 150/200\n",
            "20/20 [==============================] - 0s 19ms/step - loss: 0.0336 - accuracy: 0.9865 - val_loss: 1.0900 - val_accuracy: 0.8862\n",
            "Epoch 151/200\n",
            "20/20 [==============================] - 0s 19ms/step - loss: 0.0449 - accuracy: 0.9844 - val_loss: 1.1234 - val_accuracy: 0.8912\n",
            "Epoch 152/200\n",
            "20/20 [==============================] - 0s 19ms/step - loss: 0.0732 - accuracy: 0.9820 - val_loss: 1.0301 - val_accuracy: 0.8924\n",
            "Epoch 153/200\n",
            "20/20 [==============================] - 0s 23ms/step - loss: 0.0695 - accuracy: 0.9815 - val_loss: 1.1058 - val_accuracy: 0.8755\n",
            "Epoch 154/200\n",
            "20/20 [==============================] - 0s 19ms/step - loss: 0.0573 - accuracy: 0.9855 - val_loss: 0.9612 - val_accuracy: 0.8868\n",
            "Epoch 155/200\n",
            "20/20 [==============================] - 0s 22ms/step - loss: 0.0356 - accuracy: 0.9862 - val_loss: 0.9682 - val_accuracy: 0.8931\n",
            "Epoch 156/200\n",
            "20/20 [==============================] - 0s 21ms/step - loss: 0.0409 - accuracy: 0.9855 - val_loss: 0.9986 - val_accuracy: 0.8918\n",
            "Epoch 157/200\n",
            "20/20 [==============================] - 0s 22ms/step - loss: 0.0390 - accuracy: 0.9858 - val_loss: 1.0374 - val_accuracy: 0.8874\n",
            "Epoch 158/200\n",
            "20/20 [==============================] - 0s 23ms/step - loss: 0.0423 - accuracy: 0.9856 - val_loss: 0.9979 - val_accuracy: 0.8931\n",
            "Epoch 159/200\n",
            "20/20 [==============================] - 0s 23ms/step - loss: 0.0337 - accuracy: 0.9848 - val_loss: 1.0370 - val_accuracy: 0.8918\n",
            "Epoch 160/200\n",
            "20/20 [==============================] - 0s 21ms/step - loss: 0.0324 - accuracy: 0.9870 - val_loss: 0.9983 - val_accuracy: 0.8981\n",
            "Epoch 161/200\n",
            "20/20 [==============================] - 0s 21ms/step - loss: 0.0260 - accuracy: 0.9889 - val_loss: 0.9820 - val_accuracy: 0.9037\n",
            "Epoch 162/200\n",
            "20/20 [==============================] - 0s 21ms/step - loss: 0.0232 - accuracy: 0.9900 - val_loss: 1.0448 - val_accuracy: 0.8987\n",
            "Epoch 163/200\n",
            "20/20 [==============================] - 0s 19ms/step - loss: 0.0303 - accuracy: 0.9881 - val_loss: 1.1171 - val_accuracy: 0.8918\n",
            "Epoch 164/200\n",
            "20/20 [==============================] - 0s 18ms/step - loss: 0.0289 - accuracy: 0.9872 - val_loss: 0.9994 - val_accuracy: 0.9037\n",
            "Epoch 165/200\n",
            "20/20 [==============================] - 0s 17ms/step - loss: 0.0278 - accuracy: 0.9878 - val_loss: 1.0256 - val_accuracy: 0.9037\n",
            "Epoch 166/200\n",
            "20/20 [==============================] - 0s 19ms/step - loss: 0.0287 - accuracy: 0.9883 - val_loss: 1.0692 - val_accuracy: 0.9018\n",
            "Epoch 167/200\n",
            "20/20 [==============================] - 0s 20ms/step - loss: 0.0226 - accuracy: 0.9916 - val_loss: 1.0744 - val_accuracy: 0.9068\n",
            "Epoch 168/200\n",
            "20/20 [==============================] - 0s 24ms/step - loss: 0.0236 - accuracy: 0.9905 - val_loss: 1.0885 - val_accuracy: 0.9037\n",
            "Epoch 169/200\n",
            "20/20 [==============================] - 0s 19ms/step - loss: 0.0256 - accuracy: 0.9900 - val_loss: 1.0986 - val_accuracy: 0.9049\n",
            "Epoch 170/200\n",
            "20/20 [==============================] - 0s 19ms/step - loss: 0.0222 - accuracy: 0.9900 - val_loss: 1.1375 - val_accuracy: 0.9043\n",
            "Epoch 171/200\n",
            "20/20 [==============================] - 0s 18ms/step - loss: 0.0205 - accuracy: 0.9912 - val_loss: 1.1856 - val_accuracy: 0.8999\n",
            "Epoch 172/200\n",
            "20/20 [==============================] - 0s 24ms/step - loss: 0.0278 - accuracy: 0.9873 - val_loss: 1.2628 - val_accuracy: 0.8943\n",
            "Epoch 173/200\n",
            "20/20 [==============================] - 0s 20ms/step - loss: 0.0437 - accuracy: 0.9845 - val_loss: 1.1731 - val_accuracy: 0.8937\n",
            "Epoch 174/200\n",
            "20/20 [==============================] - 0s 21ms/step - loss: 0.0322 - accuracy: 0.9886 - val_loss: 1.0859 - val_accuracy: 0.8981\n",
            "Epoch 175/200\n",
            "20/20 [==============================] - 0s 24ms/step - loss: 0.0402 - accuracy: 0.9873 - val_loss: 1.1177 - val_accuracy: 0.8937\n",
            "Epoch 176/200\n",
            "20/20 [==============================] - 0s 21ms/step - loss: 0.0292 - accuracy: 0.9908 - val_loss: 1.0809 - val_accuracy: 0.8956\n",
            "Epoch 177/200\n",
            "20/20 [==============================] - 0s 21ms/step - loss: 0.0287 - accuracy: 0.9898 - val_loss: 1.1881 - val_accuracy: 0.8962\n",
            "Epoch 178/200\n",
            "20/20 [==============================] - 0s 20ms/step - loss: 0.0280 - accuracy: 0.9878 - val_loss: 1.1143 - val_accuracy: 0.9012\n",
            "Epoch 179/200\n",
            "20/20 [==============================] - 0s 24ms/step - loss: 0.0290 - accuracy: 0.9883 - val_loss: 1.1862 - val_accuracy: 0.8937\n",
            "Epoch 180/200\n",
            "20/20 [==============================] - 0s 24ms/step - loss: 0.0317 - accuracy: 0.9878 - val_loss: 1.1670 - val_accuracy: 0.8956\n",
            "Epoch 181/200\n",
            "20/20 [==============================] - 0s 20ms/step - loss: 0.0571 - accuracy: 0.9819 - val_loss: 1.1124 - val_accuracy: 0.8931\n",
            "Epoch 182/200\n",
            "20/20 [==============================] - 0s 23ms/step - loss: 0.0880 - accuracy: 0.9809 - val_loss: 1.1593 - val_accuracy: 0.8812\n",
            "Epoch 183/200\n",
            "20/20 [==============================] - 0s 20ms/step - loss: 0.0644 - accuracy: 0.9800 - val_loss: 0.9697 - val_accuracy: 0.8924\n",
            "Epoch 184/200\n",
            "20/20 [==============================] - 0s 21ms/step - loss: 0.0366 - accuracy: 0.9878 - val_loss: 0.9908 - val_accuracy: 0.8962\n",
            "Epoch 185/200\n",
            "20/20 [==============================] - 0s 18ms/step - loss: 0.0316 - accuracy: 0.9883 - val_loss: 1.0028 - val_accuracy: 0.8899\n",
            "Epoch 186/200\n",
            "20/20 [==============================] - 0s 22ms/step - loss: 0.0399 - accuracy: 0.9883 - val_loss: 1.0425 - val_accuracy: 0.8937\n",
            "Epoch 187/200\n",
            "20/20 [==============================] - 0s 21ms/step - loss: 0.0483 - accuracy: 0.9833 - val_loss: 0.9133 - val_accuracy: 0.8956\n",
            "Epoch 188/200\n",
            "20/20 [==============================] - 0s 19ms/step - loss: 0.0354 - accuracy: 0.9867 - val_loss: 0.8975 - val_accuracy: 0.9043\n",
            "Epoch 189/200\n",
            "20/20 [==============================] - 0s 23ms/step - loss: 0.0295 - accuracy: 0.9883 - val_loss: 1.0800 - val_accuracy: 0.8981\n",
            "Epoch 190/200\n",
            "20/20 [==============================] - 0s 20ms/step - loss: 0.0270 - accuracy: 0.9895 - val_loss: 1.0510 - val_accuracy: 0.8968\n",
            "Epoch 191/200\n",
            "20/20 [==============================] - 0s 19ms/step - loss: 0.0227 - accuracy: 0.9912 - val_loss: 1.0667 - val_accuracy: 0.8968\n",
            "Epoch 192/200\n",
            "20/20 [==============================] - 0s 24ms/step - loss: 0.0291 - accuracy: 0.9892 - val_loss: 1.1699 - val_accuracy: 0.8974\n",
            "Epoch 193/200\n",
            "20/20 [==============================] - 0s 21ms/step - loss: 0.0306 - accuracy: 0.9889 - val_loss: 1.0694 - val_accuracy: 0.9037\n",
            "Epoch 194/200\n",
            "20/20 [==============================] - 0s 21ms/step - loss: 0.0219 - accuracy: 0.9912 - val_loss: 1.0770 - val_accuracy: 0.9012\n",
            "Epoch 195/200\n",
            "20/20 [==============================] - 0s 19ms/step - loss: 0.0226 - accuracy: 0.9903 - val_loss: 1.0962 - val_accuracy: 0.9037\n",
            "Epoch 196/200\n",
            "20/20 [==============================] - 0s 20ms/step - loss: 0.0216 - accuracy: 0.9912 - val_loss: 1.1269 - val_accuracy: 0.9049\n",
            "Epoch 197/200\n",
            "20/20 [==============================] - 0s 20ms/step - loss: 0.0207 - accuracy: 0.9920 - val_loss: 1.1321 - val_accuracy: 0.9099\n",
            "Epoch 198/200\n",
            "20/20 [==============================] - 0s 24ms/step - loss: 0.0241 - accuracy: 0.9892 - val_loss: 1.1621 - val_accuracy: 0.9068\n",
            "Epoch 199/200\n",
            "20/20 [==============================] - 0s 24ms/step - loss: 0.0245 - accuracy: 0.9884 - val_loss: 1.1861 - val_accuracy: 0.9074\n",
            "Epoch 200/200\n",
            "20/20 [==============================] - 0s 19ms/step - loss: 0.0213 - accuracy: 0.9916 - val_loss: 1.2269 - val_accuracy: 0.9093\n"
          ]
        }
      ]
    },
    {
      "cell_type": "code",
      "source": [
        "model.save('music_model.h5')"
      ],
      "metadata": {
        "id": "_hTmY0c0BJZE"
      },
      "execution_count": 103,
      "outputs": []
    },
    {
      "cell_type": "code",
      "source": [
        "!pip install plot_keras_history"
      ],
      "metadata": {
        "colab": {
          "base_uri": "https://localhost:8080/"
        },
        "id": "v7WPVjs9fPAN",
        "outputId": "4f736856-e950-4147-99a5-d0864674e420"
      },
      "execution_count": 280,
      "outputs": [
        {
          "output_type": "stream",
          "name": "stdout",
          "text": [
            "Collecting plot_keras_history\n",
            "  Downloading plot_keras_history-1.1.30.tar.gz (8.6 kB)\n",
            "Requirement already satisfied: matplotlib in /usr/local/lib/python3.7/dist-packages (from plot_keras_history) (3.2.2)\n",
            "Requirement already satisfied: pandas in /usr/local/lib/python3.7/dist-packages (from plot_keras_history) (1.1.5)\n",
            "Requirement already satisfied: scipy in /usr/local/lib/python3.7/dist-packages (from plot_keras_history) (1.4.1)\n",
            "Collecting sanitize_ml_labels>=1.0.28\n",
            "  Downloading sanitize_ml_labels-1.0.29.tar.gz (7.4 kB)\n",
            "Collecting compress_json\n",
            "  Downloading compress_json-1.0.4.tar.gz (4.7 kB)\n",
            "Requirement already satisfied: numpy>=1.11 in /usr/local/lib/python3.7/dist-packages (from matplotlib->plot_keras_history) (1.19.5)\n",
            "Requirement already satisfied: python-dateutil>=2.1 in /usr/local/lib/python3.7/dist-packages (from matplotlib->plot_keras_history) (2.8.2)\n",
            "Requirement already satisfied: kiwisolver>=1.0.1 in /usr/local/lib/python3.7/dist-packages (from matplotlib->plot_keras_history) (1.3.2)\n",
            "Requirement already satisfied: pyparsing!=2.0.4,!=2.1.2,!=2.1.6,>=2.0.1 in /usr/local/lib/python3.7/dist-packages (from matplotlib->plot_keras_history) (3.0.6)\n",
            "Requirement already satisfied: cycler>=0.10 in /usr/local/lib/python3.7/dist-packages (from matplotlib->plot_keras_history) (0.11.0)\n",
            "Requirement already satisfied: six>=1.5 in /usr/local/lib/python3.7/dist-packages (from python-dateutil>=2.1->matplotlib->plot_keras_history) (1.15.0)\n",
            "Requirement already satisfied: pytz>=2017.2 in /usr/local/lib/python3.7/dist-packages (from pandas->plot_keras_history) (2018.9)\n",
            "Building wheels for collected packages: plot-keras-history, sanitize-ml-labels, compress-json\n",
            "  Building wheel for plot-keras-history (setup.py) ... \u001b[?25l\u001b[?25hdone\n",
            "  Created wheel for plot-keras-history: filename=plot_keras_history-1.1.30-py3-none-any.whl size=8793 sha256=57c2b953f9596cb323d7f62664061ce5ed3dcd609b9eed21834968b2e01138f0\n",
            "  Stored in directory: /root/.cache/pip/wheels/b0/60/47/8c5aa37c06be5e97879ec467bc2e6a30b315d95f662c63a503\n",
            "  Building wheel for sanitize-ml-labels (setup.py) ... \u001b[?25l\u001b[?25hdone\n",
            "  Created wheel for sanitize-ml-labels: filename=sanitize_ml_labels-1.0.29-py3-none-any.whl size=7877 sha256=4be4589034e38e5c39a85c05769eac4e7b65eb574f616e85c2274ce1edd4ce95\n",
            "  Stored in directory: /root/.cache/pip/wheels/c2/f5/71/d1c459da10abec864a1979b449edbf37d4a82ab3e38a3625a8\n",
            "  Building wheel for compress-json (setup.py) ... \u001b[?25l\u001b[?25hdone\n",
            "  Created wheel for compress-json: filename=compress_json-1.0.4-py3-none-any.whl size=4585 sha256=86d4cd22e38a9eca99fef66e913eda58a035bd8b0c8312e9b0e88568547d1877\n",
            "  Stored in directory: /root/.cache/pip/wheels/1e/ef/1e/5d403c5632b0462471a8d26049d0c138134d0255ec60ce4c14\n",
            "Successfully built plot-keras-history sanitize-ml-labels compress-json\n",
            "Installing collected packages: compress-json, sanitize-ml-labels, plot-keras-history\n",
            "Successfully installed compress-json-1.0.4 plot-keras-history-1.1.30 sanitize-ml-labels-1.0.29\n"
          ]
        }
      ]
    },
    {
      "cell_type": "code",
      "source": [
        "from plot_keras_history import show_history, plot_history\n",
        "import matplotlib.pyplot as plt\n"
      ],
      "metadata": {
        "id": "YYoVm18nfHFe"
      },
      "execution_count": 281,
      "outputs": []
    },
    {
      "cell_type": "code",
      "source": [
        "plot_history(history)\n",
        "plt.show()"
      ],
      "metadata": {
        "colab": {
          "base_uri": "https://localhost:8080/",
          "height": 385
        },
        "id": "B0Ge-7TUfVG9",
        "outputId": "14c0513f-8ca6-406a-a367-da2515d6f0af"
      },
      "execution_count": 285,
      "outputs": [
        {
          "output_type": "display_data",
          "data": {
            "image/png": "[encoded data removed]",
            "text/plain": [
              "<Figure size 720x360 with 2 Axes>"
            ]
          },
          "metadata": {
            "needs_background": "light"
          }
        }
      ]
    },
    {
      "cell_type": "code",
      "source": [
        "loaded_model=load_model('music_model.h5')"
      ],
      "metadata": {
        "id": "fbZhH_Flff-k"
      },
      "execution_count": 287,
      "outputs": []
    },
    {
      "cell_type": "code",
      "source": [
        "# Evaluate the model\n",
        "loss, acc = loaded_model.evaluate(X_test,Y_test, verbose=2)\n",
        "print(\"Untrained model, accuracy: {:5.2f}%\".format(100 * acc))"
      ],
      "metadata": {
        "colab": {
          "base_uri": "https://localhost:8080/"
        },
        "id": "4_FOJpn4Ik-g",
        "outputId": "e7cf1508-9428-4ddb-c236-90ed4d3792b2"
      },
      "execution_count": 291,
      "outputs": [
        {
          "output_type": "stream",
          "name": "stdout",
          "text": [
            "63/63 - 0s - loss: 1.6492 - accuracy: 0.9059 - 380ms/epoch - 6ms/step\n",
            "Untrained model, accuracy: 90.59%\n"
          ]
        }
      ]
    },
    {
      "cell_type": "code",
      "source": [
        "from tensorflow.keras.models import load_model"
      ],
      "metadata": {
        "id": "-yzAIQ1jI5tH"
      },
      "execution_count": 105,
      "outputs": []
    },
    {
      "cell_type": "code",
      "source": [
        "loaded_model=load_model('music_model.h5')"
      ],
      "metadata": {
        "id": "8bJW5umjI4BP"
      },
      "execution_count": 106,
      "outputs": []
    },
    {
      "cell_type": "code",
      "source": [
        "np.argmax(loaded_model.predict(X_test[0:1]))"
      ],
      "metadata": {
        "colab": {
          "base_uri": "https://localhost:8080/"
        },
        "id": "obBW5F4GJI5n",
        "outputId": "58a29dd8-0293-4d9d-8e57-1bb750ab44b1"
      },
      "execution_count": 109,
      "outputs": [
        {
          "output_type": "execute_result",
          "data": {
            "text/plain": [
              "1"
            ]
          },
          "metadata": {},
          "execution_count": 109
        }
      ]
    },
    {
      "cell_type": "code",
      "source": [
        "from sklearn.linear_model import LogisticRegression\n",
        "from sklearn.metrics import accuracy_score"
      ],
      "metadata": {
        "id": "GHA5l6ZAJXAy"
      },
      "execution_count": 111,
      "outputs": []
    },
    {
      "cell_type": "code",
      "source": [
        "type(Y_train)"
      ],
      "metadata": {
        "colab": {
          "base_uri": "https://localhost:8080/"
        },
        "id": "UGaLK5ubLvl1",
        "outputId": "defd4bbf-538c-4a73-862e-405a2abf3fbc"
      },
      "execution_count": 114,
      "outputs": [
        {
          "output_type": "execute_result",
          "data": {
            "text/plain": [
              "pandas.core.frame.DataFrame"
            ]
          },
          "metadata": {},
          "execution_count": 114
        }
      ]
    },
    {
      "cell_type": "code",
      "source": [
        "Y_test_new=np.array(Y_test)"
      ],
      "metadata": {
        "id": "c9BWGEcGMa0Z"
      },
      "execution_count": 157,
      "outputs": []
    },
    {
      "cell_type": "code",
      "source": [
        "Y_test_dummy=[]"
      ],
      "metadata": {
        "id": "zgH2l0AUMqXJ"
      },
      "execution_count": 156,
      "outputs": []
    },
    {
      "cell_type": "code",
      "source": [
        "for i in range(Y_test.shape[0]):\n",
        "  for j in range(Y_test.shape[1]):\n",
        "    if Y_test_new[i][j]==1:\n",
        "      Y_test_dummy.append(j)\n",
        "     "
      ],
      "metadata": {
        "id": "sWI9np3JMgKu"
      },
      "execution_count": 158,
      "outputs": []
    },
    {
      "cell_type": "code",
      "source": [
        "Y_train_dummy[100:112]"
      ],
      "metadata": {
        "colab": {
          "base_uri": "https://localhost:8080/"
        },
        "id": "nxvGD1jxND_p",
        "outputId": "7d963292-7409-4be2-b051-5d31ff91d68b"
      },
      "execution_count": 125,
      "outputs": [
        {
          "output_type": "execute_result",
          "data": {
            "text/plain": [
              "[4, 9, 1, 0, 2, 0, 6, 5, 6, 4, 2, 5]"
            ]
          },
          "metadata": {},
          "execution_count": 125
        }
      ]
    },
    {
      "cell_type": "code",
      "source": [
        "from sklearn import tree\n",
        "clftree=tree.DecisionTreeClassifier(max_depth=20)\n",
        "clftree.fit(X_train,Y_train)"
      ],
      "metadata": {
        "colab": {
          "base_uri": "https://localhost:8080/"
        },
        "id": "-eNMdE43NSbt",
        "outputId": "742aadfd-28f5-4079-d556-40ac6f91067b"
      },
      "execution_count": 145,
      "outputs": [
        {
          "output_type": "execute_result",
          "data": {
            "text/plain": [
              "DecisionTreeClassifier(max_depth=20)"
            ]
          },
          "metadata": {},
          "execution_count": 145
        }
      ]
    },
    {
      "cell_type": "code",
      "source": [
        "tree_pred=clftree.predict(X_test)"
      ],
      "metadata": {
        "id": "4E7Ue0j_NfxI"
      },
      "execution_count": 146,
      "outputs": []
    },
    {
      "cell_type": "code",
      "source": [
        "tree_pred[0]"
      ],
      "metadata": {
        "colab": {
          "base_uri": "https://localhost:8080/"
        },
        "id": "E31Dx5dnN2xJ",
        "outputId": "d5632e22-7291-41d8-b523-9bb072b6adab"
      },
      "execution_count": 133,
      "outputs": [
        {
          "output_type": "execute_result",
          "data": {
            "text/plain": [
              "array([0, 1, 0, 0, 0, 0, 0, 0, 0, 0], dtype=uint8)"
            ]
          },
          "metadata": {},
          "execution_count": 133
        }
      ]
    },
    {
      "cell_type": "code",
      "source": [
        "from sklearn.metrics import accuracy_score, confusion_matrix"
      ],
      "metadata": {
        "id": "yZBumi_hNnx0"
      },
      "execution_count": 139,
      "outputs": []
    },
    {
      "cell_type": "code",
      "source": [
        "accuracy_score(Y_test,tree_pred)"
      ],
      "metadata": {
        "colab": {
          "base_uri": "https://localhost:8080/"
        },
        "id": "2xSsD8yvNqwO",
        "outputId": "c91e3f4e-8ddb-40fd-9b30-91dc30451c93"
      },
      "execution_count": 147,
      "outputs": [
        {
          "output_type": "execute_result",
          "data": {
            "text/plain": [
              "0.6366366366366366"
            ]
          },
          "metadata": {},
          "execution_count": 147
        }
      ]
    },
    {
      "cell_type": "code",
      "source": [
        "from sklearn import svm\n"
      ],
      "metadata": {
        "id": "kiUNLr5FOMOP"
      },
      "execution_count": 150,
      "outputs": []
    },
    {
      "cell_type": "code",
      "source": [
        "from sklearn.model_selection import GridSearchCV"
      ],
      "metadata": {
        "id": "e6N3DXi1OQ2p"
      },
      "execution_count": 148,
      "outputs": []
    },
    {
      "cell_type": "code",
      "source": [
        "params={'C':(0.001,0.005,0.01,0.05,0.1,0.5,1,5,10,50,100,500,1000)}\n",
        "clf_svm_l=svm.SVC(kernel='poly')\n",
        "svm_grid_lin=GridSearchCV(clf_svm_l,params,n_jobs=-1,cv=10,verbose=1,scoring='accuracy')\n",
        "svm_grid_lin.fit(X_train,Y_train_dummy)"
      ],
      "metadata": {
        "colab": {
          "base_uri": "https://localhost:8080/"
        },
        "id": "xRVCRHs6ORp5",
        "outputId": "df92e2f3-11f3-48cf-9cac-3308e753ff1c"
      },
      "execution_count": 152,
      "outputs": [
        {
          "output_type": "stream",
          "name": "stdout",
          "text": [
            "Fitting 10 folds for each of 13 candidates, totalling 130 fits\n"
          ]
        },
        {
          "output_type": "execute_result",
          "data": {
            "text/plain": [
              "GridSearchCV(cv=10, estimator=SVC(kernel='poly'), n_jobs=-1,\n",
              "             param_grid={'C': (0.001, 0.005, 0.01, 0.05, 0.1, 0.5, 1, 5, 10, 50,\n",
              "                               100, 500, 1000)},\n",
              "             scoring='accuracy', verbose=1)"
            ]
          },
          "metadata": {},
          "execution_count": 152
        }
      ]
    },
    {
      "cell_type": "code",
      "source": [
        "svm_grid_lin.best_params_"
      ],
      "metadata": {
        "colab": {
          "base_uri": "https://localhost:8080/"
        },
        "id": "YXYN-j9fOnFw",
        "outputId": "289fd07a-2a1e-46c6-a63d-a58b8c47f5c3"
      },
      "execution_count": 153,
      "outputs": [
        {
          "output_type": "execute_result",
          "data": {
            "text/plain": [
              "{'C': 10}"
            ]
          },
          "metadata": {},
          "execution_count": 153
        }
      ]
    },
    {
      "cell_type": "code",
      "source": [
        ""
      ],
      "metadata": {
        "id": "dC9-mzC4Rbhb"
      },
      "execution_count": null,
      "outputs": []
    },
    {
      "cell_type": "code",
      "source": [
        "linsvm_clf=svm_grid_lin.best_estimator_"
      ],
      "metadata": {
        "id": "FdUi6MvPOoCL"
      },
      "execution_count": 154,
      "outputs": []
    },
    {
      "cell_type": "code",
      "source": [
        "accuracy_score(Y_test_dummy,linsvm_clf.predict(X_test))"
      ],
      "metadata": {
        "colab": {
          "base_uri": "https://localhost:8080/"
        },
        "id": "l2lHMK72Op0r",
        "outputId": "a0879489-fd7d-4916-b30d-47a17d3ccece"
      },
      "execution_count": 159,
      "outputs": [
        {
          "output_type": "execute_result",
          "data": {
            "text/plain": [
              "0.8998998998998999"
            ]
          },
          "metadata": {},
          "execution_count": 159
        }
      ]
    },
    {
      "cell_type": "code",
      "source": [
        "linsvm_clf.predict(X_test[100:101])"
      ],
      "metadata": {
        "colab": {
          "base_uri": "https://localhost:8080/"
        },
        "id": "35QvC7rhQW8O",
        "outputId": "b8208b11-e6eb-45c0-8972-c657c04b5568"
      },
      "execution_count": 162,
      "outputs": [
        {
          "output_type": "execute_result",
          "data": {
            "text/plain": [
              "array([4])"
            ]
          },
          "metadata": {},
          "execution_count": 162
        }
      ]
    },
    {
      "cell_type": "code",
      "source": [
        "from sklearn.neighbors import KNeighborsClassifier\n"
      ],
      "metadata": {
        "id": "j-Xlg2i-QkpG"
      },
      "execution_count": 163,
      "outputs": []
    },
    {
      "cell_type": "code",
      "source": [
        "knn = KNeighborsClassifier(n_neighbors=10, metric='euclidean')\n",
        "knn.fit(X_train, Y_train)"
      ],
      "metadata": {
        "colab": {
          "base_uri": "https://localhost:8080/"
        },
        "id": "1INllJOuQ3TV",
        "outputId": "d3e8e81c-2791-4236-e261-7c263939384e"
      },
      "execution_count": 164,
      "outputs": [
        {
          "output_type": "execute_result",
          "data": {
            "text/plain": [
              "KNeighborsClassifier(metric='euclidean', n_neighbors=10)"
            ]
          },
          "metadata": {},
          "execution_count": 164
        }
      ]
    },
    {
      "cell_type": "code",
      "source": [
        "y_pred = knn.predict(X_test)"
      ],
      "metadata": {
        "id": "WpXPxnHvQ-34"
      },
      "execution_count": 176,
      "outputs": []
    },
    {
      "cell_type": "code",
      "source": [
        "accuracy_score(Y_test,y_pred)"
      ],
      "metadata": {
        "colab": {
          "base_uri": "https://localhost:8080/"
        },
        "id": "7SZg6wLmRBok",
        "outputId": "1ede7586-53da-4b2a-92a7-a41326320cbc"
      },
      "execution_count": 177,
      "outputs": [
        {
          "output_type": "execute_result",
          "data": {
            "text/plain": [
              "0.7377377377377378"
            ]
          },
          "metadata": {},
          "execution_count": 177
        }
      ]
    },
    {
      "cell_type": "code",
      "source": [
        "from sklearn.discriminant_analysis import LinearDiscriminantAnalysis\n",
        "clf = LinearDiscriminantAnalysis()\n",
        "clf.fit(X_train,Y_train_dummy)\n"
      ],
      "metadata": {
        "colab": {
          "base_uri": "https://localhost:8080/"
        },
        "id": "bzAQVVazRVE8",
        "outputId": "5e3efa4a-64f8-4cb1-fbaf-eeda7c68206d"
      },
      "execution_count": 168,
      "outputs": [
        {
          "output_type": "execute_result",
          "data": {
            "text/plain": [
              "LinearDiscriminantAnalysis()"
            ]
          },
          "metadata": {},
          "execution_count": 168
        }
      ]
    },
    {
      "cell_type": "code",
      "source": [
        "clf_pred=clf.predict(X_test)"
      ],
      "metadata": {
        "id": "N4EfS3SaR38j"
      },
      "execution_count": 433,
      "outputs": []
    },
    {
      "cell_type": "code",
      "source": [
        "clf_pred[10]"
      ],
      "metadata": {
        "colab": {
          "base_uri": "https://localhost:8080/"
        },
        "id": "0R72NXLEAwvb",
        "outputId": "c789bb06-16bb-49c6-e858-30e7734ce6ff"
      },
      "execution_count": 435,
      "outputs": [
        {
          "output_type": "execute_result",
          "data": {
            "text/plain": [
              "2"
            ]
          },
          "metadata": {},
          "execution_count": 435
        }
      ]
    },
    {
      "cell_type": "code",
      "source": [
        "accuracy_score(Y_test_dummy,clf_pred)"
      ],
      "metadata": {
        "colab": {
          "base_uri": "https://localhost:8080/"
        },
        "id": "dQPcvA95R70C",
        "outputId": "d4f1dc1b-a345-4206-e23e-713847a5031b"
      },
      "execution_count": 173,
      "outputs": [
        {
          "output_type": "execute_result",
          "data": {
            "text/plain": [
              "0.6761761761761762"
            ]
          },
          "metadata": {},
          "execution_count": 173
        }
      ]
    },
    {
      "cell_type": "code",
      "source": [
        "models=[\"model\",\"linsvm_clf\",\"knn\"]"
      ],
      "metadata": {
        "id": "xD9bPOBwR7Yf"
      },
      "execution_count": 178,
      "outputs": []
    },
    {
      "cell_type": "code",
      "source": [
        "Y_res=np.zeros()"
      ],
      "metadata": {
        "id": "S11LU8vKS4d-"
      },
      "execution_count": null,
      "outputs": []
    },
    {
      "cell_type": "code",
      "source": [
        " from sklearn.naive_bayes import GaussianNB"
      ],
      "metadata": {
        "id": "nlWxmb-HSoDB"
      },
      "execution_count": 182,
      "outputs": []
    },
    {
      "cell_type": "code",
      "source": [
        "gnb = GaussianNB()\n"
      ],
      "metadata": {
        "id": "Qpam5D1JX0PR"
      },
      "execution_count": 183,
      "outputs": []
    },
    {
      "cell_type": "code",
      "source": [
        " gnb.fit(X_train, Y_train_dummy)"
      ],
      "metadata": {
        "colab": {
          "base_uri": "https://localhost:8080/"
        },
        "id": "VCZCZbWaX2hz",
        "outputId": "7d0ce01f-17d6-4090-969e-f288b7b376de"
      },
      "execution_count": 186,
      "outputs": [
        {
          "output_type": "execute_result",
          "data": {
            "text/plain": [
              "GaussianNB()"
            ]
          },
          "metadata": {},
          "execution_count": 186
        }
      ]
    },
    {
      "cell_type": "code",
      "source": [
        "y_pred_new=gnb.predict(X_test)"
      ],
      "metadata": {
        "id": "NNg43SzcX9fC"
      },
      "execution_count": 187,
      "outputs": []
    },
    {
      "cell_type": "code",
      "source": [
        ""
      ],
      "metadata": {
        "id": "ym-IMhq0YGgD"
      },
      "execution_count": null,
      "outputs": []
    },
    {
      "cell_type": "code",
      "source": [
        "accuracy_score(Y_test_dummy,y_pred_new)"
      ],
      "metadata": {
        "colab": {
          "base_uri": "https://localhost:8080/"
        },
        "id": "YoQ1Dyx2YBS8",
        "outputId": "8afe7dab-2851-4918-8054-ab1d4e43f7f9"
      },
      "execution_count": 189,
      "outputs": [
        {
          "output_type": "execute_result",
          "data": {
            "text/plain": [
              "0.5185185185185185"
            ]
          },
          "metadata": {},
          "execution_count": 189
        }
      ]
    },
    {
      "cell_type": "code",
      "source": [
        "predictions_final=[]"
      ],
      "metadata": {
        "id": "D2q52NZjYRwu"
      },
      "execution_count": 359,
      "outputs": []
    },
    {
      "cell_type": "code",
      "source": [
        "X_test=np.array(X_test)"
      ],
      "metadata": {
        "id": "7WdL4OjNZmmM"
      },
      "execution_count": 230,
      "outputs": []
    },
    {
      "cell_type": "code",
      "source": [
        "null=X_test[0].reshape(1,-1)"
      ],
      "metadata": {
        "id": "qHiYrqlFbpEK"
      },
      "execution_count": 232,
      "outputs": []
    },
    {
      "cell_type": "code",
      "source": [
        "null.shape"
      ],
      "metadata": {
        "colab": {
          "base_uri": "https://localhost:8080/"
        },
        "id": "7iqmRMeibvMW",
        "outputId": "51be4343-cbb1-4372-9099-36950c3b65bd"
      },
      "execution_count": 233,
      "outputs": [
        {
          "output_type": "execute_result",
          "data": {
            "text/plain": [
              "(1, 57)"
            ]
          },
          "metadata": {},
          "execution_count": 233
        }
      ]
    },
    {
      "cell_type": "code",
      "source": [
        "X_test.shape"
      ],
      "metadata": {
        "colab": {
          "base_uri": "https://localhost:8080/"
        },
        "id": "3dMak6uDcQg1",
        "outputId": "07b11bae-a79e-4277-e4e2-2ddd0f2e58f1"
      },
      "execution_count": 237,
      "outputs": [
        {
          "output_type": "execute_result",
          "data": {
            "text/plain": [
              "(1998, 57)"
            ]
          },
          "metadata": {},
          "execution_count": 237
        }
      ]
    },
    {
      "cell_type": "code",
      "source": [
        "loaded_model.predict(null)"
      ],
      "metadata": {
        "colab": {
          "base_uri": "https://localhost:8080/"
        },
        "id": "jG4-QQsFcFwS",
        "outputId": "ae669263-d0ad-4fbe-efce-3aabc23edeb8"
      },
      "execution_count": 236,
      "outputs": [
        {
          "output_type": "execute_result",
          "data": {
            "text/plain": [
              "array([[0., 0., 0., 0., 0., 0., 0., 0., 1., 0.]], dtype=float32)"
            ]
          },
          "metadata": {},
          "execution_count": 236
        }
      ]
    },
    {
      "cell_type": "code",
      "source": [
        "linsvm_clf.predict(X_test[0:1])"
      ],
      "metadata": {
        "colab": {
          "base_uri": "https://localhost:8080/"
        },
        "id": "WfhnCnOScxyr",
        "outputId": "635818ff-69ac-434c-8eae-683903cf2235"
      },
      "execution_count": 251,
      "outputs": [
        {
          "output_type": "execute_result",
          "data": {
            "text/plain": [
              "array([4])"
            ]
          },
          "metadata": {},
          "execution_count": 251
        }
      ]
    },
    {
      "cell_type": "code",
      "source": [
        "X_test=np.array(X_test)"
      ],
      "metadata": {
        "id": "IkdmjnM4dIHm"
      },
      "execution_count": 256,
      "outputs": []
    },
    {
      "cell_type": "code",
      "source": [
        "predictions_final=[]\n",
        "for i in range(X_test.shape[0]):\n",
        "  temp=np.zeros((1,6))\n",
        "  #_newX_test[i]=X_test[i].reshape((1,-1))\n",
        "  temp[0][0]=int(np.argmax(loaded_model.predict(X_test[i:i+1])))\n",
        "  temp[0][1]=(linsvm_clf.predict(X_test[i:i+1]))\n",
        "  temp[0][2]=int(np.argmax(knn.predict(X_test[i:i+1])))\n",
        "  temp[0][3]=clf.predict(X_test[i:i+1])\n",
        "  temp[0][4]=int(np.argmax(model_new.predict(X_test[i:i+1])))\n",
        "  temp[0][5]=int(np.argmax(model_new_1.predict(X_test[i:i+1])))\n",
        "  predictions_final.append(temp)\n"
      ],
      "metadata": {
        "id": "um6JgzjTYgNd"
      },
      "execution_count": 466,
      "outputs": []
    },
    {
      "cell_type": "code",
      "source": [
        "rescue=predictions_final"
      ],
      "metadata": {
        "id": "OcNleYzf8I0r"
      },
      "execution_count": 361,
      "outputs": []
    },
    {
      "cell_type": "code",
      "source": [
        "np.argmax(loaded_model.predict(X_test[0:1]))"
      ],
      "metadata": {
        "colab": {
          "base_uri": "https://localhost:8080/"
        },
        "id": "Ad6JcFb2ebOL",
        "outputId": "45797d36-9f70-47af-eb95-61aa86b8b89a"
      },
      "execution_count": 294,
      "outputs": [
        {
          "output_type": "execute_result",
          "data": {
            "text/plain": [
              "1"
            ]
          },
          "metadata": {},
          "execution_count": 294
        }
      ]
    },
    {
      "cell_type": "code",
      "source": [
        "linsvm_clf.predict(X_test[100:101])"
      ],
      "metadata": {
        "colab": {
          "base_uri": "https://localhost:8080/"
        },
        "id": "Q1NSlM8VefVu",
        "outputId": "3618b5ac-3bc9-447b-e718-4a0897e49cb9"
      },
      "execution_count": 295,
      "outputs": [
        {
          "output_type": "execute_result",
          "data": {
            "text/plain": [
              "array([4])"
            ]
          },
          "metadata": {},
          "execution_count": 295
        }
      ]
    },
    {
      "cell_type": "code",
      "source": [
        "Y_test=np.array(Y_test)"
      ],
      "metadata": {
        "id": "VzIdjVs_eoOP"
      },
      "execution_count": 273,
      "outputs": []
    },
    {
      "cell_type": "code",
      "source": [
        "np.argmax(Y_test[0])"
      ],
      "metadata": {
        "colab": {
          "base_uri": "https://localhost:8080/"
        },
        "id": "ALvF-MLEezJ0",
        "outputId": "3d44753f-9c96-4bfa-c044-94d96fc7ce90"
      },
      "execution_count": 275,
      "outputs": [
        {
          "output_type": "execute_result",
          "data": {
            "text/plain": [
              "5"
            ]
          },
          "metadata": {},
          "execution_count": 275
        }
      ]
    },
    {
      "cell_type": "code",
      "source": [
        "np.argmax(knn.predict(X_test[0:1]))"
      ],
      "metadata": {
        "colab": {
          "base_uri": "https://localhost:8080/"
        },
        "id": "HurPHG6De2ap",
        "outputId": "a864772e-19db-47fb-8f24-9f73f6d19b54"
      },
      "execution_count": 276,
      "outputs": [
        {
          "output_type": "execute_result",
          "data": {
            "text/plain": [
              "0"
            ]
          },
          "metadata": {},
          "execution_count": 276
        }
      ]
    },
    {
      "cell_type": "code",
      "source": [
        "predictions_final[:15]"
      ],
      "metadata": {
        "colab": {
          "base_uri": "https://localhost:8080/"
        },
        "id": "tEv5MgiQeMM7",
        "outputId": "165057b2-117d-4327-b2b6-48ac1863d533"
      },
      "execution_count": 323,
      "outputs": [
        {
          "output_type": "execute_result",
          "data": {
            "text/plain": [
              "[array([[1., 1., 1.]]),\n",
              " array([[4., 4., 4.]]),\n",
              " array([[6., 6., 6.]]),\n",
              " array([[7., 7., 7.]]),\n",
              " array([[7., 7., 7.]]),\n",
              " array([[2., 2., 2.]]),\n",
              " array([[5., 5., 0.]]),\n",
              " array([[1., 1., 1.]]),\n",
              " array([[8., 8., 8.]]),\n",
              " array([[2., 0., 0.]]),\n",
              " array([[1., 1., 1.]]),\n",
              " array([[8., 8., 0.]]),\n",
              " array([[1., 1., 1.]]),\n",
              " array([[1., 1., 1.]]),\n",
              " array([[9., 9., 7.]])]"
            ]
          },
          "metadata": {},
          "execution_count": 323
        }
      ]
    },
    {
      "cell_type": "code",
      "source": [
        "Y_test[:15]"
      ],
      "metadata": {
        "colab": {
          "base_uri": "https://localhost:8080/",
          "height": 520
        },
        "id": "qH7JyFk-hlqU",
        "outputId": "71778c71-c0cf-4fad-a3ed-c9a5a640d8c1"
      },
      "execution_count": 474,
      "outputs": [
        {
          "output_type": "execute_result",
          "data": {
            "text/html": [
              "\n",
              "  <div id=\"df-ebbcba81-06bd-4053-b1c2-04ec571a0127\">\n",
              "    <div class=\"colab-df-container\">\n",
              "      <div>\n",
              "<style scoped>\n",
              "    .dataframe tbody tr th:only-of-type {\n",
              "        vertical-align: middle;\n",
              "    }\n",
              "\n",
              "    .dataframe tbody tr th {\n",
              "        vertical-align: top;\n",
              "    }\n",
              "\n",
              "    .dataframe thead th {\n",
              "        text-align: right;\n",
              "    }\n",
              "</style>\n",
              "<table border=\"1\" class=\"dataframe\">\n",
              "  <thead>\n",
              "    <tr style=\"text-align: right;\">\n",
              "      <th></th>\n",
              "      <th>blues</th>\n",
              "      <th>classical</th>\n",
              "      <th>country</th>\n",
              "      <th>disco</th>\n",
              "      <th>hiphop</th>\n",
              "      <th>jazz</th>\n",
              "      <th>metal</th>\n",
              "      <th>pop</th>\n",
              "      <th>reggae</th>\n",
              "      <th>rock</th>\n",
              "    </tr>\n",
              "  </thead>\n",
              "  <tbody>\n",
              "    <tr>\n",
              "      <th>5008</th>\n",
              "      <td>0</td>\n",
              "      <td>0</td>\n",
              "      <td>0</td>\n",
              "      <td>0</td>\n",
              "      <td>0</td>\n",
              "      <td>1</td>\n",
              "      <td>0</td>\n",
              "      <td>0</td>\n",
              "      <td>0</td>\n",
              "      <td>0</td>\n",
              "    </tr>\n",
              "    <tr>\n",
              "      <th>4635</th>\n",
              "      <td>0</td>\n",
              "      <td>0</td>\n",
              "      <td>0</td>\n",
              "      <td>0</td>\n",
              "      <td>1</td>\n",
              "      <td>0</td>\n",
              "      <td>0</td>\n",
              "      <td>0</td>\n",
              "      <td>0</td>\n",
              "      <td>0</td>\n",
              "    </tr>\n",
              "    <tr>\n",
              "      <th>6766</th>\n",
              "      <td>0</td>\n",
              "      <td>0</td>\n",
              "      <td>0</td>\n",
              "      <td>0</td>\n",
              "      <td>0</td>\n",
              "      <td>0</td>\n",
              "      <td>1</td>\n",
              "      <td>0</td>\n",
              "      <td>0</td>\n",
              "      <td>0</td>\n",
              "    </tr>\n",
              "    <tr>\n",
              "      <th>7682</th>\n",
              "      <td>0</td>\n",
              "      <td>0</td>\n",
              "      <td>0</td>\n",
              "      <td>0</td>\n",
              "      <td>0</td>\n",
              "      <td>0</td>\n",
              "      <td>0</td>\n",
              "      <td>1</td>\n",
              "      <td>0</td>\n",
              "      <td>0</td>\n",
              "    </tr>\n",
              "    <tr>\n",
              "      <th>7620</th>\n",
              "      <td>0</td>\n",
              "      <td>0</td>\n",
              "      <td>0</td>\n",
              "      <td>0</td>\n",
              "      <td>0</td>\n",
              "      <td>0</td>\n",
              "      <td>0</td>\n",
              "      <td>1</td>\n",
              "      <td>0</td>\n",
              "      <td>0</td>\n",
              "    </tr>\n",
              "    <tr>\n",
              "      <th>2091</th>\n",
              "      <td>0</td>\n",
              "      <td>0</td>\n",
              "      <td>1</td>\n",
              "      <td>0</td>\n",
              "      <td>0</td>\n",
              "      <td>0</td>\n",
              "      <td>0</td>\n",
              "      <td>0</td>\n",
              "      <td>0</td>\n",
              "      <td>0</td>\n",
              "    </tr>\n",
              "    <tr>\n",
              "      <th>5065</th>\n",
              "      <td>0</td>\n",
              "      <td>0</td>\n",
              "      <td>0</td>\n",
              "      <td>0</td>\n",
              "      <td>0</td>\n",
              "      <td>1</td>\n",
              "      <td>0</td>\n",
              "      <td>0</td>\n",
              "      <td>0</td>\n",
              "      <td>0</td>\n",
              "    </tr>\n",
              "    <tr>\n",
              "      <th>1254</th>\n",
              "      <td>0</td>\n",
              "      <td>1</td>\n",
              "      <td>0</td>\n",
              "      <td>0</td>\n",
              "      <td>0</td>\n",
              "      <td>0</td>\n",
              "      <td>0</td>\n",
              "      <td>0</td>\n",
              "      <td>0</td>\n",
              "      <td>0</td>\n",
              "    </tr>\n",
              "    <tr>\n",
              "      <th>8150</th>\n",
              "      <td>0</td>\n",
              "      <td>0</td>\n",
              "      <td>0</td>\n",
              "      <td>0</td>\n",
              "      <td>0</td>\n",
              "      <td>0</td>\n",
              "      <td>0</td>\n",
              "      <td>0</td>\n",
              "      <td>1</td>\n",
              "      <td>0</td>\n",
              "    </tr>\n",
              "    <tr>\n",
              "      <th>2587</th>\n",
              "      <td>0</td>\n",
              "      <td>0</td>\n",
              "      <td>1</td>\n",
              "      <td>0</td>\n",
              "      <td>0</td>\n",
              "      <td>0</td>\n",
              "      <td>0</td>\n",
              "      <td>0</td>\n",
              "      <td>0</td>\n",
              "      <td>0</td>\n",
              "    </tr>\n",
              "    <tr>\n",
              "      <th>1341</th>\n",
              "      <td>0</td>\n",
              "      <td>1</td>\n",
              "      <td>0</td>\n",
              "      <td>0</td>\n",
              "      <td>0</td>\n",
              "      <td>0</td>\n",
              "      <td>0</td>\n",
              "      <td>0</td>\n",
              "      <td>0</td>\n",
              "      <td>0</td>\n",
              "    </tr>\n",
              "    <tr>\n",
              "      <th>8282</th>\n",
              "      <td>0</td>\n",
              "      <td>0</td>\n",
              "      <td>0</td>\n",
              "      <td>0</td>\n",
              "      <td>0</td>\n",
              "      <td>0</td>\n",
              "      <td>0</td>\n",
              "      <td>0</td>\n",
              "      <td>1</td>\n",
              "      <td>0</td>\n",
              "    </tr>\n",
              "    <tr>\n",
              "      <th>1260</th>\n",
              "      <td>0</td>\n",
              "      <td>1</td>\n",
              "      <td>0</td>\n",
              "      <td>0</td>\n",
              "      <td>0</td>\n",
              "      <td>0</td>\n",
              "      <td>0</td>\n",
              "      <td>0</td>\n",
              "      <td>0</td>\n",
              "      <td>0</td>\n",
              "    </tr>\n",
              "    <tr>\n",
              "      <th>1128</th>\n",
              "      <td>0</td>\n",
              "      <td>1</td>\n",
              "      <td>0</td>\n",
              "      <td>0</td>\n",
              "      <td>0</td>\n",
              "      <td>0</td>\n",
              "      <td>0</td>\n",
              "      <td>0</td>\n",
              "      <td>0</td>\n",
              "      <td>0</td>\n",
              "    </tr>\n",
              "    <tr>\n",
              "      <th>9490</th>\n",
              "      <td>0</td>\n",
              "      <td>0</td>\n",
              "      <td>0</td>\n",
              "      <td>0</td>\n",
              "      <td>0</td>\n",
              "      <td>0</td>\n",
              "      <td>0</td>\n",
              "      <td>0</td>\n",
              "      <td>0</td>\n",
              "      <td>1</td>\n",
              "    </tr>\n",
              "  </tbody>\n",
              "</table>\n",
              "</div>\n",
              "      <button class=\"colab-df-convert\" onclick=\"convertToInteractive('df-ebbcba81-06bd-4053-b1c2-04ec571a0127')\"\n",
              "              title=\"Convert this dataframe to an interactive table.\"\n",
              "              style=\"display:none;\">\n",
              "        \n",
              "  <svg xmlns=\"http://www.w3.org/2000/svg\" height=\"24px\"viewBox=\"0 0 24 24\"\n",
              "       width=\"24px\">\n",
              "    <path d=\"M0 0h24v24H0V0z\" fill=\"none\"/>\n",
              "    <path d=\"M18.56 5.44l.94 2.06.94-2.06 2.06-.94-2.06-.94-.94-2.06-.94 2.06-2.06.94zm-11 1L8.5 8.5l.94-2.06 2.06-.94-2.06-.94L8.5 2.5l-.94 2.06-2.06.94zm10 10l.94 2.06.94-2.06 2.06-.94-2.06-.94-.94-2.06-.94 2.06-2.06.94z\"/><path d=\"M17.41 7.96l-1.37-1.37c-.4-.4-.92-.59-1.43-.59-.52 0-1.04.2-1.43.59L10.3 9.45l-7.72 7.72c-.78.78-.78 2.05 0 2.83L4 21.41c.39.39.9.59 1.41.59.51 0 1.02-.2 1.41-.59l7.78-7.78 2.81-2.81c.8-.78.8-2.07 0-2.86zM5.41 20L4 18.59l7.72-7.72 1.47 1.35L5.41 20z\"/>\n",
              "  </svg>\n",
              "      </button>\n",
              "      \n",
              "  <style>\n",
              "    .colab-df-container {\n",
              "      display:flex;\n",
              "      flex-wrap:wrap;\n",
              "      gap: 12px;\n",
              "    }\n",
              "\n",
              "    .colab-df-convert {\n",
              "      background-color: #E8F0FE;\n",
              "      border: none;\n",
              "      border-radius: 50%;\n",
              "      cursor: pointer;\n",
              "      display: none;\n",
              "      fill: #1967D2;\n",
              "      height: 32px;\n",
              "      padding: 0 0 0 0;\n",
              "      width: 32px;\n",
              "    }\n",
              "\n",
              "    .colab-df-convert:hover {\n",
              "      background-color: #E2EBFA;\n",
              "      box-shadow: 0px 1px 2px rgba(60, 64, 67, 0.3), 0px 1px 3px 1px rgba(60, 64, 67, 0.15);\n",
              "      fill: #174EA6;\n",
              "    }\n",
              "\n",
              "    [theme=dark] .colab-df-convert {\n",
              "      background-color: #3B4455;\n",
              "      fill: #D2E3FC;\n",
              "    }\n",
              "\n",
              "    [theme=dark] .colab-df-convert:hover {\n",
              "      background-color: #434B5C;\n",
              "      box-shadow: 0px 1px 3px 1px rgba(0, 0, 0, 0.15);\n",
              "      filter: drop-shadow(0px 1px 2px rgba(0, 0, 0, 0.3));\n",
              "      fill: #FFFFFF;\n",
              "    }\n",
              "  </style>\n",
              "\n",
              "      <script>\n",
              "        const buttonEl =\n",
              "          document.querySelector('#df-ebbcba81-06bd-4053-b1c2-04ec571a0127 button.colab-df-convert');\n",
              "        buttonEl.style.display =\n",
              "          google.colab.kernel.accessAllowed ? 'block' : 'none';\n",
              "\n",
              "        async function convertToInteractive(key) {\n",
              "          const element = document.querySelector('#df-ebbcba81-06bd-4053-b1c2-04ec571a0127');\n",
              "          const dataTable =\n",
              "            await google.colab.kernel.invokeFunction('convertToInteractive',\n",
              "                                                     [key], {});\n",
              "          if (!dataTable) return;\n",
              "\n",
              "          const docLinkHtml = 'Like what you see? Visit the ' +\n",
              "            '<a target=\"_blank\" href=https://colab.research.google.com/notebooks/data_table.ipynb>data table notebook</a>'\n",
              "            + ' to learn more about interactive tables.';\n",
              "          element.innerHTML = '';\n",
              "          dataTable['output_type'] = 'display_data';\n",
              "          await google.colab.output.renderOutput(dataTable, element);\n",
              "          const docLink = document.createElement('div');\n",
              "          docLink.innerHTML = docLinkHtml;\n",
              "          element.appendChild(docLink);\n",
              "        }\n",
              "      </script>\n",
              "    </div>\n",
              "  </div>\n",
              "  "
            ],
            "text/plain": [
              "      blues  classical  country  disco  hiphop  jazz  metal  pop  reggae  rock\n",
              "5008      0          0        0      0       0     1      0    0       0     0\n",
              "4635      0          0        0      0       1     0      0    0       0     0\n",
              "6766      0          0        0      0       0     0      1    0       0     0\n",
              "7682      0          0        0      0       0     0      0    1       0     0\n",
              "7620      0          0        0      0       0     0      0    1       0     0\n",
              "2091      0          0        1      0       0     0      0    0       0     0\n",
              "5065      0          0        0      0       0     1      0    0       0     0\n",
              "1254      0          1        0      0       0     0      0    0       0     0\n",
              "8150      0          0        0      0       0     0      0    0       1     0\n",
              "2587      0          0        1      0       0     0      0    0       0     0\n",
              "1341      0          1        0      0       0     0      0    0       0     0\n",
              "8282      0          0        0      0       0     0      0    0       1     0\n",
              "1260      0          1        0      0       0     0      0    0       0     0\n",
              "1128      0          1        0      0       0     0      0    0       0     0\n",
              "9490      0          0        0      0       0     0      0    0       0     1"
            ]
          },
          "metadata": {},
          "execution_count": 474
        }
      ]
    },
    {
      "cell_type": "code",
      "source": [
        ""
      ],
      "metadata": {
        "id": "P49rY06-0ozq"
      },
      "execution_count": 406,
      "outputs": []
    },
    {
      "cell_type": "code",
      "source": [
        "np.array(rescue[0])"
      ],
      "metadata": {
        "colab": {
          "base_uri": "https://localhost:8080/"
        },
        "id": "UPDgCGtA8T-Q",
        "outputId": "02c46702-4ce0-4a29-bf4c-e937d5a4905e"
      },
      "execution_count": 367,
      "outputs": [
        {
          "output_type": "execute_result",
          "data": {
            "text/plain": [
              "array([[1., 1., 1.]])"
            ]
          },
          "metadata": {},
          "execution_count": 367
        }
      ]
    },
    {
      "cell_type": "code",
      "source": [
        "predictions_final=np.array(predictions_final)"
      ],
      "metadata": {
        "id": "VZmpe3gl3Kz4"
      },
      "execution_count": 363,
      "outputs": []
    },
    {
      "cell_type": "code",
      "source": [
        "predictions_final=np.array(predictions_final)"
      ],
      "metadata": {
        "id": "ihVlWYIB4KDL"
      },
      "execution_count": 467,
      "outputs": []
    },
    {
      "cell_type": "code",
      "source": [
        "predictions_final=np.reshape(predictions_final,(1998,6))"
      ],
      "metadata": {
        "id": "3SKnJBOV7UK3"
      },
      "execution_count": 468,
      "outputs": []
    },
    {
      "cell_type": "code",
      "source": [
        "predictions_final=predictions_final.astype(int)"
      ],
      "metadata": {
        "id": "Jg0Q8u75836U"
      },
      "execution_count": 456,
      "outputs": []
    },
    {
      "cell_type": "code",
      "source": [
        "final_preds=[]\n",
        "for i in range((predictions_final.shape[0])):\n",
        "  yup=(predictions_final[i])\n",
        "  yup=yup.astype(int)\n",
        "  \n",
        "  if yup[0]==yup[1]==yup[2]==yup[3]==yup[4]==yup[5]:\n",
        "    temp=yup[0]\n",
        "  else:\n",
        "    temp=np.bincount(yup).argmax()\n",
        "  final_preds.append(temp)\n",
        "     \n",
        "   \n",
        "\n",
        "\n",
        "  \n",
        "\n",
        "  \n",
        "\n",
        "    \n",
        "\n",
        "\n"
      ],
      "metadata": {
        "id": "g0Vum7CppqoQ"
      },
      "execution_count": 475,
      "outputs": []
    },
    {
      "cell_type": "code",
      "source": [
        "rescue[:5]"
      ],
      "metadata": {
        "colab": {
          "base_uri": "https://localhost:8080/"
        },
        "id": "6ErwGWAt-aA3",
        "outputId": "85fd2e10-eae2-4a20-8c61-b2309f47962d"
      },
      "execution_count": 404,
      "outputs": [
        {
          "output_type": "execute_result",
          "data": {
            "text/plain": [
              "[array([[1., 1., 1.]]),\n",
              " array([[4., 4., 4.]]),\n",
              " array([[6., 6., 6.]]),\n",
              " array([[7., 7., 7.]]),\n",
              " array([[7., 7., 7.]])]"
            ]
          },
          "metadata": {},
          "execution_count": 404
        }
      ]
    },
    {
      "cell_type": "code",
      "source": [
        "len(final_preds)"
      ],
      "metadata": {
        "colab": {
          "base_uri": "https://localhost:8080/"
        },
        "id": "Ns7v3oLR1ZMc",
        "outputId": "4d5f5622-f003-4386-edb6-7bc8b9175801"
      },
      "execution_count": 429,
      "outputs": [
        {
          "output_type": "execute_result",
          "data": {
            "text/plain": [
              "1998"
            ]
          },
          "metadata": {},
          "execution_count": 429
        }
      ]
    },
    {
      "cell_type": "code",
      "source": [
        ""
      ],
      "metadata": {
        "id": "Dd4DzePm-t1F"
      },
      "execution_count": null,
      "outputs": []
    },
    {
      "cell_type": "code",
      "source": [
        "accuracy_score(Y_test_dummy,final_preds)"
      ],
      "metadata": {
        "colab": {
          "base_uri": "https://localhost:8080/"
        },
        "id": "AdbSozeu-VCA",
        "outputId": "d5f20a46-a327-4c10-a36c-c014c026dc15"
      },
      "execution_count": 476,
      "outputs": [
        {
          "output_type": "execute_result",
          "data": {
            "text/plain": [
              "0.9129129129129129"
            ]
          },
          "metadata": {},
          "execution_count": 476
        }
      ]
    },
    {
      "cell_type": "code",
      "source": [
        "ii=np.reshape(predictions_final,predictions_final.size)"
      ],
      "metadata": {
        "id": "SSgE6V2E59Hx"
      },
      "execution_count": 350,
      "outputs": []
    },
    {
      "cell_type": "code",
      "source": [
        "ii.shape"
      ],
      "metadata": {
        "colab": {
          "base_uri": "https://localhost:8080/"
        },
        "id": "9JkhmJDQ6XK5",
        "outputId": "d18ad76e-37de-4570-eb7e-413f7473f31a"
      },
      "execution_count": 351,
      "outputs": [
        {
          "output_type": "execute_result",
          "data": {
            "text/plain": [
              "(5994,)"
            ]
          },
          "metadata": {},
          "execution_count": 351
        }
      ]
    }
  ]
}