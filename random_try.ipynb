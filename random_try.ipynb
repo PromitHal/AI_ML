{
  "nbformat": 4,
  "nbformat_minor": 0,
  "metadata": {
    "colab": {
      "name": "try.ipynb",
      "provenance": [],
      "collapsed_sections": [],
      "authorship_tag": "ABX9TyObi9iOPOXCFMXy5if0Sza2",
      "include_colab_link": true
    },
    "kernelspec": {
      "name": "python3",
      "display_name": "Python 3"
    },
    "language_info": {
      "name": "python"
    }
  },
  "cells": [
    {
      "cell_type": "markdown",
      "metadata": {
        "id": "view-in-github",
        "colab_type": "text"
      },
      "source": [
        "<a href=\"https://colab.research.google.com/github/PromitHal/AI_ML/blob/main/random_try.ipynb\" target=\"_parent\"><img src=\"https://colab.research.google.com/assets/colab-badge.svg\" alt=\"Open In Colab\"/></a>"
      ]
    },
    {
      "cell_type": "code",
      "execution_count": 2,
      "metadata": {
        "id": "KrTamdOBDsql"
      },
      "outputs": [],
      "source": [
        "dataset_url = \"https://raw.githubusercontent.com/harika-bonthu/02-linear-regression-fish/master/datasets_229906_491820_Fish.csv\"\n"
      ]
    },
    {
      "cell_type": "code",
      "source": [
        "import pandas as pd\n",
        "fish=pd.read_csv(dataset_url,error_bad_lines=False)"
      ],
      "metadata": {
        "id": "ve8f10C0EUWH"
      },
      "execution_count": 23,
      "outputs": []
    },
    {
      "cell_type": "code",
      "source": [
        "fish.head()"
      ],
      "metadata": {
        "colab": {
          "base_uri": "https://localhost:8080/",
          "height": 206
        },
        "id": "OmzAwM3DEbgh",
        "outputId": "6e749e0c-ad3a-465a-eb99-4393bd8a5433"
      },
      "execution_count": 4,
      "outputs": [
        {
          "output_type": "execute_result",
          "data": {
            "text/html": [
              "<div>\n",
              "<style scoped>\n",
              "    .dataframe tbody tr th:only-of-type {\n",
              "        vertical-align: middle;\n",
              "    }\n",
              "\n",
              "    .dataframe tbody tr th {\n",
              "        vertical-align: top;\n",
              "    }\n",
              "\n",
              "    .dataframe thead th {\n",
              "        text-align: right;\n",
              "    }\n",
              "</style>\n",
              "<table border=\"1\" class=\"dataframe\">\n",
              "  <thead>\n",
              "    <tr style=\"text-align: right;\">\n",
              "      <th></th>\n",
              "      <th>Species</th>\n",
              "      <th>Weight</th>\n",
              "      <th>Length1</th>\n",
              "      <th>Length2</th>\n",
              "      <th>Length3</th>\n",
              "      <th>Height</th>\n",
              "      <th>Width</th>\n",
              "    </tr>\n",
              "  </thead>\n",
              "  <tbody>\n",
              "    <tr>\n",
              "      <th>0</th>\n",
              "      <td>Bream</td>\n",
              "      <td>242.0</td>\n",
              "      <td>23.2</td>\n",
              "      <td>25.4</td>\n",
              "      <td>30.0</td>\n",
              "      <td>11.5200</td>\n",
              "      <td>4.0200</td>\n",
              "    </tr>\n",
              "    <tr>\n",
              "      <th>1</th>\n",
              "      <td>Bream</td>\n",
              "      <td>290.0</td>\n",
              "      <td>24.0</td>\n",
              "      <td>26.3</td>\n",
              "      <td>31.2</td>\n",
              "      <td>12.4800</td>\n",
              "      <td>4.3056</td>\n",
              "    </tr>\n",
              "    <tr>\n",
              "      <th>2</th>\n",
              "      <td>Bream</td>\n",
              "      <td>340.0</td>\n",
              "      <td>23.9</td>\n",
              "      <td>26.5</td>\n",
              "      <td>31.1</td>\n",
              "      <td>12.3778</td>\n",
              "      <td>4.6961</td>\n",
              "    </tr>\n",
              "    <tr>\n",
              "      <th>3</th>\n",
              "      <td>Bream</td>\n",
              "      <td>363.0</td>\n",
              "      <td>26.3</td>\n",
              "      <td>29.0</td>\n",
              "      <td>33.5</td>\n",
              "      <td>12.7300</td>\n",
              "      <td>4.4555</td>\n",
              "    </tr>\n",
              "    <tr>\n",
              "      <th>4</th>\n",
              "      <td>Bream</td>\n",
              "      <td>430.0</td>\n",
              "      <td>26.5</td>\n",
              "      <td>29.0</td>\n",
              "      <td>34.0</td>\n",
              "      <td>12.4440</td>\n",
              "      <td>5.1340</td>\n",
              "    </tr>\n",
              "  </tbody>\n",
              "</table>\n",
              "</div>"
            ],
            "text/plain": [
              "  Species  Weight  Length1  Length2  Length3   Height   Width\n",
              "0   Bream   242.0     23.2     25.4     30.0  11.5200  4.0200\n",
              "1   Bream   290.0     24.0     26.3     31.2  12.4800  4.3056\n",
              "2   Bream   340.0     23.9     26.5     31.1  12.3778  4.6961\n",
              "3   Bream   363.0     26.3     29.0     33.5  12.7300  4.4555\n",
              "4   Bream   430.0     26.5     29.0     34.0  12.4440  5.1340"
            ]
          },
          "metadata": {},
          "execution_count": 4
        }
      ]
    },
    {
      "cell_type": "code",
      "source": [
        "num_species=len(fish['Species'].unique())\n",
        "print('Number of unique species of fishes:',num_species)"
      ],
      "metadata": {
        "colab": {
          "base_uri": "https://localhost:8080/"
        },
        "id": "hk2hm_yFEc_p",
        "outputId": "729b9ea8-f7db-4636-c117-4c78838c8969"
      },
      "execution_count": 24,
      "outputs": [
        {
          "output_type": "stream",
          "name": "stdout",
          "text": [
            "Number of unique species of fishes: 7\n"
          ]
        }
      ]
    },
    {
      "cell_type": "code",
      "source": [
        "fish.isnull().sum()"
      ],
      "metadata": {
        "colab": {
          "base_uri": "https://localhost:8080/"
        },
        "id": "9u2fYjxWEedO",
        "outputId": "03678bb0-1afa-4038-d6bc-59594deecb0b"
      },
      "execution_count": 6,
      "outputs": [
        {
          "output_type": "execute_result",
          "data": {
            "text/plain": [
              "Species    0\n",
              "Weight     0\n",
              "Length1    0\n",
              "Length2    0\n",
              "Length3    0\n",
              "Height     0\n",
              "Width      0\n",
              "dtype: int64"
            ]
          },
          "metadata": {},
          "execution_count": 6
        }
      ]
    },
    {
      "cell_type": "code",
      "source": [
        "X=fish.drop(columns=\"Species\",axis=1)\n"
      ],
      "metadata": {
        "id": "jVIqdwTwEg6t"
      },
      "execution_count": 25,
      "outputs": []
    },
    {
      "cell_type": "code",
      "source": [
        "Y=fish[\"Species\"]\n"
      ],
      "metadata": {
        "id": "yIlRqTrbEiXO"
      },
      "execution_count": 26,
      "outputs": []
    },
    {
      "cell_type": "code",
      "source": [
        "X.head()\n"
      ],
      "metadata": {
        "colab": {
          "base_uri": "https://localhost:8080/",
          "height": 206
        },
        "id": "_lWqLcx3EkXH",
        "outputId": "2c538838-b12a-4792-bf61-95c868152677"
      },
      "execution_count": 27,
      "outputs": [
        {
          "output_type": "execute_result",
          "data": {
            "text/html": [
              "<div>\n",
              "<style scoped>\n",
              "    .dataframe tbody tr th:only-of-type {\n",
              "        vertical-align: middle;\n",
              "    }\n",
              "\n",
              "    .dataframe tbody tr th {\n",
              "        vertical-align: top;\n",
              "    }\n",
              "\n",
              "    .dataframe thead th {\n",
              "        text-align: right;\n",
              "    }\n",
              "</style>\n",
              "<table border=\"1\" class=\"dataframe\">\n",
              "  <thead>\n",
              "    <tr style=\"text-align: right;\">\n",
              "      <th></th>\n",
              "      <th>Weight</th>\n",
              "      <th>Length1</th>\n",
              "      <th>Length2</th>\n",
              "      <th>Length3</th>\n",
              "      <th>Height</th>\n",
              "      <th>Width</th>\n",
              "    </tr>\n",
              "  </thead>\n",
              "  <tbody>\n",
              "    <tr>\n",
              "      <th>0</th>\n",
              "      <td>242.0</td>\n",
              "      <td>23.2</td>\n",
              "      <td>25.4</td>\n",
              "      <td>30.0</td>\n",
              "      <td>11.5200</td>\n",
              "      <td>4.0200</td>\n",
              "    </tr>\n",
              "    <tr>\n",
              "      <th>1</th>\n",
              "      <td>290.0</td>\n",
              "      <td>24.0</td>\n",
              "      <td>26.3</td>\n",
              "      <td>31.2</td>\n",
              "      <td>12.4800</td>\n",
              "      <td>4.3056</td>\n",
              "    </tr>\n",
              "    <tr>\n",
              "      <th>2</th>\n",
              "      <td>340.0</td>\n",
              "      <td>23.9</td>\n",
              "      <td>26.5</td>\n",
              "      <td>31.1</td>\n",
              "      <td>12.3778</td>\n",
              "      <td>4.6961</td>\n",
              "    </tr>\n",
              "    <tr>\n",
              "      <th>3</th>\n",
              "      <td>363.0</td>\n",
              "      <td>26.3</td>\n",
              "      <td>29.0</td>\n",
              "      <td>33.5</td>\n",
              "      <td>12.7300</td>\n",
              "      <td>4.4555</td>\n",
              "    </tr>\n",
              "    <tr>\n",
              "      <th>4</th>\n",
              "      <td>430.0</td>\n",
              "      <td>26.5</td>\n",
              "      <td>29.0</td>\n",
              "      <td>34.0</td>\n",
              "      <td>12.4440</td>\n",
              "      <td>5.1340</td>\n",
              "    </tr>\n",
              "  </tbody>\n",
              "</table>\n",
              "</div>"
            ],
            "text/plain": [
              "   Weight  Length1  Length2  Length3   Height   Width\n",
              "0   242.0     23.2     25.4     30.0  11.5200  4.0200\n",
              "1   290.0     24.0     26.3     31.2  12.4800  4.3056\n",
              "2   340.0     23.9     26.5     31.1  12.3778  4.6961\n",
              "3   363.0     26.3     29.0     33.5  12.7300  4.4555\n",
              "4   430.0     26.5     29.0     34.0  12.4440  5.1340"
            ]
          },
          "metadata": {},
          "execution_count": 27
        }
      ]
    },
    {
      "cell_type": "code",
      "source": [
        "#Splitting into train and test datasets\n",
        "from sklearn.model_selection import train_test_split\n",
        "X_train,X_test,Y_train,Y_test=train_test_split(X,Y,test_size=0.2,random_state=42)\n"
      ],
      "metadata": {
        "id": "WOhQs43XE07M"
      },
      "execution_count": 28,
      "outputs": []
    },
    {
      "cell_type": "code",
      "source": [
        "#Transforming dataset\n",
        "from sklearn.preprocessing import StandardScaler"
      ],
      "metadata": {
        "id": "lV5DcPoMEqIo"
      },
      "execution_count": 29,
      "outputs": []
    },
    {
      "cell_type": "code",
      "source": [
        "sc=StandardScaler()\n",
        "\n",
        "X_train=sc.fit_transform(X_train)"
      ],
      "metadata": {
        "id": "M5nDXspzElBX"
      },
      "execution_count": 30,
      "outputs": []
    },
    {
      "cell_type": "code",
      "source": [
        "#Label Encoding the target variable using Label Encoder\n",
        "from sklearn.preprocessing import LabelEncoder\n",
        "label_encoder=LabelEncoder()\n",
        "Y=label_encoder.fit_transform(Y)"
      ],
      "metadata": {
        "id": "gCsvIz7EFESm"
      },
      "execution_count": 31,
      "outputs": []
    },
    {
      "cell_type": "code",
      "source": [
        "#Building the model\n",
        "from sklearn.linear_model import LogisticRegression\n",
        "clf=LogisticRegression()\n",
        "#Training the model\n",
        "clf.fit(X_train,Y_train)"
      ],
      "metadata": {
        "colab": {
          "base_uri": "https://localhost:8080/"
        },
        "id": "OVRVvfsEEr03",
        "outputId": "e59d61b7-f29c-42c7-c224-d7ccdafe8fc3"
      },
      "execution_count": 32,
      "outputs": [
        {
          "output_type": "execute_result",
          "data": {
            "text/plain": [
              "LogisticRegression()"
            ]
          },
          "metadata": {},
          "execution_count": 32
        }
      ]
    },
    {
      "cell_type": "code",
      "source": [
        "X_test=sc.transform(X_test)"
      ],
      "metadata": {
        "id": "CA4wgiZIFnbZ"
      },
      "execution_count": 34,
      "outputs": []
    },
    {
      "cell_type": "code",
      "source": [
        "#Predicting the output\n",
        "y_pred=clf.predict(X_test)\n",
        "#Computing accuracy of model \n",
        "from sklearn.metrics import accuracy_score\n",
        "accuracy=accuracy_score(Y_test,y_pred)\n",
        "print(\"Accuracy: {:.2f}%\".format(accuracy * 100))"
      ],
      "metadata": {
        "colab": {
          "base_uri": "https://localhost:8080/"
        },
        "id": "6u0vJTVKFWpO",
        "outputId": "e6ad21cb-930c-4598-b9ea-50d4f3c070ed"
      },
      "execution_count": 35,
      "outputs": [
        {
          "output_type": "stream",
          "name": "stdout",
          "text": [
            "Accuracy: 87.50%\n"
          ]
        }
      ]
    },
    {
      "cell_type": "code",
      "source": [
        "#Using one hot encoding to build them model"
      ],
      "metadata": {
        "id": "-pxV2ymOFs7v"
      },
      "execution_count": null,
      "outputs": []
    },
    {
      "cell_type": "code",
      "source": [
        "from tensorflow.keras.utils import to_categorical"
      ],
      "metadata": {
        "id": "m09M5CLiH7Ja"
      },
      "execution_count": 37,
      "outputs": []
    },
    {
      "cell_type": "code",
      "source": [
        "Y_encoded=to_categorical(Y)"
      ],
      "metadata": {
        "id": "te82ltI8IDAM"
      },
      "execution_count": 38,
      "outputs": []
    },
    {
      "cell_type": "code",
      "source": [
        "Y_encoded.shape"
      ],
      "metadata": {
        "colab": {
          "base_uri": "https://localhost:8080/"
        },
        "id": "PT6QIqjPKOcW",
        "outputId": "5e596f67-a3f5-40a9-9281-086104b103d1"
      },
      "execution_count": 48,
      "outputs": [
        {
          "output_type": "execute_result",
          "data": {
            "text/plain": [
              "(159, 7)"
            ]
          },
          "metadata": {},
          "execution_count": 48
        }
      ]
    },
    {
      "cell_type": "code",
      "source": [
        "import tensorflow as tf\n",
        "from tensorflow import keras\n",
        "from tensorflow.keras.models import Sequential\n",
        "from tensorflow.keras.layers import Activation,Dense\n",
        "from tensorflow.keras.optimizers import Adam\n",
        "from tensorflow.keras.metrics import categorical_crossentropy"
      ],
      "metadata": {
        "id": "ZfMWqKe6IrgU"
      },
      "execution_count": 39,
      "outputs": []
    },
    {
      "cell_type": "code",
      "source": [
        "model=Sequential([\n",
        "                  Dense(units=16,input_shape=(6,),activation='relu'),\n",
        "                  Dense(units=32,activation='relu'),\n",
        "                  Dense(units=64,activation='relu'),\n",
        "                  Dense(units=128,activation='relu'),\n",
        "                  Dense(units=256,activation='relu'),\n",
        "                  Dense(units=7,activation='softmax')\n",
        "])"
      ],
      "metadata": {
        "id": "TTUQ4WfGJZRC"
      },
      "execution_count": 67,
      "outputs": []
    },
    {
      "cell_type": "code",
      "source": [
        "model.summary(\n",
        ")"
      ],
      "metadata": {
        "colab": {
          "base_uri": "https://localhost:8080/"
        },
        "id": "2_AaOt_PJdmU",
        "outputId": "7d25fc08-7265-4234-aeaf-e86f8c99ce57"
      },
      "execution_count": 68,
      "outputs": [
        {
          "output_type": "stream",
          "name": "stdout",
          "text": [
            "Model: \"sequential_6\"\n",
            "_________________________________________________________________\n",
            " Layer (type)                Output Shape              Param #   \n",
            "=================================================================\n",
            " dense_21 (Dense)            (None, 16)                112       \n",
            "                                                                 \n",
            " dense_22 (Dense)            (None, 32)                544       \n",
            "                                                                 \n",
            " dense_23 (Dense)            (None, 64)                2112      \n",
            "                                                                 \n",
            " dense_24 (Dense)            (None, 128)               8320      \n",
            "                                                                 \n",
            " dense_25 (Dense)            (None, 256)               33024     \n",
            "                                                                 \n",
            " dense_26 (Dense)            (None, 7)                 1799      \n",
            "                                                                 \n",
            "=================================================================\n",
            "Total params: 45,911\n",
            "Trainable params: 45,911\n",
            "Non-trainable params: 0\n",
            "_________________________________________________________________\n"
          ]
        }
      ]
    },
    {
      "cell_type": "code",
      "source": [
        "Y_encoded[0]"
      ],
      "metadata": {
        "colab": {
          "base_uri": "https://localhost:8080/"
        },
        "id": "G-PRsWxSKq4U",
        "outputId": "4bf45d6b-3cf3-4ab6-9d03-af0ecd358032"
      },
      "execution_count": 72,
      "outputs": [
        {
          "output_type": "execute_result",
          "data": {
            "text/plain": [
              "array([1., 0., 0., 0., 0., 0., 0.], dtype=float32)"
            ]
          },
          "metadata": {},
          "execution_count": 72
        }
      ]
    },
    {
      "cell_type": "code",
      "source": [
        "model.compile(optimizer=Adam(learning_rate=0.0001),loss='categorical_crossentropy',metrics=['accuracy'])"
      ],
      "metadata": {
        "id": "wzxHl6U8JfFr"
      },
      "execution_count": 69,
      "outputs": []
    },
    {
      "cell_type": "code",
      "source": [
        "history=model.fit(x=X_train,y=Y_encoded,validation_split=0.1,batch_size=10,epochs=200,shuffle=True,verbose=2)"
      ],
      "metadata": {
        "colab": {
          "base_uri": "https://localhost:8080/"
        },
        "id": "SrRf7zcNJxl5",
        "outputId": "baf50c09-245c-43d6-c8c4-79971b2b1ab3"
      },
      "execution_count": 71,
      "outputs": [
        {
          "output_type": "stream",
          "name": "stdout",
          "text": [
            "Epoch 1/200\n",
            "12/12 - 0s - loss: 1.3302 - accuracy: 0.4035 - val_loss: 1.0767 - val_accuracy: 0.5385 - 81ms/epoch - 7ms/step\n",
            "Epoch 2/200\n",
            "12/12 - 0s - loss: 1.3288 - accuracy: 0.4035 - val_loss: 1.0968 - val_accuracy: 0.4615 - 47ms/epoch - 4ms/step\n",
            "Epoch 3/200\n",
            "12/12 - 0s - loss: 1.3278 - accuracy: 0.4035 - val_loss: 1.0582 - val_accuracy: 0.7692 - 47ms/epoch - 4ms/step\n",
            "Epoch 4/200\n",
            "12/12 - 0s - loss: 1.3272 - accuracy: 0.4123 - val_loss: 1.0441 - val_accuracy: 0.8462 - 54ms/epoch - 4ms/step\n",
            "Epoch 5/200\n",
            "12/12 - 0s - loss: 1.3250 - accuracy: 0.3860 - val_loss: 1.0715 - val_accuracy: 0.5385 - 52ms/epoch - 4ms/step\n",
            "Epoch 6/200\n",
            "12/12 - 0s - loss: 1.3249 - accuracy: 0.3947 - val_loss: 1.0950 - val_accuracy: 0.5385 - 61ms/epoch - 5ms/step\n",
            "Epoch 7/200\n",
            "12/12 - 0s - loss: 1.3219 - accuracy: 0.4035 - val_loss: 1.0706 - val_accuracy: 0.5385 - 58ms/epoch - 5ms/step\n",
            "Epoch 8/200\n",
            "12/12 - 0s - loss: 1.3219 - accuracy: 0.4035 - val_loss: 1.0707 - val_accuracy: 0.5385 - 57ms/epoch - 5ms/step\n",
            "Epoch 9/200\n",
            "12/12 - 0s - loss: 1.3225 - accuracy: 0.3947 - val_loss: 1.0472 - val_accuracy: 0.6923 - 61ms/epoch - 5ms/step\n",
            "Epoch 10/200\n",
            "12/12 - 0s - loss: 1.3183 - accuracy: 0.3860 - val_loss: 1.0541 - val_accuracy: 0.6923 - 52ms/epoch - 4ms/step\n",
            "Epoch 11/200\n",
            "12/12 - 0s - loss: 1.3181 - accuracy: 0.4123 - val_loss: 1.0434 - val_accuracy: 0.8462 - 54ms/epoch - 4ms/step\n",
            "Epoch 12/200\n",
            "12/12 - 0s - loss: 1.3180 - accuracy: 0.4035 - val_loss: 1.0514 - val_accuracy: 0.5385 - 56ms/epoch - 5ms/step\n",
            "Epoch 13/200\n",
            "12/12 - 0s - loss: 1.3168 - accuracy: 0.3947 - val_loss: 1.0638 - val_accuracy: 0.5385 - 52ms/epoch - 4ms/step\n",
            "Epoch 14/200\n",
            "12/12 - 0s - loss: 1.3151 - accuracy: 0.3860 - val_loss: 1.0866 - val_accuracy: 0.4615 - 52ms/epoch - 4ms/step\n",
            "Epoch 15/200\n",
            "12/12 - 0s - loss: 1.3157 - accuracy: 0.3860 - val_loss: 1.0721 - val_accuracy: 0.4615 - 56ms/epoch - 5ms/step\n",
            "Epoch 16/200\n",
            "12/12 - 0s - loss: 1.3139 - accuracy: 0.3860 - val_loss: 1.0729 - val_accuracy: 0.5385 - 58ms/epoch - 5ms/step\n",
            "Epoch 17/200\n",
            "12/12 - 0s - loss: 1.3116 - accuracy: 0.3947 - val_loss: 1.0745 - val_accuracy: 0.5385 - 56ms/epoch - 5ms/step\n",
            "Epoch 18/200\n",
            "12/12 - 0s - loss: 1.3097 - accuracy: 0.3947 - val_loss: 1.0447 - val_accuracy: 0.6154 - 54ms/epoch - 5ms/step\n",
            "Epoch 19/200\n",
            "12/12 - 0s - loss: 1.3110 - accuracy: 0.4123 - val_loss: 1.0350 - val_accuracy: 0.6923 - 57ms/epoch - 5ms/step\n",
            "Epoch 20/200\n",
            "12/12 - 0s - loss: 1.3091 - accuracy: 0.4123 - val_loss: 1.0429 - val_accuracy: 0.6923 - 49ms/epoch - 4ms/step\n",
            "Epoch 21/200\n",
            "12/12 - 0s - loss: 1.3087 - accuracy: 0.4123 - val_loss: 1.0476 - val_accuracy: 0.6923 - 52ms/epoch - 4ms/step\n",
            "Epoch 22/200\n",
            "12/12 - 0s - loss: 1.3058 - accuracy: 0.3860 - val_loss: 1.0735 - val_accuracy: 0.4615 - 57ms/epoch - 5ms/step\n",
            "Epoch 23/200\n",
            "12/12 - 0s - loss: 1.3070 - accuracy: 0.4035 - val_loss: 1.0723 - val_accuracy: 0.5385 - 49ms/epoch - 4ms/step\n",
            "Epoch 24/200\n",
            "12/12 - 0s - loss: 1.3043 - accuracy: 0.3947 - val_loss: 1.0717 - val_accuracy: 0.4615 - 59ms/epoch - 5ms/step\n",
            "Epoch 25/200\n",
            "12/12 - 0s - loss: 1.3043 - accuracy: 0.3947 - val_loss: 1.0488 - val_accuracy: 0.6154 - 57ms/epoch - 5ms/step\n",
            "Epoch 26/200\n",
            "12/12 - 0s - loss: 1.3010 - accuracy: 0.3947 - val_loss: 1.0688 - val_accuracy: 0.5385 - 80ms/epoch - 7ms/step\n",
            "Epoch 27/200\n",
            "12/12 - 0s - loss: 1.3009 - accuracy: 0.3860 - val_loss: 1.0600 - val_accuracy: 0.5385 - 57ms/epoch - 5ms/step\n",
            "Epoch 28/200\n",
            "12/12 - 0s - loss: 1.3014 - accuracy: 0.4123 - val_loss: 1.0951 - val_accuracy: 0.3846 - 47ms/epoch - 4ms/step\n",
            "Epoch 29/200\n",
            "12/12 - 0s - loss: 1.2996 - accuracy: 0.4123 - val_loss: 1.0846 - val_accuracy: 0.3846 - 60ms/epoch - 5ms/step\n",
            "Epoch 30/200\n",
            "12/12 - 0s - loss: 1.2978 - accuracy: 0.4035 - val_loss: 1.0921 - val_accuracy: 0.3846 - 56ms/epoch - 5ms/step\n",
            "Epoch 31/200\n",
            "12/12 - 0s - loss: 1.2957 - accuracy: 0.3947 - val_loss: 1.0551 - val_accuracy: 0.4615 - 59ms/epoch - 5ms/step\n",
            "Epoch 32/200\n",
            "12/12 - 0s - loss: 1.2959 - accuracy: 0.4211 - val_loss: 1.0381 - val_accuracy: 0.6923 - 57ms/epoch - 5ms/step\n",
            "Epoch 33/200\n",
            "12/12 - 0s - loss: 1.2957 - accuracy: 0.3860 - val_loss: 1.0165 - val_accuracy: 0.6923 - 52ms/epoch - 4ms/step\n",
            "Epoch 34/200\n",
            "12/12 - 0s - loss: 1.2954 - accuracy: 0.4035 - val_loss: 1.0393 - val_accuracy: 0.6154 - 53ms/epoch - 4ms/step\n",
            "Epoch 35/200\n",
            "12/12 - 0s - loss: 1.2933 - accuracy: 0.4035 - val_loss: 1.0398 - val_accuracy: 0.5385 - 58ms/epoch - 5ms/step\n",
            "Epoch 36/200\n",
            "12/12 - 0s - loss: 1.2934 - accuracy: 0.3947 - val_loss: 1.0371 - val_accuracy: 0.5385 - 51ms/epoch - 4ms/step\n",
            "Epoch 37/200\n",
            "12/12 - 0s - loss: 1.2919 - accuracy: 0.3860 - val_loss: 1.0461 - val_accuracy: 0.5385 - 59ms/epoch - 5ms/step\n",
            "Epoch 38/200\n",
            "12/12 - 0s - loss: 1.2878 - accuracy: 0.3860 - val_loss: 1.0582 - val_accuracy: 0.5385 - 54ms/epoch - 4ms/step\n",
            "Epoch 39/200\n",
            "12/12 - 0s - loss: 1.2893 - accuracy: 0.4035 - val_loss: 1.0866 - val_accuracy: 0.3846 - 52ms/epoch - 4ms/step\n",
            "Epoch 40/200\n",
            "12/12 - 0s - loss: 1.2880 - accuracy: 0.3947 - val_loss: 1.0535 - val_accuracy: 0.5385 - 53ms/epoch - 4ms/step\n",
            "Epoch 41/200\n",
            "12/12 - 0s - loss: 1.2881 - accuracy: 0.4035 - val_loss: 1.0786 - val_accuracy: 0.3846 - 53ms/epoch - 4ms/step\n",
            "Epoch 42/200\n",
            "12/12 - 0s - loss: 1.2867 - accuracy: 0.4123 - val_loss: 1.0543 - val_accuracy: 0.4615 - 60ms/epoch - 5ms/step\n",
            "Epoch 43/200\n",
            "12/12 - 0s - loss: 1.2843 - accuracy: 0.3947 - val_loss: 1.0484 - val_accuracy: 0.4615 - 64ms/epoch - 5ms/step\n",
            "Epoch 44/200\n",
            "12/12 - 0s - loss: 1.2849 - accuracy: 0.4035 - val_loss: 1.0967 - val_accuracy: 0.3846 - 53ms/epoch - 4ms/step\n",
            "Epoch 45/200\n",
            "12/12 - 0s - loss: 1.2840 - accuracy: 0.4035 - val_loss: 1.0689 - val_accuracy: 0.4615 - 52ms/epoch - 4ms/step\n",
            "Epoch 46/200\n",
            "12/12 - 0s - loss: 1.2810 - accuracy: 0.3947 - val_loss: 1.0715 - val_accuracy: 0.4615 - 52ms/epoch - 4ms/step\n",
            "Epoch 47/200\n",
            "12/12 - 0s - loss: 1.2846 - accuracy: 0.3947 - val_loss: 1.1203 - val_accuracy: 0.3846 - 49ms/epoch - 4ms/step\n",
            "Epoch 48/200\n",
            "12/12 - 0s - loss: 1.2794 - accuracy: 0.4035 - val_loss: 1.0654 - val_accuracy: 0.4615 - 50ms/epoch - 4ms/step\n",
            "Epoch 49/200\n",
            "12/12 - 0s - loss: 1.2775 - accuracy: 0.3860 - val_loss: 1.0671 - val_accuracy: 0.4615 - 61ms/epoch - 5ms/step\n",
            "Epoch 50/200\n",
            "12/12 - 0s - loss: 1.2786 - accuracy: 0.3860 - val_loss: 1.0567 - val_accuracy: 0.4615 - 56ms/epoch - 5ms/step\n",
            "Epoch 51/200\n",
            "12/12 - 0s - loss: 1.2763 - accuracy: 0.4035 - val_loss: 1.0328 - val_accuracy: 0.5385 - 54ms/epoch - 4ms/step\n",
            "Epoch 52/200\n",
            "12/12 - 0s - loss: 1.2776 - accuracy: 0.3860 - val_loss: 1.0770 - val_accuracy: 0.3846 - 53ms/epoch - 4ms/step\n",
            "Epoch 53/200\n",
            "12/12 - 0s - loss: 1.2769 - accuracy: 0.3947 - val_loss: 1.0959 - val_accuracy: 0.3846 - 49ms/epoch - 4ms/step\n",
            "Epoch 54/200\n",
            "12/12 - 0s - loss: 1.2756 - accuracy: 0.3947 - val_loss: 1.0581 - val_accuracy: 0.4615 - 48ms/epoch - 4ms/step\n",
            "Epoch 55/200\n",
            "12/12 - 0s - loss: 1.2744 - accuracy: 0.3947 - val_loss: 1.0737 - val_accuracy: 0.4615 - 50ms/epoch - 4ms/step\n",
            "Epoch 56/200\n",
            "12/12 - 0s - loss: 1.2739 - accuracy: 0.3947 - val_loss: 1.1068 - val_accuracy: 0.3846 - 72ms/epoch - 6ms/step\n",
            "Epoch 57/200\n",
            "12/12 - 0s - loss: 1.2705 - accuracy: 0.3947 - val_loss: 1.0689 - val_accuracy: 0.4615 - 49ms/epoch - 4ms/step\n",
            "Epoch 58/200\n",
            "12/12 - 0s - loss: 1.2702 - accuracy: 0.4035 - val_loss: 1.0901 - val_accuracy: 0.3846 - 50ms/epoch - 4ms/step\n",
            "Epoch 59/200\n",
            "12/12 - 0s - loss: 1.2695 - accuracy: 0.4211 - val_loss: 1.0812 - val_accuracy: 0.3846 - 54ms/epoch - 4ms/step\n",
            "Epoch 60/200\n",
            "12/12 - 0s - loss: 1.2667 - accuracy: 0.3860 - val_loss: 1.0624 - val_accuracy: 0.4615 - 55ms/epoch - 5ms/step\n",
            "Epoch 61/200\n",
            "12/12 - 0s - loss: 1.2661 - accuracy: 0.3947 - val_loss: 1.0331 - val_accuracy: 0.4615 - 55ms/epoch - 5ms/step\n",
            "Epoch 62/200\n",
            "12/12 - 0s - loss: 1.2671 - accuracy: 0.4298 - val_loss: 1.0292 - val_accuracy: 0.5385 - 57ms/epoch - 5ms/step\n",
            "Epoch 63/200\n",
            "12/12 - 0s - loss: 1.2666 - accuracy: 0.4035 - val_loss: 1.0867 - val_accuracy: 0.3846 - 59ms/epoch - 5ms/step\n",
            "Epoch 64/200\n",
            "12/12 - 0s - loss: 1.2665 - accuracy: 0.3947 - val_loss: 1.1067 - val_accuracy: 0.3846 - 52ms/epoch - 4ms/step\n",
            "Epoch 65/200\n",
            "12/12 - 0s - loss: 1.2612 - accuracy: 0.3947 - val_loss: 1.0767 - val_accuracy: 0.4615 - 51ms/epoch - 4ms/step\n",
            "Epoch 66/200\n",
            "12/12 - 0s - loss: 1.2629 - accuracy: 0.3860 - val_loss: 1.0265 - val_accuracy: 0.5385 - 60ms/epoch - 5ms/step\n",
            "Epoch 67/200\n",
            "12/12 - 0s - loss: 1.2639 - accuracy: 0.4123 - val_loss: 1.0254 - val_accuracy: 0.5385 - 55ms/epoch - 5ms/step\n",
            "Epoch 68/200\n",
            "12/12 - 0s - loss: 1.2599 - accuracy: 0.4035 - val_loss: 1.0867 - val_accuracy: 0.3846 - 49ms/epoch - 4ms/step\n",
            "Epoch 69/200\n",
            "12/12 - 0s - loss: 1.2588 - accuracy: 0.4035 - val_loss: 1.0974 - val_accuracy: 0.3077 - 54ms/epoch - 4ms/step\n",
            "Epoch 70/200\n",
            "12/12 - 0s - loss: 1.2636 - accuracy: 0.4298 - val_loss: 1.1165 - val_accuracy: 0.3077 - 48ms/epoch - 4ms/step\n",
            "Epoch 71/200\n",
            "12/12 - 0s - loss: 1.2585 - accuracy: 0.4211 - val_loss: 1.0834 - val_accuracy: 0.3077 - 52ms/epoch - 4ms/step\n",
            "Epoch 72/200\n",
            "12/12 - 0s - loss: 1.2573 - accuracy: 0.4211 - val_loss: 1.0914 - val_accuracy: 0.3846 - 52ms/epoch - 4ms/step\n",
            "Epoch 73/200\n",
            "12/12 - 0s - loss: 1.2566 - accuracy: 0.4123 - val_loss: 1.0724 - val_accuracy: 0.4615 - 50ms/epoch - 4ms/step\n",
            "Epoch 74/200\n",
            "12/12 - 0s - loss: 1.2547 - accuracy: 0.4035 - val_loss: 1.0666 - val_accuracy: 0.4615 - 52ms/epoch - 4ms/step\n",
            "Epoch 75/200\n",
            "12/12 - 0s - loss: 1.2559 - accuracy: 0.3947 - val_loss: 1.0687 - val_accuracy: 0.4615 - 52ms/epoch - 4ms/step\n",
            "Epoch 76/200\n",
            "12/12 - 0s - loss: 1.2535 - accuracy: 0.4035 - val_loss: 1.0412 - val_accuracy: 0.4615 - 55ms/epoch - 5ms/step\n",
            "Epoch 77/200\n",
            "12/12 - 0s - loss: 1.2534 - accuracy: 0.4123 - val_loss: 1.0680 - val_accuracy: 0.4615 - 52ms/epoch - 4ms/step\n",
            "Epoch 78/200\n",
            "12/12 - 0s - loss: 1.2518 - accuracy: 0.4035 - val_loss: 1.0838 - val_accuracy: 0.3846 - 64ms/epoch - 5ms/step\n",
            "Epoch 79/200\n",
            "12/12 - 0s - loss: 1.2512 - accuracy: 0.3947 - val_loss: 1.0800 - val_accuracy: 0.4615 - 54ms/epoch - 5ms/step\n",
            "Epoch 80/200\n",
            "12/12 - 0s - loss: 1.2500 - accuracy: 0.3947 - val_loss: 1.0802 - val_accuracy: 0.3077 - 80ms/epoch - 7ms/step\n",
            "Epoch 81/200\n",
            "12/12 - 0s - loss: 1.2500 - accuracy: 0.4211 - val_loss: 1.0927 - val_accuracy: 0.3846 - 60ms/epoch - 5ms/step\n",
            "Epoch 82/200\n",
            "12/12 - 0s - loss: 1.2477 - accuracy: 0.4123 - val_loss: 1.0770 - val_accuracy: 0.3846 - 57ms/epoch - 5ms/step\n",
            "Epoch 83/200\n",
            "12/12 - 0s - loss: 1.2483 - accuracy: 0.4123 - val_loss: 1.0902 - val_accuracy: 0.3846 - 47ms/epoch - 4ms/step\n",
            "Epoch 84/200\n",
            "12/12 - 0s - loss: 1.2459 - accuracy: 0.4123 - val_loss: 1.0822 - val_accuracy: 0.3846 - 48ms/epoch - 4ms/step\n",
            "Epoch 85/200\n",
            "12/12 - 0s - loss: 1.2455 - accuracy: 0.4123 - val_loss: 1.1087 - val_accuracy: 0.3077 - 48ms/epoch - 4ms/step\n",
            "Epoch 86/200\n",
            "12/12 - 0s - loss: 1.2442 - accuracy: 0.4211 - val_loss: 1.0920 - val_accuracy: 0.3846 - 52ms/epoch - 4ms/step\n",
            "Epoch 87/200\n",
            "12/12 - 0s - loss: 1.2449 - accuracy: 0.4123 - val_loss: 1.1089 - val_accuracy: 0.3077 - 62ms/epoch - 5ms/step\n",
            "Epoch 88/200\n",
            "12/12 - 0s - loss: 1.2441 - accuracy: 0.4211 - val_loss: 1.1211 - val_accuracy: 0.3077 - 57ms/epoch - 5ms/step\n",
            "Epoch 89/200\n",
            "12/12 - 0s - loss: 1.2406 - accuracy: 0.4298 - val_loss: 1.0874 - val_accuracy: 0.3846 - 53ms/epoch - 4ms/step\n",
            "Epoch 90/200\n",
            "12/12 - 0s - loss: 1.2435 - accuracy: 0.4123 - val_loss: 1.0437 - val_accuracy: 0.4615 - 57ms/epoch - 5ms/step\n",
            "Epoch 91/200\n",
            "12/12 - 0s - loss: 1.2469 - accuracy: 0.4035 - val_loss: 1.0961 - val_accuracy: 0.4615 - 54ms/epoch - 4ms/step\n",
            "Epoch 92/200\n",
            "12/12 - 0s - loss: 1.2403 - accuracy: 0.4123 - val_loss: 1.0776 - val_accuracy: 0.4615 - 54ms/epoch - 5ms/step\n",
            "Epoch 93/200\n",
            "12/12 - 0s - loss: 1.2370 - accuracy: 0.4211 - val_loss: 1.1094 - val_accuracy: 0.3846 - 53ms/epoch - 4ms/step\n",
            "Epoch 94/200\n",
            "12/12 - 0s - loss: 1.2370 - accuracy: 0.4035 - val_loss: 1.1085 - val_accuracy: 0.3846 - 57ms/epoch - 5ms/step\n",
            "Epoch 95/200\n",
            "12/12 - 0s - loss: 1.2386 - accuracy: 0.3947 - val_loss: 1.0672 - val_accuracy: 0.4615 - 64ms/epoch - 5ms/step\n",
            "Epoch 96/200\n",
            "12/12 - 0s - loss: 1.2335 - accuracy: 0.4123 - val_loss: 1.0690 - val_accuracy: 0.4615 - 58ms/epoch - 5ms/step\n",
            "Epoch 97/200\n",
            "12/12 - 0s - loss: 1.2360 - accuracy: 0.4298 - val_loss: 1.0646 - val_accuracy: 0.4615 - 50ms/epoch - 4ms/step\n",
            "Epoch 98/200\n",
            "12/12 - 0s - loss: 1.2344 - accuracy: 0.4211 - val_loss: 1.0927 - val_accuracy: 0.4615 - 56ms/epoch - 5ms/step\n",
            "Epoch 99/200\n",
            "12/12 - 0s - loss: 1.2333 - accuracy: 0.4211 - val_loss: 1.1084 - val_accuracy: 0.3846 - 49ms/epoch - 4ms/step\n",
            "Epoch 100/200\n",
            "12/12 - 0s - loss: 1.2337 - accuracy: 0.4211 - val_loss: 1.1056 - val_accuracy: 0.4615 - 50ms/epoch - 4ms/step\n",
            "Epoch 101/200\n",
            "12/12 - 0s - loss: 1.2322 - accuracy: 0.4298 - val_loss: 1.0882 - val_accuracy: 0.4615 - 53ms/epoch - 4ms/step\n",
            "Epoch 102/200\n",
            "12/12 - 0s - loss: 1.2312 - accuracy: 0.4123 - val_loss: 1.0976 - val_accuracy: 0.4615 - 54ms/epoch - 5ms/step\n",
            "Epoch 103/200\n",
            "12/12 - 0s - loss: 1.2278 - accuracy: 0.4298 - val_loss: 1.1077 - val_accuracy: 0.3846 - 68ms/epoch - 6ms/step\n",
            "Epoch 104/200\n",
            "12/12 - 0s - loss: 1.2300 - accuracy: 0.4123 - val_loss: 1.0592 - val_accuracy: 0.4615 - 52ms/epoch - 4ms/step\n",
            "Epoch 105/200\n",
            "12/12 - 0s - loss: 1.2261 - accuracy: 0.4211 - val_loss: 1.0843 - val_accuracy: 0.4615 - 50ms/epoch - 4ms/step\n",
            "Epoch 106/200\n",
            "12/12 - 0s - loss: 1.2282 - accuracy: 0.4123 - val_loss: 1.1401 - val_accuracy: 0.3077 - 56ms/epoch - 5ms/step\n",
            "Epoch 107/200\n",
            "12/12 - 0s - loss: 1.2301 - accuracy: 0.4298 - val_loss: 1.0939 - val_accuracy: 0.3846 - 54ms/epoch - 5ms/step\n",
            "Epoch 108/200\n",
            "12/12 - 0s - loss: 1.2259 - accuracy: 0.4298 - val_loss: 1.0940 - val_accuracy: 0.4615 - 47ms/epoch - 4ms/step\n",
            "Epoch 109/200\n",
            "12/12 - 0s - loss: 1.2236 - accuracy: 0.4123 - val_loss: 1.1146 - val_accuracy: 0.4615 - 55ms/epoch - 5ms/step\n",
            "Epoch 110/200\n",
            "12/12 - 0s - loss: 1.2245 - accuracy: 0.4123 - val_loss: 1.0920 - val_accuracy: 0.4615 - 55ms/epoch - 5ms/step\n",
            "Epoch 111/200\n",
            "12/12 - 0s - loss: 1.2220 - accuracy: 0.4123 - val_loss: 1.0901 - val_accuracy: 0.4615 - 50ms/epoch - 4ms/step\n",
            "Epoch 112/200\n",
            "12/12 - 0s - loss: 1.2217 - accuracy: 0.4298 - val_loss: 1.0942 - val_accuracy: 0.4615 - 61ms/epoch - 5ms/step\n",
            "Epoch 113/200\n",
            "12/12 - 0s - loss: 1.2220 - accuracy: 0.4298 - val_loss: 1.0663 - val_accuracy: 0.4615 - 52ms/epoch - 4ms/step\n",
            "Epoch 114/200\n",
            "12/12 - 0s - loss: 1.2202 - accuracy: 0.4123 - val_loss: 1.0975 - val_accuracy: 0.4615 - 48ms/epoch - 4ms/step\n",
            "Epoch 115/200\n",
            "12/12 - 0s - loss: 1.2248 - accuracy: 0.4123 - val_loss: 1.1141 - val_accuracy: 0.3846 - 55ms/epoch - 5ms/step\n",
            "Epoch 116/200\n",
            "12/12 - 0s - loss: 1.2216 - accuracy: 0.4386 - val_loss: 1.0646 - val_accuracy: 0.4615 - 50ms/epoch - 4ms/step\n",
            "Epoch 117/200\n",
            "12/12 - 0s - loss: 1.2175 - accuracy: 0.4123 - val_loss: 1.0708 - val_accuracy: 0.4615 - 60ms/epoch - 5ms/step\n",
            "Epoch 118/200\n",
            "12/12 - 0s - loss: 1.2177 - accuracy: 0.4211 - val_loss: 1.0849 - val_accuracy: 0.4615 - 54ms/epoch - 5ms/step\n",
            "Epoch 119/200\n",
            "12/12 - 0s - loss: 1.2175 - accuracy: 0.4035 - val_loss: 1.1236 - val_accuracy: 0.3846 - 51ms/epoch - 4ms/step\n",
            "Epoch 120/200\n",
            "12/12 - 0s - loss: 1.2151 - accuracy: 0.4386 - val_loss: 1.1235 - val_accuracy: 0.4615 - 56ms/epoch - 5ms/step\n",
            "Epoch 121/200\n",
            "12/12 - 0s - loss: 1.2145 - accuracy: 0.4474 - val_loss: 1.0963 - val_accuracy: 0.4615 - 49ms/epoch - 4ms/step\n",
            "Epoch 122/200\n",
            "12/12 - 0s - loss: 1.2117 - accuracy: 0.4298 - val_loss: 1.1106 - val_accuracy: 0.4615 - 55ms/epoch - 5ms/step\n",
            "Epoch 123/200\n",
            "12/12 - 0s - loss: 1.2119 - accuracy: 0.4298 - val_loss: 1.0807 - val_accuracy: 0.4615 - 52ms/epoch - 4ms/step\n",
            "Epoch 124/200\n",
            "12/12 - 0s - loss: 1.2139 - accuracy: 0.4211 - val_loss: 1.0569 - val_accuracy: 0.4615 - 57ms/epoch - 5ms/step\n",
            "Epoch 125/200\n",
            "12/12 - 0s - loss: 1.2116 - accuracy: 0.4123 - val_loss: 1.0848 - val_accuracy: 0.4615 - 54ms/epoch - 4ms/step\n",
            "Epoch 126/200\n",
            "12/12 - 0s - loss: 1.2083 - accuracy: 0.4211 - val_loss: 1.1054 - val_accuracy: 0.4615 - 54ms/epoch - 5ms/step\n",
            "Epoch 127/200\n",
            "12/12 - 0s - loss: 1.2111 - accuracy: 0.4211 - val_loss: 1.1339 - val_accuracy: 0.3846 - 54ms/epoch - 5ms/step\n",
            "Epoch 128/200\n",
            "12/12 - 0s - loss: 1.2089 - accuracy: 0.4211 - val_loss: 1.0698 - val_accuracy: 0.4615 - 58ms/epoch - 5ms/step\n",
            "Epoch 129/200\n",
            "12/12 - 0s - loss: 1.2060 - accuracy: 0.4474 - val_loss: 1.0681 - val_accuracy: 0.4615 - 53ms/epoch - 4ms/step\n",
            "Epoch 130/200\n",
            "12/12 - 0s - loss: 1.2072 - accuracy: 0.4561 - val_loss: 1.0542 - val_accuracy: 0.4615 - 63ms/epoch - 5ms/step\n",
            "Epoch 131/200\n",
            "12/12 - 0s - loss: 1.2050 - accuracy: 0.4386 - val_loss: 1.1367 - val_accuracy: 0.4615 - 60ms/epoch - 5ms/step\n",
            "Epoch 132/200\n",
            "12/12 - 0s - loss: 1.2055 - accuracy: 0.4386 - val_loss: 1.1080 - val_accuracy: 0.4615 - 57ms/epoch - 5ms/step\n",
            "Epoch 133/200\n",
            "12/12 - 0s - loss: 1.2053 - accuracy: 0.4386 - val_loss: 1.0775 - val_accuracy: 0.4615 - 52ms/epoch - 4ms/step\n",
            "Epoch 134/200\n",
            "12/12 - 0s - loss: 1.2039 - accuracy: 0.4298 - val_loss: 1.1312 - val_accuracy: 0.4615 - 53ms/epoch - 4ms/step\n",
            "Epoch 135/200\n",
            "12/12 - 0s - loss: 1.2006 - accuracy: 0.4386 - val_loss: 1.1034 - val_accuracy: 0.4615 - 54ms/epoch - 4ms/step\n",
            "Epoch 136/200\n",
            "12/12 - 0s - loss: 1.2031 - accuracy: 0.4474 - val_loss: 1.1019 - val_accuracy: 0.4615 - 52ms/epoch - 4ms/step\n",
            "Epoch 137/200\n",
            "12/12 - 0s - loss: 1.2035 - accuracy: 0.4386 - val_loss: 1.0842 - val_accuracy: 0.4615 - 52ms/epoch - 4ms/step\n",
            "Epoch 138/200\n",
            "12/12 - 0s - loss: 1.2000 - accuracy: 0.4474 - val_loss: 1.0593 - val_accuracy: 0.4615 - 48ms/epoch - 4ms/step\n",
            "Epoch 139/200\n",
            "12/12 - 0s - loss: 1.1967 - accuracy: 0.4474 - val_loss: 1.0826 - val_accuracy: 0.4615 - 54ms/epoch - 5ms/step\n",
            "Epoch 140/200\n",
            "12/12 - 0s - loss: 1.2007 - accuracy: 0.4474 - val_loss: 1.1333 - val_accuracy: 0.4615 - 52ms/epoch - 4ms/step\n",
            "Epoch 141/200\n",
            "12/12 - 0s - loss: 1.1941 - accuracy: 0.4474 - val_loss: 1.0842 - val_accuracy: 0.4615 - 68ms/epoch - 6ms/step\n",
            "Epoch 142/200\n",
            "12/12 - 0s - loss: 1.2003 - accuracy: 0.4561 - val_loss: 1.0500 - val_accuracy: 0.4615 - 55ms/epoch - 5ms/step\n",
            "Epoch 143/200\n",
            "12/12 - 0s - loss: 1.1964 - accuracy: 0.4561 - val_loss: 1.0704 - val_accuracy: 0.4615 - 54ms/epoch - 5ms/step\n",
            "Epoch 144/200\n",
            "12/12 - 0s - loss: 1.1946 - accuracy: 0.4386 - val_loss: 1.0907 - val_accuracy: 0.4615 - 52ms/epoch - 4ms/step\n",
            "Epoch 145/200\n",
            "12/12 - 0s - loss: 1.1930 - accuracy: 0.4386 - val_loss: 1.0837 - val_accuracy: 0.4615 - 49ms/epoch - 4ms/step\n",
            "Epoch 146/200\n",
            "12/12 - 0s - loss: 1.1911 - accuracy: 0.4561 - val_loss: 1.1172 - val_accuracy: 0.4615 - 50ms/epoch - 4ms/step\n",
            "Epoch 147/200\n",
            "12/12 - 0s - loss: 1.1921 - accuracy: 0.4561 - val_loss: 1.1101 - val_accuracy: 0.4615 - 51ms/epoch - 4ms/step\n",
            "Epoch 148/200\n",
            "12/12 - 0s - loss: 1.1902 - accuracy: 0.4649 - val_loss: 1.0685 - val_accuracy: 0.4615 - 52ms/epoch - 4ms/step\n",
            "Epoch 149/200\n",
            "12/12 - 0s - loss: 1.1896 - accuracy: 0.4474 - val_loss: 1.0681 - val_accuracy: 0.4615 - 48ms/epoch - 4ms/step\n",
            "Epoch 150/200\n",
            "12/12 - 0s - loss: 1.1867 - accuracy: 0.4561 - val_loss: 1.0885 - val_accuracy: 0.4615 - 47ms/epoch - 4ms/step\n",
            "Epoch 151/200\n",
            "12/12 - 0s - loss: 1.1859 - accuracy: 0.4649 - val_loss: 1.0906 - val_accuracy: 0.4615 - 52ms/epoch - 4ms/step\n",
            "Epoch 152/200\n",
            "12/12 - 0s - loss: 1.1890 - accuracy: 0.4561 - val_loss: 1.1187 - val_accuracy: 0.4615 - 55ms/epoch - 5ms/step\n",
            "Epoch 153/200\n",
            "12/12 - 0s - loss: 1.1853 - accuracy: 0.4474 - val_loss: 1.1048 - val_accuracy: 0.4615 - 53ms/epoch - 4ms/step\n",
            "Epoch 154/200\n",
            "12/12 - 0s - loss: 1.1854 - accuracy: 0.4561 - val_loss: 1.0723 - val_accuracy: 0.4615 - 58ms/epoch - 5ms/step\n",
            "Epoch 155/200\n",
            "12/12 - 0s - loss: 1.1828 - accuracy: 0.4737 - val_loss: 1.0824 - val_accuracy: 0.4615 - 53ms/epoch - 4ms/step\n",
            "Epoch 156/200\n",
            "12/12 - 0s - loss: 1.1830 - accuracy: 0.4474 - val_loss: 1.1177 - val_accuracy: 0.4615 - 53ms/epoch - 4ms/step\n",
            "Epoch 157/200\n",
            "12/12 - 0s - loss: 1.1849 - accuracy: 0.4561 - val_loss: 1.1649 - val_accuracy: 0.4615 - 50ms/epoch - 4ms/step\n",
            "Epoch 158/200\n",
            "12/12 - 0s - loss: 1.1835 - accuracy: 0.4474 - val_loss: 1.1492 - val_accuracy: 0.4615 - 62ms/epoch - 5ms/step\n",
            "Epoch 159/200\n",
            "12/12 - 0s - loss: 1.1798 - accuracy: 0.4561 - val_loss: 1.1219 - val_accuracy: 0.4615 - 53ms/epoch - 4ms/step\n",
            "Epoch 160/200\n",
            "12/12 - 0s - loss: 1.1795 - accuracy: 0.4649 - val_loss: 1.0891 - val_accuracy: 0.4615 - 49ms/epoch - 4ms/step\n",
            "Epoch 161/200\n",
            "12/12 - 0s - loss: 1.1815 - accuracy: 0.4561 - val_loss: 1.1403 - val_accuracy: 0.4615 - 59ms/epoch - 5ms/step\n",
            "Epoch 162/200\n",
            "12/12 - 0s - loss: 1.1782 - accuracy: 0.4561 - val_loss: 1.0830 - val_accuracy: 0.4615 - 50ms/epoch - 4ms/step\n",
            "Epoch 163/200\n",
            "12/12 - 0s - loss: 1.1771 - accuracy: 0.4737 - val_loss: 1.0743 - val_accuracy: 0.4615 - 66ms/epoch - 6ms/step\n",
            "Epoch 164/200\n",
            "12/12 - 0s - loss: 1.1815 - accuracy: 0.4737 - val_loss: 1.1453 - val_accuracy: 0.4615 - 52ms/epoch - 4ms/step\n",
            "Epoch 165/200\n",
            "12/12 - 0s - loss: 1.1775 - accuracy: 0.4825 - val_loss: 1.1295 - val_accuracy: 0.4615 - 60ms/epoch - 5ms/step\n",
            "Epoch 166/200\n",
            "12/12 - 0s - loss: 1.1736 - accuracy: 0.4474 - val_loss: 1.1163 - val_accuracy: 0.4615 - 57ms/epoch - 5ms/step\n",
            "Epoch 167/200\n",
            "12/12 - 0s - loss: 1.1720 - accuracy: 0.4825 - val_loss: 1.0710 - val_accuracy: 0.4615 - 51ms/epoch - 4ms/step\n",
            "Epoch 168/200\n",
            "12/12 - 0s - loss: 1.1744 - accuracy: 0.4649 - val_loss: 1.1046 - val_accuracy: 0.4615 - 55ms/epoch - 5ms/step\n",
            "Epoch 169/200\n",
            "12/12 - 0s - loss: 1.1712 - accuracy: 0.4386 - val_loss: 1.1367 - val_accuracy: 0.4615 - 55ms/epoch - 5ms/step\n",
            "Epoch 170/200\n",
            "12/12 - 0s - loss: 1.1752 - accuracy: 0.4561 - val_loss: 1.1283 - val_accuracy: 0.4615 - 48ms/epoch - 4ms/step\n",
            "Epoch 171/200\n",
            "12/12 - 0s - loss: 1.1681 - accuracy: 0.4649 - val_loss: 1.1127 - val_accuracy: 0.4615 - 55ms/epoch - 5ms/step\n",
            "Epoch 172/200\n",
            "12/12 - 0s - loss: 1.1677 - accuracy: 0.4561 - val_loss: 1.1184 - val_accuracy: 0.4615 - 51ms/epoch - 4ms/step\n",
            "Epoch 173/200\n",
            "12/12 - 0s - loss: 1.1687 - accuracy: 0.4561 - val_loss: 1.0921 - val_accuracy: 0.4615 - 51ms/epoch - 4ms/step\n",
            "Epoch 174/200\n",
            "12/12 - 0s - loss: 1.1655 - accuracy: 0.4825 - val_loss: 1.0914 - val_accuracy: 0.4615 - 49ms/epoch - 4ms/step\n",
            "Epoch 175/200\n",
            "12/12 - 0s - loss: 1.1634 - accuracy: 0.4649 - val_loss: 1.1290 - val_accuracy: 0.4615 - 53ms/epoch - 4ms/step\n",
            "Epoch 176/200\n",
            "12/12 - 0s - loss: 1.1656 - accuracy: 0.4561 - val_loss: 1.1409 - val_accuracy: 0.4615 - 50ms/epoch - 4ms/step\n",
            "Epoch 177/200\n",
            "12/12 - 0s - loss: 1.1654 - accuracy: 0.4474 - val_loss: 1.1180 - val_accuracy: 0.4615 - 48ms/epoch - 4ms/step\n",
            "Epoch 178/200\n",
            "12/12 - 0s - loss: 1.1620 - accuracy: 0.4649 - val_loss: 1.0776 - val_accuracy: 0.4615 - 47ms/epoch - 4ms/step\n",
            "Epoch 179/200\n",
            "12/12 - 0s - loss: 1.1604 - accuracy: 0.4649 - val_loss: 1.0912 - val_accuracy: 0.4615 - 50ms/epoch - 4ms/step\n",
            "Epoch 180/200\n",
            "12/12 - 0s - loss: 1.1598 - accuracy: 0.4561 - val_loss: 1.0961 - val_accuracy: 0.4615 - 53ms/epoch - 4ms/step\n",
            "Epoch 181/200\n",
            "12/12 - 0s - loss: 1.1615 - accuracy: 0.4737 - val_loss: 1.0855 - val_accuracy: 0.4615 - 49ms/epoch - 4ms/step\n",
            "Epoch 182/200\n",
            "12/12 - 0s - loss: 1.1673 - accuracy: 0.4649 - val_loss: 1.0603 - val_accuracy: 0.4615 - 56ms/epoch - 5ms/step\n",
            "Epoch 183/200\n",
            "12/12 - 0s - loss: 1.1620 - accuracy: 0.4737 - val_loss: 1.0926 - val_accuracy: 0.4615 - 59ms/epoch - 5ms/step\n",
            "Epoch 184/200\n",
            "12/12 - 0s - loss: 1.1597 - accuracy: 0.4825 - val_loss: 1.0928 - val_accuracy: 0.4615 - 52ms/epoch - 4ms/step\n",
            "Epoch 185/200\n",
            "12/12 - 0s - loss: 1.1537 - accuracy: 0.4737 - val_loss: 1.1105 - val_accuracy: 0.4615 - 52ms/epoch - 4ms/step\n",
            "Epoch 186/200\n",
            "12/12 - 0s - loss: 1.1563 - accuracy: 0.4561 - val_loss: 1.1451 - val_accuracy: 0.4615 - 52ms/epoch - 4ms/step\n",
            "Epoch 187/200\n",
            "12/12 - 0s - loss: 1.1549 - accuracy: 0.4561 - val_loss: 1.1305 - val_accuracy: 0.4615 - 52ms/epoch - 4ms/step\n",
            "Epoch 188/200\n",
            "12/12 - 0s - loss: 1.1535 - accuracy: 0.4825 - val_loss: 1.1348 - val_accuracy: 0.4615 - 52ms/epoch - 4ms/step\n",
            "Epoch 189/200\n",
            "12/12 - 0s - loss: 1.1548 - accuracy: 0.4561 - val_loss: 1.1331 - val_accuracy: 0.4615 - 48ms/epoch - 4ms/step\n",
            "Epoch 190/200\n",
            "12/12 - 0s - loss: 1.1518 - accuracy: 0.4561 - val_loss: 1.1435 - val_accuracy: 0.4615 - 48ms/epoch - 4ms/step\n",
            "Epoch 191/200\n",
            "12/12 - 0s - loss: 1.1505 - accuracy: 0.4474 - val_loss: 1.0966 - val_accuracy: 0.4615 - 48ms/epoch - 4ms/step\n",
            "Epoch 192/200\n",
            "12/12 - 0s - loss: 1.1482 - accuracy: 0.4737 - val_loss: 1.0956 - val_accuracy: 0.4615 - 54ms/epoch - 5ms/step\n",
            "Epoch 193/200\n",
            "12/12 - 0s - loss: 1.1464 - accuracy: 0.4649 - val_loss: 1.1033 - val_accuracy: 0.4615 - 47ms/epoch - 4ms/step\n",
            "Epoch 194/200\n",
            "12/12 - 0s - loss: 1.1482 - accuracy: 0.4912 - val_loss: 1.1361 - val_accuracy: 0.4615 - 47ms/epoch - 4ms/step\n",
            "Epoch 195/200\n",
            "12/12 - 0s - loss: 1.1459 - accuracy: 0.4825 - val_loss: 1.0947 - val_accuracy: 0.4615 - 45ms/epoch - 4ms/step\n",
            "Epoch 196/200\n",
            "12/12 - 0s - loss: 1.1453 - accuracy: 0.4737 - val_loss: 1.1006 - val_accuracy: 0.4615 - 47ms/epoch - 4ms/step\n",
            "Epoch 197/200\n",
            "12/12 - 0s - loss: 1.1474 - accuracy: 0.4649 - val_loss: 1.1063 - val_accuracy: 0.4615 - 60ms/epoch - 5ms/step\n",
            "Epoch 198/200\n",
            "12/12 - 0s - loss: 1.1432 - accuracy: 0.5000 - val_loss: 1.1268 - val_accuracy: 0.4615 - 51ms/epoch - 4ms/step\n",
            "Epoch 199/200\n",
            "12/12 - 0s - loss: 1.1439 - accuracy: 0.4825 - val_loss: 1.0984 - val_accuracy: 0.4615 - 51ms/epoch - 4ms/step\n",
            "Epoch 200/200\n",
            "12/12 - 0s - loss: 1.1404 - accuracy: 0.4825 - val_loss: 1.1370 - val_accuracy: 0.4615 - 55ms/epoch - 5ms/step\n"
          ]
        }
      ]
    }
  ]
}