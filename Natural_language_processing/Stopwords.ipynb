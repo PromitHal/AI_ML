{
 "cells": [
  {
   "cell_type": "markdown",
   "id": "cf4e0770",
   "metadata": {},
   "source": [
    "# Stopwords"
   ]
  },
  {
   "cell_type": "markdown",
   "id": "c98844a2",
   "metadata": {},
   "source": [
    "A stop word is a commonly used word (such as “the”, “a”, “an”, “in”) that a search engine has been programmed to ignore, both when indexing entries for searching and when retrieving them as the result of a search query. \n",
    "We would not want these words to take up space in our database, or taking up valuable processing time. For this, we can remove them easily, by storing a list of words that you consider to stop words. NLTK(Natural Language Toolkit) in python has a list of stopwords stored in 16 different languages. You can find them in the nltk_data directory."
   ]
  },
  {
   "cell_type": "code",
   "execution_count": 2,
   "id": "1b7d5d8f",
   "metadata": {},
   "outputs": [
    {
     "name": "stdout",
     "output_type": "stream",
     "text": [
      "Collecting nltk\n",
      "  Downloading nltk-3.6.7-py3-none-any.whl (1.5 MB)\n",
      "Requirement already satisfied: tqdm in c:\\users\\promit\\anaconda3\\envs\\tensorflow\\lib\\site-packages (from nltk) (4.62.3)\n",
      "Collecting regex>=2021.8.3\n",
      "  Downloading regex-2021.11.10-cp38-cp38-win_amd64.whl (273 kB)\n",
      "Requirement already satisfied: click in c:\\users\\promit\\anaconda3\\envs\\tensorflow\\lib\\site-packages (from nltk) (8.0.1)\n",
      "Requirement already satisfied: joblib in c:\\users\\promit\\anaconda3\\envs\\tensorflow\\lib\\site-packages (from nltk) (1.1.0)\n",
      "Requirement already satisfied: colorama in c:\\users\\promit\\anaconda3\\envs\\tensorflow\\lib\\site-packages (from click->nltk) (0.4.4)\n",
      "Installing collected packages: regex, nltk\n",
      "Successfully installed nltk-3.6.7 regex-2021.11.10\n"
     ]
    }
   ],
   "source": [
    "!pip install nltk"
   ]
  },
  {
   "cell_type": "code",
   "execution_count": 4,
   "id": "f927acd0",
   "metadata": {},
   "outputs": [],
   "source": [
    "from nltk.corpus import stopwords"
   ]
  },
  {
   "cell_type": "code",
   "execution_count": 10,
   "id": "a6a21931",
   "metadata": {},
   "outputs": [
    {
     "name": "stderr",
     "output_type": "stream",
     "text": [
      "[nltk_data] Downloading package stopwords to\n",
      "[nltk_data]     C:\\Users\\PROMIT\\AppData\\Roaming\\nltk_data...\n",
      "[nltk_data]   Unzipping corpora\\stopwords.zip.\n"
     ]
    },
    {
     "data": {
      "text/plain": [
       "True"
      ]
     },
     "execution_count": 10,
     "metadata": {},
     "output_type": "execute_result"
    }
   ],
   "source": [
    "import nltk\n",
    "nltk.download('stopwords')"
   ]
  },
  {
   "cell_type": "code",
   "execution_count": 16,
   "id": "2eab2788",
   "metadata": {},
   "outputs": [],
   "source": [
    "tweet=\"Prof. Debabrata Maity has been selected for the Sun Pharma Science Foundation Research Awards 2021- Pharmaceutical Sciences. Heartiest congratulations to Prof. Maity.\""
   ]
  },
  {
   "cell_type": "code",
   "execution_count": 17,
   "id": "e811dbbc",
   "metadata": {},
   "outputs": [],
   "source": [
    "stop_words=stopwords.words('english')"
   ]
  },
  {
   "cell_type": "code",
   "execution_count": 18,
   "id": "824f550d",
   "metadata": {},
   "outputs": [
    {
     "data": {
      "text/plain": [
       "['i', 'me', 'my', 'myself', 'we', 'our', 'ours', 'ourselves', 'you', \"you're\"]"
      ]
     },
     "execution_count": 18,
     "metadata": {},
     "output_type": "execute_result"
    }
   ],
   "source": [
    "#Printing some of the stop words\n",
    "stop_words[:10]"
   ]
  },
  {
   "cell_type": "code",
   "execution_count": 19,
   "id": "909ab58d",
   "metadata": {},
   "outputs": [],
   "source": [
    "stop_words=set(stop_words)\n"
   ]
  },
  {
   "cell_type": "markdown",
   "id": "e6bb9e65",
   "metadata": {},
   "source": [
    "Converting to the tweet into lowercase and splitting into individual words"
   ]
  },
  {
   "cell_type": "code",
   "execution_count": 20,
   "id": "e842d65d",
   "metadata": {},
   "outputs": [],
   "source": [
    "tweet=tweet.lower().split()\n"
   ]
  },
  {
   "cell_type": "markdown",
   "id": "e655d1d9",
   "metadata": {},
   "source": [
    "Removing the stopwords"
   ]
  },
  {
   "cell_type": "code",
   "execution_count": 26,
   "id": "8e2b1a4a",
   "metadata": {},
   "outputs": [],
   "source": [
    "tweet_no_stopwords=[word for word in tweet if word not in stop_words]"
   ]
  },
  {
   "cell_type": "markdown",
   "id": "5e4855a4",
   "metadata": {},
   "source": [
    "Printing the original tweet "
   ]
  },
  {
   "cell_type": "code",
   "execution_count": 24,
   "id": "0c85d9c8",
   "metadata": {},
   "outputs": [
    {
     "name": "stdout",
     "output_type": "stream",
     "text": [
      "prof. debabrata maity has been selected for the sun pharma science foundation research awards 2021- pharmaceutical sciences. heartiest congratulations to prof. maity.\n"
     ]
    }
   ],
   "source": [
    "print(' '.join(tweet))"
   ]
  },
  {
   "cell_type": "markdown",
   "id": "8b1bb877",
   "metadata": {},
   "source": [
    "Printing the modified tweet without stopwords"
   ]
  },
  {
   "cell_type": "code",
   "execution_count": 27,
   "id": "9c92426b",
   "metadata": {},
   "outputs": [
    {
     "name": "stdout",
     "output_type": "stream",
     "text": [
      "prof. debabrata maity selected sun pharma science foundation research awards 2021- pharmaceutical sciences. heartiest congratulations prof. maity.\n"
     ]
    }
   ],
   "source": [
    "print(' '.join(tweet_no_stopwords))"
   ]
  }
 ],
 "metadata": {
  "kernelspec": {
   "display_name": "Python 3 (ipykernel)",
   "language": "python",
   "name": "python3"
  },
  "language_info": {
   "codemirror_mode": {
    "name": "ipython",
    "version": 3
   },
   "file_extension": ".py",
   "mimetype": "text/x-python",
   "name": "python",
   "nbconvert_exporter": "python",
   "pygments_lexer": "ipython3",
   "version": "3.8.11"
  }
 },
 "nbformat": 4,
 "nbformat_minor": 5
}
