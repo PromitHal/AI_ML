{
 "cells": [
  {
   "cell_type": "markdown",
   "id": "bff9fd37",
   "metadata": {},
   "source": [
    "# Tokens"
   ]
  },
  {
   "cell_type": "code",
   "execution_count": null,
   "id": "39b02ad6",
   "metadata": {},
   "outputs": [],
   "source": [
    "A token can be:\n",
    "1. A word\n",
    "2. Part of a word\n",
    "3. A single character\n",
    "4. Punctuation Mark \n",
    "5. Special token like <URL> \n"
   ]
  },
  {
   "cell_type": "code",
   "execution_count": 1,
   "id": "1c7975d6",
   "metadata": {},
   "outputs": [],
   "source": [
    "tweet=\"Congrats to IITGuwahati alumni, CSE 2013 graduate Saurabh Singla founded Pepper Farms raised $1Mn in seed funding\""
   ]
  },
  {
   "cell_type": "code",
   "execution_count": 2,
   "id": "aaf30062",
   "metadata": {},
   "outputs": [
    {
     "data": {
      "text/plain": [
       "['C',\n",
       " 'o',\n",
       " 'n',\n",
       " 'g',\n",
       " 'r',\n",
       " 'a',\n",
       " 't',\n",
       " 's',\n",
       " ' ',\n",
       " 't',\n",
       " 'o',\n",
       " ' ',\n",
       " 'I',\n",
       " 'I',\n",
       " 'T',\n",
       " 'G',\n",
       " 'u',\n",
       " 'w',\n",
       " 'a',\n",
       " 'h',\n",
       " 'a',\n",
       " 't',\n",
       " 'i',\n",
       " ' ',\n",
       " 'a',\n",
       " 'l',\n",
       " 'u',\n",
       " 'm',\n",
       " 'n',\n",
       " 'i',\n",
       " ',',\n",
       " ' ',\n",
       " 'C',\n",
       " 'S',\n",
       " 'E',\n",
       " ' ',\n",
       " '2',\n",
       " '0',\n",
       " '1',\n",
       " '3',\n",
       " ' ',\n",
       " 'g',\n",
       " 'r',\n",
       " 'a',\n",
       " 'd',\n",
       " 'u',\n",
       " 'a',\n",
       " 't',\n",
       " 'e',\n",
       " ' ',\n",
       " 'S',\n",
       " 'a',\n",
       " 'u',\n",
       " 'r',\n",
       " 'a',\n",
       " 'b',\n",
       " 'h',\n",
       " ' ',\n",
       " 'S',\n",
       " 'i',\n",
       " 'n',\n",
       " 'g',\n",
       " 'l',\n",
       " 'a',\n",
       " ' ',\n",
       " 'f',\n",
       " 'o',\n",
       " 'u',\n",
       " 'n',\n",
       " 'd',\n",
       " 'e',\n",
       " 'd',\n",
       " ' ',\n",
       " 'P',\n",
       " 'e',\n",
       " 'p',\n",
       " 'p',\n",
       " 'e',\n",
       " 'r',\n",
       " ' ',\n",
       " 'F',\n",
       " 'a',\n",
       " 'r',\n",
       " 'm',\n",
       " 's',\n",
       " ' ',\n",
       " 'r',\n",
       " 'a',\n",
       " 'i',\n",
       " 's',\n",
       " 'e',\n",
       " 'd',\n",
       " ' ',\n",
       " '$',\n",
       " '1',\n",
       " 'M',\n",
       " 'n',\n",
       " ' ',\n",
       " 'i',\n",
       " 'n',\n",
       " ' ',\n",
       " 's',\n",
       " 'e',\n",
       " 'e',\n",
       " 'd',\n",
       " ' ',\n",
       " 'f',\n",
       " 'u',\n",
       " 'n',\n",
       " 'd',\n",
       " 'i',\n",
       " 'n',\n",
       " 'g']"
      ]
     },
     "execution_count": 2,
     "metadata": {},
     "output_type": "execute_result"
    }
   ],
   "source": [
    "#Looking at the characters\n",
    "[char for char in tweet]"
   ]
  },
  {
   "cell_type": "markdown",
   "id": "7354b99a",
   "metadata": {},
   "source": [
    "When we use character level embedding, the model vocabulary is much smaller as compared to word level embeddding. This is attributed to the limited number of character pertaining to a particularlanguage as compared to the number of words."
   ]
  },
  {
   "cell_type": "markdown",
   "id": "55170436",
   "metadata": {},
   "source": [
    "Special Model Tokens"
   ]
  },
  {
   "cell_type": "markdown",
   "id": "df35c595",
   "metadata": {},
   "source": [
    "#BERT specific tokens:\n",
    "[PAD]    Padding token, allows us to maintain same-length sequences (512 tokens for bert) even when different sized sentences are fed in\n",
    "[UNK]    This token is used when a word is unknown to Bert\n",
    "[CLS]    Appears at the start of every sequence\n",
    "[SEP]    Indicates a separator or end of sequence\n",
    "[MASK]   Used when masking tokens,for example in training with masked language modelling (MLM)"
   ]
  },
  {
   "cell_type": "code",
   "execution_count": null,
   "id": "d5d43254",
   "metadata": {},
   "outputs": [],
   "source": []
  }
 ],
 "metadata": {
  "kernelspec": {
   "display_name": "Python 3 (ipykernel)",
   "language": "python",
   "name": "python3"
  },
  "language_info": {
   "codemirror_mode": {
    "name": "ipython",
    "version": 3
   },
   "file_extension": ".py",
   "mimetype": "text/x-python",
   "name": "python",
   "nbconvert_exporter": "python",
   "pygments_lexer": "ipython3",
   "version": "3.8.11"
  }
 },
 "nbformat": 4,
 "nbformat_minor": 5
}
