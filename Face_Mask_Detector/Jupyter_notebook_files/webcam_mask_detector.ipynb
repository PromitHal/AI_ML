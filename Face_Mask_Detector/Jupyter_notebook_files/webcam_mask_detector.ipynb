{
 "cells": [
  {
   "cell_type": "code",
   "execution_count": 4,
   "id": "b42fd390",
   "metadata": {},
   "outputs": [],
   "source": [
    "import cv2\n",
    "from os.path import dirname, join\n",
    "from tensorflow.keras.applications.mobilenet_v2 import preprocess_input\n",
    "from tensorflow.keras.preprocessing.image import img_to_array\n",
    "from tensorflow.keras.models import load_model\n",
    "from imutils.video import VideoStream as vs\n",
    "import numpy as np\n",
    "import imutils\n",
    "import time\n",
    "import cv2\n",
    "import os\n",
    "\n",
    "protoPath = join('C:/Users/PROMIT/Desktop/contents/Face-Mask-Detection/face_detector/', 'deploy.prototxt')\n",
    "modelPath = join('C:/Users/PROMIT/Desktop/contents/DFT/AI_ML/', \"res10_300x300_ssd_iter_140000.caffemodel\")\n",
    "#Loading face detection classifier\n",
    "face_detection_classifier=cv2.dnn.readNetFromCaffe(protoPath,modelPath)"
   ]
  },
  {
   "cell_type": "code",
   "execution_count": 2,
   "id": "994100d8",
   "metadata": {},
   "outputs": [],
   "source": [
    "from tensorflow.keras.models import load_model\n",
    "mask_detector=load_model(r'C:\\Users\\PROMIT\\Desktop\\Jupyter_notebook_files\\Mask_detector\\MY_MASK_DETECTOR')"
   ]
  },
  {
   "cell_type": "code",
   "execution_count": 5,
   "id": "92426d21",
   "metadata": {},
   "outputs": [],
   "source": [
    "#function to detect faces and predict \n",
    "def face_det_mask_pred(frame,face_detection_classifier,mask_detector):\n",
    "    (img_height,img_width)=frame.shape[:2]\n",
    "    blob=cv2.dnn.blobFromImage(frame,1.0,(224,224),(104.0,177.0,123.0))\n",
    "    face_detection_classifier.setInput(blob)\n",
    "    face_detections=face_detection_classifier.forward()\n",
    "    \n",
    "    faces=[]\n",
    "    locs=[]\n",
    "    preds=[]\n",
    "    num_faces=face_detections.shape[2]\n",
    "    for i in range(num_faces):\n",
    "        confidence=face_detections[0,0,i,2]\n",
    "        if confidence>0.5:\n",
    "            box=face_detections[0,0,i,3:7]*np.array([img_width,img_height,img_width,img_height])\n",
    "            (startX,startY,endX,endY)=box.astype(\"int\")\n",
    "            face=frame[startY:endY,startX:endX]\n",
    "            face = frame[startY:endY, startX:endX]\n",
    "            face = cv2.cvtColor(face, cv2.COLOR_BGR2RGB)\n",
    "            face = cv2.resize(face, (224, 224))\n",
    "            face = img_to_array(face)\n",
    "            face = preprocess_input(face)\n",
    "            faces.append(face)\n",
    "            locs.append((startX,startY,endX,endY))\n",
    "    if len(faces)>0:\n",
    "        faces=np.array(faces,dtype=\"float32\")\n",
    "        preds=mask_detector.predict(faces)\n",
    "        \n",
    "      \n",
    "    return (locs,preds)"
   ]
  },
  {
   "cell_type": "code",
   "execution_count": 7,
   "id": "5c3efd46",
   "metadata": {},
   "outputs": [],
   "source": [
    "cap=vs(src=0).start()\n",
    "while True:\n",
    "  \n",
    "    #Capture frame by frame\n",
    "    image=cap.read()\n",
    "    img_height,img_width=image.shape[:2]\n",
    "    (locs,preds)=face_det_mask_pred(image,face_detection_classifier,mask_detector)\n",
    "    for (box,pred) in zip(locs,preds):\n",
    "        (startX,startY,endX,endY)=box\n",
    "        (mask,withoutMask)=pred \n",
    "        if mask>withoutMask:\n",
    "            label=\"Mask\"\n",
    "            temp_color=(51,255,102)\n",
    "        else:\n",
    "            label=\"Without Mask\"\n",
    "            temp_color=(255,255,0)\n",
    "            \n",
    "        cv2.putText(image,label,(startX,startY-10),cv2.FONT_HERSHEY_SIMPLEX,1,temp_color,2)\n",
    "        cv2.rectangle(image,(startX,startY),(endX,endY),(255,0,0),2)\n",
    "    cv2.namedWindow(\"output\",cv2.WINDOW_NORMAL)\n",
    "    cv2.imshow(\"output\",image)\n",
    "    key=cv2.waitKey(1) & 0xFF\n",
    "    if key==ord('q'):\n",
    "        break\n",
    "\n",
    "         \n",
    "cv2.destroyAllWindows()\n",
    "\n"
   ]
  }
 ],
 "metadata": {
  "kernelspec": {
   "display_name": "Python 3 (ipykernel)",
   "language": "python",
   "name": "python3"
  },
  "language_info": {
   "codemirror_mode": {
    "name": "ipython",
    "version": 3
   },
   "file_extension": ".py",
   "mimetype": "text/x-python",
   "name": "python",
   "nbconvert_exporter": "python",
   "pygments_lexer": "ipython3",
   "version": "3.8.11"
  }
 },
 "nbformat": 4,
 "nbformat_minor": 5
}
