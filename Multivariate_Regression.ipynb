{
  "nbformat": 4,
  "nbformat_minor": 0,
  "metadata": {
    "colab": {
      "name": "Multivariate Regression.ipynb",
      "provenance": [],
      "collapsed_sections": [],
      "authorship_tag": "ABX9TyP0KgAJgcC35MP428F+8d+c",
      "include_colab_link": true
    },
    "kernelspec": {
      "name": "python3",
      "display_name": "Python 3"
    },
    "language_info": {
      "name": "python"
    }
  },
  "cells": [
    {
      "cell_type": "markdown",
      "metadata": {
        "id": "view-in-github",
        "colab_type": "text"
      },
      "source": [
        "<a href=\"https://colab.research.google.com/github/PromitHal/AI_ML/blob/main/Multivariate_Regression.ipynb\" target=\"_parent\"><img src=\"https://colab.research.google.com/assets/colab-badge.svg\" alt=\"Open In Colab\"/></a>"
      ]
    },
    {
      "cell_type": "code",
      "execution_count": 72,
      "metadata": {
        "id": "Hp_RrIC7g9wv"
      },
      "outputs": [],
      "source": [
        "#Multivariate regression\n",
        "import pandas as pd\n",
        "import numpy as np\n",
        "data=pd.read_csv('house_sales.csv')"
      ]
    },
    {
      "cell_type": "code",
      "source": [
        "data=data.drop(columns=\"parks\",axis=1)\n"
      ],
      "metadata": {
        "id": "HgvvfsZyqo8i"
      },
      "execution_count": 73,
      "outputs": []
    },
    {
      "cell_type": "code",
      "source": [
        "data.describe()"
      ],
      "metadata": {
        "colab": {
          "base_uri": "https://localhost:8080/",
          "height": 320
        },
        "id": "FkZLYuf_qq_v",
        "outputId": "1aa8b243-0cbe-4178-8aa1-213a10d622d0"
      },
      "execution_count": 74,
      "outputs": [
        {
          "output_type": "execute_result",
          "data": {
            "text/html": [
              "<div>\n",
              "<style scoped>\n",
              "    .dataframe tbody tr th:only-of-type {\n",
              "        vertical-align: middle;\n",
              "    }\n",
              "\n",
              "    .dataframe tbody tr th {\n",
              "        vertical-align: top;\n",
              "    }\n",
              "\n",
              "    .dataframe thead th {\n",
              "        text-align: right;\n",
              "    }\n",
              "</style>\n",
              "<table border=\"1\" class=\"dataframe\">\n",
              "  <thead>\n",
              "    <tr style=\"text-align: right;\">\n",
              "      <th></th>\n",
              "      <th>price</th>\n",
              "      <th>resid_area</th>\n",
              "      <th>air_qual</th>\n",
              "      <th>room_num</th>\n",
              "      <th>age</th>\n",
              "      <th>dist1</th>\n",
              "      <th>dist2</th>\n",
              "      <th>dist3</th>\n",
              "      <th>dist4</th>\n",
              "      <th>teachers</th>\n",
              "      <th>poor_prop</th>\n",
              "      <th>n_hos_beds</th>\n",
              "      <th>n_hot_rooms</th>\n",
              "      <th>rainfall</th>\n",
              "    </tr>\n",
              "  </thead>\n",
              "  <tbody>\n",
              "    <tr>\n",
              "      <th>count</th>\n",
              "      <td>506.000000</td>\n",
              "      <td>506.000000</td>\n",
              "      <td>506.000000</td>\n",
              "      <td>506.000000</td>\n",
              "      <td>506.000000</td>\n",
              "      <td>506.000000</td>\n",
              "      <td>506.000000</td>\n",
              "      <td>506.000000</td>\n",
              "      <td>506.000000</td>\n",
              "      <td>506.000000</td>\n",
              "      <td>506.000000</td>\n",
              "      <td>498.000000</td>\n",
              "      <td>506.000000</td>\n",
              "      <td>506.000000</td>\n",
              "    </tr>\n",
              "    <tr>\n",
              "      <th>mean</th>\n",
              "      <td>22.528854</td>\n",
              "      <td>41.136779</td>\n",
              "      <td>0.554695</td>\n",
              "      <td>6.284634</td>\n",
              "      <td>68.574901</td>\n",
              "      <td>3.971996</td>\n",
              "      <td>3.628775</td>\n",
              "      <td>3.960672</td>\n",
              "      <td>3.618972</td>\n",
              "      <td>21.544466</td>\n",
              "      <td>12.653063</td>\n",
              "      <td>7.899767</td>\n",
              "      <td>13.041605</td>\n",
              "      <td>39.181818</td>\n",
              "    </tr>\n",
              "    <tr>\n",
              "      <th>std</th>\n",
              "      <td>9.182176</td>\n",
              "      <td>6.860353</td>\n",
              "      <td>0.115878</td>\n",
              "      <td>0.702617</td>\n",
              "      <td>28.148861</td>\n",
              "      <td>2.108532</td>\n",
              "      <td>2.108580</td>\n",
              "      <td>2.119797</td>\n",
              "      <td>2.099203</td>\n",
              "      <td>2.164946</td>\n",
              "      <td>7.141062</td>\n",
              "      <td>1.476683</td>\n",
              "      <td>5.238957</td>\n",
              "      <td>12.513697</td>\n",
              "    </tr>\n",
              "    <tr>\n",
              "      <th>min</th>\n",
              "      <td>5.000000</td>\n",
              "      <td>30.460000</td>\n",
              "      <td>0.385000</td>\n",
              "      <td>3.561000</td>\n",
              "      <td>2.900000</td>\n",
              "      <td>1.130000</td>\n",
              "      <td>0.920000</td>\n",
              "      <td>1.150000</td>\n",
              "      <td>0.730000</td>\n",
              "      <td>18.000000</td>\n",
              "      <td>1.730000</td>\n",
              "      <td>5.268000</td>\n",
              "      <td>10.057600</td>\n",
              "      <td>3.000000</td>\n",
              "    </tr>\n",
              "    <tr>\n",
              "      <th>25%</th>\n",
              "      <td>17.025000</td>\n",
              "      <td>35.190000</td>\n",
              "      <td>0.449000</td>\n",
              "      <td>5.885500</td>\n",
              "      <td>45.025000</td>\n",
              "      <td>2.270000</td>\n",
              "      <td>1.940000</td>\n",
              "      <td>2.232500</td>\n",
              "      <td>1.940000</td>\n",
              "      <td>19.800000</td>\n",
              "      <td>6.950000</td>\n",
              "      <td>6.634500</td>\n",
              "      <td>11.189800</td>\n",
              "      <td>28.000000</td>\n",
              "    </tr>\n",
              "    <tr>\n",
              "      <th>50%</th>\n",
              "      <td>21.200000</td>\n",
              "      <td>39.690000</td>\n",
              "      <td>0.538000</td>\n",
              "      <td>6.208500</td>\n",
              "      <td>77.500000</td>\n",
              "      <td>3.385000</td>\n",
              "      <td>3.010000</td>\n",
              "      <td>3.375000</td>\n",
              "      <td>3.070000</td>\n",
              "      <td>20.950000</td>\n",
              "      <td>11.360000</td>\n",
              "      <td>7.999000</td>\n",
              "      <td>12.720000</td>\n",
              "      <td>39.000000</td>\n",
              "    </tr>\n",
              "    <tr>\n",
              "      <th>75%</th>\n",
              "      <td>25.000000</td>\n",
              "      <td>48.100000</td>\n",
              "      <td>0.624000</td>\n",
              "      <td>6.623500</td>\n",
              "      <td>94.075000</td>\n",
              "      <td>5.367500</td>\n",
              "      <td>4.992500</td>\n",
              "      <td>5.407500</td>\n",
              "      <td>4.985000</td>\n",
              "      <td>22.600000</td>\n",
              "      <td>16.955000</td>\n",
              "      <td>9.088000</td>\n",
              "      <td>14.170800</td>\n",
              "      <td>50.000000</td>\n",
              "    </tr>\n",
              "    <tr>\n",
              "      <th>max</th>\n",
              "      <td>50.000000</td>\n",
              "      <td>57.740000</td>\n",
              "      <td>0.871000</td>\n",
              "      <td>8.780000</td>\n",
              "      <td>100.000000</td>\n",
              "      <td>12.320000</td>\n",
              "      <td>11.930000</td>\n",
              "      <td>12.320000</td>\n",
              "      <td>11.940000</td>\n",
              "      <td>27.400000</td>\n",
              "      <td>37.970000</td>\n",
              "      <td>10.876000</td>\n",
              "      <td>101.120000</td>\n",
              "      <td>60.000000</td>\n",
              "    </tr>\n",
              "  </tbody>\n",
              "</table>\n",
              "</div>"
            ],
            "text/plain": [
              "            price  resid_area    air_qual  ...  n_hos_beds  n_hot_rooms    rainfall\n",
              "count  506.000000  506.000000  506.000000  ...  498.000000   506.000000  506.000000\n",
              "mean    22.528854   41.136779    0.554695  ...    7.899767    13.041605   39.181818\n",
              "std      9.182176    6.860353    0.115878  ...    1.476683     5.238957   12.513697\n",
              "min      5.000000   30.460000    0.385000  ...    5.268000    10.057600    3.000000\n",
              "25%     17.025000   35.190000    0.449000  ...    6.634500    11.189800   28.000000\n",
              "50%     21.200000   39.690000    0.538000  ...    7.999000    12.720000   39.000000\n",
              "75%     25.000000   48.100000    0.624000  ...    9.088000    14.170800   50.000000\n",
              "max     50.000000   57.740000    0.871000  ...   10.876000   101.120000   60.000000\n",
              "\n",
              "[8 rows x 14 columns]"
            ]
          },
          "metadata": {},
          "execution_count": 74
        }
      ]
    },
    {
      "cell_type": "code",
      "source": [
        "data.info()"
      ],
      "metadata": {
        "colab": {
          "base_uri": "https://localhost:8080/"
        },
        "id": "ibXJS7nLqslO",
        "outputId": "f7468dd4-364b-4ce0-e6bf-4be6539ac7e8"
      },
      "execution_count": 75,
      "outputs": [
        {
          "output_type": "stream",
          "name": "stdout",
          "text": [
            "<class 'pandas.core.frame.DataFrame'>\n",
            "RangeIndex: 506 entries, 0 to 505\n",
            "Data columns (total 17 columns):\n",
            " #   Column       Non-Null Count  Dtype  \n",
            "---  ------       --------------  -----  \n",
            " 0   price        506 non-null    float64\n",
            " 1   resid_area   506 non-null    float64\n",
            " 2   air_qual     506 non-null    float64\n",
            " 3   room_num     506 non-null    float64\n",
            " 4   age          506 non-null    float64\n",
            " 5   dist1        506 non-null    float64\n",
            " 6   dist2        506 non-null    float64\n",
            " 7   dist3        506 non-null    float64\n",
            " 8   dist4        506 non-null    float64\n",
            " 9   teachers     506 non-null    float64\n",
            " 10  poor_prop    506 non-null    float64\n",
            " 11  airport      506 non-null    object \n",
            " 12  n_hos_beds   498 non-null    float64\n",
            " 13  n_hot_rooms  506 non-null    float64\n",
            " 14  waterbody    506 non-null    object \n",
            " 15  rainfall     506 non-null    int64  \n",
            " 16  bus_ter      506 non-null    object \n",
            "dtypes: float64(13), int64(1), object(3)\n",
            "memory usage: 67.3+ KB\n"
          ]
        }
      ]
    },
    {
      "cell_type": "code",
      "source": [
        "#Checking missing values\n",
        "data.isna().sum()"
      ],
      "metadata": {
        "colab": {
          "base_uri": "https://localhost:8080/"
        },
        "id": "UR4leuDdqvfN",
        "outputId": "775e7634-d3ba-4a7b-ddae-7e741f360863"
      },
      "execution_count": 76,
      "outputs": [
        {
          "output_type": "execute_result",
          "data": {
            "text/plain": [
              "price          0\n",
              "resid_area     0\n",
              "air_qual       0\n",
              "room_num       0\n",
              "age            0\n",
              "dist1          0\n",
              "dist2          0\n",
              "dist3          0\n",
              "dist4          0\n",
              "teachers       0\n",
              "poor_prop      0\n",
              "airport        0\n",
              "n_hos_beds     8\n",
              "n_hot_rooms    0\n",
              "waterbody      0\n",
              "rainfall       0\n",
              "bus_ter        0\n",
              "dtype: int64"
            ]
          },
          "metadata": {},
          "execution_count": 76
        }
      ]
    },
    {
      "cell_type": "code",
      "source": [
        "#We notice that there are 8 missing values for n_hos_beds\n",
        "#Removing missing values\n",
        "data=data.dropna(axis=0,how='any')"
      ],
      "metadata": {
        "id": "Ej8MFdx-q4CN"
      },
      "execution_count": 77,
      "outputs": []
    },
    {
      "cell_type": "code",
      "source": [
        "data.isnull().sum()"
      ],
      "metadata": {
        "colab": {
          "base_uri": "https://localhost:8080/"
        },
        "id": "p2fBewi3rA-X",
        "outputId": "77eb6c33-a0af-444d-ec2e-8a3c1f21f2d3"
      },
      "execution_count": 78,
      "outputs": [
        {
          "output_type": "execute_result",
          "data": {
            "text/plain": [
              "price          0\n",
              "resid_area     0\n",
              "air_qual       0\n",
              "room_num       0\n",
              "age            0\n",
              "dist1          0\n",
              "dist2          0\n",
              "dist3          0\n",
              "dist4          0\n",
              "teachers       0\n",
              "poor_prop      0\n",
              "airport        0\n",
              "n_hos_beds     0\n",
              "n_hot_rooms    0\n",
              "waterbody      0\n",
              "rainfall       0\n",
              "bus_ter        0\n",
              "dtype: int64"
            ]
          },
          "metadata": {},
          "execution_count": 78
        }
      ]
    },
    {
      "cell_type": "code",
      "source": [
        "#Feature variable\n",
        "X=data.drop(columns=\"price\",axis=1)"
      ],
      "metadata": {
        "id": "KWGM_XiKrD-O"
      },
      "execution_count": 79,
      "outputs": []
    },
    {
      "cell_type": "code",
      "source": [
        "#Target  variable\n",
        "Y=data[\"price\"]"
      ],
      "metadata": {
        "id": "57eSyBZirZCU"
      },
      "execution_count": 80,
      "outputs": []
    },
    {
      "cell_type": "code",
      "source": [
        "import statsmodels.api as sn\n",
        "import seaborn as sns"
      ],
      "metadata": {
        "id": "2hJiS8_ar5i6"
      },
      "execution_count": 81,
      "outputs": []
    },
    {
      "cell_type": "code",
      "source": [
        "X_multi=sn.add_constant(X)"
      ],
      "metadata": {
        "id": "t_72NTGMrgWL"
      },
      "execution_count": 82,
      "outputs": []
    },
    {
      "cell_type": "code",
      "source": [
        "#One hot encoding the features"
      ],
      "metadata": {
        "id": "3NKtGB7QsHdE"
      },
      "execution_count": null,
      "outputs": []
    },
    {
      "cell_type": "code",
      "source": [
        "X_multi=pd.get_dummies(X_multi,columns=['bus_ter'])\n",
        "X_multi=pd.get_dummies(X_multi,columns=['airport'])\n",
        "X_multi=pd.get_dummies(X_multi,columns=['waterbody'])"
      ],
      "metadata": {
        "id": "y1cnC-Xfrl2D"
      },
      "execution_count": 83,
      "outputs": []
    },
    {
      "cell_type": "code",
      "source": [
        "X_multi.head()"
      ],
      "metadata": {
        "colab": {
          "base_uri": "https://localhost:8080/",
          "height": 243
        },
        "id": "McUJD5rlshCE",
        "outputId": "4b3538ac-c1e2-46bd-d2c4-3a141caf41f9"
      },
      "execution_count": 84,
      "outputs": [
        {
          "output_type": "execute_result",
          "data": {
            "text/html": [
              "<div>\n",
              "<style scoped>\n",
              "    .dataframe tbody tr th:only-of-type {\n",
              "        vertical-align: middle;\n",
              "    }\n",
              "\n",
              "    .dataframe tbody tr th {\n",
              "        vertical-align: top;\n",
              "    }\n",
              "\n",
              "    .dataframe thead th {\n",
              "        text-align: right;\n",
              "    }\n",
              "</style>\n",
              "<table border=\"1\" class=\"dataframe\">\n",
              "  <thead>\n",
              "    <tr style=\"text-align: right;\">\n",
              "      <th></th>\n",
              "      <th>const</th>\n",
              "      <th>resid_area</th>\n",
              "      <th>air_qual</th>\n",
              "      <th>room_num</th>\n",
              "      <th>age</th>\n",
              "      <th>dist1</th>\n",
              "      <th>dist2</th>\n",
              "      <th>dist3</th>\n",
              "      <th>dist4</th>\n",
              "      <th>teachers</th>\n",
              "      <th>poor_prop</th>\n",
              "      <th>n_hos_beds</th>\n",
              "      <th>n_hot_rooms</th>\n",
              "      <th>rainfall</th>\n",
              "      <th>bus_ter_YES</th>\n",
              "      <th>airport_NO</th>\n",
              "      <th>airport_YES</th>\n",
              "      <th>waterbody_Lake</th>\n",
              "      <th>waterbody_Lake and River</th>\n",
              "      <th>waterbody_None</th>\n",
              "      <th>waterbody_River</th>\n",
              "    </tr>\n",
              "  </thead>\n",
              "  <tbody>\n",
              "    <tr>\n",
              "      <th>0</th>\n",
              "      <td>1.0</td>\n",
              "      <td>32.31</td>\n",
              "      <td>0.538</td>\n",
              "      <td>6.575</td>\n",
              "      <td>65.2</td>\n",
              "      <td>4.35</td>\n",
              "      <td>3.81</td>\n",
              "      <td>4.18</td>\n",
              "      <td>4.01</td>\n",
              "      <td>24.7</td>\n",
              "      <td>4.98</td>\n",
              "      <td>5.480</td>\n",
              "      <td>11.1920</td>\n",
              "      <td>23</td>\n",
              "      <td>1</td>\n",
              "      <td>0</td>\n",
              "      <td>1</td>\n",
              "      <td>0</td>\n",
              "      <td>0</td>\n",
              "      <td>0</td>\n",
              "      <td>1</td>\n",
              "    </tr>\n",
              "    <tr>\n",
              "      <th>1</th>\n",
              "      <td>1.0</td>\n",
              "      <td>37.07</td>\n",
              "      <td>0.469</td>\n",
              "      <td>6.421</td>\n",
              "      <td>78.9</td>\n",
              "      <td>4.99</td>\n",
              "      <td>4.70</td>\n",
              "      <td>5.12</td>\n",
              "      <td>5.06</td>\n",
              "      <td>22.2</td>\n",
              "      <td>9.14</td>\n",
              "      <td>7.332</td>\n",
              "      <td>12.1728</td>\n",
              "      <td>42</td>\n",
              "      <td>1</td>\n",
              "      <td>1</td>\n",
              "      <td>0</td>\n",
              "      <td>1</td>\n",
              "      <td>0</td>\n",
              "      <td>0</td>\n",
              "      <td>0</td>\n",
              "    </tr>\n",
              "    <tr>\n",
              "      <th>2</th>\n",
              "      <td>1.0</td>\n",
              "      <td>37.07</td>\n",
              "      <td>0.469</td>\n",
              "      <td>7.185</td>\n",
              "      <td>61.1</td>\n",
              "      <td>5.03</td>\n",
              "      <td>4.86</td>\n",
              "      <td>5.01</td>\n",
              "      <td>4.97</td>\n",
              "      <td>22.2</td>\n",
              "      <td>4.03</td>\n",
              "      <td>7.394</td>\n",
              "      <td>101.1200</td>\n",
              "      <td>38</td>\n",
              "      <td>1</td>\n",
              "      <td>1</td>\n",
              "      <td>0</td>\n",
              "      <td>0</td>\n",
              "      <td>0</td>\n",
              "      <td>1</td>\n",
              "      <td>0</td>\n",
              "    </tr>\n",
              "    <tr>\n",
              "      <th>3</th>\n",
              "      <td>1.0</td>\n",
              "      <td>32.18</td>\n",
              "      <td>0.458</td>\n",
              "      <td>6.998</td>\n",
              "      <td>45.8</td>\n",
              "      <td>6.21</td>\n",
              "      <td>5.93</td>\n",
              "      <td>6.16</td>\n",
              "      <td>5.96</td>\n",
              "      <td>21.3</td>\n",
              "      <td>2.94</td>\n",
              "      <td>9.268</td>\n",
              "      <td>11.2672</td>\n",
              "      <td>45</td>\n",
              "      <td>1</td>\n",
              "      <td>0</td>\n",
              "      <td>1</td>\n",
              "      <td>1</td>\n",
              "      <td>0</td>\n",
              "      <td>0</td>\n",
              "      <td>0</td>\n",
              "    </tr>\n",
              "    <tr>\n",
              "      <th>4</th>\n",
              "      <td>1.0</td>\n",
              "      <td>32.18</td>\n",
              "      <td>0.458</td>\n",
              "      <td>7.147</td>\n",
              "      <td>54.2</td>\n",
              "      <td>6.16</td>\n",
              "      <td>5.86</td>\n",
              "      <td>6.37</td>\n",
              "      <td>5.86</td>\n",
              "      <td>21.3</td>\n",
              "      <td>5.33</td>\n",
              "      <td>8.824</td>\n",
              "      <td>11.2896</td>\n",
              "      <td>55</td>\n",
              "      <td>1</td>\n",
              "      <td>1</td>\n",
              "      <td>0</td>\n",
              "      <td>1</td>\n",
              "      <td>0</td>\n",
              "      <td>0</td>\n",
              "      <td>0</td>\n",
              "    </tr>\n",
              "  </tbody>\n",
              "</table>\n",
              "</div>"
            ],
            "text/plain": [
              "   const  resid_area  ...  waterbody_None  waterbody_River\n",
              "0    1.0       32.31  ...               0                1\n",
              "1    1.0       37.07  ...               0                0\n",
              "2    1.0       37.07  ...               1                0\n",
              "3    1.0       32.18  ...               0                0\n",
              "4    1.0       32.18  ...               0                0\n",
              "\n",
              "[5 rows x 21 columns]"
            ]
          },
          "metadata": {},
          "execution_count": 84
        }
      ]
    },
    {
      "cell_type": "code",
      "source": [
        "#Fitting into Multivariate Regression Model\n",
        "model_multi=sn.OLS(Y,X_multi).fit()"
      ],
      "metadata": {
        "id": "sy_DKV_9sl2P"
      },
      "execution_count": 85,
      "outputs": []
    },
    {
      "cell_type": "code",
      "source": [
        "model_multi.summary()"
      ],
      "metadata": {
        "colab": {
          "base_uri": "https://localhost:8080/",
          "height": 884
        },
        "id": "HQqTMjkdsxJV",
        "outputId": "ab0b1e6f-b16f-4dec-ed3e-62be4d292a16"
      },
      "execution_count": 86,
      "outputs": [
        {
          "output_type": "execute_result",
          "data": {
            "text/html": [
              "<table class=\"simpletable\">\n",
              "<caption>OLS Regression Results</caption>\n",
              "<tr>\n",
              "  <th>Dep. Variable:</th>          <td>price</td>      <th>  R-squared:         </th> <td>   0.721</td> \n",
              "</tr>\n",
              "<tr>\n",
              "  <th>Model:</th>                   <td>OLS</td>       <th>  Adj. R-squared:    </th> <td>   0.711</td> \n",
              "</tr>\n",
              "<tr>\n",
              "  <th>Method:</th>             <td>Least Squares</td>  <th>  F-statistic:       </th> <td>   72.94</td> \n",
              "</tr>\n",
              "<tr>\n",
              "  <th>Date:</th>             <td>Tue, 14 Dec 2021</td> <th>  Prob (F-statistic):</th> <td>4.69e-121</td>\n",
              "</tr>\n",
              "<tr>\n",
              "  <th>Time:</th>                 <td>16:20:26</td>     <th>  Log-Likelihood:    </th> <td> -1493.0</td> \n",
              "</tr>\n",
              "<tr>\n",
              "  <th>No. Observations:</th>      <td>   498</td>      <th>  AIC:               </th> <td>   3022.</td> \n",
              "</tr>\n",
              "<tr>\n",
              "  <th>Df Residuals:</th>          <td>   480</td>      <th>  BIC:               </th> <td>   3098.</td> \n",
              "</tr>\n",
              "<tr>\n",
              "  <th>Df Model:</th>              <td>    17</td>      <th>                     </th>     <td> </td>    \n",
              "</tr>\n",
              "<tr>\n",
              "  <th>Covariance Type:</th>      <td>nonrobust</td>    <th>                     </th>     <td> </td>    \n",
              "</tr>\n",
              "</table>\n",
              "<table class=\"simpletable\">\n",
              "<tr>\n",
              "              <td></td>                <th>coef</th>     <th>std err</th>      <th>t</th>      <th>P>|t|</th>  <th>[0.025</th>    <th>0.975]</th>  \n",
              "</tr>\n",
              "<tr>\n",
              "  <th>const</th>                    <td>   -1.9645</td> <td>    1.877</td> <td>   -1.046</td> <td> 0.296</td> <td>   -5.653</td> <td>    1.724</td>\n",
              "</tr>\n",
              "<tr>\n",
              "  <th>resid_area</th>               <td>   -0.0375</td> <td>    0.058</td> <td>   -0.649</td> <td> 0.517</td> <td>   -0.151</td> <td>    0.076</td>\n",
              "</tr>\n",
              "<tr>\n",
              "  <th>air_qual</th>                 <td>  -16.1914</td> <td>    3.777</td> <td>   -4.287</td> <td> 0.000</td> <td>  -23.613</td> <td>   -8.770</td>\n",
              "</tr>\n",
              "<tr>\n",
              "  <th>room_num</th>                 <td>    4.0755</td> <td>    0.425</td> <td>    9.584</td> <td> 0.000</td> <td>    3.240</td> <td>    4.911</td>\n",
              "</tr>\n",
              "<tr>\n",
              "  <th>age</th>                      <td>   -0.0059</td> <td>    0.014</td> <td>   -0.432</td> <td> 0.666</td> <td>   -0.033</td> <td>    0.021</td>\n",
              "</tr>\n",
              "<tr>\n",
              "  <th>dist1</th>                    <td>   -0.5772</td> <td>    1.873</td> <td>   -0.308</td> <td> 0.758</td> <td>   -4.257</td> <td>    3.103</td>\n",
              "</tr>\n",
              "<tr>\n",
              "  <th>dist2</th>                    <td>    0.9839</td> <td>    1.996</td> <td>    0.493</td> <td> 0.622</td> <td>   -2.939</td> <td>    4.907</td>\n",
              "</tr>\n",
              "<tr>\n",
              "  <th>dist3</th>                    <td>   -1.5418</td> <td>    1.944</td> <td>   -0.793</td> <td> 0.428</td> <td>   -5.361</td> <td>    2.277</td>\n",
              "</tr>\n",
              "<tr>\n",
              "  <th>dist4</th>                    <td>   -0.0796</td> <td>    1.046</td> <td>   -0.076</td> <td> 0.939</td> <td>   -2.134</td> <td>    1.975</td>\n",
              "</tr>\n",
              "<tr>\n",
              "  <th>teachers</th>                 <td>    1.0096</td> <td>    0.119</td> <td>    8.516</td> <td> 0.000</td> <td>    0.777</td> <td>    1.243</td>\n",
              "</tr>\n",
              "<tr>\n",
              "  <th>poor_prop</th>                <td>   -0.5660</td> <td>    0.051</td> <td>  -11.075</td> <td> 0.000</td> <td>   -0.666</td> <td>   -0.466</td>\n",
              "</tr>\n",
              "<tr>\n",
              "  <th>n_hos_beds</th>               <td>    0.3359</td> <td>    0.153</td> <td>    2.190</td> <td> 0.029</td> <td>    0.035</td> <td>    0.637</td>\n",
              "</tr>\n",
              "<tr>\n",
              "  <th>n_hot_rooms</th>              <td>    0.0345</td> <td>    0.042</td> <td>    0.811</td> <td> 0.418</td> <td>   -0.049</td> <td>    0.118</td>\n",
              "</tr>\n",
              "<tr>\n",
              "  <th>rainfall</th>                 <td>    0.0149</td> <td>    0.018</td> <td>    0.825</td> <td> 0.410</td> <td>   -0.021</td> <td>    0.050</td>\n",
              "</tr>\n",
              "<tr>\n",
              "  <th>bus_ter_YES</th>              <td>   -1.9645</td> <td>    1.877</td> <td>   -1.046</td> <td> 0.296</td> <td>   -5.653</td> <td>    1.724</td>\n",
              "</tr>\n",
              "<tr>\n",
              "  <th>airport_NO</th>               <td>   -1.6096</td> <td>    0.965</td> <td>   -1.667</td> <td> 0.096</td> <td>   -3.507</td> <td>    0.287</td>\n",
              "</tr>\n",
              "<tr>\n",
              "  <th>airport_YES</th>              <td>   -0.3549</td> <td>    0.967</td> <td>   -0.367</td> <td> 0.714</td> <td>   -2.255</td> <td>    1.545</td>\n",
              "</tr>\n",
              "<tr>\n",
              "  <th>waterbody_Lake</th>           <td>   -0.1177</td> <td>    0.649</td> <td>   -0.181</td> <td> 0.856</td> <td>   -1.393</td> <td>    1.158</td>\n",
              "</tr>\n",
              "<tr>\n",
              "  <th>waterbody_Lake and River</th> <td>   -0.9902</td> <td>    0.693</td> <td>   -1.428</td> <td> 0.154</td> <td>   -2.352</td> <td>    0.372</td>\n",
              "</tr>\n",
              "<tr>\n",
              "  <th>waterbody_None</th>           <td>   -0.3171</td> <td>    0.594</td> <td>   -0.533</td> <td> 0.594</td> <td>   -1.485</td> <td>    0.851</td>\n",
              "</tr>\n",
              "<tr>\n",
              "  <th>waterbody_River</th>          <td>   -0.5396</td> <td>    0.567</td> <td>   -0.951</td> <td> 0.342</td> <td>   -1.654</td> <td>    0.575</td>\n",
              "</tr>\n",
              "</table>\n",
              "<table class=\"simpletable\">\n",
              "<tr>\n",
              "  <th>Omnibus:</th>       <td>183.214</td> <th>  Durbin-Watson:     </th> <td>   0.990</td> \n",
              "</tr>\n",
              "<tr>\n",
              "  <th>Prob(Omnibus):</th> <td> 0.000</td>  <th>  Jarque-Bera (JB):  </th> <td> 853.309</td> \n",
              "</tr>\n",
              "<tr>\n",
              "  <th>Skew:</th>          <td> 1.574</td>  <th>  Prob(JB):          </th> <td>5.09e-186</td>\n",
              "</tr>\n",
              "<tr>\n",
              "  <th>Kurtosis:</th>      <td> 8.587</td>  <th>  Cond. No.          </th> <td>6.64e+17</td> \n",
              "</tr>\n",
              "</table><br/><br/>Warnings:<br/>[1] Standard Errors assume that the covariance matrix of the errors is correctly specified.<br/>[2] The smallest eigenvalue is 1.07e-29. This might indicate that there are<br/>strong multicollinearity problems or that the design matrix is singular."
            ],
            "text/plain": [
              "<class 'statsmodels.iolib.summary.Summary'>\n",
              "\"\"\"\n",
              "                            OLS Regression Results                            \n",
              "==============================================================================\n",
              "Dep. Variable:                  price   R-squared:                       0.721\n",
              "Model:                            OLS   Adj. R-squared:                  0.711\n",
              "Method:                 Least Squares   F-statistic:                     72.94\n",
              "Date:                Tue, 14 Dec 2021   Prob (F-statistic):          4.69e-121\n",
              "Time:                        16:20:26   Log-Likelihood:                -1493.0\n",
              "No. Observations:                 498   AIC:                             3022.\n",
              "Df Residuals:                     480   BIC:                             3098.\n",
              "Df Model:                          17                                         \n",
              "Covariance Type:            nonrobust                                         \n",
              "============================================================================================\n",
              "                               coef    std err          t      P>|t|      [0.025      0.975]\n",
              "--------------------------------------------------------------------------------------------\n",
              "const                       -1.9645      1.877     -1.046      0.296      -5.653       1.724\n",
              "resid_area                  -0.0375      0.058     -0.649      0.517      -0.151       0.076\n",
              "air_qual                   -16.1914      3.777     -4.287      0.000     -23.613      -8.770\n",
              "room_num                     4.0755      0.425      9.584      0.000       3.240       4.911\n",
              "age                         -0.0059      0.014     -0.432      0.666      -0.033       0.021\n",
              "dist1                       -0.5772      1.873     -0.308      0.758      -4.257       3.103\n",
              "dist2                        0.9839      1.996      0.493      0.622      -2.939       4.907\n",
              "dist3                       -1.5418      1.944     -0.793      0.428      -5.361       2.277\n",
              "dist4                       -0.0796      1.046     -0.076      0.939      -2.134       1.975\n",
              "teachers                     1.0096      0.119      8.516      0.000       0.777       1.243\n",
              "poor_prop                   -0.5660      0.051    -11.075      0.000      -0.666      -0.466\n",
              "n_hos_beds                   0.3359      0.153      2.190      0.029       0.035       0.637\n",
              "n_hot_rooms                  0.0345      0.042      0.811      0.418      -0.049       0.118\n",
              "rainfall                     0.0149      0.018      0.825      0.410      -0.021       0.050\n",
              "bus_ter_YES                 -1.9645      1.877     -1.046      0.296      -5.653       1.724\n",
              "airport_NO                  -1.6096      0.965     -1.667      0.096      -3.507       0.287\n",
              "airport_YES                 -0.3549      0.967     -0.367      0.714      -2.255       1.545\n",
              "waterbody_Lake              -0.1177      0.649     -0.181      0.856      -1.393       1.158\n",
              "waterbody_Lake and River    -0.9902      0.693     -1.428      0.154      -2.352       0.372\n",
              "waterbody_None              -0.3171      0.594     -0.533      0.594      -1.485       0.851\n",
              "waterbody_River             -0.5396      0.567     -0.951      0.342      -1.654       0.575\n",
              "==============================================================================\n",
              "Omnibus:                      183.214   Durbin-Watson:                   0.990\n",
              "Prob(Omnibus):                  0.000   Jarque-Bera (JB):              853.309\n",
              "Skew:                           1.574   Prob(JB):                    5.09e-186\n",
              "Kurtosis:                       8.587   Cond. No.                     6.64e+17\n",
              "==============================================================================\n",
              "\n",
              "Warnings:\n",
              "[1] Standard Errors assume that the covariance matrix of the errors is correctly specified.\n",
              "[2] The smallest eigenvalue is 1.07e-29. This might indicate that there are\n",
              "strong multicollinearity problems or that the design matrix is singular.\n",
              "\"\"\""
            ]
          },
          "metadata": {},
          "execution_count": 86
        }
      ]
    },
    {
      "cell_type": "code",
      "source": [
        "from sklearn.linear_model import LinearRegression"
      ],
      "metadata": {
        "id": "3hXuV427t-Hc"
      },
      "execution_count": 87,
      "outputs": []
    },
    {
      "cell_type": "code",
      "source": [
        "lm3=LinearRegression()"
      ],
      "metadata": {
        "id": "cSh3liPguKOE"
      },
      "execution_count": 88,
      "outputs": []
    },
    {
      "cell_type": "code",
      "source": [
        "lm3.fit(X_multi,Y)"
      ],
      "metadata": {
        "colab": {
          "base_uri": "https://localhost:8080/"
        },
        "id": "LCh2XHkIuZbX",
        "outputId": "d39b97d1-d79b-4f67-a3e8-2deacc8862bb"
      },
      "execution_count": 89,
      "outputs": [
        {
          "output_type": "execute_result",
          "data": {
            "text/plain": [
              "LinearRegression()"
            ]
          },
          "metadata": {},
          "execution_count": 89
        }
      ]
    },
    {
      "cell_type": "code",
      "source": [
        "print(lm3.intercept_,lm3.coef_)"
      ],
      "metadata": {
        "colab": {
          "base_uri": "https://localhost:8080/"
        },
        "id": "cP8OQlzuudtB",
        "outputId": "b6df27e4-706c-40af-9938-8545ffc8b8af"
      },
      "execution_count": 90,
      "outputs": [
        {
          "output_type": "stream",
          "name": "stdout",
          "text": [
            "-5.4023724345841515 [ 0.00000000e+00 -3.75167195e-02 -1.61914037e+01  4.07551853e+00\n",
            " -5.89491797e-03 -5.77162744e-01  9.83896229e-01 -1.54182385e+00\n",
            " -7.95953877e-02  1.00964066e+00 -5.65989351e-01  3.35853610e-01\n",
            "  3.44507645e-02  1.49058696e-02 -7.10542736e-15 -6.27354860e-01\n",
            "  6.27354860e-01  3.73422079e-01 -4.99030553e-01  1.74036439e-01\n",
            " -4.84279649e-02]\n"
          ]
        }
      ]
    }
  ]
}