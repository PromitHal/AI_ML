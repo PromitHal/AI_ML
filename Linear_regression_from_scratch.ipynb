{
  "nbformat": 4,
  "nbformat_minor": 0,
  "metadata": {
    "colab": {
      "name": "Linear regression.ipynb",
      "provenance": [],
      "authorship_tag": "ABX9TyPJNgJMHmC9dpQ3bwhAIq0l",
      "include_colab_link": true
    },
    "kernelspec": {
      "name": "python3",
      "display_name": "Python 3"
    },
    "language_info": {
      "name": "python"
    }
  },
  "cells": [
    {
      "cell_type": "markdown",
      "metadata": {
        "id": "view-in-github",
        "colab_type": "text"
      },
      "source": [
        "<a href=\"https://colab.research.google.com/github/PromitHal/AI_ML/blob/main/Linear_regression_from_scratch.ipynb\" target=\"_parent\"><img src=\"https://colab.research.google.com/assets/colab-badge.svg\" alt=\"Open In Colab\"/></a>"
      ]
    },
    {
      "cell_type": "code",
      "execution_count": 15,
      "metadata": {
        "id": "pMxUAbuXtEf1"
      },
      "outputs": [],
      "source": [
        "#defining cost function\n",
        "def cal_cost(theta,X,Y):\n",
        "  m=len(Y)\n",
        "  predictions=X.dot(theta)\n",
        "  cost=(1/2*m)*np.sum(np.square(predictions-Y))\n",
        "  return cost\n"
      ]
    },
    {
      "cell_type": "code",
      "source": [
        "def gradient_descent(X,Y,theta,learning_rate,iterations):\n",
        "  m=len(Y)\n",
        "  cost_history=np.zeros(iterations)\n",
        "  theta_history=np.zeros((iterations,2))\n",
        "  for it in range(iterations):\n",
        "    prediction=np.dot(X,theta)\n",
        "    theta=theta-(1/m)*learning_rate*(X.T.dot((prediction-Y)))\n",
        "    theta_history[it,:]=theta.T\n",
        "    cost_history[it]=cal_cost(theta,X,Y)\n",
        "  return theta,cost_history,theta_history\n"
      ],
      "metadata": {
        "id": "MlB1Qz7A35At"
      },
      "execution_count": 16,
      "outputs": []
    },
    {
      "cell_type": "code",
      "source": [
        "X=2*np.random.rand(100,1)\n",
        "Y=4+3*X"
      ],
      "metadata": {
        "id": "dyI24fFU5Hng"
      },
      "execution_count": 23,
      "outputs": []
    },
    {
      "cell_type": "code",
      "source": [
        "lr=0.001\n",
        "n_iter=1000\n",
        "theta=np.random.randn(2,1)\n",
        "X_b=np.c_[np.ones((len(X),1)),X]\n",
        "theta,cost_history,theta_history=gradient_descent(X_b,Y,theta,lr,n_iter)"
      ],
      "metadata": {
        "id": "XXe4rZ-q4qKp"
      },
      "execution_count": 24,
      "outputs": []
    },
    {
      "cell_type": "code",
      "source": [
        "import numpy as np"
      ],
      "metadata": {
        "id": "eudXS_803u5u"
      },
      "execution_count": 2,
      "outputs": []
    },
    {
      "cell_type": "code",
      "source": [
        "theta"
      ],
      "metadata": {
        "colab": {
          "base_uri": "https://localhost:8080/"
        },
        "id": "5rpuVKjL5pzr",
        "outputId": "5e2b13cf-1eb2-4a6f-85d2-7e22b166d16e"
      },
      "execution_count": 25,
      "outputs": [
        {
          "output_type": "execute_result",
          "data": {
            "text/plain": [
              "array([[2.73272078],\n",
              "       [3.53488744]])"
            ]
          },
          "metadata": {},
          "execution_count": 25
        }
      ]
    },
    {
      "cell_type": "code",
      "source": [
        "cost_history\n"
      ],
      "metadata": {
        "id": "gCvw16nf5tic"
      },
      "execution_count": null,
      "outputs": []
    },
    {
      "cell_type": "code",
      "source": [
        "theta_history"
      ],
      "metadata": {
        "colab": {
          "base_uri": "https://localhost:8080/"
        },
        "id": "9oeE43-P5vmj",
        "outputId": "b0d669b2-d942-43c0-8f3a-995d87c4b5c6"
      },
      "execution_count": 22,
      "outputs": [
        {
          "output_type": "execute_result",
          "data": {
            "text/plain": [
              "array([[ 0.52357128, -0.273704  ],\n",
              "       [ 0.53055086, -0.26544035],\n",
              "       [ 0.53751461, -0.25719587],\n",
              "       ...,\n",
              "       [ 3.30814802,  2.91242904],\n",
              "       [ 3.30893019,  2.91319623],\n",
              "       [ 3.30971075,  2.9139615 ]])"
            ]
          },
          "metadata": {},
          "execution_count": 22
        }
      ]
    },
    {
      "cell_type": "code",
      "source": [
        "cost_history.shape"
      ],
      "metadata": {
        "colab": {
          "base_uri": "https://localhost:8080/"
        },
        "id": "U_xppBPM50Jm",
        "outputId": "fe1fe2bf-611f-4889-ee57-50a057dbab9e"
      },
      "execution_count": 26,
      "outputs": [
        {
          "output_type": "execute_result",
          "data": {
            "text/plain": [
              "(1000,)"
            ]
          },
          "metadata": {},
          "execution_count": 26
        }
      ]
    },
    {
      "cell_type": "code",
      "source": [
        "iter=np.linspace(1,1000,1000)"
      ],
      "metadata": {
        "id": "THCRnGn96fa9"
      },
      "execution_count": 27,
      "outputs": []
    },
    {
      "cell_type": "code",
      "source": [
        "import matplotlib.pyplot as plt"
      ],
      "metadata": {
        "id": "_rlLZWgq6i7o"
      },
      "execution_count": 28,
      "outputs": []
    },
    {
      "cell_type": "code",
      "source": [
        "plt.figure(figsize=(20,10))\n",
        "plt.scatter(iter,cost_history,c='g')\n",
        "plt.xlabel('iterations')\n",
        "plt.ylabel('cost function')\n",
        "plt.show()"
      ],
      "metadata": {
        "colab": {
          "base_uri": "https://localhost:8080/",
          "height": 606
        },
        "id": "p7IPu7L86lCY",
        "outputId": "f3986cf9-f205-4d29-fbdb-45f25699cffd"
      },
      "execution_count": 32,
      "outputs": [
        {
          "output_type": "display_data",
          "data": {
            "image/png": "[encoded data removed]",
            "text/plain": [
              "<Figure size 1440x720 with 1 Axes>"
            ]
          },
          "metadata": {
            "needs_background": "light"
          }
        }
      ]
    }
  ]
}