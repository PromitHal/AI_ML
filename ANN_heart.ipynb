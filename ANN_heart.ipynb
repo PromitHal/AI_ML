{
  "nbformat": 4,
  "nbformat_minor": 0,
  "metadata": {
    "colab": {
      "name": "ANN_heart.ipynb",
      "provenance": [],
      "authorship_tag": "ABX9TyNx1uhQzegNcl3Y2nGtvH2O",
      "include_colab_link": true
    },
    "kernelspec": {
      "name": "python3",
      "display_name": "Python 3"
    },
    "language_info": {
      "name": "python"
    }
  },
  "cells": [
    {
      "cell_type": "markdown",
      "metadata": {
        "id": "view-in-github",
        "colab_type": "text"
      },
      "source": [
        "<a href=\"https://colab.research.google.com/github/PromitHal/AI_ML/blob/main/ANN_heart.ipynb\" target=\"_parent\"><img src=\"https://colab.research.google.com/assets/colab-badge.svg\" alt=\"Open In Colab\"/></a>"
      ]
    },
    {
      "cell_type": "code",
      "execution_count": 1,
      "metadata": {
        "id": "ZgbLuAKaxQy0"
      },
      "outputs": [],
      "source": [
        "import pandas as pd\n",
        "import numpy as np"
      ]
    },
    {
      "cell_type": "code",
      "source": [
        "data=pd.read_csv('heart.csv')"
      ],
      "metadata": {
        "id": "xL6lmU0yxj9B"
      },
      "execution_count": 2,
      "outputs": []
    },
    {
      "cell_type": "code",
      "source": [
        "data.head()"
      ],
      "metadata": {
        "colab": {
          "base_uri": "https://localhost:8080/",
          "height": 206
        },
        "id": "liAYb3HAxnHK",
        "outputId": "a9a68e16-c67b-4427-ad6f-b52394aff962"
      },
      "execution_count": 3,
      "outputs": [
        {
          "output_type": "execute_result",
          "data": {
            "text/html": [
              "<div>\n",
              "<style scoped>\n",
              "    .dataframe tbody tr th:only-of-type {\n",
              "        vertical-align: middle;\n",
              "    }\n",
              "\n",
              "    .dataframe tbody tr th {\n",
              "        vertical-align: top;\n",
              "    }\n",
              "\n",
              "    .dataframe thead th {\n",
              "        text-align: right;\n",
              "    }\n",
              "</style>\n",
              "<table border=\"1\" class=\"dataframe\">\n",
              "  <thead>\n",
              "    <tr style=\"text-align: right;\">\n",
              "      <th></th>\n",
              "      <th>age</th>\n",
              "      <th>sex</th>\n",
              "      <th>cp</th>\n",
              "      <th>trestbps</th>\n",
              "      <th>chol</th>\n",
              "      <th>fbs</th>\n",
              "      <th>restecg</th>\n",
              "      <th>thalach</th>\n",
              "      <th>exang</th>\n",
              "      <th>oldpeak</th>\n",
              "      <th>slope</th>\n",
              "      <th>ca</th>\n",
              "      <th>thal</th>\n",
              "      <th>target</th>\n",
              "    </tr>\n",
              "  </thead>\n",
              "  <tbody>\n",
              "    <tr>\n",
              "      <th>0</th>\n",
              "      <td>63</td>\n",
              "      <td>1</td>\n",
              "      <td>3</td>\n",
              "      <td>145</td>\n",
              "      <td>233</td>\n",
              "      <td>1</td>\n",
              "      <td>0</td>\n",
              "      <td>150</td>\n",
              "      <td>0</td>\n",
              "      <td>2.3</td>\n",
              "      <td>0</td>\n",
              "      <td>0</td>\n",
              "      <td>1</td>\n",
              "      <td>1</td>\n",
              "    </tr>\n",
              "    <tr>\n",
              "      <th>1</th>\n",
              "      <td>37</td>\n",
              "      <td>1</td>\n",
              "      <td>2</td>\n",
              "      <td>130</td>\n",
              "      <td>250</td>\n",
              "      <td>0</td>\n",
              "      <td>1</td>\n",
              "      <td>187</td>\n",
              "      <td>0</td>\n",
              "      <td>3.5</td>\n",
              "      <td>0</td>\n",
              "      <td>0</td>\n",
              "      <td>2</td>\n",
              "      <td>1</td>\n",
              "    </tr>\n",
              "    <tr>\n",
              "      <th>2</th>\n",
              "      <td>41</td>\n",
              "      <td>0</td>\n",
              "      <td>1</td>\n",
              "      <td>130</td>\n",
              "      <td>204</td>\n",
              "      <td>0</td>\n",
              "      <td>0</td>\n",
              "      <td>172</td>\n",
              "      <td>0</td>\n",
              "      <td>1.4</td>\n",
              "      <td>2</td>\n",
              "      <td>0</td>\n",
              "      <td>2</td>\n",
              "      <td>1</td>\n",
              "    </tr>\n",
              "    <tr>\n",
              "      <th>3</th>\n",
              "      <td>56</td>\n",
              "      <td>1</td>\n",
              "      <td>1</td>\n",
              "      <td>120</td>\n",
              "      <td>236</td>\n",
              "      <td>0</td>\n",
              "      <td>1</td>\n",
              "      <td>178</td>\n",
              "      <td>0</td>\n",
              "      <td>0.8</td>\n",
              "      <td>2</td>\n",
              "      <td>0</td>\n",
              "      <td>2</td>\n",
              "      <td>1</td>\n",
              "    </tr>\n",
              "    <tr>\n",
              "      <th>4</th>\n",
              "      <td>57</td>\n",
              "      <td>0</td>\n",
              "      <td>0</td>\n",
              "      <td>120</td>\n",
              "      <td>354</td>\n",
              "      <td>0</td>\n",
              "      <td>1</td>\n",
              "      <td>163</td>\n",
              "      <td>1</td>\n",
              "      <td>0.6</td>\n",
              "      <td>2</td>\n",
              "      <td>0</td>\n",
              "      <td>2</td>\n",
              "      <td>1</td>\n",
              "    </tr>\n",
              "  </tbody>\n",
              "</table>\n",
              "</div>"
            ],
            "text/plain": [
              "   age  sex  cp  trestbps  chol  fbs  ...  exang  oldpeak  slope  ca  thal  target\n",
              "0   63    1   3       145   233    1  ...      0      2.3      0   0     1       1\n",
              "1   37    1   2       130   250    0  ...      0      3.5      0   0     2       1\n",
              "2   41    0   1       130   204    0  ...      0      1.4      2   0     2       1\n",
              "3   56    1   1       120   236    0  ...      0      0.8      2   0     2       1\n",
              "4   57    0   0       120   354    0  ...      1      0.6      2   0     2       1\n",
              "\n",
              "[5 rows x 14 columns]"
            ]
          },
          "metadata": {},
          "execution_count": 3
        }
      ]
    },
    {
      "cell_type": "code",
      "source": [
        "data.isnull().sum()\n"
      ],
      "metadata": {
        "colab": {
          "base_uri": "https://localhost:8080/"
        },
        "id": "VD2CVTc8xoc_",
        "outputId": "d7e50311-05a2-45a3-9c0f-09aaa25ac373"
      },
      "execution_count": 4,
      "outputs": [
        {
          "output_type": "execute_result",
          "data": {
            "text/plain": [
              "age         0\n",
              "sex         0\n",
              "cp          0\n",
              "trestbps    0\n",
              "chol        0\n",
              "fbs         0\n",
              "restecg     0\n",
              "thalach     0\n",
              "exang       0\n",
              "oldpeak     0\n",
              "slope       0\n",
              "ca          0\n",
              "thal        0\n",
              "target      0\n",
              "dtype: int64"
            ]
          },
          "metadata": {},
          "execution_count": 4
        }
      ]
    },
    {
      "cell_type": "code",
      "source": [
        "data.isna().sum()"
      ],
      "metadata": {
        "colab": {
          "base_uri": "https://localhost:8080/"
        },
        "id": "WoFhAYp5xsl2",
        "outputId": "0d599e1f-4971-4718-9601-678087a94a4c"
      },
      "execution_count": 5,
      "outputs": [
        {
          "output_type": "execute_result",
          "data": {
            "text/plain": [
              "age         0\n",
              "sex         0\n",
              "cp          0\n",
              "trestbps    0\n",
              "chol        0\n",
              "fbs         0\n",
              "restecg     0\n",
              "thalach     0\n",
              "exang       0\n",
              "oldpeak     0\n",
              "slope       0\n",
              "ca          0\n",
              "thal        0\n",
              "target      0\n",
              "dtype: int64"
            ]
          },
          "metadata": {},
          "execution_count": 5
        }
      ]
    },
    {
      "cell_type": "code",
      "source": [
        "X=data.drop(columns=\"target\")"
      ],
      "metadata": {
        "id": "rFwthgJZxudm"
      },
      "execution_count": 7,
      "outputs": []
    },
    {
      "cell_type": "code",
      "source": [
        "Y=data[\"target\"]"
      ],
      "metadata": {
        "id": "Mkww_o_Cx5U8"
      },
      "execution_count": 8,
      "outputs": []
    },
    {
      "cell_type": "code",
      "source": [
        "X.shape"
      ],
      "metadata": {
        "colab": {
          "base_uri": "https://localhost:8080/"
        },
        "id": "ZUVh4v7ryA4T",
        "outputId": "4515b2f6-a52e-48a4-cf48-61da710a9d5d"
      },
      "execution_count": 28,
      "outputs": [
        {
          "output_type": "execute_result",
          "data": {
            "text/plain": [
              "(303, 13)"
            ]
          },
          "metadata": {},
          "execution_count": 28
        }
      ]
    },
    {
      "cell_type": "code",
      "source": [
        "Y.head()"
      ],
      "metadata": {
        "colab": {
          "base_uri": "https://localhost:8080/"
        },
        "id": "dnROCwMLyCJt",
        "outputId": "7199eb09-8f3d-4e67-f6e5-a3ffbcfcf5e3"
      },
      "execution_count": 10,
      "outputs": [
        {
          "output_type": "execute_result",
          "data": {
            "text/plain": [
              "0    1\n",
              "1    1\n",
              "2    1\n",
              "3    1\n",
              "4    1\n",
              "Name: target, dtype: int64"
            ]
          },
          "metadata": {},
          "execution_count": 10
        }
      ]
    },
    {
      "cell_type": "markdown",
      "source": [
        "**Normalizing the data**"
      ],
      "metadata": {
        "id": "z4Qgv7p_yGcO"
      }
    },
    {
      "cell_type": "code",
      "source": [
        "from sklearn.preprocessing import MinMaxScaler\n",
        "sc=MinMaxScaler()"
      ],
      "metadata": {
        "id": "RJ1Pd01dyDSM"
      },
      "execution_count": 16,
      "outputs": []
    },
    {
      "cell_type": "code",
      "source": [
        "X_scaled=sc.fit_transform(X)"
      ],
      "metadata": {
        "id": "3nMfmGK_yOhj"
      },
      "execution_count": 17,
      "outputs": []
    },
    {
      "cell_type": "code",
      "source": [
        "X_scaled[0]"
      ],
      "metadata": {
        "colab": {
          "base_uri": "https://localhost:8080/"
        },
        "id": "aVODgWIGyTW3",
        "outputId": "3bccc696-ed77-4206-aa08-5ced7149c2a7"
      },
      "execution_count": 18,
      "outputs": [
        {
          "output_type": "execute_result",
          "data": {
            "text/plain": [
              "array([0.70833333, 1.        , 1.        , 0.48113208, 0.24429224,\n",
              "       1.        , 0.        , 0.60305344, 0.        , 0.37096774,\n",
              "       0.        , 0.        , 0.33333333])"
            ]
          },
          "metadata": {},
          "execution_count": 18
        }
      ]
    },
    {
      "cell_type": "code",
      "source": [
        "type(X_scaled)"
      ],
      "metadata": {
        "colab": {
          "base_uri": "https://localhost:8080/"
        },
        "id": "XJrNJLv5yWiA",
        "outputId": "cddd0d1e-fd29-4863-d010-f7c9be850b03"
      },
      "execution_count": 19,
      "outputs": [
        {
          "output_type": "execute_result",
          "data": {
            "text/plain": [
              "numpy.ndarray"
            ]
          },
          "metadata": {},
          "execution_count": 19
        }
      ]
    },
    {
      "cell_type": "markdown",
      "source": [
        "**One hot encoding the target variable**"
      ],
      "metadata": {
        "id": "D8sb52rmyzrk"
      }
    },
    {
      "cell_type": "code",
      "source": [
        "Y_encoded=pd.get_dummies(Y)"
      ],
      "metadata": {
        "id": "KIVqV3UWyZdQ"
      },
      "execution_count": 24,
      "outputs": []
    },
    {
      "cell_type": "code",
      "source": [
        "Y_encoded"
      ],
      "metadata": {
        "colab": {
          "base_uri": "https://localhost:8080/",
          "height": 423
        },
        "id": "RBDrfSHPzESn",
        "outputId": "64c1d80d-4b5a-448c-d986-6cb980f900dd"
      },
      "execution_count": 25,
      "outputs": [
        {
          "output_type": "execute_result",
          "data": {
            "text/html": [
              "<div>\n",
              "<style scoped>\n",
              "    .dataframe tbody tr th:only-of-type {\n",
              "        vertical-align: middle;\n",
              "    }\n",
              "\n",
              "    .dataframe tbody tr th {\n",
              "        vertical-align: top;\n",
              "    }\n",
              "\n",
              "    .dataframe thead th {\n",
              "        text-align: right;\n",
              "    }\n",
              "</style>\n",
              "<table border=\"1\" class=\"dataframe\">\n",
              "  <thead>\n",
              "    <tr style=\"text-align: right;\">\n",
              "      <th></th>\n",
              "      <th>0</th>\n",
              "      <th>1</th>\n",
              "    </tr>\n",
              "  </thead>\n",
              "  <tbody>\n",
              "    <tr>\n",
              "      <th>0</th>\n",
              "      <td>0</td>\n",
              "      <td>1</td>\n",
              "    </tr>\n",
              "    <tr>\n",
              "      <th>1</th>\n",
              "      <td>0</td>\n",
              "      <td>1</td>\n",
              "    </tr>\n",
              "    <tr>\n",
              "      <th>2</th>\n",
              "      <td>0</td>\n",
              "      <td>1</td>\n",
              "    </tr>\n",
              "    <tr>\n",
              "      <th>3</th>\n",
              "      <td>0</td>\n",
              "      <td>1</td>\n",
              "    </tr>\n",
              "    <tr>\n",
              "      <th>4</th>\n",
              "      <td>0</td>\n",
              "      <td>1</td>\n",
              "    </tr>\n",
              "    <tr>\n",
              "      <th>...</th>\n",
              "      <td>...</td>\n",
              "      <td>...</td>\n",
              "    </tr>\n",
              "    <tr>\n",
              "      <th>298</th>\n",
              "      <td>1</td>\n",
              "      <td>0</td>\n",
              "    </tr>\n",
              "    <tr>\n",
              "      <th>299</th>\n",
              "      <td>1</td>\n",
              "      <td>0</td>\n",
              "    </tr>\n",
              "    <tr>\n",
              "      <th>300</th>\n",
              "      <td>1</td>\n",
              "      <td>0</td>\n",
              "    </tr>\n",
              "    <tr>\n",
              "      <th>301</th>\n",
              "      <td>1</td>\n",
              "      <td>0</td>\n",
              "    </tr>\n",
              "    <tr>\n",
              "      <th>302</th>\n",
              "      <td>1</td>\n",
              "      <td>0</td>\n",
              "    </tr>\n",
              "  </tbody>\n",
              "</table>\n",
              "<p>303 rows × 2 columns</p>\n",
              "</div>"
            ],
            "text/plain": [
              "     0  1\n",
              "0    0  1\n",
              "1    0  1\n",
              "2    0  1\n",
              "3    0  1\n",
              "4    0  1\n",
              "..  .. ..\n",
              "298  1  0\n",
              "299  1  0\n",
              "300  1  0\n",
              "301  1  0\n",
              "302  1  0\n",
              "\n",
              "[303 rows x 2 columns]"
            ]
          },
          "metadata": {},
          "execution_count": 25
        }
      ]
    },
    {
      "cell_type": "code",
      "source": [
        "from sklearn.model_selection import train_test_split \n",
        "X_train,X_test,Y_train,Y_test=train_test_split(X_scaled,Y_encoded,test_size=0.1)"
      ],
      "metadata": {
        "id": "cajpQjzyzQfX"
      },
      "execution_count": 26,
      "outputs": []
    },
    {
      "cell_type": "markdown",
      "source": [
        "**Building ANN**"
      ],
      "metadata": {
        "id": "S1HY-Eh6zbiH"
      }
    },
    {
      "cell_type": "code",
      "source": [
        "import tensorflow as tf\n",
        "from tensorflow.keras.models import Sequential \n",
        "from keras.layers import Dense\n",
        "from keras.layers import Dropout\n",
        "from tensorflow.keras.optimizers import Adam"
      ],
      "metadata": {
        "id": "XvX_B0JxzMb1"
      },
      "execution_count": 70,
      "outputs": []
    },
    {
      "cell_type": "code",
      "source": [
        "model=Sequential()\n",
        "model.add(Dense(16,input_dim=X.shape[1],activation='relu'))\n",
        "model.add(Dense(32,activation='relu'))\n",
        "model.add(Dropout(0.2))\n",
        "model.add(Dense(64,activation='relu'))\n",
        "model.add(Dropout(0.2))\n",
        "model.add(Dense(128,activation='relu'))\n",
        "model.add(Dense(2,activation='softmax'))"
      ],
      "metadata": {
        "id": "2tLGwbawzeuY"
      },
      "execution_count": 87,
      "outputs": []
    },
    {
      "cell_type": "markdown",
      "source": [
        "**Compiling our model**"
      ],
      "metadata": {
        "id": "I7Pz2kxWzv4P"
      }
    },
    {
      "cell_type": "code",
      "source": [
        "model.compile(loss='categorical_crossentropy',optimizer='Adam',metrics=['accuracy'])"
      ],
      "metadata": {
        "id": "SmKxuAnAztl6"
      },
      "execution_count": 88,
      "outputs": []
    },
    {
      "cell_type": "code",
      "source": [
        "history=model.fit(X_train,Y_train,epochs=100,validation_split=0.1,batch_size=30)"
      ],
      "metadata": {
        "colab": {
          "base_uri": "https://localhost:8080/"
        },
        "id": "0PSKtNcczzHf",
        "outputId": "4145fe2e-8ba2-4430-dbbd-fe07d8e68205"
      },
      "execution_count": 89,
      "outputs": [
        {
          "output_type": "stream",
          "name": "stdout",
          "text": [
            "Epoch 1/100\n",
            "9/9 [==============================] - 1s 22ms/step - loss: 0.6885 - accuracy: 0.5574 - val_loss: 0.6957 - val_accuracy: 0.3929\n",
            "Epoch 2/100\n",
            "9/9 [==============================] - 0s 5ms/step - loss: 0.6710 - accuracy: 0.5574 - val_loss: 0.6812 - val_accuracy: 0.3929\n",
            "Epoch 3/100\n",
            "9/9 [==============================] - 0s 5ms/step - loss: 0.6520 - accuracy: 0.5779 - val_loss: 0.6538 - val_accuracy: 0.5357\n",
            "Epoch 4/100\n",
            "9/9 [==============================] - 0s 5ms/step - loss: 0.6196 - accuracy: 0.6803 - val_loss: 0.5943 - val_accuracy: 0.6786\n",
            "Epoch 5/100\n",
            "9/9 [==============================] - 0s 5ms/step - loss: 0.5746 - accuracy: 0.7213 - val_loss: 0.5148 - val_accuracy: 0.8214\n",
            "Epoch 6/100\n",
            "9/9 [==============================] - 0s 5ms/step - loss: 0.5241 - accuracy: 0.7746 - val_loss: 0.4342 - val_accuracy: 0.8214\n",
            "Epoch 7/100\n",
            "9/9 [==============================] - 0s 5ms/step - loss: 0.4852 - accuracy: 0.7582 - val_loss: 0.3375 - val_accuracy: 0.8929\n",
            "Epoch 8/100\n",
            "9/9 [==============================] - 0s 5ms/step - loss: 0.4576 - accuracy: 0.7992 - val_loss: 0.2934 - val_accuracy: 0.8929\n",
            "Epoch 9/100\n",
            "9/9 [==============================] - 0s 4ms/step - loss: 0.4543 - accuracy: 0.7787 - val_loss: 0.2388 - val_accuracy: 0.9286\n",
            "Epoch 10/100\n",
            "9/9 [==============================] - 0s 4ms/step - loss: 0.4273 - accuracy: 0.8197 - val_loss: 0.2391 - val_accuracy: 0.8929\n",
            "Epoch 11/100\n",
            "9/9 [==============================] - 0s 4ms/step - loss: 0.4045 - accuracy: 0.8320 - val_loss: 0.2369 - val_accuracy: 0.9286\n",
            "Epoch 12/100\n",
            "9/9 [==============================] - 0s 5ms/step - loss: 0.4225 - accuracy: 0.8279 - val_loss: 0.2703 - val_accuracy: 0.8929\n",
            "Epoch 13/100\n",
            "9/9 [==============================] - 0s 4ms/step - loss: 0.4026 - accuracy: 0.8156 - val_loss: 0.2376 - val_accuracy: 0.9286\n",
            "Epoch 14/100\n",
            "9/9 [==============================] - 0s 4ms/step - loss: 0.3890 - accuracy: 0.8279 - val_loss: 0.2441 - val_accuracy: 0.9286\n",
            "Epoch 15/100\n",
            "9/9 [==============================] - 0s 4ms/step - loss: 0.3856 - accuracy: 0.8443 - val_loss: 0.2853 - val_accuracy: 0.8929\n",
            "Epoch 16/100\n",
            "9/9 [==============================] - 0s 5ms/step - loss: 0.3990 - accuracy: 0.8033 - val_loss: 0.2581 - val_accuracy: 0.9286\n",
            "Epoch 17/100\n",
            "9/9 [==============================] - 0s 4ms/step - loss: 0.3782 - accuracy: 0.8279 - val_loss: 0.2388 - val_accuracy: 0.9286\n",
            "Epoch 18/100\n",
            "9/9 [==============================] - 0s 5ms/step - loss: 0.3656 - accuracy: 0.8443 - val_loss: 0.2843 - val_accuracy: 0.8929\n",
            "Epoch 19/100\n",
            "9/9 [==============================] - 0s 4ms/step - loss: 0.3539 - accuracy: 0.8320 - val_loss: 0.2808 - val_accuracy: 0.8929\n",
            "Epoch 20/100\n",
            "9/9 [==============================] - 0s 4ms/step - loss: 0.3959 - accuracy: 0.8238 - val_loss: 0.2500 - val_accuracy: 0.9286\n",
            "Epoch 21/100\n",
            "9/9 [==============================] - 0s 4ms/step - loss: 0.3686 - accuracy: 0.8402 - val_loss: 0.2572 - val_accuracy: 0.9286\n",
            "Epoch 22/100\n",
            "9/9 [==============================] - 0s 4ms/step - loss: 0.3460 - accuracy: 0.8566 - val_loss: 0.2679 - val_accuracy: 0.8929\n",
            "Epoch 23/100\n",
            "9/9 [==============================] - 0s 5ms/step - loss: 0.3639 - accuracy: 0.8443 - val_loss: 0.2527 - val_accuracy: 0.9286\n",
            "Epoch 24/100\n",
            "9/9 [==============================] - 0s 5ms/step - loss: 0.3621 - accuracy: 0.8238 - val_loss: 0.2859 - val_accuracy: 0.8929\n",
            "Epoch 25/100\n",
            "9/9 [==============================] - 0s 5ms/step - loss: 0.3342 - accuracy: 0.8566 - val_loss: 0.2914 - val_accuracy: 0.8929\n",
            "Epoch 26/100\n",
            "9/9 [==============================] - 0s 5ms/step - loss: 0.3454 - accuracy: 0.8484 - val_loss: 0.2511 - val_accuracy: 0.8929\n",
            "Epoch 27/100\n",
            "9/9 [==============================] - 0s 4ms/step - loss: 0.3446 - accuracy: 0.8566 - val_loss: 0.2583 - val_accuracy: 0.8929\n",
            "Epoch 28/100\n",
            "9/9 [==============================] - 0s 4ms/step - loss: 0.3167 - accuracy: 0.8689 - val_loss: 0.2425 - val_accuracy: 0.8929\n",
            "Epoch 29/100\n",
            "9/9 [==============================] - 0s 4ms/step - loss: 0.3429 - accuracy: 0.8607 - val_loss: 0.2303 - val_accuracy: 0.9286\n",
            "Epoch 30/100\n",
            "9/9 [==============================] - 0s 4ms/step - loss: 0.3263 - accuracy: 0.8525 - val_loss: 0.2514 - val_accuracy: 0.8929\n",
            "Epoch 31/100\n",
            "9/9 [==============================] - 0s 4ms/step - loss: 0.3195 - accuracy: 0.8648 - val_loss: 0.2667 - val_accuracy: 0.8929\n",
            "Epoch 32/100\n",
            "9/9 [==============================] - 0s 5ms/step - loss: 0.3265 - accuracy: 0.8648 - val_loss: 0.2334 - val_accuracy: 0.8571\n",
            "Epoch 33/100\n",
            "9/9 [==============================] - 0s 4ms/step - loss: 0.3162 - accuracy: 0.8525 - val_loss: 0.2326 - val_accuracy: 0.8929\n",
            "Epoch 34/100\n",
            "9/9 [==============================] - 0s 4ms/step - loss: 0.3285 - accuracy: 0.8484 - val_loss: 0.2564 - val_accuracy: 0.8571\n",
            "Epoch 35/100\n",
            "9/9 [==============================] - 0s 5ms/step - loss: 0.3197 - accuracy: 0.8607 - val_loss: 0.2679 - val_accuracy: 0.8929\n",
            "Epoch 36/100\n",
            "9/9 [==============================] - 0s 4ms/step - loss: 0.3235 - accuracy: 0.8484 - val_loss: 0.2391 - val_accuracy: 0.8571\n",
            "Epoch 37/100\n",
            "9/9 [==============================] - 0s 5ms/step - loss: 0.3039 - accuracy: 0.8607 - val_loss: 0.2458 - val_accuracy: 0.8929\n",
            "Epoch 38/100\n",
            "9/9 [==============================] - 0s 4ms/step - loss: 0.3099 - accuracy: 0.8443 - val_loss: 0.2800 - val_accuracy: 0.8929\n",
            "Epoch 39/100\n",
            "9/9 [==============================] - 0s 4ms/step - loss: 0.3324 - accuracy: 0.8730 - val_loss: 0.2495 - val_accuracy: 0.8571\n",
            "Epoch 40/100\n",
            "9/9 [==============================] - 0s 5ms/step - loss: 0.3175 - accuracy: 0.8607 - val_loss: 0.2636 - val_accuracy: 0.8929\n",
            "Epoch 41/100\n",
            "9/9 [==============================] - 0s 5ms/step - loss: 0.3088 - accuracy: 0.8525 - val_loss: 0.2359 - val_accuracy: 0.8929\n",
            "Epoch 42/100\n",
            "9/9 [==============================] - 0s 5ms/step - loss: 0.2965 - accuracy: 0.8811 - val_loss: 0.2324 - val_accuracy: 0.8929\n",
            "Epoch 43/100\n",
            "9/9 [==============================] - 0s 4ms/step - loss: 0.2990 - accuracy: 0.8730 - val_loss: 0.2248 - val_accuracy: 0.8929\n",
            "Epoch 44/100\n",
            "9/9 [==============================] - 0s 5ms/step - loss: 0.2991 - accuracy: 0.8934 - val_loss: 0.2351 - val_accuracy: 0.8929\n",
            "Epoch 45/100\n",
            "9/9 [==============================] - 0s 5ms/step - loss: 0.2767 - accuracy: 0.8893 - val_loss: 0.2478 - val_accuracy: 0.8929\n",
            "Epoch 46/100\n",
            "9/9 [==============================] - 0s 5ms/step - loss: 0.2932 - accuracy: 0.8770 - val_loss: 0.2442 - val_accuracy: 0.8929\n",
            "Epoch 47/100\n",
            "9/9 [==============================] - 0s 5ms/step - loss: 0.2737 - accuracy: 0.8893 - val_loss: 0.2099 - val_accuracy: 0.8929\n",
            "Epoch 48/100\n",
            "9/9 [==============================] - 0s 5ms/step - loss: 0.2896 - accuracy: 0.8934 - val_loss: 0.2595 - val_accuracy: 0.8929\n",
            "Epoch 49/100\n",
            "9/9 [==============================] - 0s 5ms/step - loss: 0.2643 - accuracy: 0.8852 - val_loss: 0.2512 - val_accuracy: 0.8929\n",
            "Epoch 50/100\n",
            "9/9 [==============================] - 0s 6ms/step - loss: 0.2855 - accuracy: 0.8852 - val_loss: 0.2497 - val_accuracy: 0.8929\n",
            "Epoch 51/100\n",
            "9/9 [==============================] - 0s 5ms/step - loss: 0.2460 - accuracy: 0.8852 - val_loss: 0.2362 - val_accuracy: 0.8929\n",
            "Epoch 52/100\n",
            "9/9 [==============================] - 0s 5ms/step - loss: 0.2935 - accuracy: 0.8730 - val_loss: 0.2376 - val_accuracy: 0.8929\n",
            "Epoch 53/100\n",
            "9/9 [==============================] - 0s 5ms/step - loss: 0.2724 - accuracy: 0.8975 - val_loss: 0.2209 - val_accuracy: 0.8929\n",
            "Epoch 54/100\n",
            "9/9 [==============================] - 0s 4ms/step - loss: 0.2638 - accuracy: 0.8811 - val_loss: 0.2329 - val_accuracy: 0.8929\n",
            "Epoch 55/100\n",
            "9/9 [==============================] - 0s 5ms/step - loss: 0.2697 - accuracy: 0.8893 - val_loss: 0.2367 - val_accuracy: 0.8929\n",
            "Epoch 56/100\n",
            "9/9 [==============================] - 0s 4ms/step - loss: 0.2763 - accuracy: 0.8975 - val_loss: 0.2338 - val_accuracy: 0.8929\n",
            "Epoch 57/100\n",
            "9/9 [==============================] - 0s 4ms/step - loss: 0.2729 - accuracy: 0.8893 - val_loss: 0.2551 - val_accuracy: 0.8929\n",
            "Epoch 58/100\n",
            "9/9 [==============================] - 0s 5ms/step - loss: 0.2770 - accuracy: 0.8811 - val_loss: 0.2524 - val_accuracy: 0.8929\n",
            "Epoch 59/100\n",
            "9/9 [==============================] - 0s 7ms/step - loss: 0.2557 - accuracy: 0.8934 - val_loss: 0.2426 - val_accuracy: 0.8929\n",
            "Epoch 60/100\n",
            "9/9 [==============================] - 0s 5ms/step - loss: 0.2521 - accuracy: 0.8975 - val_loss: 0.2391 - val_accuracy: 0.8929\n",
            "Epoch 61/100\n",
            "9/9 [==============================] - 0s 4ms/step - loss: 0.2623 - accuracy: 0.8648 - val_loss: 0.2515 - val_accuracy: 0.8929\n",
            "Epoch 62/100\n",
            "9/9 [==============================] - 0s 4ms/step - loss: 0.2468 - accuracy: 0.8934 - val_loss: 0.2893 - val_accuracy: 0.8929\n",
            "Epoch 63/100\n",
            "9/9 [==============================] - 0s 5ms/step - loss: 0.2598 - accuracy: 0.8852 - val_loss: 0.2578 - val_accuracy: 0.8929\n",
            "Epoch 64/100\n",
            "9/9 [==============================] - 0s 5ms/step - loss: 0.2413 - accuracy: 0.9057 - val_loss: 0.2535 - val_accuracy: 0.8929\n",
            "Epoch 65/100\n",
            "9/9 [==============================] - 0s 5ms/step - loss: 0.2371 - accuracy: 0.9098 - val_loss: 0.2627 - val_accuracy: 0.8929\n",
            "Epoch 66/100\n",
            "9/9 [==============================] - 0s 4ms/step - loss: 0.2600 - accuracy: 0.8893 - val_loss: 0.2427 - val_accuracy: 0.8929\n",
            "Epoch 67/100\n",
            "9/9 [==============================] - 0s 5ms/step - loss: 0.2763 - accuracy: 0.8852 - val_loss: 0.2979 - val_accuracy: 0.8929\n",
            "Epoch 68/100\n",
            "9/9 [==============================] - 0s 5ms/step - loss: 0.2435 - accuracy: 0.9057 - val_loss: 0.2519 - val_accuracy: 0.8929\n",
            "Epoch 69/100\n",
            "9/9 [==============================] - 0s 5ms/step - loss: 0.2433 - accuracy: 0.8975 - val_loss: 0.2845 - val_accuracy: 0.8929\n",
            "Epoch 70/100\n",
            "9/9 [==============================] - 0s 6ms/step - loss: 0.2471 - accuracy: 0.8811 - val_loss: 0.2629 - val_accuracy: 0.8929\n",
            "Epoch 71/100\n",
            "9/9 [==============================] - 0s 5ms/step - loss: 0.2313 - accuracy: 0.9057 - val_loss: 0.3199 - val_accuracy: 0.8929\n",
            "Epoch 72/100\n",
            "9/9 [==============================] - 0s 4ms/step - loss: 0.2334 - accuracy: 0.9098 - val_loss: 0.2946 - val_accuracy: 0.8929\n",
            "Epoch 73/100\n",
            "9/9 [==============================] - 0s 4ms/step - loss: 0.2214 - accuracy: 0.9057 - val_loss: 0.2920 - val_accuracy: 0.8929\n",
            "Epoch 74/100\n",
            "9/9 [==============================] - 0s 5ms/step - loss: 0.2376 - accuracy: 0.8975 - val_loss: 0.3049 - val_accuracy: 0.8929\n",
            "Epoch 75/100\n",
            "9/9 [==============================] - 0s 4ms/step - loss: 0.2283 - accuracy: 0.8975 - val_loss: 0.3029 - val_accuracy: 0.8929\n",
            "Epoch 76/100\n",
            "9/9 [==============================] - 0s 4ms/step - loss: 0.2167 - accuracy: 0.9098 - val_loss: 0.3314 - val_accuracy: 0.8929\n",
            "Epoch 77/100\n",
            "9/9 [==============================] - 0s 5ms/step - loss: 0.2395 - accuracy: 0.8811 - val_loss: 0.3143 - val_accuracy: 0.8929\n",
            "Epoch 78/100\n",
            "9/9 [==============================] - 0s 5ms/step - loss: 0.2229 - accuracy: 0.8975 - val_loss: 0.3517 - val_accuracy: 0.8571\n",
            "Epoch 79/100\n",
            "9/9 [==============================] - 0s 5ms/step - loss: 0.2134 - accuracy: 0.9303 - val_loss: 0.2746 - val_accuracy: 0.8929\n",
            "Epoch 80/100\n",
            "9/9 [==============================] - 0s 4ms/step - loss: 0.2561 - accuracy: 0.8730 - val_loss: 0.3501 - val_accuracy: 0.8929\n",
            "Epoch 81/100\n",
            "9/9 [==============================] - 0s 5ms/step - loss: 0.2385 - accuracy: 0.8975 - val_loss: 0.3712 - val_accuracy: 0.8929\n",
            "Epoch 82/100\n",
            "9/9 [==============================] - 0s 4ms/step - loss: 0.2039 - accuracy: 0.9180 - val_loss: 0.3051 - val_accuracy: 0.8929\n",
            "Epoch 83/100\n",
            "9/9 [==============================] - 0s 4ms/step - loss: 0.1965 - accuracy: 0.9221 - val_loss: 0.3258 - val_accuracy: 0.8929\n",
            "Epoch 84/100\n",
            "9/9 [==============================] - 0s 5ms/step - loss: 0.2151 - accuracy: 0.9180 - val_loss: 0.3819 - val_accuracy: 0.8571\n",
            "Epoch 85/100\n",
            "9/9 [==============================] - 0s 4ms/step - loss: 0.1902 - accuracy: 0.9180 - val_loss: 0.3023 - val_accuracy: 0.8571\n",
            "Epoch 86/100\n",
            "9/9 [==============================] - 0s 5ms/step - loss: 0.2262 - accuracy: 0.9139 - val_loss: 0.3196 - val_accuracy: 0.8929\n",
            "Epoch 87/100\n",
            "9/9 [==============================] - 0s 4ms/step - loss: 0.1896 - accuracy: 0.9262 - val_loss: 0.3390 - val_accuracy: 0.8929\n",
            "Epoch 88/100\n",
            "9/9 [==============================] - 0s 5ms/step - loss: 0.1905 - accuracy: 0.9303 - val_loss: 0.3093 - val_accuracy: 0.8929\n",
            "Epoch 89/100\n",
            "9/9 [==============================] - 0s 4ms/step - loss: 0.1863 - accuracy: 0.9344 - val_loss: 0.3149 - val_accuracy: 0.8571\n",
            "Epoch 90/100\n",
            "9/9 [==============================] - 0s 4ms/step - loss: 0.1816 - accuracy: 0.9262 - val_loss: 0.3786 - val_accuracy: 0.8929\n",
            "Epoch 91/100\n",
            "9/9 [==============================] - 0s 4ms/step - loss: 0.1956 - accuracy: 0.9180 - val_loss: 0.3174 - val_accuracy: 0.8929\n",
            "Epoch 92/100\n",
            "9/9 [==============================] - 0s 4ms/step - loss: 0.1820 - accuracy: 0.9303 - val_loss: 0.3248 - val_accuracy: 0.8571\n",
            "Epoch 93/100\n",
            "9/9 [==============================] - 0s 4ms/step - loss: 0.1893 - accuracy: 0.9139 - val_loss: 0.4081 - val_accuracy: 0.8571\n",
            "Epoch 94/100\n",
            "9/9 [==============================] - 0s 5ms/step - loss: 0.1857 - accuracy: 0.9221 - val_loss: 0.3581 - val_accuracy: 0.8571\n",
            "Epoch 95/100\n",
            "9/9 [==============================] - 0s 5ms/step - loss: 0.2013 - accuracy: 0.9303 - val_loss: 0.3966 - val_accuracy: 0.8929\n",
            "Epoch 96/100\n",
            "9/9 [==============================] - 0s 5ms/step - loss: 0.1862 - accuracy: 0.9262 - val_loss: 0.3489 - val_accuracy: 0.8571\n",
            "Epoch 97/100\n",
            "9/9 [==============================] - 0s 4ms/step - loss: 0.1747 - accuracy: 0.9344 - val_loss: 0.3518 - val_accuracy: 0.8571\n",
            "Epoch 98/100\n",
            "9/9 [==============================] - 0s 4ms/step - loss: 0.1807 - accuracy: 0.9303 - val_loss: 0.4319 - val_accuracy: 0.8929\n",
            "Epoch 99/100\n",
            "9/9 [==============================] - 0s 4ms/step - loss: 0.1707 - accuracy: 0.9221 - val_loss: 0.3615 - val_accuracy: 0.8571\n",
            "Epoch 100/100\n",
            "9/9 [==============================] - 0s 4ms/step - loss: 0.1793 - accuracy: 0.9180 - val_loss: 0.3692 - val_accuracy: 0.8571\n"
          ]
        }
      ]
    },
    {
      "cell_type": "code",
      "source": [
        "!pip install plot_keras_history"
      ],
      "metadata": {
        "colab": {
          "base_uri": "https://localhost:8080/"
        },
        "id": "l8iOs6-S0Nxi",
        "outputId": "8ebd1a90-2f4d-42ce-bcf3-91ddb4457d70"
      },
      "execution_count": 40,
      "outputs": [
        {
          "output_type": "stream",
          "name": "stdout",
          "text": [
            "Collecting plot_keras_history\n",
            "  Downloading plot_keras_history-1.1.30.tar.gz (8.6 kB)\n",
            "Requirement already satisfied: matplotlib in /usr/local/lib/python3.7/dist-packages (from plot_keras_history) (3.2.2)\n",
            "Requirement already satisfied: pandas in /usr/local/lib/python3.7/dist-packages (from plot_keras_history) (1.1.5)\n",
            "Requirement already satisfied: scipy in /usr/local/lib/python3.7/dist-packages (from plot_keras_history) (1.4.1)\n",
            "Collecting sanitize_ml_labels>=1.0.28\n",
            "  Downloading sanitize_ml_labels-1.0.29.tar.gz (7.4 kB)\n",
            "Collecting compress_json\n",
            "  Downloading compress_json-1.0.4.tar.gz (4.7 kB)\n",
            "Requirement already satisfied: pyparsing!=2.0.4,!=2.1.2,!=2.1.6,>=2.0.1 in /usr/local/lib/python3.7/dist-packages (from matplotlib->plot_keras_history) (3.0.6)\n",
            "Requirement already satisfied: cycler>=0.10 in /usr/local/lib/python3.7/dist-packages (from matplotlib->plot_keras_history) (0.11.0)\n",
            "Requirement already satisfied: numpy>=1.11 in /usr/local/lib/python3.7/dist-packages (from matplotlib->plot_keras_history) (1.19.5)\n",
            "Requirement already satisfied: python-dateutil>=2.1 in /usr/local/lib/python3.7/dist-packages (from matplotlib->plot_keras_history) (2.8.2)\n",
            "Requirement already satisfied: kiwisolver>=1.0.1 in /usr/local/lib/python3.7/dist-packages (from matplotlib->plot_keras_history) (1.3.2)\n",
            "Requirement already satisfied: six>=1.5 in /usr/local/lib/python3.7/dist-packages (from python-dateutil>=2.1->matplotlib->plot_keras_history) (1.15.0)\n",
            "Requirement already satisfied: pytz>=2017.2 in /usr/local/lib/python3.7/dist-packages (from pandas->plot_keras_history) (2018.9)\n",
            "Building wheels for collected packages: plot-keras-history, sanitize-ml-labels, compress-json\n",
            "  Building wheel for plot-keras-history (setup.py) ... \u001b[?25l\u001b[?25hdone\n",
            "  Created wheel for plot-keras-history: filename=plot_keras_history-1.1.30-py3-none-any.whl size=8793 sha256=3b48a93873d52cbeb4a718e8ba00b6f64e8b41dab1ca17b1be8fafb912b9fc90\n",
            "  Stored in directory: /root/.cache/pip/wheels/b0/60/47/8c5aa37c06be5e97879ec467bc2e6a30b315d95f662c63a503\n",
            "  Building wheel for sanitize-ml-labels (setup.py) ... \u001b[?25l\u001b[?25hdone\n",
            "  Created wheel for sanitize-ml-labels: filename=sanitize_ml_labels-1.0.29-py3-none-any.whl size=7877 sha256=12ec21932a30fb6f23e89a1f410e35d13a78c902d66a3d4670b07d4fd9a97ea3\n",
            "  Stored in directory: /root/.cache/pip/wheels/c2/f5/71/d1c459da10abec864a1979b449edbf37d4a82ab3e38a3625a8\n",
            "  Building wheel for compress-json (setup.py) ... \u001b[?25l\u001b[?25hdone\n",
            "  Created wheel for compress-json: filename=compress_json-1.0.4-py3-none-any.whl size=4585 sha256=85a430efd9f3393e646f97af7227e5a10ecbe48c29284152c4aa399877d8c29a\n",
            "  Stored in directory: /root/.cache/pip/wheels/1e/ef/1e/5d403c5632b0462471a8d26049d0c138134d0255ec60ce4c14\n",
            "Successfully built plot-keras-history sanitize-ml-labels compress-json\n",
            "Installing collected packages: compress-json, sanitize-ml-labels, plot-keras-history\n",
            "Successfully installed compress-json-1.0.4 plot-keras-history-1.1.30 sanitize-ml-labels-1.0.29\n"
          ]
        }
      ]
    },
    {
      "cell_type": "code",
      "source": [
        "from plot_keras_history import show_history, plot_history"
      ],
      "metadata": {
        "id": "9TwRqfE90GJ3"
      },
      "execution_count": 90,
      "outputs": []
    },
    {
      "cell_type": "code",
      "source": [
        "show_history(history)"
      ],
      "metadata": {
        "colab": {
          "base_uri": "https://localhost:8080/",
          "height": 385
        },
        "id": "OAL_zZU00L8I",
        "outputId": "8bcde584-c38e-4e1f-91a8-533ef9d76c79"
      },
      "execution_count": 91,
      "outputs": [
        {
          "output_type": "display_data",
          "data": {
            "image/png": "[encoded data removed]",
            "text/plain": [
              "<Figure size 720x360 with 2 Axes>"
            ]
          },
          "metadata": {
            "needs_background": "light"
          }
        }
      ]
    },
    {
      "cell_type": "code",
      "source": [
        "plot_history(history)"
      ],
      "metadata": {
        "colab": {
          "base_uri": "https://localhost:8080/",
          "height": 458
        },
        "id": "EtvHrmPH0U_O",
        "outputId": "60bcf456-2333-4f02-87cf-9db888a49427"
      },
      "execution_count": 96,
      "outputs": [
        {
          "output_type": "execute_result",
          "data": {
            "text/plain": [
              "(<Figure size 720x360 with 2 Axes>,\n",
              " array([<matplotlib.axes._subplots.AxesSubplot object at 0x7efbf47b8e10>,\n",
              "        <matplotlib.axes._subplots.AxesSubplot object at 0x7efbf489b110>],\n",
              "       dtype=object))"
            ]
          },
          "metadata": {},
          "execution_count": 96
        },
        {
          "output_type": "display_data",
          "data": {
            "image/png": "[encoded data removed]",
            "text/plain": [
              "<Figure size 720x360 with 2 Axes>"
            ]
          },
          "metadata": {
            "needs_background": "light"
          }
        }
      ]
    },
    {
      "cell_type": "markdown",
      "source": [
        "Predictions"
      ],
      "metadata": {
        "id": "fcPL2QRP3cIG"
      }
    },
    {
      "cell_type": "code",
      "source": [
        "predict=model.predict(X_test)"
      ],
      "metadata": {
        "id": "lz30jlAv3de8"
      },
      "execution_count": 93,
      "outputs": []
    },
    {
      "cell_type": "code",
      "source": [
        "from sklearn.metrics import accuracy_score"
      ],
      "metadata": {
        "id": "ZMIw1Sgb3idM"
      },
      "execution_count": 94,
      "outputs": []
    },
    {
      "cell_type": "code",
      "source": [
        ""
      ],
      "metadata": {
        "id": "UPhzMJ0J3wsM"
      },
      "execution_count": null,
      "outputs": []
    },
    {
      "cell_type": "code",
      "source": [
        "score=accuracy_score(Y_test,predict)"
      ],
      "metadata": {
        "colab": {
          "base_uri": "https://localhost:8080/",
          "height": 323
        },
        "id": "GRP8134y3pJG",
        "outputId": "82fb5cae-0390-4d66-de1e-73092b65edec"
      },
      "execution_count": 95,
      "outputs": [
        {
          "output_type": "error",
          "ename": "ValueError",
          "evalue": "ignored",
          "traceback": [
            "\u001b[0;31m---------------------------------------------------------------------------\u001b[0m",
            "\u001b[0;31mValueError\u001b[0m                                Traceback (most recent call last)",
            "\u001b[0;32m<ipython-input-95-f2139be2c369>\u001b[0m in \u001b[0;36m<module>\u001b[0;34m()\u001b[0m\n\u001b[0;32m----> 1\u001b[0;31m \u001b[0mscore\u001b[0m\u001b[0;34m=\u001b[0m\u001b[0maccuracy_score\u001b[0m\u001b[0;34m(\u001b[0m\u001b[0mY_test\u001b[0m\u001b[0;34m,\u001b[0m\u001b[0mpredict\u001b[0m\u001b[0;34m)\u001b[0m\u001b[0;34m\u001b[0m\u001b[0;34m\u001b[0m\u001b[0m\n\u001b[0m",
            "\u001b[0;32m/usr/local/lib/python3.7/dist-packages/sklearn/metrics/_classification.py\u001b[0m in \u001b[0;36maccuracy_score\u001b[0;34m(y_true, y_pred, normalize, sample_weight)\u001b[0m\n\u001b[1;32m    203\u001b[0m \u001b[0;34m\u001b[0m\u001b[0m\n\u001b[1;32m    204\u001b[0m     \u001b[0;31m# Compute accuracy for each possible representation\u001b[0m\u001b[0;34m\u001b[0m\u001b[0;34m\u001b[0m\u001b[0;34m\u001b[0m\u001b[0m\n\u001b[0;32m--> 205\u001b[0;31m     \u001b[0my_type\u001b[0m\u001b[0;34m,\u001b[0m \u001b[0my_true\u001b[0m\u001b[0;34m,\u001b[0m \u001b[0my_pred\u001b[0m \u001b[0;34m=\u001b[0m \u001b[0m_check_targets\u001b[0m\u001b[0;34m(\u001b[0m\u001b[0my_true\u001b[0m\u001b[0;34m,\u001b[0m \u001b[0my_pred\u001b[0m\u001b[0;34m)\u001b[0m\u001b[0;34m\u001b[0m\u001b[0;34m\u001b[0m\u001b[0m\n\u001b[0m\u001b[1;32m    206\u001b[0m     \u001b[0mcheck_consistent_length\u001b[0m\u001b[0;34m(\u001b[0m\u001b[0my_true\u001b[0m\u001b[0;34m,\u001b[0m \u001b[0my_pred\u001b[0m\u001b[0;34m,\u001b[0m \u001b[0msample_weight\u001b[0m\u001b[0;34m)\u001b[0m\u001b[0;34m\u001b[0m\u001b[0;34m\u001b[0m\u001b[0m\n\u001b[1;32m    207\u001b[0m     \u001b[0;32mif\u001b[0m \u001b[0my_type\u001b[0m\u001b[0;34m.\u001b[0m\u001b[0mstartswith\u001b[0m\u001b[0;34m(\u001b[0m\u001b[0;34m\"multilabel\"\u001b[0m\u001b[0;34m)\u001b[0m\u001b[0;34m:\u001b[0m\u001b[0;34m\u001b[0m\u001b[0;34m\u001b[0m\u001b[0m\n",
            "\u001b[0;32m/usr/local/lib/python3.7/dist-packages/sklearn/metrics/_classification.py\u001b[0m in \u001b[0;36m_check_targets\u001b[0;34m(y_true, y_pred)\u001b[0m\n\u001b[1;32m     93\u001b[0m         raise ValueError(\n\u001b[1;32m     94\u001b[0m             \"Classification metrics can't handle a mix of {0} and {1} targets\".format(\n\u001b[0;32m---> 95\u001b[0;31m                 \u001b[0mtype_true\u001b[0m\u001b[0;34m,\u001b[0m \u001b[0mtype_pred\u001b[0m\u001b[0;34m\u001b[0m\u001b[0;34m\u001b[0m\u001b[0m\n\u001b[0m\u001b[1;32m     96\u001b[0m             )\n\u001b[1;32m     97\u001b[0m         )\n",
            "\u001b[0;31mValueError\u001b[0m: Classification metrics can't handle a mix of multilabel-indicator and continuous-multioutput targets"
          ]
        }
      ]
    }
  ]
}