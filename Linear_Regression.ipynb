{
  "nbformat": 4,
  "nbformat_minor": 0,
  "metadata": {
    "colab": {
      "name": "Linear_Regression.ipynb",
      "provenance": [],
      "collapsed_sections": [],
      "authorship_tag": "ABX9TyNPh73mv8aZjbUmoNEe9mma",
      "include_colab_link": true
    },
    "kernelspec": {
      "name": "python3",
      "display_name": "Python 3"
    },
    "language_info": {
      "name": "python"
    }
  },
  "cells": [
    {
      "cell_type": "markdown",
      "metadata": {
        "id": "view-in-github",
        "colab_type": "text"
      },
      "source": [
        "<a href=\"https://colab.research.google.com/github/PromitHal/AI_ML/blob/main/Linear_Regression.ipynb\" target=\"_parent\"><img src=\"https://colab.research.google.com/assets/colab-badge.svg\" alt=\"Open In Colab\"/></a>"
      ]
    },
    {
      "cell_type": "code",
      "execution_count": 1,
      "metadata": {
        "id": "ipLXhZrmnE5I"
      },
      "outputs": [],
      "source": [
        "import pandas as pd \n",
        "import numpy as np"
      ]
    },
    {
      "cell_type": "code",
      "source": [
        "df=pd.read_csv('house_sales.csv')"
      ],
      "metadata": {
        "id": "M5p8M_2Fnk9a"
      },
      "execution_count": 2,
      "outputs": []
    },
    {
      "cell_type": "code",
      "source": [
        "df.head()\n"
      ],
      "metadata": {
        "colab": {
          "base_uri": "https://localhost:8080/",
          "height": 226
        },
        "id": "N6ISmLBwnp2B",
        "outputId": "9413c23b-268b-4df9-d40b-464db50c875d"
      },
      "execution_count": 3,
      "outputs": [
        {
          "output_type": "execute_result",
          "data": {
            "text/html": [
              "<div>\n",
              "<style scoped>\n",
              "    .dataframe tbody tr th:only-of-type {\n",
              "        vertical-align: middle;\n",
              "    }\n",
              "\n",
              "    .dataframe tbody tr th {\n",
              "        vertical-align: top;\n",
              "    }\n",
              "\n",
              "    .dataframe thead th {\n",
              "        text-align: right;\n",
              "    }\n",
              "</style>\n",
              "<table border=\"1\" class=\"dataframe\">\n",
              "  <thead>\n",
              "    <tr style=\"text-align: right;\">\n",
              "      <th></th>\n",
              "      <th>price</th>\n",
              "      <th>resid_area</th>\n",
              "      <th>air_qual</th>\n",
              "      <th>room_num</th>\n",
              "      <th>age</th>\n",
              "      <th>dist1</th>\n",
              "      <th>dist2</th>\n",
              "      <th>dist3</th>\n",
              "      <th>dist4</th>\n",
              "      <th>teachers</th>\n",
              "      <th>poor_prop</th>\n",
              "      <th>airport</th>\n",
              "      <th>n_hos_beds</th>\n",
              "      <th>n_hot_rooms</th>\n",
              "      <th>waterbody</th>\n",
              "      <th>rainfall</th>\n",
              "      <th>bus_ter</th>\n",
              "      <th>parks</th>\n",
              "    </tr>\n",
              "  </thead>\n",
              "  <tbody>\n",
              "    <tr>\n",
              "      <th>0</th>\n",
              "      <td>24.0</td>\n",
              "      <td>32.31</td>\n",
              "      <td>0.538</td>\n",
              "      <td>6.575</td>\n",
              "      <td>65.2</td>\n",
              "      <td>4.35</td>\n",
              "      <td>3.81</td>\n",
              "      <td>4.18</td>\n",
              "      <td>4.01</td>\n",
              "      <td>24.7</td>\n",
              "      <td>4.98</td>\n",
              "      <td>YES</td>\n",
              "      <td>5.480</td>\n",
              "      <td>11.1920</td>\n",
              "      <td>River</td>\n",
              "      <td>23</td>\n",
              "      <td>YES</td>\n",
              "      <td>0.049347</td>\n",
              "    </tr>\n",
              "    <tr>\n",
              "      <th>1</th>\n",
              "      <td>21.6</td>\n",
              "      <td>37.07</td>\n",
              "      <td>0.469</td>\n",
              "      <td>6.421</td>\n",
              "      <td>78.9</td>\n",
              "      <td>4.99</td>\n",
              "      <td>4.70</td>\n",
              "      <td>5.12</td>\n",
              "      <td>5.06</td>\n",
              "      <td>22.2</td>\n",
              "      <td>9.14</td>\n",
              "      <td>NO</td>\n",
              "      <td>7.332</td>\n",
              "      <td>12.1728</td>\n",
              "      <td>Lake</td>\n",
              "      <td>42</td>\n",
              "      <td>YES</td>\n",
              "      <td>0.046146</td>\n",
              "    </tr>\n",
              "    <tr>\n",
              "      <th>2</th>\n",
              "      <td>34.7</td>\n",
              "      <td>37.07</td>\n",
              "      <td>0.469</td>\n",
              "      <td>7.185</td>\n",
              "      <td>61.1</td>\n",
              "      <td>5.03</td>\n",
              "      <td>4.86</td>\n",
              "      <td>5.01</td>\n",
              "      <td>4.97</td>\n",
              "      <td>22.2</td>\n",
              "      <td>4.03</td>\n",
              "      <td>NO</td>\n",
              "      <td>7.394</td>\n",
              "      <td>101.1200</td>\n",
              "      <td>None</td>\n",
              "      <td>38</td>\n",
              "      <td>YES</td>\n",
              "      <td>0.045764</td>\n",
              "    </tr>\n",
              "    <tr>\n",
              "      <th>3</th>\n",
              "      <td>33.4</td>\n",
              "      <td>32.18</td>\n",
              "      <td>0.458</td>\n",
              "      <td>6.998</td>\n",
              "      <td>45.8</td>\n",
              "      <td>6.21</td>\n",
              "      <td>5.93</td>\n",
              "      <td>6.16</td>\n",
              "      <td>5.96</td>\n",
              "      <td>21.3</td>\n",
              "      <td>2.94</td>\n",
              "      <td>YES</td>\n",
              "      <td>9.268</td>\n",
              "      <td>11.2672</td>\n",
              "      <td>Lake</td>\n",
              "      <td>45</td>\n",
              "      <td>YES</td>\n",
              "      <td>0.047151</td>\n",
              "    </tr>\n",
              "    <tr>\n",
              "      <th>4</th>\n",
              "      <td>36.2</td>\n",
              "      <td>32.18</td>\n",
              "      <td>0.458</td>\n",
              "      <td>7.147</td>\n",
              "      <td>54.2</td>\n",
              "      <td>6.16</td>\n",
              "      <td>5.86</td>\n",
              "      <td>6.37</td>\n",
              "      <td>5.86</td>\n",
              "      <td>21.3</td>\n",
              "      <td>5.33</td>\n",
              "      <td>NO</td>\n",
              "      <td>8.824</td>\n",
              "      <td>11.2896</td>\n",
              "      <td>Lake</td>\n",
              "      <td>55</td>\n",
              "      <td>YES</td>\n",
              "      <td>0.039474</td>\n",
              "    </tr>\n",
              "  </tbody>\n",
              "</table>\n",
              "</div>"
            ],
            "text/plain": [
              "   price  resid_area  air_qual  room_num  ...  waterbody  rainfall  bus_ter     parks\n",
              "0   24.0       32.31     0.538     6.575  ...      River        23      YES  0.049347\n",
              "1   21.6       37.07     0.469     6.421  ...       Lake        42      YES  0.046146\n",
              "2   34.7       37.07     0.469     7.185  ...       None        38      YES  0.045764\n",
              "3   33.4       32.18     0.458     6.998  ...       Lake        45      YES  0.047151\n",
              "4   36.2       32.18     0.458     7.147  ...       Lake        55      YES  0.039474\n",
              "\n",
              "[5 rows x 18 columns]"
            ]
          },
          "metadata": {},
          "execution_count": 3
        }
      ]
    },
    {
      "cell_type": "code",
      "source": [
        "del df['parks']"
      ],
      "metadata": {
        "id": "IrartUycnuAz"
      },
      "execution_count": 4,
      "outputs": []
    },
    {
      "cell_type": "code",
      "source": [
        "df.head()"
      ],
      "metadata": {
        "colab": {
          "base_uri": "https://localhost:8080/",
          "height": 226
        },
        "id": "55flYAXJnxbe",
        "outputId": "0f6846c6-6fc7-4eda-dd53-a3a2fb11c0c1"
      },
      "execution_count": 5,
      "outputs": [
        {
          "output_type": "execute_result",
          "data": {
            "text/html": [
              "<div>\n",
              "<style scoped>\n",
              "    .dataframe tbody tr th:only-of-type {\n",
              "        vertical-align: middle;\n",
              "    }\n",
              "\n",
              "    .dataframe tbody tr th {\n",
              "        vertical-align: top;\n",
              "    }\n",
              "\n",
              "    .dataframe thead th {\n",
              "        text-align: right;\n",
              "    }\n",
              "</style>\n",
              "<table border=\"1\" class=\"dataframe\">\n",
              "  <thead>\n",
              "    <tr style=\"text-align: right;\">\n",
              "      <th></th>\n",
              "      <th>price</th>\n",
              "      <th>resid_area</th>\n",
              "      <th>air_qual</th>\n",
              "      <th>room_num</th>\n",
              "      <th>age</th>\n",
              "      <th>dist1</th>\n",
              "      <th>dist2</th>\n",
              "      <th>dist3</th>\n",
              "      <th>dist4</th>\n",
              "      <th>teachers</th>\n",
              "      <th>poor_prop</th>\n",
              "      <th>airport</th>\n",
              "      <th>n_hos_beds</th>\n",
              "      <th>n_hot_rooms</th>\n",
              "      <th>waterbody</th>\n",
              "      <th>rainfall</th>\n",
              "      <th>bus_ter</th>\n",
              "    </tr>\n",
              "  </thead>\n",
              "  <tbody>\n",
              "    <tr>\n",
              "      <th>0</th>\n",
              "      <td>24.0</td>\n",
              "      <td>32.31</td>\n",
              "      <td>0.538</td>\n",
              "      <td>6.575</td>\n",
              "      <td>65.2</td>\n",
              "      <td>4.35</td>\n",
              "      <td>3.81</td>\n",
              "      <td>4.18</td>\n",
              "      <td>4.01</td>\n",
              "      <td>24.7</td>\n",
              "      <td>4.98</td>\n",
              "      <td>YES</td>\n",
              "      <td>5.480</td>\n",
              "      <td>11.1920</td>\n",
              "      <td>River</td>\n",
              "      <td>23</td>\n",
              "      <td>YES</td>\n",
              "    </tr>\n",
              "    <tr>\n",
              "      <th>1</th>\n",
              "      <td>21.6</td>\n",
              "      <td>37.07</td>\n",
              "      <td>0.469</td>\n",
              "      <td>6.421</td>\n",
              "      <td>78.9</td>\n",
              "      <td>4.99</td>\n",
              "      <td>4.70</td>\n",
              "      <td>5.12</td>\n",
              "      <td>5.06</td>\n",
              "      <td>22.2</td>\n",
              "      <td>9.14</td>\n",
              "      <td>NO</td>\n",
              "      <td>7.332</td>\n",
              "      <td>12.1728</td>\n",
              "      <td>Lake</td>\n",
              "      <td>42</td>\n",
              "      <td>YES</td>\n",
              "    </tr>\n",
              "    <tr>\n",
              "      <th>2</th>\n",
              "      <td>34.7</td>\n",
              "      <td>37.07</td>\n",
              "      <td>0.469</td>\n",
              "      <td>7.185</td>\n",
              "      <td>61.1</td>\n",
              "      <td>5.03</td>\n",
              "      <td>4.86</td>\n",
              "      <td>5.01</td>\n",
              "      <td>4.97</td>\n",
              "      <td>22.2</td>\n",
              "      <td>4.03</td>\n",
              "      <td>NO</td>\n",
              "      <td>7.394</td>\n",
              "      <td>101.1200</td>\n",
              "      <td>None</td>\n",
              "      <td>38</td>\n",
              "      <td>YES</td>\n",
              "    </tr>\n",
              "    <tr>\n",
              "      <th>3</th>\n",
              "      <td>33.4</td>\n",
              "      <td>32.18</td>\n",
              "      <td>0.458</td>\n",
              "      <td>6.998</td>\n",
              "      <td>45.8</td>\n",
              "      <td>6.21</td>\n",
              "      <td>5.93</td>\n",
              "      <td>6.16</td>\n",
              "      <td>5.96</td>\n",
              "      <td>21.3</td>\n",
              "      <td>2.94</td>\n",
              "      <td>YES</td>\n",
              "      <td>9.268</td>\n",
              "      <td>11.2672</td>\n",
              "      <td>Lake</td>\n",
              "      <td>45</td>\n",
              "      <td>YES</td>\n",
              "    </tr>\n",
              "    <tr>\n",
              "      <th>4</th>\n",
              "      <td>36.2</td>\n",
              "      <td>32.18</td>\n",
              "      <td>0.458</td>\n",
              "      <td>7.147</td>\n",
              "      <td>54.2</td>\n",
              "      <td>6.16</td>\n",
              "      <td>5.86</td>\n",
              "      <td>6.37</td>\n",
              "      <td>5.86</td>\n",
              "      <td>21.3</td>\n",
              "      <td>5.33</td>\n",
              "      <td>NO</td>\n",
              "      <td>8.824</td>\n",
              "      <td>11.2896</td>\n",
              "      <td>Lake</td>\n",
              "      <td>55</td>\n",
              "      <td>YES</td>\n",
              "    </tr>\n",
              "  </tbody>\n",
              "</table>\n",
              "</div>"
            ],
            "text/plain": [
              "   price  resid_area  air_qual  ...  waterbody  rainfall  bus_ter\n",
              "0   24.0       32.31     0.538  ...      River        23      YES\n",
              "1   21.6       37.07     0.469  ...       Lake        42      YES\n",
              "2   34.7       37.07     0.469  ...       None        38      YES\n",
              "3   33.4       32.18     0.458  ...       Lake        45      YES\n",
              "4   36.2       32.18     0.458  ...       Lake        55      YES\n",
              "\n",
              "[5 rows x 17 columns]"
            ]
          },
          "metadata": {},
          "execution_count": 5
        }
      ]
    },
    {
      "cell_type": "code",
      "source": [
        "import statsmodels.api as sn"
      ],
      "metadata": {
        "colab": {
          "base_uri": "https://localhost:8080/"
        },
        "id": "1nEp1Rn4nywQ",
        "outputId": "c33df10a-859b-4fb2-fd38-54caa875d5b0"
      },
      "execution_count": 6,
      "outputs": [
        {
          "output_type": "stream",
          "name": "stderr",
          "text": [
            "/usr/local/lib/python3.7/dist-packages/statsmodels/tools/_testing.py:19: FutureWarning: pandas.util.testing is deprecated. Use the functions in the public API at pandas.testing instead.\n",
            "  import pandas.util.testing as tm\n"
          ]
        }
      ]
    },
    {
      "cell_type": "code",
      "source": [
        "X=sn.add_constant(df['room_num'])"
      ],
      "metadata": {
        "id": "_3hkUbC7n2Gk"
      },
      "execution_count": 7,
      "outputs": []
    },
    {
      "cell_type": "code",
      "source": [
        "lm=sn.OLS(df['price'],X).fit()"
      ],
      "metadata": {
        "id": "nZIMWH-1n9zd"
      },
      "execution_count": 9,
      "outputs": []
    },
    {
      "cell_type": "code",
      "source": [
        "lm.summary()"
      ],
      "metadata": {
        "colab": {
          "base_uri": "https://localhost:8080/",
          "height": 447
        },
        "id": "-eyRTbuRoJqY",
        "outputId": "15a29a55-12fa-4599-8d43-794e9add57a9"
      },
      "execution_count": 10,
      "outputs": [
        {
          "output_type": "execute_result",
          "data": {
            "text/html": [
              "<table class=\"simpletable\">\n",
              "<caption>OLS Regression Results</caption>\n",
              "<tr>\n",
              "  <th>Dep. Variable:</th>          <td>price</td>      <th>  R-squared:         </th> <td>   0.485</td>\n",
              "</tr>\n",
              "<tr>\n",
              "  <th>Model:</th>                   <td>OLS</td>       <th>  Adj. R-squared:    </th> <td>   0.484</td>\n",
              "</tr>\n",
              "<tr>\n",
              "  <th>Method:</th>             <td>Least Squares</td>  <th>  F-statistic:       </th> <td>   474.3</td>\n",
              "</tr>\n",
              "<tr>\n",
              "  <th>Date:</th>             <td>Tue, 14 Dec 2021</td> <th>  Prob (F-statistic):</th> <td>1.31e-74</td>\n",
              "</tr>\n",
              "<tr>\n",
              "  <th>Time:</th>                 <td>11:08:01</td>     <th>  Log-Likelihood:    </th> <td> -1671.6</td>\n",
              "</tr>\n",
              "<tr>\n",
              "  <th>No. Observations:</th>      <td>   506</td>      <th>  AIC:               </th> <td>   3347.</td>\n",
              "</tr>\n",
              "<tr>\n",
              "  <th>Df Residuals:</th>          <td>   504</td>      <th>  BIC:               </th> <td>   3356.</td>\n",
              "</tr>\n",
              "<tr>\n",
              "  <th>Df Model:</th>              <td>     1</td>      <th>                     </th>     <td> </td>   \n",
              "</tr>\n",
              "<tr>\n",
              "  <th>Covariance Type:</th>      <td>nonrobust</td>    <th>                     </th>     <td> </td>   \n",
              "</tr>\n",
              "</table>\n",
              "<table class=\"simpletable\">\n",
              "<tr>\n",
              "      <td></td>        <th>coef</th>     <th>std err</th>      <th>t</th>      <th>P>|t|</th>  <th>[0.025</th>    <th>0.975]</th>  \n",
              "</tr>\n",
              "<tr>\n",
              "  <th>const</th>    <td>  -34.6592</td> <td>    2.642</td> <td>  -13.118</td> <td> 0.000</td> <td>  -39.850</td> <td>  -29.468</td>\n",
              "</tr>\n",
              "<tr>\n",
              "  <th>room_num</th> <td>    9.0997</td> <td>    0.418</td> <td>   21.779</td> <td> 0.000</td> <td>    8.279</td> <td>    9.921</td>\n",
              "</tr>\n",
              "</table>\n",
              "<table class=\"simpletable\">\n",
              "<tr>\n",
              "  <th>Omnibus:</th>       <td>103.753</td> <th>  Durbin-Watson:     </th> <td>   0.681</td> \n",
              "</tr>\n",
              "<tr>\n",
              "  <th>Prob(Omnibus):</th> <td> 0.000</td>  <th>  Jarque-Bera (JB):  </th> <td> 633.429</td> \n",
              "</tr>\n",
              "<tr>\n",
              "  <th>Skew:</th>          <td> 0.729</td>  <th>  Prob(JB):          </th> <td>2.84e-138</td>\n",
              "</tr>\n",
              "<tr>\n",
              "  <th>Kurtosis:</th>      <td> 8.284</td>  <th>  Cond. No.          </th> <td>    58.4</td> \n",
              "</tr>\n",
              "</table><br/><br/>Warnings:<br/>[1] Standard Errors assume that the covariance matrix of the errors is correctly specified."
            ],
            "text/plain": [
              "<class 'statsmodels.iolib.summary.Summary'>\n",
              "\"\"\"\n",
              "                            OLS Regression Results                            \n",
              "==============================================================================\n",
              "Dep. Variable:                  price   R-squared:                       0.485\n",
              "Model:                            OLS   Adj. R-squared:                  0.484\n",
              "Method:                 Least Squares   F-statistic:                     474.3\n",
              "Date:                Tue, 14 Dec 2021   Prob (F-statistic):           1.31e-74\n",
              "Time:                        11:08:01   Log-Likelihood:                -1671.6\n",
              "No. Observations:                 506   AIC:                             3347.\n",
              "Df Residuals:                     504   BIC:                             3356.\n",
              "Df Model:                           1                                         \n",
              "Covariance Type:            nonrobust                                         \n",
              "==============================================================================\n",
              "                 coef    std err          t      P>|t|      [0.025      0.975]\n",
              "------------------------------------------------------------------------------\n",
              "const        -34.6592      2.642    -13.118      0.000     -39.850     -29.468\n",
              "room_num       9.0997      0.418     21.779      0.000       8.279       9.921\n",
              "==============================================================================\n",
              "Omnibus:                      103.753   Durbin-Watson:                   0.681\n",
              "Prob(Omnibus):                  0.000   Jarque-Bera (JB):              633.429\n",
              "Skew:                           0.729   Prob(JB):                    2.84e-138\n",
              "Kurtosis:                       8.284   Cond. No.                         58.4\n",
              "==============================================================================\n",
              "\n",
              "Warnings:\n",
              "[1] Standard Errors assume that the covariance matrix of the errors is correctly specified.\n",
              "\"\"\""
            ]
          },
          "metadata": {},
          "execution_count": 10
        }
      ]
    },
    {
      "cell_type": "code",
      "source": [
        "#Another method using sklearn library"
      ],
      "metadata": {
        "id": "BQDrUNqzobwB"
      },
      "execution_count": null,
      "outputs": []
    },
    {
      "cell_type": "code",
      "source": [
        "from sklearn.linear_model import LinearRegression"
      ],
      "metadata": {
        "id": "VxNoIr1poeYK"
      },
      "execution_count": 11,
      "outputs": []
    },
    {
      "cell_type": "code",
      "source": [
        "y=df['price']\n",
        "X=df[['room_num']]"
      ],
      "metadata": {
        "id": "-DtVm2MhojbD"
      },
      "execution_count": 19,
      "outputs": []
    },
    {
      "cell_type": "code",
      "source": [
        "lm2=LinearRegression()\n",
        "lm2.fit(X,y)"
      ],
      "metadata": {
        "colab": {
          "base_uri": "https://localhost:8080/"
        },
        "id": "Z7fEyprvo4YL",
        "outputId": "cb8fa432-8a34-483a-eecc-f9a5172c424a"
      },
      "execution_count": 22,
      "outputs": [
        {
          "output_type": "execute_result",
          "data": {
            "text/plain": [
              "LinearRegression()"
            ]
          },
          "metadata": {},
          "execution_count": 22
        }
      ]
    },
    {
      "cell_type": "code",
      "source": [
        "print(lm2.intercept_,lm2.coef_)"
      ],
      "metadata": {
        "colab": {
          "base_uri": "https://localhost:8080/"
        },
        "id": "9MsQA-Lbo-Qu",
        "outputId": "463ae430-734c-4247-e547-4cb1cc907661"
      },
      "execution_count": 16,
      "outputs": [
        {
          "output_type": "stream",
          "name": "stdout",
          "text": [
            "-34.65924312309717 [9.09966966]\n"
          ]
        }
      ]
    },
    {
      "cell_type": "code",
      "source": [
        "lm2.predict(X)"
      ],
      "metadata": {
        "colab": {
          "base_uri": "https://localhost:8080/"
        },
        "id": "WW0EKhfqpk1J",
        "outputId": "6c8088af-8129-4de8-f49d-9a361e41e99d"
      },
      "execution_count": 23,
      "outputs": [
        {
          "output_type": "execute_result",
          "data": {
            "text/plain": [
              "array([25.17108491, 23.76973578, 30.72188341, 29.02024518, 30.37609596,\n",
              "       23.85163281, 20.04797089, 21.50391804, 16.58099675, 19.97517353,\n",
              "       23.36935032, 20.02067188, 18.92871152, 19.4746917 , 20.81234314,\n",
              "       18.42822969, 19.34729633, 19.84777816, 14.98855456, 17.45456504,\n",
              "       16.0259169 , 19.62028642, 21.23092795, 18.23713663, 19.24719996,\n",
              "       16.28980732, 18.23713663, 20.36645933, 24.44311134, 26.07195221,\n",
              "       17.32716966, 20.59395107, 19.48379137, 17.21797363, 20.81234314,\n",
              "       19.32909699, 18.49192738, 18.57382441, 19.62938609, 25.3530783 ,\n",
              "       29.25683659, 26.9455205 , 21.47661903, 21.85880515, 20.56665206,\n",
              "       17.0450799 , 17.99144555, 20.21176495, 14.46987339, 16.31710633,\n",
              "       19.60208708, 20.98523687, 24.58870605, 19.92057552, 18.91961185,\n",
              "       31.30426226, 23.42394834, 27.3641053 , 21.25822696, 19.27449897,\n",
              "       17.58196041, 19.62938609, 24.08822422, 26.87272314, 29.98481016,\n",
              "       22.57767906, 18.00054522, 18.82861516, 16.24430897, 18.89231284,\n",
              "       23.7333371 , 19.58388774, 20.53025338, 22.16819392, 22.42298467,\n",
              "       22.54128038, 22.47758269, 21.21272861, 22.04989822, 18.79221648,\n",
              "       26.5542347 , 25.57147038, 22.68687509, 21.45841969, 23.47854635,\n",
              "       25.67156674, 20.0752699 , 21.03983488, 29.10214221, 29.75731842,\n",
              "       23.7333371 , 23.62414107, 23.96082885, 21.85880515, 22.2045926 ,\n",
              "       25.62606839, 21.42202101, 38.76599139, 36.50017364, 32.8239071 ,\n",
              "       26.5542347 , 27.04561686, 23.62414107, 21.1854296 , 21.45841969,\n",
              "       18.58292408, 18.44642903, 21.0944329 , 24.25201828, 22.02259921,\n",
              "       21.71321044, 26.44503866, 19.14710359, 20.77594446, 22.25009095,\n",
              "       19.28359864, 21.54031672, 20.12986792, 18.77401714, 17.49096372,\n",
              "       18.7558178 , 19.97517353, 19.58388774, 18.62842242, 18.83771483,\n",
              "       19.81137948, 16.4172027 , 17.14517627, 23.86073248, 16.63559477,\n",
              "       24.10642356, 22.90526717, 23.32385197, 18.31903366, 17.72755513,\n",
              "       22.98716419, 19.41099401, 24.07002488, 18.63752209, 21.31282497,\n",
              "       21.52211738, 11.01199892, 14.50627207, 15.09775059,  9.95643723,\n",
              "       21.12173191, 16.55369774, 10.16572964, 12.53164375, 16.27160798,\n",
              "       21.04893455, 14.51537174, 10.94830123, 17.29077098, 21.11263224,\n",
              "       21.32192464, 13.31421534, 28.51976335, 20.53935305, 24.57960638,\n",
              "       22.21369227, 33.48818298, 36.33637959, 41.55049031, 18.61022308,\n",
              "       20.85784149, 37.49203764, 18.81951549, 22.84156948, 23.59684206,\n",
              "       18.80131615, 18.8468145 , 16.04411624, 23.72423744, 18.65572143,\n",
              "       24.90719449, 20.12076825, 22.8051708 , 27.76449077, 28.85645113,\n",
              "       35.99969181, 21.24912729, 30.44889332, 25.06188888, 16.33530567,\n",
              "       21.33102431, 36.60027001, 27.05471653, 24.99819119, 30.72188341,\n",
              "       28.5925607 , 26.66343074, 30.65818572, 27.21851059, 25.43497533,\n",
              "       37.00065547, 31.65004971, 30.01210917, 31.53175401, 28.81095278,\n",
              "       30.26689992, 21.41292134, 34.58924301, 36.80046274, 38.44750295,\n",
              "       18.94691086, 22.90526717, 17.96414654, 20.52115371, 13.96939156,\n",
              "       19.57478807, 14.51537174, 18.18253861, 23.35115098, 14.58816909,\n",
              "       21.59491473, 18.91961185, 25.78076278, 19.49289104, 23.33295164,\n",
              "       28.5925607 , 21.43112068, 27.93738449, 25.56237071, 40.55862631,\n",
              "       44.73537469, 38.50210097, 30.52169067, 35.28081791, 24.96179251,\n",
              "       19.76588113, 32.78750842, 41.20470286, 40.38573259, 26.54513503,\n",
              "       20.72134645, 25.68066641, 32.29612626, 24.31571596, 25.45317467,\n",
              "       28.10117854, 20.80324347, 23.19645659, 23.51494503, 16.2352093 ,\n",
              "       16.34440534, 20.92153918, 21.9953002 , 23.87893182, 26.47233767,\n",
              "       24.37031398, 23.92443017, 28.64715872, 40.49492862, 20.92153918,\n",
              "       18.81041582, 33.16969455, 44.54428162, 32.06863452, 27.60069671,\n",
              "       30.88567746, 33.77027274, 41.75978271, 32.0140365 , 30.91297647,\n",
              "       15.9349202 , 29.16583989, 40.84071607, 33.31528926, 19.21080128,\n",
              "       18.62842242, 22.12269557, 24.83439713, 35.32631626, 26.83632446,\n",
              "       27.70989275, 31.46805632, 27.455102  , 24.32481563, 27.32770662,\n",
              "       36.50017364, 28.74725509, 34.90773145, 37.43743962, 29.83921545,\n",
              "       24.06092521, 22.03169888, 21.84060581, 22.8051708 , 25.08008821,\n",
              "       27.77359044, 30.38519563, 25.67156674, 21.0944329 , 20.02067188,\n",
              "       26.10835089, 24.9344935 , 18.02784423, 23.07816089, 29.41153097,\n",
              "       27.86458713, 25.30757996, 24.44311134, 28.87465046, 31.18596656,\n",
              "       25.54417137, 32.86030578, 27.6643944 , 25.71706509, 19.6839841 ,\n",
              "       10.59341411, 21.04893455, 20.14806726, 22.35928699, 25.09828755,\n",
              "       17.2543723 , 19.15620326, 17.95504687, 23.41484867, 20.96703753,\n",
              "       23.81523413, 23.36025065, 20.31186131, 17.28167131, 23.71513777,\n",
              "       23.86073248, 22.77787179, 20.69404744, 18.73761846, 22.96896485,\n",
              "       21.24912729, 17.26347197, 20.22086461, 22.81427047, 22.75967245,\n",
              "       20.27546263, 18.74671813, 18.98330954, 20.47565537, 19.80227981,\n",
              "       19.64758543, 31.23146491, 24.85259647, 26.27214494, 27.89188614,\n",
              "       20.06617023, 19.01060855, 24.6342044 , 25.71706509, 28.48336467,\n",
              "       24.39761299, 25.20748359, 18.88321317, 26.56333437, 16.87218618,\n",
              "       19.356396  , 21.86790482, 23.53314437, 21.0944329 , 20.95793786,\n",
              "       23.56044338, 22.22279194, 14.13318561, 18.14613993, 45.23585652,\n",
              "       -2.25531945, 10.50241741,  0.49278079, 10.5661151 , 26.15384924,\n",
              "       29.18403923, 21.9043035 , 18.80131615,  9.98373624,  2.99518994,\n",
              "       31.88664112, 25.84446047, 27.16391257, 23.39664933, 21.96800119,\n",
              "       28.74725509, 24.89809482, 15.71652813, 15.57093342,  5.08811397,\n",
              "       13.35971369,  7.67242015, 10.83910519,  9.74714483, 14.38797636,\n",
              "       17.32716966, 20.40285801, 11.1666933 , 21.6950111 , 18.91051218,\n",
              "       24.22471927, 23.62414107, 17.63655843, 14.96125555, 18.59202375,\n",
              "       19.82047915, 23.05996155, 23.6150414 , 14.0148899 , 15.67102978,\n",
              "       17.05417957,  2.99518994, 16.37170435, 16.45360137, 27.69169341,\n",
              "       17.72755513, 25.91725782,  7.45402808, 12.24955399,  6.46216408,\n",
              "       23.88803149, 27.05471653, 13.60540477, 19.54748906, 27.43690266,\n",
              "       23.67873909, 19.99337287, 16.73569113, 20.87604083, 15.98041855,\n",
              "       18.99240921, 18.4555287 , 21.77690813, 21.6950111 , 23.39664933,\n",
              "       23.1054599 , 27.51879968, 23.80613446, 23.90623083, 21.83150615,\n",
              "       25.66246707, 24.13372257, 21.32192464, 19.34729633, 16.54459807,\n",
              "       18.28263498, 23.63324074, 21.93160251, 24.35211464, 18.61022308,\n",
              "       24.11552323, 23.04176221, 22.22279194, 21.62221374, 23.7333371 ,\n",
              "       26.75442743, 25.89905848, 22.64137675, 32.6146147 , 26.56333437,\n",
              "       24.71610143, 19.72038278, 19.356396  , 22.67777542, 20.6758481 ,\n",
              "       26.31764329, 23.36025065, 22.82337014, 24.60690539, 21.84060581,\n",
              "       17.74575447, 19.50199071, 19.96607386, 19.2653993 , 17.32716966,\n",
              "       21.45841969, 22.02259921, 23.9153305 , 28.85645113, 14.72466414,\n",
              "       21.41292134, 24.34301497, 13.60540477, 21.62221374, 22.02259921,\n",
              "       22.14089491, 26.7635271 , 29.59352437, 17.77305348, 18.76491747,\n",
              "       22.77787179, 20.9761372 , 19.07430624, 14.97035522, 14.60636843,\n",
              "       11.68537447, 19.78408047, 19.78408047, 17.27257164, 19.2653993 ,\n",
              "       16.93588387, 14.38797636, 18.0642429 , 20.11166858, 16.01681723,\n",
              "       20.18446594, 25.33487897, 21.03073521, 28.82005245, 27.16391257,\n",
              "       20.21176495])"
            ]
          },
          "metadata": {},
          "execution_count": 23
        }
      ]
    },
    {
      "cell_type": "code",
      "source": [
        "import seaborn as sns"
      ],
      "metadata": {
        "id": "vVqc8hwDp1BJ"
      },
      "execution_count": 25,
      "outputs": []
    },
    {
      "cell_type": "code",
      "source": [
        "sns.jointplot(x=df['room_num'],y=df['price'],data=df,kind='reg')"
      ],
      "metadata": {
        "colab": {
          "base_uri": "https://localhost:8080/",
          "height": 460
        },
        "id": "mY650RHqpnAW",
        "outputId": "e60033ef-cce1-4202-ae57-38162feaee2c"
      },
      "execution_count": 26,
      "outputs": [
        {
          "output_type": "execute_result",
          "data": {
            "text/plain": [
              "<seaborn.axisgrid.JointGrid at 0x7f765409a150>"
            ]
          },
          "metadata": {},
          "execution_count": 26
        },
        {
          "output_type": "display_data",
          "data": {
            "image/png": "[encoded data removed]",
            "text/plain": [
              "<Figure size 432x432 with 3 Axes>"
            ]
          },
          "metadata": {
            "needs_background": "light"
          }
        }
      ]
    }
  ]
}