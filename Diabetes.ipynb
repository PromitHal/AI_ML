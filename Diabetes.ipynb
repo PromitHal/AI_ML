{
  "nbformat": 4,
  "nbformat_minor": 0,
  "metadata": {
    "colab": {
      "name": "Diabetes.ipynb",
      "provenance": [],
      "authorship_tag": "ABX9TyPDM0gC73leo5CIrTdv8Tbc",
      "include_colab_link": true
    },
    "kernelspec": {
      "name": "python3",
      "display_name": "Python 3"
    },
    "language_info": {
      "name": "python"
    }
  },
  "cells": [
    {
      "cell_type": "markdown",
      "metadata": {
        "id": "view-in-github",
        "colab_type": "text"
      },
      "source": [
        "<a href=\"https://colab.research.google.com/github/PromitHal/AI_ML/blob/main/Diabetes.ipynb\" target=\"_parent\"><img src=\"https://colab.research.google.com/assets/colab-badge.svg\" alt=\"Open In Colab\"/></a>"
      ]
    },
    {
      "cell_type": "code",
      "execution_count": 13,
      "metadata": {
        "id": "bZI_uzp-8Ai6"
      },
      "outputs": [],
      "source": [
        "#import pandas\n",
        "import pandas as pd\n",
        "col_names = ['pregnant', 'glucose', 'bp', 'skin', 'insulin', 'bmi', 'pedigree', 'age', 'label']\n",
        "# load dataset\n",
        "pima = pd.read_csv(\"pima-indians-diabetes.csv\",header=None ,names=col_names)"
      ]
    },
    {
      "cell_type": "code",
      "source": [
        "pima.head()"
      ],
      "metadata": {
        "colab": {
          "base_uri": "https://localhost:8080/",
          "height": 206
        },
        "id": "RbJFX_329GGq",
        "outputId": "0ba0810d-f917-4088-96b1-fe86472f97cc"
      },
      "execution_count": 14,
      "outputs": [
        {
          "output_type": "execute_result",
          "data": {
            "text/html": [
              "<div>\n",
              "<style scoped>\n",
              "    .dataframe tbody tr th:only-of-type {\n",
              "        vertical-align: middle;\n",
              "    }\n",
              "\n",
              "    .dataframe tbody tr th {\n",
              "        vertical-align: top;\n",
              "    }\n",
              "\n",
              "    .dataframe thead th {\n",
              "        text-align: right;\n",
              "    }\n",
              "</style>\n",
              "<table border=\"1\" class=\"dataframe\">\n",
              "  <thead>\n",
              "    <tr style=\"text-align: right;\">\n",
              "      <th></th>\n",
              "      <th>pregnant</th>\n",
              "      <th>glucose</th>\n",
              "      <th>bp</th>\n",
              "      <th>skin</th>\n",
              "      <th>insulin</th>\n",
              "      <th>bmi</th>\n",
              "      <th>pedigree</th>\n",
              "      <th>age</th>\n",
              "      <th>label</th>\n",
              "    </tr>\n",
              "  </thead>\n",
              "  <tbody>\n",
              "    <tr>\n",
              "      <th>0</th>\n",
              "      <td>6</td>\n",
              "      <td>148</td>\n",
              "      <td>72</td>\n",
              "      <td>35</td>\n",
              "      <td>0</td>\n",
              "      <td>33.6</td>\n",
              "      <td>0.627</td>\n",
              "      <td>50</td>\n",
              "      <td>1</td>\n",
              "    </tr>\n",
              "    <tr>\n",
              "      <th>1</th>\n",
              "      <td>1</td>\n",
              "      <td>85</td>\n",
              "      <td>66</td>\n",
              "      <td>29</td>\n",
              "      <td>0</td>\n",
              "      <td>26.6</td>\n",
              "      <td>0.351</td>\n",
              "      <td>31</td>\n",
              "      <td>0</td>\n",
              "    </tr>\n",
              "    <tr>\n",
              "      <th>2</th>\n",
              "      <td>8</td>\n",
              "      <td>183</td>\n",
              "      <td>64</td>\n",
              "      <td>0</td>\n",
              "      <td>0</td>\n",
              "      <td>23.3</td>\n",
              "      <td>0.672</td>\n",
              "      <td>32</td>\n",
              "      <td>1</td>\n",
              "    </tr>\n",
              "    <tr>\n",
              "      <th>3</th>\n",
              "      <td>1</td>\n",
              "      <td>89</td>\n",
              "      <td>66</td>\n",
              "      <td>23</td>\n",
              "      <td>94</td>\n",
              "      <td>28.1</td>\n",
              "      <td>0.167</td>\n",
              "      <td>21</td>\n",
              "      <td>0</td>\n",
              "    </tr>\n",
              "    <tr>\n",
              "      <th>4</th>\n",
              "      <td>0</td>\n",
              "      <td>137</td>\n",
              "      <td>40</td>\n",
              "      <td>35</td>\n",
              "      <td>168</td>\n",
              "      <td>43.1</td>\n",
              "      <td>2.288</td>\n",
              "      <td>33</td>\n",
              "      <td>1</td>\n",
              "    </tr>\n",
              "  </tbody>\n",
              "</table>\n",
              "</div>"
            ],
            "text/plain": [
              "   pregnant  glucose  bp  skin  insulin   bmi  pedigree  age  label\n",
              "0         6      148  72    35        0  33.6     0.627   50      1\n",
              "1         1       85  66    29        0  26.6     0.351   31      0\n",
              "2         8      183  64     0        0  23.3     0.672   32      1\n",
              "3         1       89  66    23       94  28.1     0.167   21      0\n",
              "4         0      137  40    35      168  43.1     2.288   33      1"
            ]
          },
          "metadata": {},
          "execution_count": 14
        }
      ]
    },
    {
      "cell_type": "code",
      "source": [
        "#split dataset in features and target variable\n",
        "feature_cols = ['pregnant', 'insulin', 'bmi', 'age','glucose','bp','pedigree']\n",
        "X = pima[feature_cols] # Features\n",
        "y = pima.label # Target variable"
      ],
      "metadata": {
        "id": "vu5uWYxL8PHk"
      },
      "execution_count": 15,
      "outputs": []
    },
    {
      "cell_type": "code",
      "source": [
        "from sklearn.model_selection import train_test_split\n",
        "X_train,X_test,y_train,y_test=train_test_split(X,y,test_size=0.25,random_state=0)"
      ],
      "metadata": {
        "id": "6SFfSl9D8aDh"
      },
      "execution_count": 16,
      "outputs": []
    },
    {
      "cell_type": "code",
      "source": [
        "from sklearn.preprocessing import StandardScaler\n",
        "sc=StandardScaler()\n",
        "X_train=sc.fit_transform(X_train)\n",
        "X_test=sc.transform(X_test)"
      ],
      "metadata": {
        "id": "ZFO7UAEV8TWt"
      },
      "execution_count": 17,
      "outputs": []
    },
    {
      "cell_type": "code",
      "source": [
        "from sklearn.linear_model import LogisticRegression\n",
        "\n",
        "# instantiate the model (using the default parameters)\n",
        "logreg = LogisticRegression()\n",
        "\n",
        "# fit the model with data\n",
        "logreg.fit(X_train,y_train)\n",
        "\n",
        "#\n",
        "y_pred=logreg.predict(X_test)\n"
      ],
      "metadata": {
        "id": "t2nT0RyM9CGm"
      },
      "execution_count": 19,
      "outputs": []
    },
    {
      "cell_type": "code",
      "source": [
        "from sklearn import metrics\n",
        "cnf_matrix = metrics.confusion_matrix(y_test, y_pred)\n",
        "cnf_matrix"
      ],
      "metadata": {
        "colab": {
          "base_uri": "https://localhost:8080/"
        },
        "id": "qn3sfpKv9lQE",
        "outputId": "bc347329-530b-4aeb-c9fe-ecadf2842aef"
      },
      "execution_count": 20,
      "outputs": [
        {
          "output_type": "execute_result",
          "data": {
            "text/plain": [
              "array([[118,  12],\n",
              "       [ 25,  37]])"
            ]
          },
          "metadata": {},
          "execution_count": 20
        }
      ]
    },
    {
      "cell_type": "code",
      "source": [
        "import numpy as np\n",
        "import matplotlib.pyplot as plt\n",
        "import seaborn as sns\n",
        "%matplotlib inline"
      ],
      "metadata": {
        "id": "bDSMYxZT91px"
      },
      "execution_count": 21,
      "outputs": []
    },
    {
      "cell_type": "code",
      "source": [
        "class_names=[0,1] # name  of classes\n",
        "fig, ax = plt.subplots()\n",
        "tick_marks = np.arange(len(class_names))\n",
        "plt.xticks(tick_marks, class_names)\n",
        "plt.yticks(tick_marks, class_names)\n",
        "# create heatmap\n",
        "sns.heatmap(pd.DataFrame(cnf_matrix), annot=True, cmap=\"YlGnBu\" ,fmt='g')\n",
        "ax.xaxis.set_label_position(\"top\")\n",
        "plt.tight_layout()\n",
        "plt.title('Confusion matrix', y=1.1)\n",
        "plt.ylabel('Actual label')\n",
        "plt.xlabel('Predicted label')"
      ],
      "metadata": {
        "colab": {
          "base_uri": "https://localhost:8080/",
          "height": 343
        },
        "id": "NQJhbPF895Ew",
        "outputId": "d7fc887e-2f2b-4c32-df7d-fe7aef135bbc"
      },
      "execution_count": 22,
      "outputs": [
        {
          "output_type": "execute_result",
          "data": {
            "text/plain": [
              "Text(0.5, 257.44, 'Predicted label')"
            ]
          },
          "metadata": {},
          "execution_count": 22
        },
        {
          "output_type": "display_data",
          "data": {
            "image/png": "[encoded data removed]",
            "text/plain": [
              "<Figure size 432x288 with 2 Axes>"
            ]
          },
          "metadata": {
            "needs_background": "light"
          }
        }
      ]
    },
    {
      "cell_type": "code",
      "source": [
        "print(\"Accuracy:\",metrics.accuracy_score(y_test, y_pred))\n",
        "print(\"Precision:\",metrics.precision_score(y_test, y_pred))\n",
        "print(\"Recall:\",metrics.recall_score(y_test, y_pred))"
      ],
      "metadata": {
        "colab": {
          "base_uri": "https://localhost:8080/"
        },
        "id": "fhD4ei0O96q5",
        "outputId": "3434e465-0d61-47f8-db1e-d233e6f29232"
      },
      "execution_count": 23,
      "outputs": [
        {
          "output_type": "stream",
          "name": "stdout",
          "text": [
            "Accuracy: 0.8072916666666666\n",
            "Precision: 0.7551020408163265\n",
            "Recall: 0.5967741935483871\n"
          ]
        }
      ]
    },
    {
      "cell_type": "code",
      "source": [
        "y_pred_proba = logreg.predict_proba(X_test)[::,1]\n",
        "fpr, tpr, _ = metrics.roc_curve(y_test,  y_pred_proba)\n",
        "auc = metrics.roc_auc_score(y_test, y_pred_proba)\n",
        "plt.plot(fpr,tpr,label=\"data 1, auc=\"+str(auc))\n",
        "plt.legend(loc=4)\n",
        "plt.show()"
      ],
      "metadata": {
        "colab": {
          "base_uri": "https://localhost:8080/",
          "height": 265
        },
        "id": "hfttGZl299j6",
        "outputId": "002b7d5e-b2f1-4315-f4f6-ecb17b968639"
      },
      "execution_count": 24,
      "outputs": [
        {
          "output_type": "display_data",
          "data": {
            "image/png": "[encoded data removed]",
            "text/plain": [
              "<Figure size 432x288 with 1 Axes>"
            ]
          },
          "metadata": {
            "needs_background": "light"
          }
        }
      ]
    },
    {
      "cell_type": "code",
      "source": [
        "#using ANN\n",
        "from tensorflow.keras.models import Sequential\n",
        "from tensorflow.keras.layers import Dense"
      ],
      "metadata": {
        "id": "VXUX-O_U-bQa"
      },
      "execution_count": 26,
      "outputs": []
    },
    {
      "cell_type": "code",
      "source": [
        "from tensorflow.keras.utils import to_categorical"
      ],
      "metadata": {
        "id": "d4QeZ4xb-rwb"
      },
      "execution_count": 27,
      "outputs": []
    },
    {
      "cell_type": "code",
      "source": [
        "Y_train=to_categorical(y_train)\n"
      ],
      "metadata": {
        "id": "-qcRloMF-x0s"
      },
      "execution_count": 29,
      "outputs": []
    },
    {
      "cell_type": "code",
      "source": [
        "model=Sequential()"
      ],
      "metadata": {
        "id": "zfuNLuu-_P9p"
      },
      "execution_count": 38,
      "outputs": []
    },
    {
      "cell_type": "code",
      "source": [
        "model=Sequential([\n",
        "                  Dense(units=16,input_shape=(7,),activation='relu'),\n",
        "                  Dense(units=32,activation='relu'),\n",
        "                  Dense(units=2,activation='softmax')\n",
        "])"
      ],
      "metadata": {
        "id": "ZuFNW7ON-4QU"
      },
      "execution_count": 52,
      "outputs": []
    },
    {
      "cell_type": "code",
      "source": [
        "model.summary()"
      ],
      "metadata": {
        "colab": {
          "base_uri": "https://localhost:8080/"
        },
        "id": "iaA3LapbAPMP",
        "outputId": "cf64d50f-de4c-47ef-b089-bd8ca0d48af8"
      },
      "execution_count": 53,
      "outputs": [
        {
          "output_type": "stream",
          "name": "stdout",
          "text": [
            "Model: \"sequential_2\"\n",
            "_________________________________________________________________\n",
            " Layer (type)                Output Shape              Param #   \n",
            "=================================================================\n",
            " dense_6 (Dense)             (None, 16)                128       \n",
            "                                                                 \n",
            " dense_7 (Dense)             (None, 32)                544       \n",
            "                                                                 \n",
            " dense_8 (Dense)             (None, 2)                 66        \n",
            "                                                                 \n",
            "=================================================================\n",
            "Total params: 738\n",
            "Trainable params: 738\n",
            "Non-trainable params: 0\n",
            "_________________________________________________________________\n"
          ]
        }
      ]
    },
    {
      "cell_type": "code",
      "source": [
        "import tensorflow as tf\n",
        "from tensorflow import keras\n",
        "from tensorflow.keras.models import Sequential\n",
        "from tensorflow.keras.layers import Activation,Dense\n",
        "from tensorflow.keras.optimizers import Adam\n",
        "from tensorflow.keras.metrics import categorical_crossentropy"
      ],
      "metadata": {
        "id": "iAOHX5eGAbJp"
      },
      "execution_count": 47,
      "outputs": []
    },
    {
      "cell_type": "code",
      "source": [
        "model.compile(optimizer=Adam(learning_rate=0.0001),loss='categorical_crossentropy',metrics=['accuracy'])"
      ],
      "metadata": {
        "id": "1HUI8fajATNM"
      },
      "execution_count": 56,
      "outputs": []
    },
    {
      "cell_type": "code",
      "source": [
        "history=model.fit(x=X_train,y=Y_train,validation_split=0.1,batch_size=10,epochs=30,shuffle=True,verbose=2)\n"
      ],
      "metadata": {
        "colab": {
          "base_uri": "https://localhost:8080/"
        },
        "id": "ECJfUzTIAdNq",
        "outputId": "60bb4c1e-9781-4ec5-d47b-10f585512a31"
      },
      "execution_count": 57,
      "outputs": [
        {
          "output_type": "stream",
          "name": "stdout",
          "text": [
            "Epoch 1/30\n",
            "52/52 - 1s - loss: 0.7869 - accuracy: 0.3089 - val_loss: 0.7495 - val_accuracy: 0.3276 - 697ms/epoch - 13ms/step\n",
            "Epoch 2/30\n",
            "52/52 - 0s - loss: 0.7610 - accuracy: 0.3649 - val_loss: 0.7248 - val_accuracy: 0.4310 - 90ms/epoch - 2ms/step\n",
            "Epoch 3/30\n",
            "52/52 - 0s - loss: 0.7383 - accuracy: 0.4440 - val_loss: 0.7029 - val_accuracy: 0.5345 - 87ms/epoch - 2ms/step\n",
            "Epoch 4/30\n",
            "52/52 - 0s - loss: 0.7180 - accuracy: 0.5290 - val_loss: 0.6833 - val_accuracy: 0.6034 - 97ms/epoch - 2ms/step\n",
            "Epoch 5/30\n",
            "52/52 - 0s - loss: 0.6998 - accuracy: 0.5888 - val_loss: 0.6646 - val_accuracy: 0.6724 - 104ms/epoch - 2ms/step\n",
            "Epoch 6/30\n",
            "52/52 - 0s - loss: 0.6831 - accuracy: 0.6216 - val_loss: 0.6472 - val_accuracy: 0.7069 - 101ms/epoch - 2ms/step\n",
            "Epoch 7/30\n",
            "52/52 - 0s - loss: 0.6679 - accuracy: 0.6255 - val_loss: 0.6322 - val_accuracy: 0.7241 - 108ms/epoch - 2ms/step\n",
            "Epoch 8/30\n",
            "52/52 - 0s - loss: 0.6545 - accuracy: 0.6371 - val_loss: 0.6183 - val_accuracy: 0.7241 - 102ms/epoch - 2ms/step\n",
            "Epoch 9/30\n",
            "52/52 - 0s - loss: 0.6422 - accuracy: 0.6409 - val_loss: 0.6069 - val_accuracy: 0.7069 - 84ms/epoch - 2ms/step\n",
            "Epoch 10/30\n",
            "52/52 - 0s - loss: 0.6311 - accuracy: 0.6506 - val_loss: 0.5962 - val_accuracy: 0.7241 - 91ms/epoch - 2ms/step\n",
            "Epoch 11/30\n",
            "52/52 - 0s - loss: 0.6210 - accuracy: 0.6583 - val_loss: 0.5871 - val_accuracy: 0.7414 - 104ms/epoch - 2ms/step\n",
            "Epoch 12/30\n",
            "52/52 - 0s - loss: 0.6119 - accuracy: 0.6718 - val_loss: 0.5791 - val_accuracy: 0.7414 - 85ms/epoch - 2ms/step\n",
            "Epoch 13/30\n",
            "52/52 - 0s - loss: 0.6037 - accuracy: 0.6641 - val_loss: 0.5714 - val_accuracy: 0.7414 - 96ms/epoch - 2ms/step\n",
            "Epoch 14/30\n",
            "52/52 - 0s - loss: 0.5960 - accuracy: 0.6776 - val_loss: 0.5650 - val_accuracy: 0.7414 - 110ms/epoch - 2ms/step\n",
            "Epoch 15/30\n",
            "52/52 - 0s - loss: 0.5888 - accuracy: 0.6757 - val_loss: 0.5592 - val_accuracy: 0.7414 - 108ms/epoch - 2ms/step\n",
            "Epoch 16/30\n",
            "52/52 - 0s - loss: 0.5822 - accuracy: 0.6795 - val_loss: 0.5534 - val_accuracy: 0.7414 - 96ms/epoch - 2ms/step\n",
            "Epoch 17/30\n",
            "52/52 - 0s - loss: 0.5760 - accuracy: 0.6892 - val_loss: 0.5484 - val_accuracy: 0.7586 - 88ms/epoch - 2ms/step\n",
            "Epoch 18/30\n",
            "52/52 - 0s - loss: 0.5704 - accuracy: 0.6950 - val_loss: 0.5429 - val_accuracy: 0.7586 - 88ms/epoch - 2ms/step\n",
            "Epoch 19/30\n",
            "52/52 - 0s - loss: 0.5647 - accuracy: 0.7008 - val_loss: 0.5389 - val_accuracy: 0.7759 - 104ms/epoch - 2ms/step\n",
            "Epoch 20/30\n",
            "52/52 - 0s - loss: 0.5596 - accuracy: 0.7046 - val_loss: 0.5346 - val_accuracy: 0.7759 - 89ms/epoch - 2ms/step\n",
            "Epoch 21/30\n",
            "52/52 - 0s - loss: 0.5545 - accuracy: 0.7143 - val_loss: 0.5303 - val_accuracy: 0.7931 - 100ms/epoch - 2ms/step\n",
            "Epoch 22/30\n",
            "52/52 - 0s - loss: 0.5499 - accuracy: 0.7201 - val_loss: 0.5268 - val_accuracy: 0.7931 - 107ms/epoch - 2ms/step\n",
            "Epoch 23/30\n",
            "52/52 - 0s - loss: 0.5454 - accuracy: 0.7181 - val_loss: 0.5234 - val_accuracy: 0.7931 - 92ms/epoch - 2ms/step\n",
            "Epoch 24/30\n",
            "52/52 - 0s - loss: 0.5414 - accuracy: 0.7201 - val_loss: 0.5200 - val_accuracy: 0.8103 - 101ms/epoch - 2ms/step\n",
            "Epoch 25/30\n",
            "52/52 - 0s - loss: 0.5375 - accuracy: 0.7181 - val_loss: 0.5172 - val_accuracy: 0.8103 - 105ms/epoch - 2ms/step\n",
            "Epoch 26/30\n",
            "52/52 - 0s - loss: 0.5337 - accuracy: 0.7278 - val_loss: 0.5143 - val_accuracy: 0.8103 - 100ms/epoch - 2ms/step\n",
            "Epoch 27/30\n",
            "52/52 - 0s - loss: 0.5301 - accuracy: 0.7297 - val_loss: 0.5123 - val_accuracy: 0.7931 - 90ms/epoch - 2ms/step\n",
            "Epoch 28/30\n",
            "52/52 - 0s - loss: 0.5268 - accuracy: 0.7336 - val_loss: 0.5094 - val_accuracy: 0.7931 - 88ms/epoch - 2ms/step\n",
            "Epoch 29/30\n",
            "52/52 - 0s - loss: 0.5238 - accuracy: 0.7355 - val_loss: 0.5083 - val_accuracy: 0.7931 - 100ms/epoch - 2ms/step\n",
            "Epoch 30/30\n",
            "52/52 - 0s - loss: 0.5207 - accuracy: 0.7413 - val_loss: 0.5065 - val_accuracy: 0.8103 - 87ms/epoch - 2ms/step\n"
          ]
        }
      ]
    },
    {
      "cell_type": "code",
      "source": [
        "import matplotlib.pyplot as plt\n",
        "plt.plot(history.history['accuracy'])\n",
        "plt.plot(history.history['val_accuracy'])\n",
        "plt.title('model accuracy')\n",
        "plt.ylabel('accuracy')\n",
        "plt.xlabel('epoch')\n",
        "plt.legend(['train', 'test'], loc='upper left')\n",
        "plt.show()"
      ],
      "metadata": {
        "colab": {
          "base_uri": "https://localhost:8080/",
          "height": 295
        },
        "id": "rEQaFtLvAzS_",
        "outputId": "17c89fa5-30e2-4834-8f9b-45d89348a61c"
      },
      "execution_count": 59,
      "outputs": [
        {
          "output_type": "display_data",
          "data": {
            "image/png": "[encoded data removed]",
            "text/plain": [
              "<Figure size 432x288 with 1 Axes>"
            ]
          },
          "metadata": {
            "needs_background": "light"
          }
        }
      ]
    },
    {
      "cell_type": "code",
      "source": [
        "predictions=model.predict(x=X_test,batch_size=10,verbose=0)"
      ],
      "metadata": {
        "id": "3qTtnmJgBBbr"
      },
      "execution_count": 60,
      "outputs": []
    },
    {
      "cell_type": "code",
      "source": [
        "for i in predictions:\n",
        "  print(i)"
      ],
      "metadata": {
        "colab": {
          "base_uri": "https://localhost:8080/"
        },
        "id": "PZlSiuMbBTfy",
        "outputId": "52ba30ac-13ee-4afc-c8c2-91e999d2e1c7"
      },
      "execution_count": 61,
      "outputs": [
        {
          "output_type": "stream",
          "name": "stdout",
          "text": [
            "[0.39095238 0.60904765]\n",
            "[0.7950659  0.20493418]\n",
            "[0.85631025 0.14368977]\n",
            "[0.47135466 0.5286453 ]\n",
            "[0.8828567  0.11714328]\n",
            "[0.93261135 0.06738863]\n",
            "[0.42139915 0.5786009 ]\n",
            "[0.3699184 0.6300816]\n",
            "[0.58871317 0.41128683]\n",
            "[0.5142003 0.4857997]\n",
            "[0.45205963 0.5479403 ]\n",
            "[0.38361818 0.6163818 ]\n",
            "[0.69272417 0.30727583]\n",
            "[0.86077976 0.1392202 ]\n",
            "[0.770026   0.22997396]\n",
            "[0.84195    0.15805002]\n",
            "[0.47368532 0.52631474]\n",
            "[0.9528073 0.0471927]\n",
            "[0.51606095 0.48393908]\n",
            "[0.60167515 0.39832482]\n",
            "[0.41907334 0.58092666]\n",
            "[0.70695823 0.29304174]\n",
            "[0.83843225 0.16156769]\n",
            "[0.86781853 0.13218154]\n",
            "[0.9066521  0.09334795]\n",
            "[0.7726 0.2274]\n",
            "[0.9573464  0.04265356]\n",
            "[0.3207094  0.67929053]\n",
            "[0.8862794  0.11372062]\n",
            "[0.8322911 0.1677089]\n",
            "[0.5768317  0.42316827]\n",
            "[0.7290197  0.27098033]\n",
            "[0.8423365  0.15766354]\n",
            "[0.50087893 0.49912107]\n",
            "[0.8637907  0.13620935]\n",
            "[0.5156605  0.48433942]\n",
            "[0.6292796 0.3707204]\n",
            "[0.8859972  0.11400285]\n",
            "[0.62323415 0.3767659 ]\n",
            "[0.5340978 0.4659022]\n",
            "[0.7321121 0.2678879]\n",
            "[0.80309606 0.19690397]\n",
            "[0.7605683  0.23943162]\n",
            "[0.5244978  0.47550213]\n",
            "[0.5392644  0.46073565]\n",
            "[0.99671626 0.00328379]\n",
            "[0.86417603 0.13582395]\n",
            "[0.6721802  0.32781985]\n",
            "[0.63352257 0.36647737]\n",
            "[0.7414965  0.25850344]\n",
            "[0.6834861  0.31651393]\n",
            "[0.7737529  0.22624709]\n",
            "[0.37767005 0.62232995]\n",
            "[0.5215799  0.47842014]\n",
            "[0.68205863 0.31794137]\n",
            "[0.9858764 0.0141236]\n",
            "[0.91828036 0.08171959]\n",
            "[0.6114677  0.38853234]\n",
            "[0.7957926  0.20420744]\n",
            "[0.9212642 0.0787358]\n",
            "[0.5089263 0.4910737]\n",
            "[0.542804   0.45719594]\n",
            "[0.86693496 0.13306506]\n",
            "[0.6778944  0.32210556]\n",
            "[0.49250668 0.50749326]\n",
            "[0.37578395 0.624216  ]\n",
            "[0.4350992 0.5649008]\n",
            "[0.8251345  0.17486553]\n",
            "[0.56114537 0.43885466]\n",
            "[0.81418663 0.1858134 ]\n",
            "[0.8400754  0.15992466]\n",
            "[0.7343417 0.2656584]\n",
            "[0.8612533 0.1387467]\n",
            "[0.28931957 0.7106804 ]\n",
            "[0.44431308 0.55568695]\n",
            "[0.64151615 0.35848388]\n",
            "[0.7258061 0.2741939]\n",
            "[0.481878 0.518122]\n",
            "[0.9173093  0.08269072]\n",
            "[0.72927374 0.27072632]\n",
            "[0.54112566 0.4588743 ]\n",
            "[0.5498402 0.4501598]\n",
            "[0.7465964 0.2534036]\n",
            "[0.94396806 0.05603189]\n",
            "[0.744161   0.25583896]\n",
            "[0.71026605 0.28973392]\n",
            "[0.8278834  0.17211665]\n",
            "[0.57038605 0.42961398]\n",
            "[0.40449938 0.5955006 ]\n",
            "[0.6937031 0.3062968]\n",
            "[0.7487134  0.25128663]\n",
            "[0.7713129  0.22868708]\n",
            "[0.7492574  0.25074264]\n",
            "[0.9399732  0.06002681]\n",
            "[0.34815222 0.6518478 ]\n",
            "[0.8189631  0.18103687]\n",
            "[0.4322021  0.56779796]\n",
            "[0.5144748 0.4855252]\n",
            "[0.5366862  0.46331385]\n",
            "[0.65974885 0.34025112]\n",
            "[0.6380412  0.36195877]\n",
            "[0.89689434 0.10310562]\n",
            "[0.73290527 0.26709467]\n",
            "[0.9442403  0.05575971]\n",
            "[0.58850586 0.41149414]\n",
            "[0.6850387 0.3149614]\n",
            "[0.8238705  0.17612955]\n",
            "[0.6864193  0.31358066]\n",
            "[0.93337166 0.06662831]\n",
            "[0.60652936 0.39347064]\n",
            "[0.9109185  0.08908152]\n",
            "[0.637058   0.36294198]\n",
            "[0.5488368  0.45116308]\n",
            "[0.66059196 0.33940807]\n",
            "[0.5553062  0.44469374]\n",
            "[0.48115095 0.518849  ]\n",
            "[0.6884276  0.31157234]\n",
            "[0.52827895 0.47172108]\n",
            "[0.86111355 0.1388865 ]\n",
            "[0.339176 0.660824]\n",
            "[0.526503   0.47349706]\n",
            "[0.31708133 0.68291867]\n",
            "[0.6356869  0.36431313]\n",
            "[0.63545644 0.36454353]\n",
            "[0.75115854 0.24884146]\n",
            "[0.92362887 0.07637117]\n",
            "[0.5798111 0.420189 ]\n",
            "[0.6683123  0.33168766]\n",
            "[0.6582751  0.34172487]\n",
            "[0.6708677 0.3291323]\n",
            "[0.6053447 0.3946553]\n",
            "[0.961916   0.03808401]\n",
            "[0.91185606 0.08814389]\n",
            "[0.41131523 0.5886848 ]\n",
            "[0.5055794  0.49442065]\n",
            "[0.525186   0.47481397]\n",
            "[0.80159545 0.19840455]\n",
            "[0.64798445 0.35201564]\n",
            "[0.6953439  0.30465606]\n",
            "[0.83802235 0.16197765]\n",
            "[0.81878096 0.18121906]\n",
            "[0.49999   0.5000101]\n",
            "[0.90818495 0.09181512]\n",
            "[0.8579067  0.14209335]\n",
            "[0.56310964 0.43689033]\n",
            "[0.92658955 0.07341047]\n",
            "[0.88786155 0.11213843]\n",
            "[0.8581811 0.1418189]\n",
            "[0.93389654 0.06610347]\n",
            "[0.6622748  0.33772522]\n",
            "[0.840934   0.15906604]\n",
            "[0.56974506 0.430255  ]\n",
            "[0.79269546 0.20730454]\n",
            "[0.8362042  0.16379577]\n",
            "[0.40043235 0.5995677 ]\n",
            "[0.87370896 0.12629104]\n",
            "[0.49993283 0.5000672 ]\n",
            "[0.8532499  0.14675009]\n",
            "[0.70601946 0.29398063]\n",
            "[0.44345242 0.5565475 ]\n",
            "[0.6399447 0.3600553]\n",
            "[0.5064861  0.49351397]\n",
            "[0.94690365 0.05309641]\n",
            "[0.7559277  0.24407229]\n",
            "[0.550539   0.44946104]\n",
            "[0.7617404  0.23825958]\n",
            "[0.52829367 0.47170636]\n",
            "[0.87454706 0.12545294]\n",
            "[0.74125934 0.25874063]\n",
            "[0.6926285  0.30737147]\n",
            "[0.8850436  0.11495642]\n",
            "[0.61224955 0.38775045]\n",
            "[0.7689912  0.23100881]\n",
            "[0.48346362 0.51653636]\n",
            "[0.44993916 0.5500608 ]\n",
            "[0.83236736 0.16763267]\n",
            "[0.4413307  0.55866927]\n",
            "[0.7995414  0.20045862]\n",
            "[0.7610256  0.23897439]\n",
            "[0.9057259  0.09427402]\n",
            "[0.7832605  0.21673948]\n",
            "[0.38605684 0.61394316]\n",
            "[0.83646756 0.16353244]\n",
            "[0.4244321  0.57556796]\n",
            "[0.7515446  0.24845538]\n",
            "[0.94271046 0.05728957]\n",
            "[0.6889993  0.31100065]\n",
            "[0.7803958  0.21960421]\n",
            "[0.57556856 0.4244314 ]\n",
            "[0.8277099  0.17229006]\n",
            "[0.75222945 0.24777055]\n",
            "[0.88828516 0.11171483]\n"
          ]
        }
      ]
    },
    {
      "cell_type": "code",
      "source": [
        "rounded_predictions=np.argmax(predictions,axis=-1)"
      ],
      "metadata": {
        "id": "MC3DksPzBXcQ"
      },
      "execution_count": 62,
      "outputs": []
    },
    {
      "cell_type": "code",
      "source": [
        "for j in rounded_predictions:\n",
        "  print(j)"
      ],
      "metadata": {
        "colab": {
          "base_uri": "https://localhost:8080/"
        },
        "id": "8HANJxq3BZhR",
        "outputId": "23f49c33-be68-410c-da56-e1daef2e0426"
      },
      "execution_count": 63,
      "outputs": [
        {
          "output_type": "stream",
          "name": "stdout",
          "text": [
            "1\n",
            "0\n",
            "0\n",
            "1\n",
            "0\n",
            "0\n",
            "1\n",
            "1\n",
            "0\n",
            "0\n",
            "1\n",
            "1\n",
            "0\n",
            "0\n",
            "0\n",
            "0\n",
            "1\n",
            "0\n",
            "0\n",
            "0\n",
            "1\n",
            "0\n",
            "0\n",
            "0\n",
            "0\n",
            "0\n",
            "0\n",
            "1\n",
            "0\n",
            "0\n",
            "0\n",
            "0\n",
            "0\n",
            "0\n",
            "0\n",
            "0\n",
            "0\n",
            "0\n",
            "0\n",
            "0\n",
            "0\n",
            "0\n",
            "0\n",
            "0\n",
            "0\n",
            "0\n",
            "0\n",
            "0\n",
            "0\n",
            "0\n",
            "0\n",
            "0\n",
            "1\n",
            "0\n",
            "0\n",
            "0\n",
            "0\n",
            "0\n",
            "0\n",
            "0\n",
            "0\n",
            "0\n",
            "0\n",
            "0\n",
            "1\n",
            "1\n",
            "1\n",
            "0\n",
            "0\n",
            "0\n",
            "0\n",
            "0\n",
            "0\n",
            "1\n",
            "1\n",
            "0\n",
            "0\n",
            "1\n",
            "0\n",
            "0\n",
            "0\n",
            "0\n",
            "0\n",
            "0\n",
            "0\n",
            "0\n",
            "0\n",
            "0\n",
            "1\n",
            "0\n",
            "0\n",
            "0\n",
            "0\n",
            "0\n",
            "1\n",
            "0\n",
            "1\n",
            "0\n",
            "0\n",
            "0\n",
            "0\n",
            "0\n",
            "0\n",
            "0\n",
            "0\n",
            "0\n",
            "0\n",
            "0\n",
            "0\n",
            "0\n",
            "0\n",
            "0\n",
            "0\n",
            "0\n",
            "0\n",
            "1\n",
            "0\n",
            "0\n",
            "0\n",
            "1\n",
            "0\n",
            "1\n",
            "0\n",
            "0\n",
            "0\n",
            "0\n",
            "0\n",
            "0\n",
            "0\n",
            "0\n",
            "0\n",
            "0\n",
            "0\n",
            "1\n",
            "0\n",
            "0\n",
            "0\n",
            "0\n",
            "0\n",
            "0\n",
            "0\n",
            "1\n",
            "0\n",
            "0\n",
            "0\n",
            "0\n",
            "0\n",
            "0\n",
            "0\n",
            "0\n",
            "0\n",
            "0\n",
            "0\n",
            "0\n",
            "1\n",
            "0\n",
            "1\n",
            "0\n",
            "0\n",
            "1\n",
            "0\n",
            "0\n",
            "0\n",
            "0\n",
            "0\n",
            "0\n",
            "0\n",
            "0\n",
            "0\n",
            "0\n",
            "0\n",
            "0\n",
            "0\n",
            "1\n",
            "1\n",
            "0\n",
            "1\n",
            "0\n",
            "0\n",
            "0\n",
            "0\n",
            "1\n",
            "0\n",
            "1\n",
            "0\n",
            "0\n",
            "0\n",
            "0\n",
            "0\n",
            "0\n",
            "0\n",
            "0\n"
          ]
        }
      ]
    },
    {
      "cell_type": "code",
      "source": [
        "y_test.shape"
      ],
      "metadata": {
        "colab": {
          "base_uri": "https://localhost:8080/"
        },
        "id": "9Qb56NrWBbkX",
        "outputId": "36319dfb-8649-4779-f49d-b89074c1319a"
      },
      "execution_count": 66,
      "outputs": [
        {
          "output_type": "execute_result",
          "data": {
            "text/plain": [
              "(192,)"
            ]
          },
          "metadata": {},
          "execution_count": 66
        }
      ]
    },
    {
      "cell_type": "code",
      "source": [
        "%matplotlib inline \n",
        "from sklearn.metrics import confusion_matrix\n",
        "import itertools\n",
        "import matplotlib.pyplot as plt"
      ],
      "metadata": {
        "id": "Hq2c8vxkBmc6"
      },
      "execution_count": 67,
      "outputs": []
    },
    {
      "cell_type": "code",
      "source": [
        "cm = confusion_matrix(y_true=y_test, y_pred=rounded_predictions)"
      ],
      "metadata": {
        "id": "UP_u9EmbBrtJ"
      },
      "execution_count": 68,
      "outputs": []
    },
    {
      "cell_type": "code",
      "source": [
        "from sklearn.metrics import plot_confusion_matrix\n",
        "cm_plot_labels = ['no_side_effects','had_side_effects']\n",
        "def plot_confusion_matrix(cm, classes,\n",
        "                        normalize=False,\n",
        "                        title='Confusion matrix',\n",
        "                        cmap=plt.cm.Blues):\n",
        "    \"\"\"\n",
        "    This function prints and plots the confusion matrix.\n",
        "    Normalization can be applied by setting `normalize=True`.\n",
        "    \"\"\"\n",
        "    plt.imshow(cm, interpolation='nearest', cmap=cmap)\n",
        "    plt.title(title)\n",
        "    plt.colorbar()\n",
        "    tick_marks = np.arange(len(classes))\n",
        "    plt.xticks(tick_marks, classes, rotation=45)\n",
        "    plt.yticks(tick_marks, classes)\n",
        "\n",
        "    if normalize:\n",
        "        cm = cm.astype('float') / cm.sum(axis=1)[:, np.newaxis]\n",
        "        print(\"Normalized confusion matrix\")\n",
        "    else:\n",
        "        print('Confusion matrix, without normalization')\n",
        "\n",
        "    print(cm)\n",
        "\n",
        "    thresh = cm.max() / 2.\n",
        "    for i, j in itertools.product(range(cm.shape[0]), range(cm.shape[1])):\n",
        "        plt.text(j, i, cm[i, j],\n",
        "            horizontalalignment=\"center\",\n",
        "            color=\"white\" if cm[i, j] > thresh else \"black\")\n",
        "\n",
        "    plt.tight_layout()\n",
        "    plt.ylabel('True label')\n",
        "    plt.xlabel('Predicted label')\n"
      ],
      "metadata": {
        "id": "RcMuKe1rBvwd"
      },
      "execution_count": 69,
      "outputs": []
    },
    {
      "cell_type": "code",
      "source": [
        "plot_confusion_matrix(cm=cm, classes=cm_plot_labels, title='Confusion Matrix')"
      ],
      "metadata": {
        "colab": {
          "base_uri": "https://localhost:8080/",
          "height": 365
        },
        "id": "v0ZVUk-8CER3",
        "outputId": "6c1462a2-e4e6-4667-b89c-5e6d95fb4a94"
      },
      "execution_count": 70,
      "outputs": [
        {
          "output_type": "stream",
          "name": "stdout",
          "text": [
            "Confusion matrix, without normalization\n",
            "[[121   9]\n",
            " [ 39  23]]\n"
          ]
        },
        {
          "output_type": "display_data",
          "data": {
            "image/png": "[encoded data removed]",
            "text/plain": [
              "<Figure size 432x288 with 2 Axes>"
            ]
          },
          "metadata": {
            "needs_background": "light"
          }
        }
      ]
    },
    {
      "cell_type": "code",
      "source": [
        ""
      ],
      "metadata": {
        "id": "z1Lycu89CHZa"
      },
      "execution_count": null,
      "outputs": []
    }
  ]
}