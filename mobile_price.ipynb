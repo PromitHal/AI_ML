{
  "nbformat": 4,
  "nbformat_minor": 0,
  "metadata": {
    "colab": {
      "name": "mobile_price.ipynb",
      "provenance": [],
      "collapsed_sections": [],
      "authorship_tag": "ABX9TyOqt+34VoCFnchlopxOj9Tk",
      "include_colab_link": true
    },
    "kernelspec": {
      "name": "python3",
      "display_name": "Python 3"
    },
    "language_info": {
      "name": "python"
    }
  },
  "cells": [
    {
      "cell_type": "markdown",
      "metadata": {
        "id": "view-in-github",
        "colab_type": "text"
      },
      "source": [
        "<a href=\"https://colab.research.google.com/github/PromitHal/AI_ML/blob/main/mobile_price.ipynb\" target=\"_parent\"><img src=\"https://colab.research.google.com/assets/colab-badge.svg\" alt=\"Open In Colab\"/></a>"
      ]
    },
    {
      "cell_type": "code",
      "metadata": {
        "id": "M8Kzfr32gcKS",
        "colab": {
          "base_uri": "https://localhost:8080/",
          "height": 206
        },
        "outputId": "fa765be4-7c62-49b1-f4b4-e651c59507ea"
      },
      "source": [
        "import numpy as np\n",
        "import pandas as pd\n",
        "dataset=pd.read_csv('mobile_train.csv')\n",
        "dataset.head()"
      ],
      "execution_count": 15,
      "outputs": [
        {
          "output_type": "execute_result",
          "data": {
            "text/html": [
              "<div>\n",
              "<style scoped>\n",
              "    .dataframe tbody tr th:only-of-type {\n",
              "        vertical-align: middle;\n",
              "    }\n",
              "\n",
              "    .dataframe tbody tr th {\n",
              "        vertical-align: top;\n",
              "    }\n",
              "\n",
              "    .dataframe thead th {\n",
              "        text-align: right;\n",
              "    }\n",
              "</style>\n",
              "<table border=\"1\" class=\"dataframe\">\n",
              "  <thead>\n",
              "    <tr style=\"text-align: right;\">\n",
              "      <th></th>\n",
              "      <th>battery_power</th>\n",
              "      <th>blue</th>\n",
              "      <th>clock_speed</th>\n",
              "      <th>dual_sim</th>\n",
              "      <th>fc</th>\n",
              "      <th>four_g</th>\n",
              "      <th>int_memory</th>\n",
              "      <th>m_dep</th>\n",
              "      <th>mobile_wt</th>\n",
              "      <th>n_cores</th>\n",
              "      <th>pc</th>\n",
              "      <th>px_height</th>\n",
              "      <th>px_width</th>\n",
              "      <th>ram</th>\n",
              "      <th>sc_h</th>\n",
              "      <th>sc_w</th>\n",
              "      <th>talk_time</th>\n",
              "      <th>three_g</th>\n",
              "      <th>touch_screen</th>\n",
              "      <th>wifi</th>\n",
              "      <th>price_range</th>\n",
              "    </tr>\n",
              "  </thead>\n",
              "  <tbody>\n",
              "    <tr>\n",
              "      <th>0</th>\n",
              "      <td>842</td>\n",
              "      <td>0</td>\n",
              "      <td>2.2</td>\n",
              "      <td>0</td>\n",
              "      <td>1</td>\n",
              "      <td>0</td>\n",
              "      <td>7</td>\n",
              "      <td>0.6</td>\n",
              "      <td>188</td>\n",
              "      <td>2</td>\n",
              "      <td>2</td>\n",
              "      <td>20</td>\n",
              "      <td>756</td>\n",
              "      <td>2549</td>\n",
              "      <td>9</td>\n",
              "      <td>7</td>\n",
              "      <td>19</td>\n",
              "      <td>0</td>\n",
              "      <td>0</td>\n",
              "      <td>1</td>\n",
              "      <td>1</td>\n",
              "    </tr>\n",
              "    <tr>\n",
              "      <th>1</th>\n",
              "      <td>1021</td>\n",
              "      <td>1</td>\n",
              "      <td>0.5</td>\n",
              "      <td>1</td>\n",
              "      <td>0</td>\n",
              "      <td>1</td>\n",
              "      <td>53</td>\n",
              "      <td>0.7</td>\n",
              "      <td>136</td>\n",
              "      <td>3</td>\n",
              "      <td>6</td>\n",
              "      <td>905</td>\n",
              "      <td>1988</td>\n",
              "      <td>2631</td>\n",
              "      <td>17</td>\n",
              "      <td>3</td>\n",
              "      <td>7</td>\n",
              "      <td>1</td>\n",
              "      <td>1</td>\n",
              "      <td>0</td>\n",
              "      <td>2</td>\n",
              "    </tr>\n",
              "    <tr>\n",
              "      <th>2</th>\n",
              "      <td>563</td>\n",
              "      <td>1</td>\n",
              "      <td>0.5</td>\n",
              "      <td>1</td>\n",
              "      <td>2</td>\n",
              "      <td>1</td>\n",
              "      <td>41</td>\n",
              "      <td>0.9</td>\n",
              "      <td>145</td>\n",
              "      <td>5</td>\n",
              "      <td>6</td>\n",
              "      <td>1263</td>\n",
              "      <td>1716</td>\n",
              "      <td>2603</td>\n",
              "      <td>11</td>\n",
              "      <td>2</td>\n",
              "      <td>9</td>\n",
              "      <td>1</td>\n",
              "      <td>1</td>\n",
              "      <td>0</td>\n",
              "      <td>2</td>\n",
              "    </tr>\n",
              "    <tr>\n",
              "      <th>3</th>\n",
              "      <td>615</td>\n",
              "      <td>1</td>\n",
              "      <td>2.5</td>\n",
              "      <td>0</td>\n",
              "      <td>0</td>\n",
              "      <td>0</td>\n",
              "      <td>10</td>\n",
              "      <td>0.8</td>\n",
              "      <td>131</td>\n",
              "      <td>6</td>\n",
              "      <td>9</td>\n",
              "      <td>1216</td>\n",
              "      <td>1786</td>\n",
              "      <td>2769</td>\n",
              "      <td>16</td>\n",
              "      <td>8</td>\n",
              "      <td>11</td>\n",
              "      <td>1</td>\n",
              "      <td>0</td>\n",
              "      <td>0</td>\n",
              "      <td>2</td>\n",
              "    </tr>\n",
              "    <tr>\n",
              "      <th>4</th>\n",
              "      <td>1821</td>\n",
              "      <td>1</td>\n",
              "      <td>1.2</td>\n",
              "      <td>0</td>\n",
              "      <td>13</td>\n",
              "      <td>1</td>\n",
              "      <td>44</td>\n",
              "      <td>0.6</td>\n",
              "      <td>141</td>\n",
              "      <td>2</td>\n",
              "      <td>14</td>\n",
              "      <td>1208</td>\n",
              "      <td>1212</td>\n",
              "      <td>1411</td>\n",
              "      <td>8</td>\n",
              "      <td>2</td>\n",
              "      <td>15</td>\n",
              "      <td>1</td>\n",
              "      <td>1</td>\n",
              "      <td>0</td>\n",
              "      <td>1</td>\n",
              "    </tr>\n",
              "  </tbody>\n",
              "</table>\n",
              "</div>"
            ],
            "text/plain": [
              "   battery_power  blue  clock_speed  ...  touch_screen  wifi  price_range\n",
              "0            842     0          2.2  ...             0     1            1\n",
              "1           1021     1          0.5  ...             1     0            2\n",
              "2            563     1          0.5  ...             1     0            2\n",
              "3            615     1          2.5  ...             0     0            2\n",
              "4           1821     1          1.2  ...             1     0            1\n",
              "\n",
              "[5 rows x 21 columns]"
            ]
          },
          "metadata": {},
          "execution_count": 15
        }
      ]
    },
    {
      "cell_type": "code",
      "metadata": {
        "colab": {
          "base_uri": "https://localhost:8080/"
        },
        "id": "vEiplXfimrq8",
        "outputId": "06605bf8-0801-4d28-8459-45c923bb8a05"
      },
      "source": [
        "dataset.shape"
      ],
      "execution_count": 16,
      "outputs": [
        {
          "output_type": "execute_result",
          "data": {
            "text/plain": [
              "(2000, 21)"
            ]
          },
          "metadata": {},
          "execution_count": 16
        }
      ]
    },
    {
      "cell_type": "markdown",
      "metadata": {
        "id": "NpziSBA2o2Br"
      },
      "source": [
        "**Splitting up dataset into Features and Targets**"
      ]
    },
    {
      "cell_type": "code",
      "metadata": {
        "id": "wu2wrS8RoQi7"
      },
      "source": [
        "X_dataset=dataset.drop(columns='price_range',axis=1)"
      ],
      "execution_count": 19,
      "outputs": []
    },
    {
      "cell_type": "code",
      "metadata": {
        "colab": {
          "base_uri": "https://localhost:8080/",
          "height": 206
        },
        "id": "GZfqlYaHoque",
        "outputId": "03ec81a8-3d4b-4a30-e45a-51d4f55224b6"
      },
      "source": [
        "X_dataset.head()"
      ],
      "execution_count": 21,
      "outputs": [
        {
          "output_type": "execute_result",
          "data": {
            "text/html": [
              "<div>\n",
              "<style scoped>\n",
              "    .dataframe tbody tr th:only-of-type {\n",
              "        vertical-align: middle;\n",
              "    }\n",
              "\n",
              "    .dataframe tbody tr th {\n",
              "        vertical-align: top;\n",
              "    }\n",
              "\n",
              "    .dataframe thead th {\n",
              "        text-align: right;\n",
              "    }\n",
              "</style>\n",
              "<table border=\"1\" class=\"dataframe\">\n",
              "  <thead>\n",
              "    <tr style=\"text-align: right;\">\n",
              "      <th></th>\n",
              "      <th>battery_power</th>\n",
              "      <th>blue</th>\n",
              "      <th>clock_speed</th>\n",
              "      <th>dual_sim</th>\n",
              "      <th>fc</th>\n",
              "      <th>four_g</th>\n",
              "      <th>int_memory</th>\n",
              "      <th>m_dep</th>\n",
              "      <th>mobile_wt</th>\n",
              "      <th>n_cores</th>\n",
              "      <th>pc</th>\n",
              "      <th>px_height</th>\n",
              "      <th>px_width</th>\n",
              "      <th>ram</th>\n",
              "      <th>sc_h</th>\n",
              "      <th>sc_w</th>\n",
              "      <th>talk_time</th>\n",
              "      <th>three_g</th>\n",
              "      <th>touch_screen</th>\n",
              "      <th>wifi</th>\n",
              "    </tr>\n",
              "  </thead>\n",
              "  <tbody>\n",
              "    <tr>\n",
              "      <th>0</th>\n",
              "      <td>842</td>\n",
              "      <td>0</td>\n",
              "      <td>2.2</td>\n",
              "      <td>0</td>\n",
              "      <td>1</td>\n",
              "      <td>0</td>\n",
              "      <td>7</td>\n",
              "      <td>0.6</td>\n",
              "      <td>188</td>\n",
              "      <td>2</td>\n",
              "      <td>2</td>\n",
              "      <td>20</td>\n",
              "      <td>756</td>\n",
              "      <td>2549</td>\n",
              "      <td>9</td>\n",
              "      <td>7</td>\n",
              "      <td>19</td>\n",
              "      <td>0</td>\n",
              "      <td>0</td>\n",
              "      <td>1</td>\n",
              "    </tr>\n",
              "    <tr>\n",
              "      <th>1</th>\n",
              "      <td>1021</td>\n",
              "      <td>1</td>\n",
              "      <td>0.5</td>\n",
              "      <td>1</td>\n",
              "      <td>0</td>\n",
              "      <td>1</td>\n",
              "      <td>53</td>\n",
              "      <td>0.7</td>\n",
              "      <td>136</td>\n",
              "      <td>3</td>\n",
              "      <td>6</td>\n",
              "      <td>905</td>\n",
              "      <td>1988</td>\n",
              "      <td>2631</td>\n",
              "      <td>17</td>\n",
              "      <td>3</td>\n",
              "      <td>7</td>\n",
              "      <td>1</td>\n",
              "      <td>1</td>\n",
              "      <td>0</td>\n",
              "    </tr>\n",
              "    <tr>\n",
              "      <th>2</th>\n",
              "      <td>563</td>\n",
              "      <td>1</td>\n",
              "      <td>0.5</td>\n",
              "      <td>1</td>\n",
              "      <td>2</td>\n",
              "      <td>1</td>\n",
              "      <td>41</td>\n",
              "      <td>0.9</td>\n",
              "      <td>145</td>\n",
              "      <td>5</td>\n",
              "      <td>6</td>\n",
              "      <td>1263</td>\n",
              "      <td>1716</td>\n",
              "      <td>2603</td>\n",
              "      <td>11</td>\n",
              "      <td>2</td>\n",
              "      <td>9</td>\n",
              "      <td>1</td>\n",
              "      <td>1</td>\n",
              "      <td>0</td>\n",
              "    </tr>\n",
              "    <tr>\n",
              "      <th>3</th>\n",
              "      <td>615</td>\n",
              "      <td>1</td>\n",
              "      <td>2.5</td>\n",
              "      <td>0</td>\n",
              "      <td>0</td>\n",
              "      <td>0</td>\n",
              "      <td>10</td>\n",
              "      <td>0.8</td>\n",
              "      <td>131</td>\n",
              "      <td>6</td>\n",
              "      <td>9</td>\n",
              "      <td>1216</td>\n",
              "      <td>1786</td>\n",
              "      <td>2769</td>\n",
              "      <td>16</td>\n",
              "      <td>8</td>\n",
              "      <td>11</td>\n",
              "      <td>1</td>\n",
              "      <td>0</td>\n",
              "      <td>0</td>\n",
              "    </tr>\n",
              "    <tr>\n",
              "      <th>4</th>\n",
              "      <td>1821</td>\n",
              "      <td>1</td>\n",
              "      <td>1.2</td>\n",
              "      <td>0</td>\n",
              "      <td>13</td>\n",
              "      <td>1</td>\n",
              "      <td>44</td>\n",
              "      <td>0.6</td>\n",
              "      <td>141</td>\n",
              "      <td>2</td>\n",
              "      <td>14</td>\n",
              "      <td>1208</td>\n",
              "      <td>1212</td>\n",
              "      <td>1411</td>\n",
              "      <td>8</td>\n",
              "      <td>2</td>\n",
              "      <td>15</td>\n",
              "      <td>1</td>\n",
              "      <td>1</td>\n",
              "      <td>0</td>\n",
              "    </tr>\n",
              "  </tbody>\n",
              "</table>\n",
              "</div>"
            ],
            "text/plain": [
              "   battery_power  blue  clock_speed  ...  three_g  touch_screen  wifi\n",
              "0            842     0          2.2  ...        0             0     1\n",
              "1           1021     1          0.5  ...        1             1     0\n",
              "2            563     1          0.5  ...        1             1     0\n",
              "3            615     1          2.5  ...        1             0     0\n",
              "4           1821     1          1.2  ...        1             1     0\n",
              "\n",
              "[5 rows x 20 columns]"
            ]
          },
          "metadata": {},
          "execution_count": 21
        }
      ]
    },
    {
      "cell_type": "code",
      "metadata": {
        "id": "4TiUzR-ZomYP"
      },
      "source": [
        "Y_dataset=dataset['price_range']"
      ],
      "execution_count": 20,
      "outputs": []
    },
    {
      "cell_type": "code",
      "metadata": {
        "colab": {
          "base_uri": "https://localhost:8080/"
        },
        "id": "-Q5T9mPmot2Y",
        "outputId": "d136f8dc-d8cf-4a2e-eb8f-8459cae2e2b5"
      },
      "source": [
        "Y_dataset.head()"
      ],
      "execution_count": 22,
      "outputs": [
        {
          "output_type": "execute_result",
          "data": {
            "text/plain": [
              "0    1\n",
              "1    2\n",
              "2    2\n",
              "3    2\n",
              "4    1\n",
              "Name: price_range, dtype: int64"
            ]
          },
          "metadata": {},
          "execution_count": 22
        }
      ]
    },
    {
      "cell_type": "markdown",
      "metadata": {
        "id": "9UaYCYYeo6ex"
      },
      "source": [
        ""
      ]
    },
    {
      "cell_type": "markdown",
      "metadata": {
        "id": "XlzB2Yjcmlvc"
      },
      "source": [
        "**Changing pandas dataframe into numpy array**"
      ]
    },
    {
      "cell_type": "code",
      "metadata": {
        "id": "mbO3x45CmkAi"
      },
      "source": [
        "Array_dataset=np.array(dataset)"
      ],
      "execution_count": 4,
      "outputs": []
    },
    {
      "cell_type": "code",
      "metadata": {
        "id": "8ZugPMYemhyj"
      },
      "source": [
        "X_dataset_array=np.array(X_dataset)"
      ],
      "execution_count": 24,
      "outputs": []
    },
    {
      "cell_type": "code",
      "metadata": {
        "id": "NL4UDKLzpF37"
      },
      "source": [
        "Y_dataset_array=np.array(Y_dataset)"
      ],
      "execution_count": 27,
      "outputs": []
    },
    {
      "cell_type": "markdown",
      "metadata": {
        "id": "TM2G7IIKphtJ"
      },
      "source": [
        "**Normalizing the data**"
      ]
    },
    {
      "cell_type": "code",
      "metadata": {
        "id": "ZsEZv9DYnBut"
      },
      "source": [
        "from sklearn.preprocessing import StandardScaler\n",
        "sc=StandardScaler()\n",
        "X_dataset_standard=sc.fit_transform(X_dataset_array)"
      ],
      "execution_count": 28,
      "outputs": []
    },
    {
      "cell_type": "code",
      "metadata": {
        "colab": {
          "base_uri": "https://localhost:8080/"
        },
        "id": "UO2ZhMW9nF_7",
        "outputId": "8edece58-80af-4eb2-926f-617ab3ce10b8"
      },
      "source": [
        "X_dataset_standard[1]"
      ],
      "execution_count": 29,
      "outputs": [
        {
          "output_type": "execute_result",
          "data": {
            "text/plain": [
              "array([-0.49513857,  1.0100505 , -1.2530642 ,  0.98117712, -0.99289039,\n",
              "        0.95788598,  1.15502422,  0.68754816, -0.12005944, -0.66476784,\n",
              "       -0.64598879,  0.58577791,  1.70446468,  0.46731702,  1.11426556,\n",
              "       -0.63531667, -0.73426721,  0.55964063,  0.99401789, -1.01409939])"
            ]
          },
          "metadata": {},
          "execution_count": 29
        }
      ]
    },
    {
      "cell_type": "code",
      "metadata": {
        "id": "gZMvydB6p3XY"
      },
      "source": [
        "from sklearn.preprocessing import OneHotEncoder\n",
        "onhe=OneHotEncoder()\n"
      ],
      "execution_count": 32,
      "outputs": []
    },
    {
      "cell_type": "code",
      "metadata": {
        "colab": {
          "base_uri": "https://localhost:8080/"
        },
        "id": "3Tf95BJOqU_A",
        "outputId": "5d7ed4d3-89b8-4839-ccee-0ba5da306a8f"
      },
      "source": [
        "Y_dataset_array"
      ],
      "execution_count": 48,
      "outputs": [
        {
          "output_type": "execute_result",
          "data": {
            "text/plain": [
              "array([1, 2, 2, ..., 3, 0, 3])"
            ]
          },
          "metadata": {},
          "execution_count": 48
        }
      ]
    },
    {
      "cell_type": "markdown",
      "metadata": {
        "id": "nP9tPJparpSp"
      },
      "source": [
        "**Performing one hot encoding to create unique classes**"
      ]
    },
    {
      "cell_type": "code",
      "metadata": {
        "colab": {
          "base_uri": "https://localhost:8080/"
        },
        "id": "EYSvPwLYr3-X",
        "outputId": "88ef1f93-fd35-4e79-f8d3-00ecb0a24710"
      },
      "source": [
        "Y_dataset_array.size"
      ],
      "execution_count": 36,
      "outputs": [
        {
          "output_type": "execute_result",
          "data": {
            "text/plain": [
              "2000"
            ]
          },
          "metadata": {},
          "execution_count": 36
        }
      ]
    },
    {
      "cell_type": "code",
      "metadata": {
        "id": "dxahjEeNrwS-"
      },
      "source": [
        "shape=(Y_dataset_array.size,Y_dataset_array.max()+1)"
      ],
      "execution_count": 37,
      "outputs": []
    },
    {
      "cell_type": "code",
      "metadata": {
        "id": "w1rGmxLtqNPa"
      },
      "source": [
        "one_hot_encoded=np.zeros(shape)"
      ],
      "execution_count": 38,
      "outputs": []
    },
    {
      "cell_type": "code",
      "metadata": {
        "colab": {
          "base_uri": "https://localhost:8080/"
        },
        "id": "KB8_eYXzw3L4",
        "outputId": "d5310457-d720-4ab5-9d3a-c1bfdbde7f85"
      },
      "source": [
        "one_hot_encoded.shape"
      ],
      "execution_count": 42,
      "outputs": [
        {
          "output_type": "execute_result",
          "data": {
            "text/plain": [
              "(2000, 4)"
            ]
          },
          "metadata": {},
          "execution_count": 42
        }
      ]
    },
    {
      "cell_type": "code",
      "metadata": {
        "id": "dnDQmm0CsaAY"
      },
      "source": [
        "for i in range(len(Y_dataset_array)):\n",
        "  x=Y_dataset_array[i]\n",
        "  for j in range(4):\n",
        "    if(j==x):\n",
        "      one_hot_encoded[i][j]=1\n",
        "    else:\n",
        "      one_hot_encoded[i][j]=0\n",
        "\n",
        "\n",
        "    "
      ],
      "execution_count": 50,
      "outputs": []
    },
    {
      "cell_type": "code",
      "metadata": {
        "colab": {
          "base_uri": "https://localhost:8080/"
        },
        "id": "d429BEFfwBtO",
        "outputId": "18a92ff5-464a-430c-87cd-70292e0d04bf"
      },
      "source": [
        "one_hot_encoded[1999]"
      ],
      "execution_count": 53,
      "outputs": [
        {
          "output_type": "execute_result",
          "data": {
            "text/plain": [
              "array([0., 0., 0., 1.])"
            ]
          },
          "metadata": {},
          "execution_count": 53
        }
      ]
    },
    {
      "cell_type": "markdown",
      "metadata": {
        "id": "36pMF3Vuxlm0"
      },
      "source": [
        "**Splitting datset into train and test**"
      ]
    },
    {
      "cell_type": "code",
      "metadata": {
        "id": "mt2Fmbzgxkjz"
      },
      "source": [
        "from sklearn.model_selection import train_test_split \n",
        "X_train,X_test,Y_train,Y_test=train_test_split(X_dataset_standard,one_hot_encoded,test_size=0.1)"
      ],
      "execution_count": 54,
      "outputs": []
    },
    {
      "cell_type": "markdown",
      "metadata": {
        "id": "bF4jDFIVx9Di"
      },
      "source": [
        "**Building our Neural Network**"
      ]
    },
    {
      "cell_type": "code",
      "metadata": {
        "id": "LjC55BX_x77c"
      },
      "source": [
        "import tensorflow as tf\n",
        "from tensorflow.keras.models import Sequential \n",
        "from keras.layers import Dense\n"
      ],
      "execution_count": 55,
      "outputs": []
    },
    {
      "cell_type": "code",
      "metadata": {
        "id": "nnc_zWB6yHSy"
      },
      "source": [
        "model=Sequential()\n",
        "model.add(Dense(16,input_dim=20,activation='relu'))\n",
        "model.add(Dense(14,activation='relu'))\n",
        "model.add(Dense(4,activation='softmax'))"
      ],
      "execution_count": 56,
      "outputs": []
    },
    {
      "cell_type": "markdown",
      "metadata": {
        "id": "3sE7bPn2yXNp"
      },
      "source": [
        "**Compiling the model**"
      ]
    },
    {
      "cell_type": "code",
      "metadata": {
        "id": "R58a2O0WyWOL"
      },
      "source": [
        "model.compile(loss='categorical_crossentropy',optimizer='adam',metrics=['accuracy'])"
      ],
      "execution_count": 57,
      "outputs": []
    },
    {
      "cell_type": "code",
      "metadata": {
        "colab": {
          "base_uri": "https://localhost:8080/"
        },
        "id": "PnyUYm8uyhce",
        "outputId": "3105cf7f-ec2a-4057-86f9-8e1996268465"
      },
      "source": [
        "history=model.fit(X_train,Y_train,epochs=100,batch_size=64)"
      ],
      "execution_count": 59,
      "outputs": [
        {
          "output_type": "stream",
          "name": "stdout",
          "text": [
            "Epoch 1/100\n",
            "29/29 [==============================] - 1s 2ms/step - loss: 1.3567 - accuracy: 0.3528\n",
            "Epoch 2/100\n",
            "29/29 [==============================] - 0s 2ms/step - loss: 1.2645 - accuracy: 0.4233\n",
            "Epoch 3/100\n",
            "29/29 [==============================] - 0s 2ms/step - loss: 1.1880 - accuracy: 0.4767\n",
            "Epoch 4/100\n",
            "29/29 [==============================] - 0s 2ms/step - loss: 1.1088 - accuracy: 0.5250\n",
            "Epoch 5/100\n",
            "29/29 [==============================] - 0s 2ms/step - loss: 1.0272 - accuracy: 0.5528\n",
            "Epoch 6/100\n",
            "29/29 [==============================] - 0s 2ms/step - loss: 0.9487 - accuracy: 0.5939\n",
            "Epoch 7/100\n",
            "29/29 [==============================] - 0s 2ms/step - loss: 0.8738 - accuracy: 0.6294\n",
            "Epoch 8/100\n",
            "29/29 [==============================] - 0s 2ms/step - loss: 0.8035 - accuracy: 0.6661\n",
            "Epoch 9/100\n",
            "29/29 [==============================] - 0s 2ms/step - loss: 0.7387 - accuracy: 0.7128\n",
            "Epoch 10/100\n",
            "29/29 [==============================] - 0s 2ms/step - loss: 0.6800 - accuracy: 0.7444\n",
            "Epoch 11/100\n",
            "29/29 [==============================] - 0s 2ms/step - loss: 0.6284 - accuracy: 0.7694\n",
            "Epoch 12/100\n",
            "29/29 [==============================] - 0s 2ms/step - loss: 0.5817 - accuracy: 0.7922\n",
            "Epoch 13/100\n",
            "29/29 [==============================] - 0s 2ms/step - loss: 0.5393 - accuracy: 0.8167\n",
            "Epoch 14/100\n",
            "29/29 [==============================] - 0s 2ms/step - loss: 0.5019 - accuracy: 0.8311\n",
            "Epoch 15/100\n",
            "29/29 [==============================] - 0s 1ms/step - loss: 0.4679 - accuracy: 0.8439\n",
            "Epoch 16/100\n",
            "29/29 [==============================] - 0s 2ms/step - loss: 0.4371 - accuracy: 0.8600\n",
            "Epoch 17/100\n",
            "29/29 [==============================] - 0s 2ms/step - loss: 0.4091 - accuracy: 0.8728\n",
            "Epoch 18/100\n",
            "29/29 [==============================] - 0s 2ms/step - loss: 0.3844 - accuracy: 0.8811\n",
            "Epoch 19/100\n",
            "29/29 [==============================] - 0s 1ms/step - loss: 0.3629 - accuracy: 0.8867\n",
            "Epoch 20/100\n",
            "29/29 [==============================] - 0s 1ms/step - loss: 0.3432 - accuracy: 0.8933\n",
            "Epoch 21/100\n",
            "29/29 [==============================] - 0s 1ms/step - loss: 0.3242 - accuracy: 0.9044\n",
            "Epoch 22/100\n",
            "29/29 [==============================] - 0s 1ms/step - loss: 0.3066 - accuracy: 0.9094\n",
            "Epoch 23/100\n",
            "29/29 [==============================] - 0s 2ms/step - loss: 0.2915 - accuracy: 0.9156\n",
            "Epoch 24/100\n",
            "29/29 [==============================] - 0s 1ms/step - loss: 0.2767 - accuracy: 0.9222\n",
            "Epoch 25/100\n",
            "29/29 [==============================] - 0s 2ms/step - loss: 0.2630 - accuracy: 0.9278\n",
            "Epoch 26/100\n",
            "29/29 [==============================] - 0s 1ms/step - loss: 0.2514 - accuracy: 0.9317\n",
            "Epoch 27/100\n",
            "29/29 [==============================] - 0s 1ms/step - loss: 0.2403 - accuracy: 0.9378\n",
            "Epoch 28/100\n",
            "29/29 [==============================] - 0s 2ms/step - loss: 0.2303 - accuracy: 0.9339\n",
            "Epoch 29/100\n",
            "29/29 [==============================] - 0s 2ms/step - loss: 0.2224 - accuracy: 0.9361\n",
            "Epoch 30/100\n",
            "29/29 [==============================] - 0s 1ms/step - loss: 0.2142 - accuracy: 0.9417\n",
            "Epoch 31/100\n",
            "29/29 [==============================] - 0s 2ms/step - loss: 0.2064 - accuracy: 0.9428\n",
            "Epoch 32/100\n",
            "29/29 [==============================] - 0s 2ms/step - loss: 0.1988 - accuracy: 0.9428\n",
            "Epoch 33/100\n",
            "29/29 [==============================] - 0s 2ms/step - loss: 0.1922 - accuracy: 0.9428\n",
            "Epoch 34/100\n",
            "29/29 [==============================] - 0s 2ms/step - loss: 0.1855 - accuracy: 0.9472\n",
            "Epoch 35/100\n",
            "29/29 [==============================] - 0s 2ms/step - loss: 0.1793 - accuracy: 0.9500\n",
            "Epoch 36/100\n",
            "29/29 [==============================] - 0s 2ms/step - loss: 0.1752 - accuracy: 0.9494\n",
            "Epoch 37/100\n",
            "29/29 [==============================] - 0s 2ms/step - loss: 0.1694 - accuracy: 0.9506\n",
            "Epoch 38/100\n",
            "29/29 [==============================] - 0s 2ms/step - loss: 0.1661 - accuracy: 0.9550\n",
            "Epoch 39/100\n",
            "29/29 [==============================] - 0s 2ms/step - loss: 0.1598 - accuracy: 0.9544\n",
            "Epoch 40/100\n",
            "29/29 [==============================] - 0s 2ms/step - loss: 0.1540 - accuracy: 0.9606\n",
            "Epoch 41/100\n",
            "29/29 [==============================] - 0s 2ms/step - loss: 0.1505 - accuracy: 0.9583\n",
            "Epoch 42/100\n",
            "29/29 [==============================] - 0s 2ms/step - loss: 0.1465 - accuracy: 0.9633\n",
            "Epoch 43/100\n",
            "29/29 [==============================] - 0s 2ms/step - loss: 0.1428 - accuracy: 0.9633\n",
            "Epoch 44/100\n",
            "29/29 [==============================] - 0s 2ms/step - loss: 0.1391 - accuracy: 0.9656\n",
            "Epoch 45/100\n",
            "29/29 [==============================] - 0s 2ms/step - loss: 0.1358 - accuracy: 0.9628\n",
            "Epoch 46/100\n",
            "29/29 [==============================] - 0s 1ms/step - loss: 0.1321 - accuracy: 0.9661\n",
            "Epoch 47/100\n",
            "29/29 [==============================] - 0s 1ms/step - loss: 0.1306 - accuracy: 0.9644\n",
            "Epoch 48/100\n",
            "29/29 [==============================] - 0s 1ms/step - loss: 0.1265 - accuracy: 0.9644\n",
            "Epoch 49/100\n",
            "29/29 [==============================] - 0s 2ms/step - loss: 0.1243 - accuracy: 0.9656\n",
            "Epoch 50/100\n",
            "29/29 [==============================] - 0s 2ms/step - loss: 0.1211 - accuracy: 0.9700\n",
            "Epoch 51/100\n",
            "29/29 [==============================] - 0s 2ms/step - loss: 0.1214 - accuracy: 0.9633\n",
            "Epoch 52/100\n",
            "29/29 [==============================] - 0s 2ms/step - loss: 0.1166 - accuracy: 0.9672\n",
            "Epoch 53/100\n",
            "29/29 [==============================] - 0s 1ms/step - loss: 0.1146 - accuracy: 0.9689\n",
            "Epoch 54/100\n",
            "29/29 [==============================] - 0s 2ms/step - loss: 0.1119 - accuracy: 0.9694\n",
            "Epoch 55/100\n",
            "29/29 [==============================] - 0s 1ms/step - loss: 0.1097 - accuracy: 0.9700\n",
            "Epoch 56/100\n",
            "29/29 [==============================] - 0s 2ms/step - loss: 0.1087 - accuracy: 0.9722\n",
            "Epoch 57/100\n",
            "29/29 [==============================] - 0s 2ms/step - loss: 0.1072 - accuracy: 0.9689\n",
            "Epoch 58/100\n",
            "29/29 [==============================] - 0s 2ms/step - loss: 0.1047 - accuracy: 0.9689\n",
            "Epoch 59/100\n",
            "29/29 [==============================] - 0s 1ms/step - loss: 0.1013 - accuracy: 0.9744\n",
            "Epoch 60/100\n",
            "29/29 [==============================] - 0s 2ms/step - loss: 0.0991 - accuracy: 0.9717\n",
            "Epoch 61/100\n",
            "29/29 [==============================] - 0s 2ms/step - loss: 0.0969 - accuracy: 0.9722\n",
            "Epoch 62/100\n",
            "29/29 [==============================] - 0s 2ms/step - loss: 0.0972 - accuracy: 0.9733\n",
            "Epoch 63/100\n",
            "29/29 [==============================] - 0s 2ms/step - loss: 0.0950 - accuracy: 0.9789\n",
            "Epoch 64/100\n",
            "29/29 [==============================] - 0s 2ms/step - loss: 0.0922 - accuracy: 0.9778\n",
            "Epoch 65/100\n",
            "29/29 [==============================] - 0s 2ms/step - loss: 0.0902 - accuracy: 0.9778\n",
            "Epoch 66/100\n",
            "29/29 [==============================] - 0s 1ms/step - loss: 0.0888 - accuracy: 0.9756\n",
            "Epoch 67/100\n",
            "29/29 [==============================] - 0s 2ms/step - loss: 0.0881 - accuracy: 0.9783\n",
            "Epoch 68/100\n",
            "29/29 [==============================] - 0s 2ms/step - loss: 0.0851 - accuracy: 0.9811\n",
            "Epoch 69/100\n",
            "29/29 [==============================] - 0s 2ms/step - loss: 0.0848 - accuracy: 0.9817\n",
            "Epoch 70/100\n",
            "29/29 [==============================] - 0s 2ms/step - loss: 0.0831 - accuracy: 0.9789\n",
            "Epoch 71/100\n",
            "29/29 [==============================] - 0s 2ms/step - loss: 0.0821 - accuracy: 0.9811\n",
            "Epoch 72/100\n",
            "29/29 [==============================] - 0s 1ms/step - loss: 0.0822 - accuracy: 0.9778\n",
            "Epoch 73/100\n",
            "29/29 [==============================] - 0s 2ms/step - loss: 0.0790 - accuracy: 0.9817\n",
            "Epoch 74/100\n",
            "29/29 [==============================] - 0s 2ms/step - loss: 0.0777 - accuracy: 0.9811\n",
            "Epoch 75/100\n",
            "29/29 [==============================] - 0s 2ms/step - loss: 0.0756 - accuracy: 0.9839\n",
            "Epoch 76/100\n",
            "29/29 [==============================] - 0s 2ms/step - loss: 0.0742 - accuracy: 0.9844\n",
            "Epoch 77/100\n",
            "29/29 [==============================] - 0s 2ms/step - loss: 0.0755 - accuracy: 0.9822\n",
            "Epoch 78/100\n",
            "29/29 [==============================] - 0s 2ms/step - loss: 0.0722 - accuracy: 0.9822\n",
            "Epoch 79/100\n",
            "29/29 [==============================] - 0s 1ms/step - loss: 0.0706 - accuracy: 0.9861\n",
            "Epoch 80/100\n",
            "29/29 [==============================] - 0s 2ms/step - loss: 0.0701 - accuracy: 0.9844\n",
            "Epoch 81/100\n",
            "29/29 [==============================] - 0s 2ms/step - loss: 0.0700 - accuracy: 0.9844\n",
            "Epoch 82/100\n",
            "29/29 [==============================] - 0s 2ms/step - loss: 0.0677 - accuracy: 0.9844\n",
            "Epoch 83/100\n",
            "29/29 [==============================] - 0s 2ms/step - loss: 0.0661 - accuracy: 0.9867\n",
            "Epoch 84/100\n",
            "29/29 [==============================] - 0s 2ms/step - loss: 0.0640 - accuracy: 0.9894\n",
            "Epoch 85/100\n",
            "29/29 [==============================] - 0s 2ms/step - loss: 0.0630 - accuracy: 0.9889\n",
            "Epoch 86/100\n",
            "29/29 [==============================] - 0s 2ms/step - loss: 0.0624 - accuracy: 0.9889\n",
            "Epoch 87/100\n",
            "29/29 [==============================] - 0s 2ms/step - loss: 0.0615 - accuracy: 0.9883\n",
            "Epoch 88/100\n",
            "29/29 [==============================] - 0s 2ms/step - loss: 0.0606 - accuracy: 0.9894\n",
            "Epoch 89/100\n",
            "29/29 [==============================] - 0s 2ms/step - loss: 0.0604 - accuracy: 0.9883\n",
            "Epoch 90/100\n",
            "29/29 [==============================] - 0s 2ms/step - loss: 0.0585 - accuracy: 0.9917\n",
            "Epoch 91/100\n",
            "29/29 [==============================] - 0s 2ms/step - loss: 0.0574 - accuracy: 0.9906\n",
            "Epoch 92/100\n",
            "29/29 [==============================] - 0s 2ms/step - loss: 0.0574 - accuracy: 0.9894\n",
            "Epoch 93/100\n",
            "29/29 [==============================] - 0s 2ms/step - loss: 0.0560 - accuracy: 0.9900\n",
            "Epoch 94/100\n",
            "29/29 [==============================] - 0s 2ms/step - loss: 0.0548 - accuracy: 0.9917\n",
            "Epoch 95/100\n",
            "29/29 [==============================] - 0s 2ms/step - loss: 0.0540 - accuracy: 0.9922\n",
            "Epoch 96/100\n",
            "29/29 [==============================] - 0s 2ms/step - loss: 0.0531 - accuracy: 0.9906\n",
            "Epoch 97/100\n",
            "29/29 [==============================] - 0s 2ms/step - loss: 0.0531 - accuracy: 0.9878\n",
            "Epoch 98/100\n",
            "29/29 [==============================] - 0s 2ms/step - loss: 0.0516 - accuracy: 0.9917\n",
            "Epoch 99/100\n",
            "29/29 [==============================] - 0s 2ms/step - loss: 0.0507 - accuracy: 0.9906\n",
            "Epoch 100/100\n",
            "29/29 [==============================] - 0s 2ms/step - loss: 0.0493 - accuracy: 0.9944\n"
          ]
        }
      ]
    },
    {
      "cell_type": "markdown",
      "metadata": {
        "id": "J_sweBGWyxti"
      },
      "source": [
        "**Checking performance on test data**"
      ]
    },
    {
      "cell_type": "code",
      "metadata": {
        "id": "A88ph5b-yrOD"
      },
      "source": [
        "y_pred=model.predict(X_test)\n",
        "pred=list()\n",
        "for i in range(len(y_pred)):\n",
        "  pred.append(np.argmax(y_pred[i]))\n",
        "test=list()\n",
        "for i in range(len(Y_test)):\n",
        "  test.append(np.argmax(Y_test[i]))"
      ],
      "execution_count": 61,
      "outputs": []
    },
    {
      "cell_type": "code",
      "metadata": {
        "colab": {
          "base_uri": "https://localhost:8080/"
        },
        "id": "pnQQAh6uyozZ",
        "outputId": "821dadbc-aaee-4266-d5e3-d5e8d18fbacf"
      },
      "source": [
        "from sklearn.metrics import accuracy_score \n",
        "a=accuracy_score(pred,test)\n",
        "print('Accuracy score for our model is :',a*100)"
      ],
      "execution_count": 63,
      "outputs": [
        {
          "output_type": "stream",
          "name": "stdout",
          "text": [
            "Accuracy score for our model is : 92.5\n"
          ]
        }
      ]
    }
  ]
}